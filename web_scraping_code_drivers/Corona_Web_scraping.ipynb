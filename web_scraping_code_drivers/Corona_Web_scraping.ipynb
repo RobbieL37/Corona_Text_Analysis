{
 "cells": [
  {
   "cell_type": "code",
   "execution_count": 99,
   "id": "a6f026bb",
   "metadata": {},
   "outputs": [
    {
     "name": "stdout",
     "output_type": "stream",
     "text": [
      "Success\n"
     ]
    }
   ],
   "source": [
    "#Import the library\n",
    "\n",
    "import pandas as pd\n",
    "from bs4 import BeautifulSoup\n",
    "from selenium import webdriver\n",
    "from selenium.webdriver.chrome.options import Options\n",
    "from selenium.webdriver.common.by import By\n",
    "import time\n",
    "import pandas as pd\n",
    "import numpy as np\n",
    "from tqdm import tqdm\n",
    "\n",
    "options = Options()\n",
    "options.headless = False\n",
    "options.add_argument(\"--window-size=1920,1200\")\n",
    "\n",
    "print(\"Success\")"
   ]
  },
  {
   "cell_type": "code",
   "execution_count": 100,
   "id": "7275b3c9",
   "metadata": {},
   "outputs": [],
   "source": [
    "def sec(): \n",
    "    time = (7,12)\n",
    "    return time"
   ]
  },
  {
   "cell_type": "code",
   "execution_count": 101,
   "id": "2ef1f029",
   "metadata": {},
   "outputs": [],
   "source": [
    "def click_read_more():\n",
    "    try:\n",
    "        for i in range(5,15):\n",
    "            time.sleep(3)\n",
    "            read_more = '/html/body/div[2]/section/div/div[8]/div[10]/div/div/div/div/div[2]/div/div/div[2]/div/div/div[2]/div[{button:.2f}]/div[1]/div/div[1]/div/button'\n",
    "            try:\n",
    "                read_more_button = driver.find_element(By.XPATH,read_more.format(button=i))\n",
    "                read_more_button.click()\n",
    "            except:\n",
    "                continue\n",
    "        \n",
    "    except:\n",
    "        pass\n",
    "    return print(\"All read more buttons are clicked\")"
   ]
  },
  {
   "cell_type": "code",
   "execution_count": 121,
   "id": "67f2be96",
   "metadata": {},
   "outputs": [
    {
     "name": "stderr",
     "output_type": "stream",
     "text": [
      "/var/folders/l_/63j8_pjn2qn9dcnvtnjgng040000gn/T/ipykernel_61163/294766876.py:5: DeprecationWarning: executable_path has been deprecated, please pass in a Service object\n",
      "  driver = webdriver.Firefox( executable_path = './/Web Driver/geckodriver')\n"
     ]
    }
   ],
   "source": [
    "#Loading the chrome driver and the web page\n",
    "\n",
    "url = 'https://www.lowes.com/pd/Project-Source-Project-Source-Pro-Flush-2-Piece-Single-Flush-Elongated-Chair-Height-White-1-28-GPF/1003066162'\n",
    "\n",
    "driver = webdriver.Firefox( executable_path = './/Web Driver/geckodriver')\n",
    "driver.get(url)\n"
   ]
  },
  {
   "cell_type": "code",
   "execution_count": 122,
   "id": "9b5ec3f9",
   "metadata": {},
   "outputs": [
    {
     "ename": "NoSuchElementException",
     "evalue": "Message: Unable to locate element: //*[@id=\"main\"]/div/div[4]/div[3]/div[2]/div[1]/div/div[1]/div[1]/span[1]\nStacktrace:\nRemoteError@chrome://remote/content/shared/RemoteError.sys.mjs:8:8\nWebDriverError@chrome://remote/content/shared/webdriver/Errors.sys.mjs:182:5\nNoSuchElementError@chrome://remote/content/shared/webdriver/Errors.sys.mjs:394:5\nelement.find/</<@chrome://remote/content/marionette/element.sys.mjs:280:16\n",
     "output_type": "error",
     "traceback": [
      "\u001b[0;31m---------------------------------------------------------------------------\u001b[0m",
      "\u001b[0;31mNoSuchElementException\u001b[0m                    Traceback (most recent call last)",
      "Input \u001b[0;32mIn [122]\u001b[0m, in \u001b[0;36m<cell line: 1>\u001b[0;34m()\u001b[0m\n\u001b[0;32m----> 1\u001b[0m \u001b[43mdriver\u001b[49m\u001b[38;5;241;43m.\u001b[39;49m\u001b[43mfind_element\u001b[49m\u001b[43m(\u001b[49m\u001b[43mBy\u001b[49m\u001b[38;5;241;43m.\u001b[39;49m\u001b[43mXPATH\u001b[49m\u001b[43m,\u001b[49m\u001b[43m \u001b[49m\u001b[38;5;124;43m'\u001b[39;49m\u001b[38;5;124;43m//*[@id=\u001b[39;49m\u001b[38;5;124;43m\"\u001b[39;49m\u001b[38;5;124;43mmain\u001b[39;49m\u001b[38;5;124;43m\"\u001b[39;49m\u001b[38;5;124;43m]/div/div[4]/div[3]/div[2]/div[1]/div/div[1]/div[1]/span[1]\u001b[39;49m\u001b[38;5;124;43m'\u001b[39;49m\u001b[43m)\u001b[49m\n",
      "File \u001b[0;32m/opt/anaconda3/lib/python3.9/site-packages/selenium/webdriver/remote/webdriver.py:861\u001b[0m, in \u001b[0;36mWebDriver.find_element\u001b[0;34m(self, by, value)\u001b[0m\n\u001b[1;32m    858\u001b[0m     by \u001b[38;5;241m=\u001b[39m By\u001b[38;5;241m.\u001b[39mCSS_SELECTOR\n\u001b[1;32m    859\u001b[0m     value \u001b[38;5;241m=\u001b[39m \u001b[38;5;124m'\u001b[39m\u001b[38;5;124m[name=\u001b[39m\u001b[38;5;124m\"\u001b[39m\u001b[38;5;132;01m%s\u001b[39;00m\u001b[38;5;124m\"\u001b[39m\u001b[38;5;124m]\u001b[39m\u001b[38;5;124m'\u001b[39m \u001b[38;5;241m%\u001b[39m value\n\u001b[0;32m--> 861\u001b[0m \u001b[38;5;28;01mreturn\u001b[39;00m \u001b[38;5;28;43mself\u001b[39;49m\u001b[38;5;241;43m.\u001b[39;49m\u001b[43mexecute\u001b[49m\u001b[43m(\u001b[49m\u001b[43mCommand\u001b[49m\u001b[38;5;241;43m.\u001b[39;49m\u001b[43mFIND_ELEMENT\u001b[49m\u001b[43m,\u001b[49m\u001b[43m \u001b[49m\u001b[43m{\u001b[49m\u001b[38;5;124;43m\"\u001b[39;49m\u001b[38;5;124;43musing\u001b[39;49m\u001b[38;5;124;43m\"\u001b[39;49m\u001b[43m:\u001b[49m\u001b[43m \u001b[49m\u001b[43mby\u001b[49m\u001b[43m,\u001b[49m\u001b[43m \u001b[49m\u001b[38;5;124;43m\"\u001b[39;49m\u001b[38;5;124;43mvalue\u001b[39;49m\u001b[38;5;124;43m\"\u001b[39;49m\u001b[43m:\u001b[49m\u001b[43m \u001b[49m\u001b[43mvalue\u001b[49m\u001b[43m}\u001b[49m\u001b[43m)\u001b[49m[\u001b[38;5;124m\"\u001b[39m\u001b[38;5;124mvalue\u001b[39m\u001b[38;5;124m\"\u001b[39m]\n",
      "File \u001b[0;32m/opt/anaconda3/lib/python3.9/site-packages/selenium/webdriver/remote/webdriver.py:444\u001b[0m, in \u001b[0;36mWebDriver.execute\u001b[0;34m(self, driver_command, params)\u001b[0m\n\u001b[1;32m    442\u001b[0m response \u001b[38;5;241m=\u001b[39m \u001b[38;5;28mself\u001b[39m\u001b[38;5;241m.\u001b[39mcommand_executor\u001b[38;5;241m.\u001b[39mexecute(driver_command, params)\n\u001b[1;32m    443\u001b[0m \u001b[38;5;28;01mif\u001b[39;00m response:\n\u001b[0;32m--> 444\u001b[0m     \u001b[38;5;28;43mself\u001b[39;49m\u001b[38;5;241;43m.\u001b[39;49m\u001b[43merror_handler\u001b[49m\u001b[38;5;241;43m.\u001b[39;49m\u001b[43mcheck_response\u001b[49m\u001b[43m(\u001b[49m\u001b[43mresponse\u001b[49m\u001b[43m)\u001b[49m\n\u001b[1;32m    445\u001b[0m     response[\u001b[38;5;124m\"\u001b[39m\u001b[38;5;124mvalue\u001b[39m\u001b[38;5;124m\"\u001b[39m] \u001b[38;5;241m=\u001b[39m \u001b[38;5;28mself\u001b[39m\u001b[38;5;241m.\u001b[39m_unwrap_value(response\u001b[38;5;241m.\u001b[39mget(\u001b[38;5;124m\"\u001b[39m\u001b[38;5;124mvalue\u001b[39m\u001b[38;5;124m\"\u001b[39m, \u001b[38;5;28;01mNone\u001b[39;00m))\n\u001b[1;32m    446\u001b[0m     \u001b[38;5;28;01mreturn\u001b[39;00m response\n",
      "File \u001b[0;32m/opt/anaconda3/lib/python3.9/site-packages/selenium/webdriver/remote/errorhandler.py:249\u001b[0m, in \u001b[0;36mErrorHandler.check_response\u001b[0;34m(self, response)\u001b[0m\n\u001b[1;32m    247\u001b[0m         alert_text \u001b[38;5;241m=\u001b[39m value[\u001b[38;5;124m\"\u001b[39m\u001b[38;5;124malert\u001b[39m\u001b[38;5;124m\"\u001b[39m]\u001b[38;5;241m.\u001b[39mget(\u001b[38;5;124m\"\u001b[39m\u001b[38;5;124mtext\u001b[39m\u001b[38;5;124m\"\u001b[39m)\n\u001b[1;32m    248\u001b[0m     \u001b[38;5;28;01mraise\u001b[39;00m exception_class(message, screen, stacktrace, alert_text)  \u001b[38;5;66;03m# type: ignore[call-arg]  # mypy is not smart enough here\u001b[39;00m\n\u001b[0;32m--> 249\u001b[0m \u001b[38;5;28;01mraise\u001b[39;00m exception_class(message, screen, stacktrace)\n",
      "\u001b[0;31mNoSuchElementException\u001b[0m: Message: Unable to locate element: //*[@id=\"main\"]/div/div[4]/div[3]/div[2]/div[1]/div/div[1]/div[1]/span[1]\nStacktrace:\nRemoteError@chrome://remote/content/shared/RemoteError.sys.mjs:8:8\nWebDriverError@chrome://remote/content/shared/webdriver/Errors.sys.mjs:182:5\nNoSuchElementError@chrome://remote/content/shared/webdriver/Errors.sys.mjs:394:5\nelement.find/</<@chrome://remote/content/marionette/element.sys.mjs:280:16\n"
     ]
    }
   ],
   "source": []
  },
  {
   "cell_type": "code",
   "execution_count": null,
   "id": "1960b3df",
   "metadata": {},
   "outputs": [],
   "source": [
    "#print(driver.page_source)"
   ]
  },
  {
   "cell_type": "code",
   "execution_count": 103,
   "id": "28a28ede",
   "metadata": {},
   "outputs": [
    {
     "name": "stdout",
     "output_type": "stream",
     "text": [
      "Project Source  Pro-Flush White Elongated Chair Height 2-piece WaterSense Toilet 12-in Rough-In Size (Ada Compliant)\n"
     ]
    }
   ],
   "source": [
    "#showing the product's name\n",
    "product_name = driver.find_element(By.XPATH, './/*[@id=\"pdp-lpd\"]/div/div[1]/h1').text\n",
    "print(product_name)"
   ]
  },
  {
   "cell_type": "code",
   "execution_count": 104,
   "id": "4e3ba4e5",
   "metadata": {
    "scrolled": true
   },
   "outputs": [
    {
     "name": "stdout",
     "output_type": "stream",
     "text": [
      "Model #MT-802PRO\n"
     ]
    }
   ],
   "source": [
    "#showing item and model \n",
    "item_model = driver.find_elements(By.XPATH,'.//*[@id=\"pdp-lpd\"]/div/div[2]/p')\n",
    "print(item_model[1].text)"
   ]
  },
  {
   "cell_type": "code",
   "execution_count": 105,
   "id": "b8d91ecc",
   "metadata": {},
   "outputs": [],
   "source": [
    "#clicking show more\n",
    "time.sleep(3)\n",
    "show_more = driver.find_element(By.XPATH,'.//*[@id=\"preview-reviews\"]/div[2]/div/button')\n",
    "show_more.click()"
   ]
  },
  {
   "cell_type": "code",
   "execution_count": 106,
   "id": "73cd05b8",
   "metadata": {},
   "outputs": [
    {
     "name": "stdout",
     "output_type": "stream",
     "text": [
      "All read more buttons are clicked\n"
     ]
    }
   ],
   "source": [
    "#click read more button\n",
    "click_read_more()"
   ]
  },
  {
   "cell_type": "code",
   "execution_count": 107,
   "id": "2e7dc427",
   "metadata": {},
   "outputs": [
    {
     "name": "stderr",
     "output_type": "stream",
     "text": [
      "100%|███████████████████████████████████████████| 10/10 [00:00<00:00, 20.20it/s]\n"
     ]
    }
   ],
   "source": [
    "# Review subject\n",
    "subjects = []\n",
    "authors = []\n",
    "dates = []\n",
    "comments = []\n",
    "likes = []\n",
    "dont_likes = []\n",
    "for i in tqdm(range(5,15)):\n",
    "    subject_path = '/html/body/div[2]/section/div/div[8]/div[10]/div/div/div/div/div[2]/div/div/div[2]/div/div/div[2]/div[{subject_index:.2f}]/div[1]/div/div[1]/div/p[1]'\n",
    "    try:\n",
    "        subject_text = driver.find_element(By.XPATH,subject_path.format(subject_index = i))\n",
    "        subjects.append(subject_text.text)\n",
    "    except:\n",
    "        null_subject = 'No subject'\n",
    "        subjects.append(null_subject)\n",
    "              \n",
    "# Review author\n",
    "    author_path = '/html/body/div[2]/section/div/div[8]/div[10]/div/div/div/div/div[2]/div/div/div[2]/div/div/div[2]/div[{author_index:.2f}]/div[1]/div/div[2]/div/span[1]'\n",
    "    try:\n",
    "        author_text = driver.find_element(By.XPATH, author_path.format(author_index = i))\n",
    "        authors.append(author_text.text)\n",
    "    except:\n",
    "        null_author = 'No author'\n",
    "        authors.append(null_author)\n",
    "\n",
    "#Review date\n",
    "    date_path = '/html/body/div[2]/section/div/div[8]/div[10]/div/div/div/div/div[2]/div/div/div[2]/div/div/div[2]/div[{date_index:.2f}]/div[1]/div/div[2]/div/span[2]'\n",
    "    try:\n",
    "        date_text = driver.find_element(By.XPATH, date_path.format(date_index = i))\n",
    "        dates.append(date_text.text)\n",
    "    except:\n",
    "        null_date = 'No date'\n",
    "        dates.append(null_date)\n",
    "\n",
    "# Review comment\n",
    "    comment_path = '/html/body/div[2]/section/div/div[8]/div[10]/div/div/div/div/div[2]/div/div/div[2]/div/div/div[2]/div[{comment_index:.2f}]/div[1]/div/div[1]/div/p[2]'\n",
    "    try:\n",
    "        comment_text = driver.find_element(By.XPATH, comment_path.format(comment_index = i))\n",
    "        comments.append(comment_text.text)\n",
    "    except:\n",
    "        null_comment = 'No comment'\n",
    "        comments.append(null_comment)\n",
    "        \n",
    "# Number of like\n",
    "    like_path = '/html/body/div[2]/section/div/div[8]/div[10]/div/div/div/div/div[2]/div/div/div[2]/div/div/div[2]/div[{like_index:.2f}]/div[3]/div/div/button[1]/span/span'\n",
    "    try:\n",
    "        like_text = driver.find_element(By.XPATH, like_path.format(like_index = i))\n",
    "        like_text = like_text.text.translate({ord(k): None for k in '()'})\n",
    "        likes.append(int(like_text))\n",
    "    except:\n",
    "        likes.append('No number')\n",
    "\n",
    "# Number of don't like\n",
    "    dont_path = '/html/body/div[2]/section/div/div[8]/div[10]/div/div/div/div/div[2]/div/div/div[2]/div/div/div[2]/div[{dont_index:.2f}]/div[3]/div/div/button[2]/span/span'\n",
    "    try:\n",
    "        dont_text = driver.find_element(By.XPATH, dont_path.format(dont_index = i))\n",
    "        dont_text = dont_text.text.translate({ord(k): None for k in '()'})\n",
    "        dont_likes.append(int(dont_text))\n",
    "    except:\n",
    "        dont_likes.append('No number')\n",
    "        \n",
    "        "
   ]
  },
  {
   "cell_type": "code",
   "execution_count": 117,
   "id": "50e28ae4",
   "metadata": {},
   "outputs": [
    {
     "data": {
      "text/html": [
       "<div>\n",
       "<style scoped>\n",
       "    .dataframe tbody tr th:only-of-type {\n",
       "        vertical-align: middle;\n",
       "    }\n",
       "\n",
       "    .dataframe tbody tr th {\n",
       "        vertical-align: top;\n",
       "    }\n",
       "\n",
       "    .dataframe thead th {\n",
       "        text-align: right;\n",
       "    }\n",
       "</style>\n",
       "<table border=\"1\" class=\"dataframe\">\n",
       "  <thead>\n",
       "    <tr style=\"text-align: right;\">\n",
       "      <th></th>\n",
       "      <th>Subjects</th>\n",
       "      <th>Authors</th>\n",
       "      <th>Date</th>\n",
       "      <th>Comments</th>\n",
       "      <th>Number of likes</th>\n",
       "      <th>Number of don't likes</th>\n",
       "    </tr>\n",
       "  </thead>\n",
       "  <tbody>\n",
       "    <tr>\n",
       "      <th>0</th>\n",
       "      <td>For good flush, needs slight modification</td>\n",
       "      <td>James</td>\n",
       "      <td>January 16, 2022</td>\n",
       "      <td>For the price and look I would give this a 5 s...</td>\n",
       "      <td>32</td>\n",
       "      <td>9</td>\n",
       "    </tr>\n",
       "    <tr>\n",
       "      <th>1</th>\n",
       "      <td></td>\n",
       "      <td>Roxy</td>\n",
       "      <td>April 15, 2022</td>\n",
       "      <td>Besides the lid being too small. It's a pretty...</td>\n",
       "      <td>8</td>\n",
       "      <td>9</td>\n",
       "    </tr>\n",
       "    <tr>\n",
       "      <th>2</th>\n",
       "      <td>really a good buy</td>\n",
       "      <td>Texan</td>\n",
       "      <td>November 8, 2022</td>\n",
       "      <td>I've had this for about a month. I have mostly...</td>\n",
       "      <td>6</td>\n",
       "      <td>0</td>\n",
       "    </tr>\n",
       "    <tr>\n",
       "      <th>3</th>\n",
       "      <td>Toilet lid cheaply made</td>\n",
       "      <td>Tammy</td>\n",
       "      <td>March 20, 2021</td>\n",
       "      <td>Toilet easy install. Good overall except lid d...</td>\n",
       "      <td>25</td>\n",
       "      <td>18</td>\n",
       "    </tr>\n",
       "    <tr>\n",
       "      <th>4</th>\n",
       "      <td>grest toilet for a great price!</td>\n",
       "      <td>TexanStrong</td>\n",
       "      <td>February 27, 2021</td>\n",
       "      <td>Like most Texans, Valetines day was just a dis...</td>\n",
       "      <td>54</td>\n",
       "      <td>9</td>\n",
       "    </tr>\n",
       "    <tr>\n",
       "      <th>5</th>\n",
       "      <td>Poor quality control.</td>\n",
       "      <td>Paul</td>\n",
       "      <td>June 13, 2021</td>\n",
       "      <td>I bought the chair height versin of this produ...</td>\n",
       "      <td>25</td>\n",
       "      <td>22</td>\n",
       "    </tr>\n",
       "    <tr>\n",
       "      <th>6</th>\n",
       "      <td>best buy toilet period!!!</td>\n",
       "      <td>Craig</td>\n",
       "      <td>June 11, 2021</td>\n",
       "      <td>This toilet is the best buy out there!it's rep...</td>\n",
       "      <td>39</td>\n",
       "      <td>3</td>\n",
       "    </tr>\n",
       "    <tr>\n",
       "      <th>7</th>\n",
       "      <td>A great value, strong flush, and assembled tank!</td>\n",
       "      <td>Jasper</td>\n",
       "      <td>August 21, 2021</td>\n",
       "      <td>Overall I thought this was a really good value...</td>\n",
       "      <td>24</td>\n",
       "      <td>4</td>\n",
       "    </tr>\n",
       "    <tr>\n",
       "      <th>8</th>\n",
       "      <td>Great toilet</td>\n",
       "      <td>camshaft</td>\n",
       "      <td>June 22, 2022</td>\n",
       "      <td>Toilet works great, easy installation, everyth...</td>\n",
       "      <td>5</td>\n",
       "      <td>0</td>\n",
       "    </tr>\n",
       "    <tr>\n",
       "      <th>9</th>\n",
       "      <td>Awesome setup</td>\n",
       "      <td>meridian</td>\n",
       "      <td>October 22, 2021</td>\n",
       "      <td>I had this toilet for over a month waiting for...</td>\n",
       "      <td>32</td>\n",
       "      <td>1</td>\n",
       "    </tr>\n",
       "  </tbody>\n",
       "</table>\n",
       "</div>"
      ],
      "text/plain": [
       "                                           Subjects      Authors  \\\n",
       "0         For good flush, needs slight modification        James   \n",
       "1                                                           Roxy   \n",
       "2                                 really a good buy        Texan   \n",
       "3                           Toilet lid cheaply made        Tammy   \n",
       "4                   grest toilet for a great price!  TexanStrong   \n",
       "5                             Poor quality control.         Paul   \n",
       "6                         best buy toilet period!!!        Craig   \n",
       "7  A great value, strong flush, and assembled tank!       Jasper   \n",
       "8                                      Great toilet     camshaft   \n",
       "9                                     Awesome setup     meridian   \n",
       "\n",
       "                Date                                           Comments  \\\n",
       "0   January 16, 2022  For the price and look I would give this a 5 s...   \n",
       "1     April 15, 2022  Besides the lid being too small. It's a pretty...   \n",
       "2   November 8, 2022  I've had this for about a month. I have mostly...   \n",
       "3     March 20, 2021  Toilet easy install. Good overall except lid d...   \n",
       "4  February 27, 2021  Like most Texans, Valetines day was just a dis...   \n",
       "5      June 13, 2021  I bought the chair height versin of this produ...   \n",
       "6      June 11, 2021  This toilet is the best buy out there!it's rep...   \n",
       "7    August 21, 2021  Overall I thought this was a really good value...   \n",
       "8      June 22, 2022  Toilet works great, easy installation, everyth...   \n",
       "9   October 22, 2021  I had this toilet for over a month waiting for...   \n",
       "\n",
       "   Number of likes  Number of don't likes  \n",
       "0               32                      9  \n",
       "1                8                      9  \n",
       "2                6                      0  \n",
       "3               25                     18  \n",
       "4               54                      9  \n",
       "5               25                     22  \n",
       "6               39                      3  \n",
       "7               24                      4  \n",
       "8                5                      0  \n",
       "9               32                      1  "
      ]
     },
     "execution_count": 117,
     "metadata": {},
     "output_type": "execute_result"
    }
   ],
   "source": [
    "review_data = {\"Subjects\": subjects,\n",
    "              \"Authors\": authors,\n",
    "              \"Date\": dates,\n",
    "              \"Comments\": comments,\n",
    "              \"Number of likes\": likes,\n",
    "              \"Number of don't likes\": dont_likes} \n",
    "review_df = pd.DataFrame(review_data)\n",
    "review_df"
   ]
  },
  {
   "cell_type": "code",
   "execution_count": null,
   "id": "df8f2a51",
   "metadata": {},
   "outputs": [],
   "source": [
    "#clicking show 10 more\n",
    "\n",
    "try:\n",
    "    time.sleep(sec())\n",
    "    show_10_more = driver.find_element(By.XPATH,'.//*[@class=\"cgcshowmore\"]/button')\n",
    "    show_10_more.click()\n",
    "except:\n",
    "    pass"
   ]
  },
  {
   "cell_type": "code",
   "execution_count": 123,
   "id": "7009f6f4",
   "metadata": {},
   "outputs": [],
   "source": [
    "driver.close()"
   ]
  }
 ],
 "metadata": {
  "kernelspec": {
   "display_name": "Python 3 (ipykernel)",
   "language": "python",
   "name": "python3"
  },
  "language_info": {
   "codemirror_mode": {
    "name": "ipython",
    "version": 3
   },
   "file_extension": ".py",
   "mimetype": "text/x-python",
   "name": "python",
   "nbconvert_exporter": "python",
   "pygments_lexer": "ipython3",
   "version": "3.9.7"
  }
 },
 "nbformat": 4,
 "nbformat_minor": 5
}
