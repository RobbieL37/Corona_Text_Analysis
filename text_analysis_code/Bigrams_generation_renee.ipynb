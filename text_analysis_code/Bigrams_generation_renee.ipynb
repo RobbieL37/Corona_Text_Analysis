{
 "cells": [
  {
   "cell_type": "code",
   "execution_count": 1,
   "id": "81743c81",
   "metadata": {},
   "outputs": [],
   "source": [
    "import math\n",
    "import statistics\n",
    "import numpy as np\n",
    "import scipy.stats\n",
    "import pandas as pd\n",
    "import plotly.express as px"
   ]
  },
  {
   "cell_type": "code",
   "execution_count": 20,
   "id": "76cce7e5",
   "metadata": {
    "scrolled": true
   },
   "outputs": [
    {
     "name": "stderr",
     "output_type": "stream",
     "text": [
      "/var/folders/h_/j7jfxsn929n19yn9z525bp9h0000gn/T/ipykernel_4304/3236804379.py:1: FutureWarning:\n",
      "\n",
      "Passing a negative integer is deprecated in version 1.0 and will not be supported in future version. Instead, use None to not limit the column width.\n",
      "\n"
     ]
    },
    {
     "data": {
      "text/plain": [
       "\"\\ndf2 = pd.read_csv('/Users/reneec/Adelphi University/text_analytics_corona/Lowes_Homedepot_Reviews/lowes_com_3286026.csv')\\ndf2 = pd.set_option('display.max_colwidth', -1)\\ndf3 = pd.read_csv('/Users/reneec/Adelphi University/text_analytics_corona/Lowes_Homedepot_Reviews/lowes_com_3380314.csv')\\ndf3 = pd.set_option('display.max_colwidth', -1)\\ndf4 = pd.read_csv('/Users/reneec/Adelphi University/text_analytics_corona/Lowes_Homedepot_Reviews/lowes_com_50280511.csv')\\ndf4 = pd.set_option('display.max_colwidth', -1)\\ndf5 = pd.read_csv('/Users/reneec/Adelphi University/text_analytics_corona/Lowes_Homedepot_Reviews/lowes_com_1003066162.csv')\\ndf5 = pd.set_option('display.max_colwidth', -1)\\ndf6 = pd.read_csv('/Users/reneec/Adelphi University/text_analytics_corona/Lowes_Homedepot_Reviews/lowes_com_5000026209.csv')\\ndf6 = pd.set_option('display.max_colwidth', -1)\\ndf7 = pd.read_csv('/Users/reneec/Adelphi University/text_analytics_corona/Lowes_Homedepot_Reviews/homedepot_com_204074796.csv')\\ndf7 = pd.set_option('display.max_colwidth', -1)\\ndf8 = pd.read_csv('/Users/reneec/Adelphi University/text_analytics_corona/Lowes_Homedepot_Reviews/homedepot_com_319247071.csv')\\ndf8 = pd.set_option('display.max_colwidth', -1)\\n\""
      ]
     },
     "execution_count": 20,
     "metadata": {},
     "output_type": "execute_result"
    }
   ],
   "source": [
    "\"\"\"\n",
    "df2 = pd.read_csv('/Users/reneec/Adelphi University/text_analytics_corona/Lowes_Homedepot_Reviews/lowes_com_3286026.csv')\n",
    "df2 = pd.set_option('display.max_colwidth', -1)\n",
    "df3 = pd.read_csv('/Users/reneec/Adelphi University/text_analytics_corona/Lowes_Homedepot_Reviews/lowes_com_3380314.csv')\n",
    "df3 = pd.set_option('display.max_colwidth', -1)\n",
    "df4 = pd.read_csv('/Users/reneec/Adelphi University/text_analytics_corona/Lowes_Homedepot_Reviews/lowes_com_50280511.csv')\n",
    "df4 = pd.set_option('display.max_colwidth', -1)\n",
    "df5 = pd.read_csv('/Users/reneec/Adelphi University/text_analytics_corona/Lowes_Homedepot_Reviews/lowes_com_1003066162.csv')\n",
    "df5 = pd.set_option('display.max_colwidth', -1)\n",
    "df6 = pd.read_csv('/Users/reneec/Adelphi University/text_analytics_corona/Lowes_Homedepot_Reviews/lowes_com_5000026209.csv')\n",
    "df6 = pd.set_option('display.max_colwidth', -1)\n",
    "df7 = pd.read_csv('/Users/reneec/Adelphi University/text_analytics_corona/Lowes_Homedepot_Reviews/homedepot_com_204074796.csv')\n",
    "df7 = pd.set_option('display.max_colwidth', -1)\n",
    "df8 = pd.read_csv('/Users/reneec/Adelphi University/text_analytics_corona/Lowes_Homedepot_Reviews/homedepot_com_319247071.csv')\n",
    "df8 = pd.set_option('display.max_colwidth', -1)\n",
    "\"\"\""
   ]
  },
  {
   "cell_type": "code",
   "execution_count": 22,
   "id": "deb9777e",
   "metadata": {},
   "outputs": [
    {
     "data": {
      "text/html": [
       "<div>\n",
       "<style scoped>\n",
       "    .dataframe tbody tr th:only-of-type {\n",
       "        vertical-align: middle;\n",
       "    }\n",
       "\n",
       "    .dataframe tbody tr th {\n",
       "        vertical-align: top;\n",
       "    }\n",
       "\n",
       "    .dataframe thead th {\n",
       "        text-align: right;\n",
       "    }\n",
       "</style>\n",
       "<table border=\"1\" class=\"dataframe\">\n",
       "  <thead>\n",
       "    <tr style=\"text-align: right;\">\n",
       "      <th></th>\n",
       "      <th>Market_place</th>\n",
       "      <th>URL</th>\n",
       "      <th>Product_name</th>\n",
       "      <th>SKU</th>\n",
       "      <th>Price</th>\n",
       "      <th>Currency</th>\n",
       "      <th>Subject</th>\n",
       "      <th>Author</th>\n",
       "      <th>Date</th>\n",
       "      <th>Review</th>\n",
       "      <th>Stars</th>\n",
       "      <th>like</th>\n",
       "      <th>dislike</th>\n",
       "    </tr>\n",
       "  </thead>\n",
       "  <tbody>\n",
       "    <tr>\n",
       "      <th>0</th>\n",
       "      <td>lowes.com</td>\n",
       "      <td>https://www.lowes.com/pd/American-Standard-Mainstream-White-WaterSense-Elongated-Chair-Height-2-Piece-Toilet-12-in-Rough-In-Size-ADA-Compliant/5001899855</td>\n",
       "      <td>American Standard  Mainstream White Elongated Chair Height 2-piece WaterSense Toilet 12-in Rough-In Size (Ada Compliant)</td>\n",
       "      <td>Model #734AA101.020</td>\n",
       "      <td>189.0</td>\n",
       "      <td>USD</td>\n",
       "      <td>No slow close seat! Mislabeled box!</td>\n",
       "      <td>From Oregon</td>\n",
       "      <td>January 6, 2022</td>\n",
       "      <td>It looks like I got the same mislabeled box as others that purchased these. The box states “slow close seat” and the lids are not slow close. I sent a message on American Standards web site a week ago with no response so far. And I bought four toilets! Hopefully they will respond soon!</td>\n",
       "      <td>4</td>\n",
       "      <td>16</td>\n",
       "      <td>0</td>\n",
       "    </tr>\n",
       "    <tr>\n",
       "      <th>1</th>\n",
       "      <td>lowes.com</td>\n",
       "      <td>https://www.lowes.com/pd/American-Standard-Mainstream-White-WaterSense-Elongated-Chair-Height-2-Piece-Toilet-12-in-Rough-In-Size-ADA-Compliant/5001899855</td>\n",
       "      <td>American Standard  Mainstream White Elongated Chair Height 2-piece WaterSense Toilet 12-in Rough-In Size (Ada Compliant)</td>\n",
       "      <td>Model #734AA101.020</td>\n",
       "      <td>189.0</td>\n",
       "      <td>USD</td>\n",
       "      <td>Great toilet; only missing a slow-close seat</td>\n",
       "      <td>BigMal</td>\n",
       "      <td>November 17, 2021</td>\n",
       "      <td>While the Lowe’s product description does NOT say slow-close seat, the package/box does. I would appreciate accurate packaging; it’s a show of integrity. Otherwise, the unit was in perfect condition and works perfectly with easy installation. A good unit for anyone and middle-of-the-road styling. For any newbie to toilets: install is the easy part; getting your old toilet out (seized bolts, degraded seals making the water stain anything it touches, old wax and/or caulk) and cleaning up the mes...</td>\n",
       "      <td>5</td>\n",
       "      <td>12</td>\n",
       "      <td>2</td>\n",
       "    </tr>\n",
       "    <tr>\n",
       "      <th>2</th>\n",
       "      <td>lowes.com</td>\n",
       "      <td>https://www.lowes.com/pd/American-Standard-Mainstream-White-WaterSense-Elongated-Chair-Height-2-Piece-Toilet-12-in-Rough-In-Size-ADA-Compliant/5001899855</td>\n",
       "      <td>American Standard  Mainstream White Elongated Chair Height 2-piece WaterSense Toilet 12-in Rough-In Size (Ada Compliant)</td>\n",
       "      <td>Model #734AA101.020</td>\n",
       "      <td>189.0</td>\n",
       "      <td>USD</td>\n",
       "      <td>It’s a toilet</td>\n",
       "      <td>Merriwild</td>\n",
       "      <td>December 2, 2021</td>\n",
       "      <td>I bought this because my research showed that American Standard made the best toilet for the price. The install did not go well, and I hired a plumber to do the work! But, my real complaint is that there is black soot leeching from the toilet seats/covers. Every time I go in the bathroom, I see more black soot. What is that?? I wipe it off with a tissue and when I return the next time, it’s back again.</td>\n",
       "      <td>3</td>\n",
       "      <td>7</td>\n",
       "      <td>5</td>\n",
       "    </tr>\n",
       "    <tr>\n",
       "      <th>3</th>\n",
       "      <td>lowes.com</td>\n",
       "      <td>https://www.lowes.com/pd/American-Standard-Mainstream-White-WaterSense-Elongated-Chair-Height-2-Piece-Toilet-12-in-Rough-In-Size-ADA-Compliant/5001899855</td>\n",
       "      <td>American Standard  Mainstream White Elongated Chair Height 2-piece WaterSense Toilet 12-in Rough-In Size (Ada Compliant)</td>\n",
       "      <td>Model #734AA101.020</td>\n",
       "      <td>189.0</td>\n",
       "      <td>USD</td>\n",
       "      <td>Flush valve warps and requires plumber visit</td>\n",
       "      <td>ElaineTheGoddess</td>\n",
       "      <td>November 12, 2022</td>\n",
       "      <td>Since this toilet was brand new, it was slow to flush. We had to hold the handle down a couple seconds to get it to flush all the way. It’s supposed to be able to flush elephant turds but, nah, it’s just a regular toilet. Once we’d had it for maybe a year, it started to intermittently run. It got worse and worse, then eventually we received a letter from the city, saying we appeared to have a water leak… somewhere. Well, that’s where. So, before we drained the reservoir, we read a bunch of diagnostic stuff online and the consensus was to replace the flush valve. So we ordered one and replaced it. It doesn’t leak anymore… for now. But check this out. The silicone seal under the flapper cover was blown up like a balloon in a spot, making it impossible to have sealed. I’ll try to add a photo of the crazy flush valve and flapper seal. So, keep in mind if you buy this toilet, 169 bucks sounds like a good deal, especially if it can flush a bucket of golf balls. But In a year you might need a plumber to replace the bloated flush valve to the tune of $250, plus all the water it wasted before you reached critical mass!</td>\n",
       "      <td>2</td>\n",
       "      <td>4</td>\n",
       "      <td>1</td>\n",
       "    </tr>\n",
       "    <tr>\n",
       "      <th>4</th>\n",
       "      <td>lowes.com</td>\n",
       "      <td>https://www.lowes.com/pd/American-Standard-Mainstream-White-WaterSense-Elongated-Chair-Height-2-Piece-Toilet-12-in-Rough-In-Size-ADA-Compliant/5001899855</td>\n",
       "      <td>American Standard  Mainstream White Elongated Chair Height 2-piece WaterSense Toilet 12-in Rough-In Size (Ada Compliant)</td>\n",
       "      <td>Model #734AA101.020</td>\n",
       "      <td>189.0</td>\n",
       "      <td>USD</td>\n",
       "      <td>NOT slow close lid</td>\n",
       "      <td>Thomas</td>\n",
       "      <td>September 24, 2021</td>\n",
       "      <td>It says it's a slow close lid right on the box. It's not.</td>\n",
       "      <td>3</td>\n",
       "      <td>24</td>\n",
       "      <td>5</td>\n",
       "    </tr>\n",
       "    <tr>\n",
       "      <th>...</th>\n",
       "      <td>...</td>\n",
       "      <td>...</td>\n",
       "      <td>...</td>\n",
       "      <td>...</td>\n",
       "      <td>...</td>\n",
       "      <td>...</td>\n",
       "      <td>...</td>\n",
       "      <td>...</td>\n",
       "      <td>...</td>\n",
       "      <td>...</td>\n",
       "      <td>...</td>\n",
       "      <td>...</td>\n",
       "      <td>...</td>\n",
       "    </tr>\n",
       "    <tr>\n",
       "      <th>265</th>\n",
       "      <td>lowes.com</td>\n",
       "      <td>https://www.lowes.com/pd/American-Standard-Mainstream-White-WaterSense-Elongated-Chair-Height-2-Piece-Toilet-12-in-Rough-In-Size-ADA-Compliant/5001899855</td>\n",
       "      <td>American Standard  Mainstream White Elongated Chair Height 2-piece WaterSense Toilet 12-in Rough-In Size (Ada Compliant)</td>\n",
       "      <td>Model #734AA101.020</td>\n",
       "      <td>189.0</td>\n",
       "      <td>USD</td>\n",
       "      <td>NaN</td>\n",
       "      <td>Kathy</td>\n",
       "      <td>December 1, 2021</td>\n",
       "      <td>NaN</td>\n",
       "      <td>5</td>\n",
       "      <td>0</td>\n",
       "      <td>0</td>\n",
       "    </tr>\n",
       "    <tr>\n",
       "      <th>266</th>\n",
       "      <td>lowes.com</td>\n",
       "      <td>https://www.lowes.com/pd/American-Standard-Mainstream-White-WaterSense-Elongated-Chair-Height-2-Piece-Toilet-12-in-Rough-In-Size-ADA-Compliant/5001899855</td>\n",
       "      <td>American Standard  Mainstream White Elongated Chair Height 2-piece WaterSense Toilet 12-in Rough-In Size (Ada Compliant)</td>\n",
       "      <td>Model #734AA101.020</td>\n",
       "      <td>189.0</td>\n",
       "      <td>USD</td>\n",
       "      <td>NaN</td>\n",
       "      <td>NaN</td>\n",
       "      <td>October 28, 2021</td>\n",
       "      <td>NaN</td>\n",
       "      <td>5</td>\n",
       "      <td>0</td>\n",
       "      <td>2</td>\n",
       "    </tr>\n",
       "    <tr>\n",
       "      <th>267</th>\n",
       "      <td>lowes.com</td>\n",
       "      <td>https://www.lowes.com/pd/American-Standard-Mainstream-White-WaterSense-Elongated-Chair-Height-2-Piece-Toilet-12-in-Rough-In-Size-ADA-Compliant/5001899855</td>\n",
       "      <td>American Standard  Mainstream White Elongated Chair Height 2-piece WaterSense Toilet 12-in Rough-In Size (Ada Compliant)</td>\n",
       "      <td>Model #734AA101.020</td>\n",
       "      <td>189.0</td>\n",
       "      <td>USD</td>\n",
       "      <td>NaN</td>\n",
       "      <td>NaN</td>\n",
       "      <td>August 31, 2022</td>\n",
       "      <td>NaN</td>\n",
       "      <td>5</td>\n",
       "      <td>0</td>\n",
       "      <td>0</td>\n",
       "    </tr>\n",
       "    <tr>\n",
       "      <th>268</th>\n",
       "      <td>lowes.com</td>\n",
       "      <td>https://www.lowes.com/pd/American-Standard-Mainstream-White-WaterSense-Elongated-Chair-Height-2-Piece-Toilet-12-in-Rough-In-Size-ADA-Compliant/5001899855</td>\n",
       "      <td>American Standard  Mainstream White Elongated Chair Height 2-piece WaterSense Toilet 12-in Rough-In Size (Ada Compliant)</td>\n",
       "      <td>Model #734AA101.020</td>\n",
       "      <td>189.0</td>\n",
       "      <td>USD</td>\n",
       "      <td>NaN</td>\n",
       "      <td>NaN</td>\n",
       "      <td>April 9, 2022</td>\n",
       "      <td>NaN</td>\n",
       "      <td>5</td>\n",
       "      <td>0</td>\n",
       "      <td>0</td>\n",
       "    </tr>\n",
       "    <tr>\n",
       "      <th>269</th>\n",
       "      <td>lowes.com</td>\n",
       "      <td>https://www.lowes.com/pd/American-Standard-Mainstream-White-WaterSense-Elongated-Chair-Height-2-Piece-Toilet-12-in-Rough-In-Size-ADA-Compliant/5001899855</td>\n",
       "      <td>American Standard  Mainstream White Elongated Chair Height 2-piece WaterSense Toilet 12-in Rough-In Size (Ada Compliant)</td>\n",
       "      <td>Model #734AA101.020</td>\n",
       "      <td>189.0</td>\n",
       "      <td>USD</td>\n",
       "      <td>NaN</td>\n",
       "      <td>NaN</td>\n",
       "      <td>October 28, 2021</td>\n",
       "      <td>NaN</td>\n",
       "      <td>4</td>\n",
       "      <td>0</td>\n",
       "      <td>2</td>\n",
       "    </tr>\n",
       "  </tbody>\n",
       "</table>\n",
       "<p>270 rows × 13 columns</p>\n",
       "</div>"
      ],
      "text/plain": [
       "    Market_place  \\\n",
       "0    lowes.com     \n",
       "1    lowes.com     \n",
       "2    lowes.com     \n",
       "3    lowes.com     \n",
       "4    lowes.com     \n",
       "..         ...     \n",
       "265  lowes.com     \n",
       "266  lowes.com     \n",
       "267  lowes.com     \n",
       "268  lowes.com     \n",
       "269  lowes.com     \n",
       "\n",
       "                                                                                                                                                           URL  \\\n",
       "0    https://www.lowes.com/pd/American-Standard-Mainstream-White-WaterSense-Elongated-Chair-Height-2-Piece-Toilet-12-in-Rough-In-Size-ADA-Compliant/5001899855   \n",
       "1    https://www.lowes.com/pd/American-Standard-Mainstream-White-WaterSense-Elongated-Chair-Height-2-Piece-Toilet-12-in-Rough-In-Size-ADA-Compliant/5001899855   \n",
       "2    https://www.lowes.com/pd/American-Standard-Mainstream-White-WaterSense-Elongated-Chair-Height-2-Piece-Toilet-12-in-Rough-In-Size-ADA-Compliant/5001899855   \n",
       "3    https://www.lowes.com/pd/American-Standard-Mainstream-White-WaterSense-Elongated-Chair-Height-2-Piece-Toilet-12-in-Rough-In-Size-ADA-Compliant/5001899855   \n",
       "4    https://www.lowes.com/pd/American-Standard-Mainstream-White-WaterSense-Elongated-Chair-Height-2-Piece-Toilet-12-in-Rough-In-Size-ADA-Compliant/5001899855   \n",
       "..                                                                                                                                                         ...   \n",
       "265  https://www.lowes.com/pd/American-Standard-Mainstream-White-WaterSense-Elongated-Chair-Height-2-Piece-Toilet-12-in-Rough-In-Size-ADA-Compliant/5001899855   \n",
       "266  https://www.lowes.com/pd/American-Standard-Mainstream-White-WaterSense-Elongated-Chair-Height-2-Piece-Toilet-12-in-Rough-In-Size-ADA-Compliant/5001899855   \n",
       "267  https://www.lowes.com/pd/American-Standard-Mainstream-White-WaterSense-Elongated-Chair-Height-2-Piece-Toilet-12-in-Rough-In-Size-ADA-Compliant/5001899855   \n",
       "268  https://www.lowes.com/pd/American-Standard-Mainstream-White-WaterSense-Elongated-Chair-Height-2-Piece-Toilet-12-in-Rough-In-Size-ADA-Compliant/5001899855   \n",
       "269  https://www.lowes.com/pd/American-Standard-Mainstream-White-WaterSense-Elongated-Chair-Height-2-Piece-Toilet-12-in-Rough-In-Size-ADA-Compliant/5001899855   \n",
       "\n",
       "                                                                                                                 Product_name  \\\n",
       "0    American Standard  Mainstream White Elongated Chair Height 2-piece WaterSense Toilet 12-in Rough-In Size (Ada Compliant)   \n",
       "1    American Standard  Mainstream White Elongated Chair Height 2-piece WaterSense Toilet 12-in Rough-In Size (Ada Compliant)   \n",
       "2    American Standard  Mainstream White Elongated Chair Height 2-piece WaterSense Toilet 12-in Rough-In Size (Ada Compliant)   \n",
       "3    American Standard  Mainstream White Elongated Chair Height 2-piece WaterSense Toilet 12-in Rough-In Size (Ada Compliant)   \n",
       "4    American Standard  Mainstream White Elongated Chair Height 2-piece WaterSense Toilet 12-in Rough-In Size (Ada Compliant)   \n",
       "..                                                                                                                        ...   \n",
       "265  American Standard  Mainstream White Elongated Chair Height 2-piece WaterSense Toilet 12-in Rough-In Size (Ada Compliant)   \n",
       "266  American Standard  Mainstream White Elongated Chair Height 2-piece WaterSense Toilet 12-in Rough-In Size (Ada Compliant)   \n",
       "267  American Standard  Mainstream White Elongated Chair Height 2-piece WaterSense Toilet 12-in Rough-In Size (Ada Compliant)   \n",
       "268  American Standard  Mainstream White Elongated Chair Height 2-piece WaterSense Toilet 12-in Rough-In Size (Ada Compliant)   \n",
       "269  American Standard  Mainstream White Elongated Chair Height 2-piece WaterSense Toilet 12-in Rough-In Size (Ada Compliant)   \n",
       "\n",
       "                     SKU  Price Currency  \\\n",
       "0    Model #734AA101.020  189.0  USD       \n",
       "1    Model #734AA101.020  189.0  USD       \n",
       "2    Model #734AA101.020  189.0  USD       \n",
       "3    Model #734AA101.020  189.0  USD       \n",
       "4    Model #734AA101.020  189.0  USD       \n",
       "..                   ...    ...  ...       \n",
       "265  Model #734AA101.020  189.0  USD       \n",
       "266  Model #734AA101.020  189.0  USD       \n",
       "267  Model #734AA101.020  189.0  USD       \n",
       "268  Model #734AA101.020  189.0  USD       \n",
       "269  Model #734AA101.020  189.0  USD       \n",
       "\n",
       "                                          Subject            Author  \\\n",
       "0    No slow close seat! Mislabeled box!           From Oregon        \n",
       "1    Great toilet; only missing a slow-close seat  BigMal             \n",
       "2    It’s a toilet                                 Merriwild          \n",
       "3    Flush valve warps and requires plumber visit  ElaineTheGoddess   \n",
       "4    NOT slow close lid                            Thomas             \n",
       "..                  ...                               ...             \n",
       "265  NaN                                           Kathy              \n",
       "266  NaN                                           NaN                \n",
       "267  NaN                                           NaN                \n",
       "268  NaN                                           NaN                \n",
       "269  NaN                                           NaN                \n",
       "\n",
       "                   Date  \\\n",
       "0    January 6, 2022      \n",
       "1    November 17, 2021    \n",
       "2    December 2, 2021     \n",
       "3    November 12, 2022    \n",
       "4    September 24, 2021   \n",
       "..                  ...   \n",
       "265  December 1, 2021     \n",
       "266  October 28, 2021     \n",
       "267  August 31, 2022      \n",
       "268  April 9, 2022        \n",
       "269  October 28, 2021     \n",
       "\n",
       "                                                                                                                                                                                                                                                                                                                                                                                                                                                                                                                                                                                                                                                                                                                                                                                                                                                                                                                                                                                                                                                                                                                                                                      Review  \\\n",
       "0    It looks like I got the same mislabeled box as others that purchased these. The box states “slow close seat” and the lids are not slow close. I sent a message on American Standards web site a week ago with no response so far. And I bought four toilets! Hopefully they will respond soon!                                                                                                                                                                                                                                                                                                                                                                                                                                                                                                                                                                                                                                                                                                                                                                                                                                                                            \n",
       "1    While the Lowe’s product description does NOT say slow-close seat, the package/box does. I would appreciate accurate packaging; it’s a show of integrity. Otherwise, the unit was in perfect condition and works perfectly with easy installation. A good unit for anyone and middle-of-the-road styling. For any newbie to toilets: install is the easy part; getting your old toilet out (seized bolts, degraded seals making the water stain anything it touches, old wax and/or caulk) and cleaning up the mes...                                                                                                                                                                                                                                                                                                                                                                                                                                                                                                                                                                                                                                                     \n",
       "2    I bought this because my research showed that American Standard made the best toilet for the price. The install did not go well, and I hired a plumber to do the work! But, my real complaint is that there is black soot leeching from the toilet seats/covers. Every time I go in the bathroom, I see more black soot. What is that?? I wipe it off with a tissue and when I return the next time, it’s back again.                                                                                                                                                                                                                                                                                                                                                                                                                                                                                                                                                                                                                                                                                                                                                     \n",
       "3    Since this toilet was brand new, it was slow to flush. We had to hold the handle down a couple seconds to get it to flush all the way. It’s supposed to be able to flush elephant turds but, nah, it’s just a regular toilet. Once we’d had it for maybe a year, it started to intermittently run. It got worse and worse, then eventually we received a letter from the city, saying we appeared to have a water leak… somewhere. Well, that’s where. So, before we drained the reservoir, we read a bunch of diagnostic stuff online and the consensus was to replace the flush valve. So we ordered one and replaced it. It doesn’t leak anymore… for now. But check this out. The silicone seal under the flapper cover was blown up like a balloon in a spot, making it impossible to have sealed. I’ll try to add a photo of the crazy flush valve and flapper seal. So, keep in mind if you buy this toilet, 169 bucks sounds like a good deal, especially if it can flush a bucket of golf balls. But In a year you might need a plumber to replace the bloated flush valve to the tune of $250, plus all the water it wasted before you reached critical mass!   \n",
       "4    It says it's a slow close lid right on the box. It's not.                                                                                                                                                                                                                                                                                                                                                                                                                                                                                                                                                                                                                                                                                                                                                                                                                                                                                                                                                                                                                                                                                                                 \n",
       "..                                                         ...                                                                                                                                                                                                                                                                                                                                                                                                                                                                                                                                                                                                                                                                                                                                                                                                                                                                                                                                                                                                                                                                                                                 \n",
       "265  NaN                                                                                                                                                                                                                                                                                                                                                                                                                                                                                                                                                                                                                                                                                                                                                                                                                                                                                                                                                                                                                                                                                                                                                                       \n",
       "266  NaN                                                                                                                                                                                                                                                                                                                                                                                                                                                                                                                                                                                                                                                                                                                                                                                                                                                                                                                                                                                                                                                                                                                                                                       \n",
       "267  NaN                                                                                                                                                                                                                                                                                                                                                                                                                                                                                                                                                                                                                                                                                                                                                                                                                                                                                                                                                                                                                                                                                                                                                                       \n",
       "268  NaN                                                                                                                                                                                                                                                                                                                                                                                                                                                                                                                                                                                                                                                                                                                                                                                                                                                                                                                                                                                                                                                                                                                                                                       \n",
       "269  NaN                                                                                                                                                                                                                                                                                                                                                                                                                                                                                                                                                                                                                                                                                                                                                                                                                                                                                                                                                                                                                                                                                                                                                                       \n",
       "\n",
       "     Stars  like  dislike  \n",
       "0    4      16    0        \n",
       "1    5      12    2        \n",
       "2    3      7     5        \n",
       "3    2      4     1        \n",
       "4    3      24    5        \n",
       "..  ..      ..   ..        \n",
       "265  5      0     0        \n",
       "266  5      0     2        \n",
       "267  5      0     0        \n",
       "268  5      0     0        \n",
       "269  4      0     2        \n",
       "\n",
       "[270 rows x 13 columns]"
      ]
     },
     "execution_count": 22,
     "metadata": {},
     "output_type": "execute_result"
    }
   ],
   "source": [
    "df1 = pd.read_csv('/Users/reneec/Adelphi University/text_analytics_corona/Lowes_Homedepot_Reviews/lowes_com_5001899855.csv')\n",
    "df1\n",
    "#df1 = pd.set_option('display.max_colwidth', -1)"
   ]
  },
  {
   "cell_type": "code",
   "execution_count": 23,
   "id": "1121df8f",
   "metadata": {},
   "outputs": [
    {
     "data": {
      "application/vnd.plotly.v1+json": {
       "config": {
        "plotlyServerURL": "https://plot.ly"
       },
       "data": [
        {
         "alignmentgroup": "True",
         "bingroup": "x",
         "hovertemplate": "Date=%{x}<br>count=%{y}<extra></extra>",
         "legendgroup": "",
         "marker": {
          "color": "#636efa",
          "pattern": {
           "shape": ""
          }
         },
         "name": "",
         "offsetgroup": "",
         "orientation": "v",
         "showlegend": false,
         "type": "histogram",
         "x": [
          "January 6, 2022",
          "November 17, 2021",
          "December 2, 2021",
          "November 12, 2022",
          "September 24, 2021",
          "August 17, 2021",
          "October 31, 2021",
          "September 20, 2021",
          "November 11, 2021",
          "July 31, 2021",
          "October 29, 2021",
          "August 21, 2022",
          "October 17, 2022",
          "October 13, 2021",
          "October 12, 2021",
          "October 11, 2021",
          "August 24, 2022",
          "October 15, 2021",
          "May 1, 2022",
          "April 24, 2022",
          "November 10, 2021",
          "December 14, 2022",
          "September 20, 2021",
          "December 7, 2021",
          "October 7, 2022",
          "January 3, 2022",
          "October 15, 2021",
          "October 25, 2021",
          "November 28, 2022",
          "January 5, 2022",
          "December 14, 2022",
          "April 30, 2022",
          "November 11, 2021",
          "December 27, 2021",
          "September 14, 2021",
          "October 28, 2021",
          "March 22, 2022",
          "January 9, 2022",
          "December 3, 2022",
          "January 15, 2022",
          "December 8, 2021",
          "August 9, 2022",
          "October 30, 2021",
          "January 12, 2022",
          "December 14, 2021",
          "December 13, 2022",
          "November 24, 2021",
          "December 6, 2021",
          "April 25, 2022",
          "September 27, 2021",
          "October 21, 2022",
          "October 13, 2021",
          "January 12, 2022",
          "December 4, 2021",
          "December 18, 2021",
          "December 13, 2022",
          "February 3, 2022",
          "October 8, 2021",
          "February 21, 2022",
          "December 12, 2022",
          "June 16, 2022",
          "October 29, 2022",
          "December 9, 2021",
          "September 19, 2021",
          "December 2, 2021",
          "March 6, 2022",
          "December 11, 2021",
          "December 19, 2021",
          "September 19, 2021",
          "October 12, 2021",
          "October 19, 2021",
          "December 12, 2022",
          "November 5, 2022",
          "November 27, 2022",
          "June 8, 2022",
          "October 24, 2022",
          "September 10, 2021",
          "December 23, 2021",
          "April 27, 2022",
          "December 29, 2021",
          "June 28, 2022",
          "January 12, 2022",
          "October 24, 2022",
          "January 24, 2022",
          "December 5, 2021",
          "September 26, 2021",
          "January 7, 2022",
          "August 16, 2022",
          "October 10, 2022",
          "August 2, 2022",
          "May 13, 2022",
          "September 26, 2021",
          "April 22, 2022",
          "August 3, 2022",
          "October 30, 2021",
          "September 20, 2022",
          "November 7, 2022",
          "August 31, 2022",
          "August 29, 2022",
          "October 17, 2022",
          "November 20, 2022",
          "November 10, 2022",
          "September 14, 2022",
          "December 4, 2021",
          "April 3, 2022",
          "November 5, 2022",
          "October 8, 2021",
          "February 13, 2022",
          "April 16, 2022",
          "November 13, 2022",
          "October 21, 2022",
          "April 2, 2022",
          "October 20, 2022",
          "January 5, 2022",
          "October 20, 2022",
          "December 6, 2022",
          "December 4, 2022",
          "December 4, 2022",
          "December 3, 2022",
          "January 22, 2022",
          "June 21, 2022",
          "November 10, 2021",
          "November 6, 2021",
          "October 25, 2022",
          "October 12, 2022",
          "September 24, 2021",
          "September 15, 2022",
          "January 21, 2022",
          "December 30, 2021",
          "September 25, 2022",
          "March 16, 2022",
          "November 11, 2021",
          "December 12, 2021",
          "December 4, 2021",
          "October 17, 2022",
          "January 3, 2022",
          "November 12, 2021",
          "October 29, 2022",
          "August 7, 2022",
          "January 5, 2022",
          "November 10, 2021",
          "October 13, 2021",
          "November 9, 2021",
          "December 23, 2021",
          "October 2, 2022",
          "October 23, 2022",
          "December 21, 2021",
          "December 22, 2021",
          "October 25, 2022",
          "December 2, 2021",
          "November 26, 2021",
          "August 7, 2022",
          "April 2, 2022",
          "January 5, 2022",
          "June 21, 2022",
          "December 12, 2021",
          "December 21, 2021",
          "October 29, 2022",
          "October 12, 2021",
          "December 2, 2021",
          "January 2, 2022",
          "December 16, 2021",
          "August 30, 2022",
          "July 13, 2022",
          "September 7, 2022",
          "October 26, 2022",
          "November 13, 2022",
          "November 16, 2022",
          "November 19, 2022",
          "November 21, 2022",
          "November 22, 2022",
          "November 23, 2022",
          "April 8, 2022",
          "August 6, 2022",
          "October 15, 2022",
          "September 26, 2022",
          "January 8, 2022",
          "November 27, 2021",
          "December 5, 2021",
          "November 10, 2021",
          "August 15, 2022",
          "August 14, 2022",
          "February 25, 2022",
          "February 5, 2022",
          "March 22, 2022",
          "September 18, 2022",
          "September 7, 2022",
          "November 27, 2021",
          "December 9, 2021",
          "November 28, 2021",
          "November 5, 2021",
          "September 15, 2022",
          "December 21, 2021",
          "September 19, 2021",
          "September 29, 2021",
          "October 29, 2021",
          "November 21, 2021",
          "December 24, 2021",
          "September 15, 2021",
          "November 14, 2021",
          "September 13, 2022",
          "October 3, 2021",
          "August 28, 2022",
          "December 24, 2021",
          "December 1, 2021",
          "September 21, 2022",
          "December 2, 2021",
          "July 30, 2022",
          "June 5, 2022",
          "October 26, 2021",
          "November 16, 2021",
          "November 22, 2021",
          "April 19, 2022",
          "September 13, 2022",
          "November 29, 2021",
          "July 31, 2022",
          "September 21, 2022",
          "June 10, 2022",
          "December 12, 2021",
          "November 13, 2022",
          "November 17, 2022",
          "November 13, 2022",
          "November 14, 2022",
          "November 15, 2022",
          "November 20, 2022",
          "November 26, 2022",
          "June 17, 2022",
          "November 7, 2021",
          "February 3, 2022",
          "April 7, 2022",
          "November 5, 2021",
          "April 4, 2022",
          "November 10, 2021",
          "October 1, 2021",
          "January 26, 2022",
          "October 8, 2021",
          "October 7, 2022",
          "August 5, 2022",
          "May 15, 2022",
          "September 6, 2022",
          "November 3, 2022",
          "July 12, 2021",
          "September 29, 2022",
          "September 20, 2022",
          "July 19, 2022",
          "October 28, 2021",
          "November 13, 2021",
          "November 15, 2021",
          "July 27, 2022",
          "November 29, 2021",
          "October 19, 2021",
          "April 6, 2022",
          "November 27, 2021",
          "November 12, 2021",
          "December 8, 2021",
          "October 28, 2021",
          "October 26, 2021",
          "October 29, 2022",
          "September 18, 2022",
          "November 20, 2021",
          "December 4, 2021",
          "March 14, 2022",
          "September 12, 2022",
          "January 15, 2022",
          "December 18, 2021",
          "December 1, 2021",
          "October 28, 2021",
          "August 31, 2022",
          "April 9, 2022",
          "October 28, 2021"
         ],
         "xaxis": "x",
         "yaxis": "y"
        }
       ],
       "layout": {
        "barmode": "relative",
        "legend": {
         "tracegroupgap": 0
        },
        "margin": {
         "t": 60
        },
        "template": {
         "data": {
          "bar": [
           {
            "error_x": {
             "color": "#2a3f5f"
            },
            "error_y": {
             "color": "#2a3f5f"
            },
            "marker": {
             "line": {
              "color": "#E5ECF6",
              "width": 0.5
             },
             "pattern": {
              "fillmode": "overlay",
              "size": 10,
              "solidity": 0.2
             }
            },
            "type": "bar"
           }
          ],
          "barpolar": [
           {
            "marker": {
             "line": {
              "color": "#E5ECF6",
              "width": 0.5
             },
             "pattern": {
              "fillmode": "overlay",
              "size": 10,
              "solidity": 0.2
             }
            },
            "type": "barpolar"
           }
          ],
          "carpet": [
           {
            "aaxis": {
             "endlinecolor": "#2a3f5f",
             "gridcolor": "white",
             "linecolor": "white",
             "minorgridcolor": "white",
             "startlinecolor": "#2a3f5f"
            },
            "baxis": {
             "endlinecolor": "#2a3f5f",
             "gridcolor": "white",
             "linecolor": "white",
             "minorgridcolor": "white",
             "startlinecolor": "#2a3f5f"
            },
            "type": "carpet"
           }
          ],
          "choropleth": [
           {
            "colorbar": {
             "outlinewidth": 0,
             "ticks": ""
            },
            "type": "choropleth"
           }
          ],
          "contour": [
           {
            "colorbar": {
             "outlinewidth": 0,
             "ticks": ""
            },
            "colorscale": [
             [
              0,
              "#0d0887"
             ],
             [
              0.1111111111111111,
              "#46039f"
             ],
             [
              0.2222222222222222,
              "#7201a8"
             ],
             [
              0.3333333333333333,
              "#9c179e"
             ],
             [
              0.4444444444444444,
              "#bd3786"
             ],
             [
              0.5555555555555556,
              "#d8576b"
             ],
             [
              0.6666666666666666,
              "#ed7953"
             ],
             [
              0.7777777777777778,
              "#fb9f3a"
             ],
             [
              0.8888888888888888,
              "#fdca26"
             ],
             [
              1,
              "#f0f921"
             ]
            ],
            "type": "contour"
           }
          ],
          "contourcarpet": [
           {
            "colorbar": {
             "outlinewidth": 0,
             "ticks": ""
            },
            "type": "contourcarpet"
           }
          ],
          "heatmap": [
           {
            "colorbar": {
             "outlinewidth": 0,
             "ticks": ""
            },
            "colorscale": [
             [
              0,
              "#0d0887"
             ],
             [
              0.1111111111111111,
              "#46039f"
             ],
             [
              0.2222222222222222,
              "#7201a8"
             ],
             [
              0.3333333333333333,
              "#9c179e"
             ],
             [
              0.4444444444444444,
              "#bd3786"
             ],
             [
              0.5555555555555556,
              "#d8576b"
             ],
             [
              0.6666666666666666,
              "#ed7953"
             ],
             [
              0.7777777777777778,
              "#fb9f3a"
             ],
             [
              0.8888888888888888,
              "#fdca26"
             ],
             [
              1,
              "#f0f921"
             ]
            ],
            "type": "heatmap"
           }
          ],
          "heatmapgl": [
           {
            "colorbar": {
             "outlinewidth": 0,
             "ticks": ""
            },
            "colorscale": [
             [
              0,
              "#0d0887"
             ],
             [
              0.1111111111111111,
              "#46039f"
             ],
             [
              0.2222222222222222,
              "#7201a8"
             ],
             [
              0.3333333333333333,
              "#9c179e"
             ],
             [
              0.4444444444444444,
              "#bd3786"
             ],
             [
              0.5555555555555556,
              "#d8576b"
             ],
             [
              0.6666666666666666,
              "#ed7953"
             ],
             [
              0.7777777777777778,
              "#fb9f3a"
             ],
             [
              0.8888888888888888,
              "#fdca26"
             ],
             [
              1,
              "#f0f921"
             ]
            ],
            "type": "heatmapgl"
           }
          ],
          "histogram": [
           {
            "marker": {
             "pattern": {
              "fillmode": "overlay",
              "size": 10,
              "solidity": 0.2
             }
            },
            "type": "histogram"
           }
          ],
          "histogram2d": [
           {
            "colorbar": {
             "outlinewidth": 0,
             "ticks": ""
            },
            "colorscale": [
             [
              0,
              "#0d0887"
             ],
             [
              0.1111111111111111,
              "#46039f"
             ],
             [
              0.2222222222222222,
              "#7201a8"
             ],
             [
              0.3333333333333333,
              "#9c179e"
             ],
             [
              0.4444444444444444,
              "#bd3786"
             ],
             [
              0.5555555555555556,
              "#d8576b"
             ],
             [
              0.6666666666666666,
              "#ed7953"
             ],
             [
              0.7777777777777778,
              "#fb9f3a"
             ],
             [
              0.8888888888888888,
              "#fdca26"
             ],
             [
              1,
              "#f0f921"
             ]
            ],
            "type": "histogram2d"
           }
          ],
          "histogram2dcontour": [
           {
            "colorbar": {
             "outlinewidth": 0,
             "ticks": ""
            },
            "colorscale": [
             [
              0,
              "#0d0887"
             ],
             [
              0.1111111111111111,
              "#46039f"
             ],
             [
              0.2222222222222222,
              "#7201a8"
             ],
             [
              0.3333333333333333,
              "#9c179e"
             ],
             [
              0.4444444444444444,
              "#bd3786"
             ],
             [
              0.5555555555555556,
              "#d8576b"
             ],
             [
              0.6666666666666666,
              "#ed7953"
             ],
             [
              0.7777777777777778,
              "#fb9f3a"
             ],
             [
              0.8888888888888888,
              "#fdca26"
             ],
             [
              1,
              "#f0f921"
             ]
            ],
            "type": "histogram2dcontour"
           }
          ],
          "mesh3d": [
           {
            "colorbar": {
             "outlinewidth": 0,
             "ticks": ""
            },
            "type": "mesh3d"
           }
          ],
          "parcoords": [
           {
            "line": {
             "colorbar": {
              "outlinewidth": 0,
              "ticks": ""
             }
            },
            "type": "parcoords"
           }
          ],
          "pie": [
           {
            "automargin": true,
            "type": "pie"
           }
          ],
          "scatter": [
           {
            "fillpattern": {
             "fillmode": "overlay",
             "size": 10,
             "solidity": 0.2
            },
            "type": "scatter"
           }
          ],
          "scatter3d": [
           {
            "line": {
             "colorbar": {
              "outlinewidth": 0,
              "ticks": ""
             }
            },
            "marker": {
             "colorbar": {
              "outlinewidth": 0,
              "ticks": ""
             }
            },
            "type": "scatter3d"
           }
          ],
          "scattercarpet": [
           {
            "marker": {
             "colorbar": {
              "outlinewidth": 0,
              "ticks": ""
             }
            },
            "type": "scattercarpet"
           }
          ],
          "scattergeo": [
           {
            "marker": {
             "colorbar": {
              "outlinewidth": 0,
              "ticks": ""
             }
            },
            "type": "scattergeo"
           }
          ],
          "scattergl": [
           {
            "marker": {
             "colorbar": {
              "outlinewidth": 0,
              "ticks": ""
             }
            },
            "type": "scattergl"
           }
          ],
          "scattermapbox": [
           {
            "marker": {
             "colorbar": {
              "outlinewidth": 0,
              "ticks": ""
             }
            },
            "type": "scattermapbox"
           }
          ],
          "scatterpolar": [
           {
            "marker": {
             "colorbar": {
              "outlinewidth": 0,
              "ticks": ""
             }
            },
            "type": "scatterpolar"
           }
          ],
          "scatterpolargl": [
           {
            "marker": {
             "colorbar": {
              "outlinewidth": 0,
              "ticks": ""
             }
            },
            "type": "scatterpolargl"
           }
          ],
          "scatterternary": [
           {
            "marker": {
             "colorbar": {
              "outlinewidth": 0,
              "ticks": ""
             }
            },
            "type": "scatterternary"
           }
          ],
          "surface": [
           {
            "colorbar": {
             "outlinewidth": 0,
             "ticks": ""
            },
            "colorscale": [
             [
              0,
              "#0d0887"
             ],
             [
              0.1111111111111111,
              "#46039f"
             ],
             [
              0.2222222222222222,
              "#7201a8"
             ],
             [
              0.3333333333333333,
              "#9c179e"
             ],
             [
              0.4444444444444444,
              "#bd3786"
             ],
             [
              0.5555555555555556,
              "#d8576b"
             ],
             [
              0.6666666666666666,
              "#ed7953"
             ],
             [
              0.7777777777777778,
              "#fb9f3a"
             ],
             [
              0.8888888888888888,
              "#fdca26"
             ],
             [
              1,
              "#f0f921"
             ]
            ],
            "type": "surface"
           }
          ],
          "table": [
           {
            "cells": {
             "fill": {
              "color": "#EBF0F8"
             },
             "line": {
              "color": "white"
             }
            },
            "header": {
             "fill": {
              "color": "#C8D4E3"
             },
             "line": {
              "color": "white"
             }
            },
            "type": "table"
           }
          ]
         },
         "layout": {
          "annotationdefaults": {
           "arrowcolor": "#2a3f5f",
           "arrowhead": 0,
           "arrowwidth": 1
          },
          "autotypenumbers": "strict",
          "coloraxis": {
           "colorbar": {
            "outlinewidth": 0,
            "ticks": ""
           }
          },
          "colorscale": {
           "diverging": [
            [
             0,
             "#8e0152"
            ],
            [
             0.1,
             "#c51b7d"
            ],
            [
             0.2,
             "#de77ae"
            ],
            [
             0.3,
             "#f1b6da"
            ],
            [
             0.4,
             "#fde0ef"
            ],
            [
             0.5,
             "#f7f7f7"
            ],
            [
             0.6,
             "#e6f5d0"
            ],
            [
             0.7,
             "#b8e186"
            ],
            [
             0.8,
             "#7fbc41"
            ],
            [
             0.9,
             "#4d9221"
            ],
            [
             1,
             "#276419"
            ]
           ],
           "sequential": [
            [
             0,
             "#0d0887"
            ],
            [
             0.1111111111111111,
             "#46039f"
            ],
            [
             0.2222222222222222,
             "#7201a8"
            ],
            [
             0.3333333333333333,
             "#9c179e"
            ],
            [
             0.4444444444444444,
             "#bd3786"
            ],
            [
             0.5555555555555556,
             "#d8576b"
            ],
            [
             0.6666666666666666,
             "#ed7953"
            ],
            [
             0.7777777777777778,
             "#fb9f3a"
            ],
            [
             0.8888888888888888,
             "#fdca26"
            ],
            [
             1,
             "#f0f921"
            ]
           ],
           "sequentialminus": [
            [
             0,
             "#0d0887"
            ],
            [
             0.1111111111111111,
             "#46039f"
            ],
            [
             0.2222222222222222,
             "#7201a8"
            ],
            [
             0.3333333333333333,
             "#9c179e"
            ],
            [
             0.4444444444444444,
             "#bd3786"
            ],
            [
             0.5555555555555556,
             "#d8576b"
            ],
            [
             0.6666666666666666,
             "#ed7953"
            ],
            [
             0.7777777777777778,
             "#fb9f3a"
            ],
            [
             0.8888888888888888,
             "#fdca26"
            ],
            [
             1,
             "#f0f921"
            ]
           ]
          },
          "colorway": [
           "#636efa",
           "#EF553B",
           "#00cc96",
           "#ab63fa",
           "#FFA15A",
           "#19d3f3",
           "#FF6692",
           "#B6E880",
           "#FF97FF",
           "#FECB52"
          ],
          "font": {
           "color": "#2a3f5f"
          },
          "geo": {
           "bgcolor": "white",
           "lakecolor": "white",
           "landcolor": "#E5ECF6",
           "showlakes": true,
           "showland": true,
           "subunitcolor": "white"
          },
          "hoverlabel": {
           "align": "left"
          },
          "hovermode": "closest",
          "mapbox": {
           "style": "light"
          },
          "paper_bgcolor": "white",
          "plot_bgcolor": "#E5ECF6",
          "polar": {
           "angularaxis": {
            "gridcolor": "white",
            "linecolor": "white",
            "ticks": ""
           },
           "bgcolor": "#E5ECF6",
           "radialaxis": {
            "gridcolor": "white",
            "linecolor": "white",
            "ticks": ""
           }
          },
          "scene": {
           "xaxis": {
            "backgroundcolor": "#E5ECF6",
            "gridcolor": "white",
            "gridwidth": 2,
            "linecolor": "white",
            "showbackground": true,
            "ticks": "",
            "zerolinecolor": "white"
           },
           "yaxis": {
            "backgroundcolor": "#E5ECF6",
            "gridcolor": "white",
            "gridwidth": 2,
            "linecolor": "white",
            "showbackground": true,
            "ticks": "",
            "zerolinecolor": "white"
           },
           "zaxis": {
            "backgroundcolor": "#E5ECF6",
            "gridcolor": "white",
            "gridwidth": 2,
            "linecolor": "white",
            "showbackground": true,
            "ticks": "",
            "zerolinecolor": "white"
           }
          },
          "shapedefaults": {
           "line": {
            "color": "#2a3f5f"
           }
          },
          "ternary": {
           "aaxis": {
            "gridcolor": "white",
            "linecolor": "white",
            "ticks": ""
           },
           "baxis": {
            "gridcolor": "white",
            "linecolor": "white",
            "ticks": ""
           },
           "bgcolor": "#E5ECF6",
           "caxis": {
            "gridcolor": "white",
            "linecolor": "white",
            "ticks": ""
           }
          },
          "title": {
           "x": 0.05
          },
          "xaxis": {
           "automargin": true,
           "gridcolor": "white",
           "linecolor": "white",
           "ticks": "",
           "title": {
            "standoff": 15
           },
           "zerolinecolor": "white",
           "zerolinewidth": 2
          },
          "yaxis": {
           "automargin": true,
           "gridcolor": "white",
           "linecolor": "white",
           "ticks": "",
           "title": {
            "standoff": 15
           },
           "zerolinecolor": "white",
           "zerolinewidth": 2
          }
         }
        },
        "xaxis": {
         "anchor": "y",
         "domain": [
          0,
          1
         ],
         "title": {
          "text": "Date"
         }
        },
        "yaxis": {
         "anchor": "x",
         "domain": [
          0,
          1
         ],
         "title": {
          "text": "count"
         }
        }
       }
      },
      "text/html": [
       "<div>                            <div id=\"cea4445c-4599-4ba1-bc2c-fcf4ce0b586e\" class=\"plotly-graph-div\" style=\"height:525px; width:100%;\"></div>            <script type=\"text/javascript\">                require([\"plotly\"], function(Plotly) {                    window.PLOTLYENV=window.PLOTLYENV || {};                                    if (document.getElementById(\"cea4445c-4599-4ba1-bc2c-fcf4ce0b586e\")) {                    Plotly.newPlot(                        \"cea4445c-4599-4ba1-bc2c-fcf4ce0b586e\",                        [{\"alignmentgroup\":\"True\",\"bingroup\":\"x\",\"hovertemplate\":\"Date=%{x}<br>count=%{y}<extra></extra>\",\"legendgroup\":\"\",\"marker\":{\"color\":\"#636efa\",\"pattern\":{\"shape\":\"\"}},\"name\":\"\",\"offsetgroup\":\"\",\"orientation\":\"v\",\"showlegend\":false,\"x\":[\"January 6, 2022\",\"November 17, 2021\",\"December 2, 2021\",\"November 12, 2022\",\"September 24, 2021\",\"August 17, 2021\",\"October 31, 2021\",\"September 20, 2021\",\"November 11, 2021\",\"July 31, 2021\",\"October 29, 2021\",\"August 21, 2022\",\"October 17, 2022\",\"October 13, 2021\",\"October 12, 2021\",\"October 11, 2021\",\"August 24, 2022\",\"October 15, 2021\",\"May 1, 2022\",\"April 24, 2022\",\"November 10, 2021\",\"December 14, 2022\",\"September 20, 2021\",\"December 7, 2021\",\"October 7, 2022\",\"January 3, 2022\",\"October 15, 2021\",\"October 25, 2021\",\"November 28, 2022\",\"January 5, 2022\",\"December 14, 2022\",\"April 30, 2022\",\"November 11, 2021\",\"December 27, 2021\",\"September 14, 2021\",\"October 28, 2021\",\"March 22, 2022\",\"January 9, 2022\",\"December 3, 2022\",\"January 15, 2022\",\"December 8, 2021\",\"August 9, 2022\",\"October 30, 2021\",\"January 12, 2022\",\"December 14, 2021\",\"December 13, 2022\",\"November 24, 2021\",\"December 6, 2021\",\"April 25, 2022\",\"September 27, 2021\",\"October 21, 2022\",\"October 13, 2021\",\"January 12, 2022\",\"December 4, 2021\",\"December 18, 2021\",\"December 13, 2022\",\"February 3, 2022\",\"October 8, 2021\",\"February 21, 2022\",\"December 12, 2022\",\"June 16, 2022\",\"October 29, 2022\",\"December 9, 2021\",\"September 19, 2021\",\"December 2, 2021\",\"March 6, 2022\",\"December 11, 2021\",\"December 19, 2021\",\"September 19, 2021\",\"October 12, 2021\",\"October 19, 2021\",\"December 12, 2022\",\"November 5, 2022\",\"November 27, 2022\",\"June 8, 2022\",\"October 24, 2022\",\"September 10, 2021\",\"December 23, 2021\",\"April 27, 2022\",\"December 29, 2021\",\"June 28, 2022\",\"January 12, 2022\",\"October 24, 2022\",\"January 24, 2022\",\"December 5, 2021\",\"September 26, 2021\",\"January 7, 2022\",\"August 16, 2022\",\"October 10, 2022\",\"August 2, 2022\",\"May 13, 2022\",\"September 26, 2021\",\"April 22, 2022\",\"August 3, 2022\",\"October 30, 2021\",\"September 20, 2022\",\"November 7, 2022\",\"August 31, 2022\",\"August 29, 2022\",\"October 17, 2022\",\"November 20, 2022\",\"November 10, 2022\",\"September 14, 2022\",\"December 4, 2021\",\"April 3, 2022\",\"November 5, 2022\",\"October 8, 2021\",\"February 13, 2022\",\"April 16, 2022\",\"November 13, 2022\",\"October 21, 2022\",\"April 2, 2022\",\"October 20, 2022\",\"January 5, 2022\",\"October 20, 2022\",\"December 6, 2022\",\"December 4, 2022\",\"December 4, 2022\",\"December 3, 2022\",\"January 22, 2022\",\"June 21, 2022\",\"November 10, 2021\",\"November 6, 2021\",\"October 25, 2022\",\"October 12, 2022\",\"September 24, 2021\",\"September 15, 2022\",\"January 21, 2022\",\"December 30, 2021\",\"September 25, 2022\",\"March 16, 2022\",\"November 11, 2021\",\"December 12, 2021\",\"December 4, 2021\",\"October 17, 2022\",\"January 3, 2022\",\"November 12, 2021\",\"October 29, 2022\",\"August 7, 2022\",\"January 5, 2022\",\"November 10, 2021\",\"October 13, 2021\",\"November 9, 2021\",\"December 23, 2021\",\"October 2, 2022\",\"October 23, 2022\",\"December 21, 2021\",\"December 22, 2021\",\"October 25, 2022\",\"December 2, 2021\",\"November 26, 2021\",\"August 7, 2022\",\"April 2, 2022\",\"January 5, 2022\",\"June 21, 2022\",\"December 12, 2021\",\"December 21, 2021\",\"October 29, 2022\",\"October 12, 2021\",\"December 2, 2021\",\"January 2, 2022\",\"December 16, 2021\",\"August 30, 2022\",\"July 13, 2022\",\"September 7, 2022\",\"October 26, 2022\",\"November 13, 2022\",\"November 16, 2022\",\"November 19, 2022\",\"November 21, 2022\",\"November 22, 2022\",\"November 23, 2022\",\"April 8, 2022\",\"August 6, 2022\",\"October 15, 2022\",\"September 26, 2022\",\"January 8, 2022\",\"November 27, 2021\",\"December 5, 2021\",\"November 10, 2021\",\"August 15, 2022\",\"August 14, 2022\",\"February 25, 2022\",\"February 5, 2022\",\"March 22, 2022\",\"September 18, 2022\",\"September 7, 2022\",\"November 27, 2021\",\"December 9, 2021\",\"November 28, 2021\",\"November 5, 2021\",\"September 15, 2022\",\"December 21, 2021\",\"September 19, 2021\",\"September 29, 2021\",\"October 29, 2021\",\"November 21, 2021\",\"December 24, 2021\",\"September 15, 2021\",\"November 14, 2021\",\"September 13, 2022\",\"October 3, 2021\",\"August 28, 2022\",\"December 24, 2021\",\"December 1, 2021\",\"September 21, 2022\",\"December 2, 2021\",\"July 30, 2022\",\"June 5, 2022\",\"October 26, 2021\",\"November 16, 2021\",\"November 22, 2021\",\"April 19, 2022\",\"September 13, 2022\",\"November 29, 2021\",\"July 31, 2022\",\"September 21, 2022\",\"June 10, 2022\",\"December 12, 2021\",\"November 13, 2022\",\"November 17, 2022\",\"November 13, 2022\",\"November 14, 2022\",\"November 15, 2022\",\"November 20, 2022\",\"November 26, 2022\",\"June 17, 2022\",\"November 7, 2021\",\"February 3, 2022\",\"April 7, 2022\",\"November 5, 2021\",\"April 4, 2022\",\"November 10, 2021\",\"October 1, 2021\",\"January 26, 2022\",\"October 8, 2021\",\"October 7, 2022\",\"August 5, 2022\",\"May 15, 2022\",\"September 6, 2022\",\"November 3, 2022\",\"July 12, 2021\",\"September 29, 2022\",\"September 20, 2022\",\"July 19, 2022\",\"October 28, 2021\",\"November 13, 2021\",\"November 15, 2021\",\"July 27, 2022\",\"November 29, 2021\",\"October 19, 2021\",\"April 6, 2022\",\"November 27, 2021\",\"November 12, 2021\",\"December 8, 2021\",\"October 28, 2021\",\"October 26, 2021\",\"October 29, 2022\",\"September 18, 2022\",\"November 20, 2021\",\"December 4, 2021\",\"March 14, 2022\",\"September 12, 2022\",\"January 15, 2022\",\"December 18, 2021\",\"December 1, 2021\",\"October 28, 2021\",\"August 31, 2022\",\"April 9, 2022\",\"October 28, 2021\"],\"xaxis\":\"x\",\"yaxis\":\"y\",\"type\":\"histogram\"}],                        {\"template\":{\"data\":{\"histogram2dcontour\":[{\"type\":\"histogram2dcontour\",\"colorbar\":{\"outlinewidth\":0,\"ticks\":\"\"},\"colorscale\":[[0.0,\"#0d0887\"],[0.1111111111111111,\"#46039f\"],[0.2222222222222222,\"#7201a8\"],[0.3333333333333333,\"#9c179e\"],[0.4444444444444444,\"#bd3786\"],[0.5555555555555556,\"#d8576b\"],[0.6666666666666666,\"#ed7953\"],[0.7777777777777778,\"#fb9f3a\"],[0.8888888888888888,\"#fdca26\"],[1.0,\"#f0f921\"]]}],\"choropleth\":[{\"type\":\"choropleth\",\"colorbar\":{\"outlinewidth\":0,\"ticks\":\"\"}}],\"histogram2d\":[{\"type\":\"histogram2d\",\"colorbar\":{\"outlinewidth\":0,\"ticks\":\"\"},\"colorscale\":[[0.0,\"#0d0887\"],[0.1111111111111111,\"#46039f\"],[0.2222222222222222,\"#7201a8\"],[0.3333333333333333,\"#9c179e\"],[0.4444444444444444,\"#bd3786\"],[0.5555555555555556,\"#d8576b\"],[0.6666666666666666,\"#ed7953\"],[0.7777777777777778,\"#fb9f3a\"],[0.8888888888888888,\"#fdca26\"],[1.0,\"#f0f921\"]]}],\"heatmap\":[{\"type\":\"heatmap\",\"colorbar\":{\"outlinewidth\":0,\"ticks\":\"\"},\"colorscale\":[[0.0,\"#0d0887\"],[0.1111111111111111,\"#46039f\"],[0.2222222222222222,\"#7201a8\"],[0.3333333333333333,\"#9c179e\"],[0.4444444444444444,\"#bd3786\"],[0.5555555555555556,\"#d8576b\"],[0.6666666666666666,\"#ed7953\"],[0.7777777777777778,\"#fb9f3a\"],[0.8888888888888888,\"#fdca26\"],[1.0,\"#f0f921\"]]}],\"heatmapgl\":[{\"type\":\"heatmapgl\",\"colorbar\":{\"outlinewidth\":0,\"ticks\":\"\"},\"colorscale\":[[0.0,\"#0d0887\"],[0.1111111111111111,\"#46039f\"],[0.2222222222222222,\"#7201a8\"],[0.3333333333333333,\"#9c179e\"],[0.4444444444444444,\"#bd3786\"],[0.5555555555555556,\"#d8576b\"],[0.6666666666666666,\"#ed7953\"],[0.7777777777777778,\"#fb9f3a\"],[0.8888888888888888,\"#fdca26\"],[1.0,\"#f0f921\"]]}],\"contourcarpet\":[{\"type\":\"contourcarpet\",\"colorbar\":{\"outlinewidth\":0,\"ticks\":\"\"}}],\"contour\":[{\"type\":\"contour\",\"colorbar\":{\"outlinewidth\":0,\"ticks\":\"\"},\"colorscale\":[[0.0,\"#0d0887\"],[0.1111111111111111,\"#46039f\"],[0.2222222222222222,\"#7201a8\"],[0.3333333333333333,\"#9c179e\"],[0.4444444444444444,\"#bd3786\"],[0.5555555555555556,\"#d8576b\"],[0.6666666666666666,\"#ed7953\"],[0.7777777777777778,\"#fb9f3a\"],[0.8888888888888888,\"#fdca26\"],[1.0,\"#f0f921\"]]}],\"surface\":[{\"type\":\"surface\",\"colorbar\":{\"outlinewidth\":0,\"ticks\":\"\"},\"colorscale\":[[0.0,\"#0d0887\"],[0.1111111111111111,\"#46039f\"],[0.2222222222222222,\"#7201a8\"],[0.3333333333333333,\"#9c179e\"],[0.4444444444444444,\"#bd3786\"],[0.5555555555555556,\"#d8576b\"],[0.6666666666666666,\"#ed7953\"],[0.7777777777777778,\"#fb9f3a\"],[0.8888888888888888,\"#fdca26\"],[1.0,\"#f0f921\"]]}],\"mesh3d\":[{\"type\":\"mesh3d\",\"colorbar\":{\"outlinewidth\":0,\"ticks\":\"\"}}],\"scatter\":[{\"fillpattern\":{\"fillmode\":\"overlay\",\"size\":10,\"solidity\":0.2},\"type\":\"scatter\"}],\"parcoords\":[{\"type\":\"parcoords\",\"line\":{\"colorbar\":{\"outlinewidth\":0,\"ticks\":\"\"}}}],\"scatterpolargl\":[{\"type\":\"scatterpolargl\",\"marker\":{\"colorbar\":{\"outlinewidth\":0,\"ticks\":\"\"}}}],\"bar\":[{\"error_x\":{\"color\":\"#2a3f5f\"},\"error_y\":{\"color\":\"#2a3f5f\"},\"marker\":{\"line\":{\"color\":\"#E5ECF6\",\"width\":0.5},\"pattern\":{\"fillmode\":\"overlay\",\"size\":10,\"solidity\":0.2}},\"type\":\"bar\"}],\"scattergeo\":[{\"type\":\"scattergeo\",\"marker\":{\"colorbar\":{\"outlinewidth\":0,\"ticks\":\"\"}}}],\"scatterpolar\":[{\"type\":\"scatterpolar\",\"marker\":{\"colorbar\":{\"outlinewidth\":0,\"ticks\":\"\"}}}],\"histogram\":[{\"marker\":{\"pattern\":{\"fillmode\":\"overlay\",\"size\":10,\"solidity\":0.2}},\"type\":\"histogram\"}],\"scattergl\":[{\"type\":\"scattergl\",\"marker\":{\"colorbar\":{\"outlinewidth\":0,\"ticks\":\"\"}}}],\"scatter3d\":[{\"type\":\"scatter3d\",\"line\":{\"colorbar\":{\"outlinewidth\":0,\"ticks\":\"\"}},\"marker\":{\"colorbar\":{\"outlinewidth\":0,\"ticks\":\"\"}}}],\"scattermapbox\":[{\"type\":\"scattermapbox\",\"marker\":{\"colorbar\":{\"outlinewidth\":0,\"ticks\":\"\"}}}],\"scatterternary\":[{\"type\":\"scatterternary\",\"marker\":{\"colorbar\":{\"outlinewidth\":0,\"ticks\":\"\"}}}],\"scattercarpet\":[{\"type\":\"scattercarpet\",\"marker\":{\"colorbar\":{\"outlinewidth\":0,\"ticks\":\"\"}}}],\"carpet\":[{\"aaxis\":{\"endlinecolor\":\"#2a3f5f\",\"gridcolor\":\"white\",\"linecolor\":\"white\",\"minorgridcolor\":\"white\",\"startlinecolor\":\"#2a3f5f\"},\"baxis\":{\"endlinecolor\":\"#2a3f5f\",\"gridcolor\":\"white\",\"linecolor\":\"white\",\"minorgridcolor\":\"white\",\"startlinecolor\":\"#2a3f5f\"},\"type\":\"carpet\"}],\"table\":[{\"cells\":{\"fill\":{\"color\":\"#EBF0F8\"},\"line\":{\"color\":\"white\"}},\"header\":{\"fill\":{\"color\":\"#C8D4E3\"},\"line\":{\"color\":\"white\"}},\"type\":\"table\"}],\"barpolar\":[{\"marker\":{\"line\":{\"color\":\"#E5ECF6\",\"width\":0.5},\"pattern\":{\"fillmode\":\"overlay\",\"size\":10,\"solidity\":0.2}},\"type\":\"barpolar\"}],\"pie\":[{\"automargin\":true,\"type\":\"pie\"}]},\"layout\":{\"autotypenumbers\":\"strict\",\"colorway\":[\"#636efa\",\"#EF553B\",\"#00cc96\",\"#ab63fa\",\"#FFA15A\",\"#19d3f3\",\"#FF6692\",\"#B6E880\",\"#FF97FF\",\"#FECB52\"],\"font\":{\"color\":\"#2a3f5f\"},\"hovermode\":\"closest\",\"hoverlabel\":{\"align\":\"left\"},\"paper_bgcolor\":\"white\",\"plot_bgcolor\":\"#E5ECF6\",\"polar\":{\"bgcolor\":\"#E5ECF6\",\"angularaxis\":{\"gridcolor\":\"white\",\"linecolor\":\"white\",\"ticks\":\"\"},\"radialaxis\":{\"gridcolor\":\"white\",\"linecolor\":\"white\",\"ticks\":\"\"}},\"ternary\":{\"bgcolor\":\"#E5ECF6\",\"aaxis\":{\"gridcolor\":\"white\",\"linecolor\":\"white\",\"ticks\":\"\"},\"baxis\":{\"gridcolor\":\"white\",\"linecolor\":\"white\",\"ticks\":\"\"},\"caxis\":{\"gridcolor\":\"white\",\"linecolor\":\"white\",\"ticks\":\"\"}},\"coloraxis\":{\"colorbar\":{\"outlinewidth\":0,\"ticks\":\"\"}},\"colorscale\":{\"sequential\":[[0.0,\"#0d0887\"],[0.1111111111111111,\"#46039f\"],[0.2222222222222222,\"#7201a8\"],[0.3333333333333333,\"#9c179e\"],[0.4444444444444444,\"#bd3786\"],[0.5555555555555556,\"#d8576b\"],[0.6666666666666666,\"#ed7953\"],[0.7777777777777778,\"#fb9f3a\"],[0.8888888888888888,\"#fdca26\"],[1.0,\"#f0f921\"]],\"sequentialminus\":[[0.0,\"#0d0887\"],[0.1111111111111111,\"#46039f\"],[0.2222222222222222,\"#7201a8\"],[0.3333333333333333,\"#9c179e\"],[0.4444444444444444,\"#bd3786\"],[0.5555555555555556,\"#d8576b\"],[0.6666666666666666,\"#ed7953\"],[0.7777777777777778,\"#fb9f3a\"],[0.8888888888888888,\"#fdca26\"],[1.0,\"#f0f921\"]],\"diverging\":[[0,\"#8e0152\"],[0.1,\"#c51b7d\"],[0.2,\"#de77ae\"],[0.3,\"#f1b6da\"],[0.4,\"#fde0ef\"],[0.5,\"#f7f7f7\"],[0.6,\"#e6f5d0\"],[0.7,\"#b8e186\"],[0.8,\"#7fbc41\"],[0.9,\"#4d9221\"],[1,\"#276419\"]]},\"xaxis\":{\"gridcolor\":\"white\",\"linecolor\":\"white\",\"ticks\":\"\",\"title\":{\"standoff\":15},\"zerolinecolor\":\"white\",\"automargin\":true,\"zerolinewidth\":2},\"yaxis\":{\"gridcolor\":\"white\",\"linecolor\":\"white\",\"ticks\":\"\",\"title\":{\"standoff\":15},\"zerolinecolor\":\"white\",\"automargin\":true,\"zerolinewidth\":2},\"scene\":{\"xaxis\":{\"backgroundcolor\":\"#E5ECF6\",\"gridcolor\":\"white\",\"linecolor\":\"white\",\"showbackground\":true,\"ticks\":\"\",\"zerolinecolor\":\"white\",\"gridwidth\":2},\"yaxis\":{\"backgroundcolor\":\"#E5ECF6\",\"gridcolor\":\"white\",\"linecolor\":\"white\",\"showbackground\":true,\"ticks\":\"\",\"zerolinecolor\":\"white\",\"gridwidth\":2},\"zaxis\":{\"backgroundcolor\":\"#E5ECF6\",\"gridcolor\":\"white\",\"linecolor\":\"white\",\"showbackground\":true,\"ticks\":\"\",\"zerolinecolor\":\"white\",\"gridwidth\":2}},\"shapedefaults\":{\"line\":{\"color\":\"#2a3f5f\"}},\"annotationdefaults\":{\"arrowcolor\":\"#2a3f5f\",\"arrowhead\":0,\"arrowwidth\":1},\"geo\":{\"bgcolor\":\"white\",\"landcolor\":\"#E5ECF6\",\"subunitcolor\":\"white\",\"showland\":true,\"showlakes\":true,\"lakecolor\":\"white\"},\"title\":{\"x\":0.05},\"mapbox\":{\"style\":\"light\"}}},\"xaxis\":{\"anchor\":\"y\",\"domain\":[0.0,1.0],\"title\":{\"text\":\"Date\"}},\"yaxis\":{\"anchor\":\"x\",\"domain\":[0.0,1.0],\"title\":{\"text\":\"count\"}},\"legend\":{\"tracegroupgap\":0},\"margin\":{\"t\":60},\"barmode\":\"relative\"},                        {\"responsive\": true}                    ).then(function(){\n",
       "                            \n",
       "var gd = document.getElementById('cea4445c-4599-4ba1-bc2c-fcf4ce0b586e');\n",
       "var x = new MutationObserver(function (mutations, observer) {{\n",
       "        var display = window.getComputedStyle(gd).display;\n",
       "        if (!display || display === 'none') {{\n",
       "            console.log([gd, 'removed!']);\n",
       "            Plotly.purge(gd);\n",
       "            observer.disconnect();\n",
       "        }}\n",
       "}});\n",
       "\n",
       "// Listen for the removal of the full notebook cells\n",
       "var notebookContainer = gd.closest('#notebook-container');\n",
       "if (notebookContainer) {{\n",
       "    x.observe(notebookContainer, {childList: true});\n",
       "}}\n",
       "\n",
       "// Listen for the clearing of the current output cell\n",
       "var outputEl = gd.closest('.output');\n",
       "if (outputEl) {{\n",
       "    x.observe(outputEl, {childList: true});\n",
       "}}\n",
       "\n",
       "                        })                };                });            </script>        </div>"
      ]
     },
     "metadata": {},
     "output_type": "display_data"
    }
   ],
   "source": [
    "fig1 = px.histogram(df1, x = 'Date')\n",
    "fig1.show()"
   ]
  },
  {
   "cell_type": "code",
   "execution_count": 24,
   "id": "19949b35",
   "metadata": {},
   "outputs": [
    {
     "data": {
      "text/plain": [
       "['homedepot_com_204074796.csv',\n",
       " '.DS_Store',\n",
       " 'lowes_com_3286026.csv',\n",
       " 'lowes_com_1003066162.csv',\n",
       " 'lowes_com_5000026209.csv',\n",
       " 'lowes_com_50280511.csv',\n",
       " 'lowes_com_3380314.csv',\n",
       " 'homedepot_com_319247071.csv',\n",
       " 'lowes_com_5001899855.csv']"
      ]
     },
     "execution_count": 24,
     "metadata": {},
     "output_type": "execute_result"
    }
   ],
   "source": [
    "import os\n",
    "file_path = '/Users/reneec/Adelphi University/text_analytics_corona/Lowes_Homedepot_Reviews'\n",
    "file_list = os.listdir(file_path)\n",
    "file_list"
   ]
  },
  {
   "cell_type": "code",
   "execution_count": 32,
   "id": "471d2b28",
   "metadata": {
    "scrolled": false
   },
   "outputs": [],
   "source": [
    "#df_all = df1.append(df2)"
   ]
  },
  {
   "cell_type": "code",
   "execution_count": 28,
   "id": "699e5371",
   "metadata": {},
   "outputs": [],
   "source": [
    "#df_all = df_all.append(df3)"
   ]
  },
  {
   "cell_type": "code",
   "execution_count": 29,
   "id": "f184fdde",
   "metadata": {},
   "outputs": [],
   "source": [
    "#df_all = df_all.append(df4)"
   ]
  },
  {
   "cell_type": "code",
   "execution_count": 30,
   "id": "cbc5d478",
   "metadata": {},
   "outputs": [],
   "source": [
    "#df_all = df_all.append(df5)"
   ]
  },
  {
   "cell_type": "code",
   "execution_count": 31,
   "id": "7d5ad819",
   "metadata": {},
   "outputs": [],
   "source": [
    "#df_all = df_all.append(df6)"
   ]
  },
  {
   "cell_type": "code",
   "execution_count": 34,
   "id": "409f85c8",
   "metadata": {},
   "outputs": [],
   "source": [
    "#df_all_homedepot = df7.append(df8)\n",
    "#df_all_homedepot"
   ]
  },
  {
   "cell_type": "code",
   "execution_count": 36,
   "id": "c0a0e187",
   "metadata": {},
   "outputs": [],
   "source": [
    "#fig_timeline = px.box(df2, y = 'Stars', title = \"Reviews over Time\")\n",
    "#fig_timeline.show()"
   ]
  },
  {
   "cell_type": "code",
   "execution_count": 37,
   "id": "8df16bdf",
   "metadata": {},
   "outputs": [],
   "source": [
    "from pandas import Series, DataFrame\n",
    "import scipy\n",
    "from scipy import stats"
   ]
  },
  {
   "cell_type": "markdown",
   "id": "ea866750",
   "metadata": {},
   "source": [
    "## Sentiment Analysis"
   ]
  },
  {
   "cell_type": "code",
   "execution_count": null,
   "id": "82b2be0c",
   "metadata": {},
   "outputs": [],
   "source": [
    "#conda install textblob -c conda-forge"
   ]
  },
  {
   "cell_type": "code",
   "execution_count": 41,
   "id": "4d52d48b",
   "metadata": {},
   "outputs": [
    {
     "data": {
      "text/plain": [
       "['It looks like I got the same mislabeled box as others that purchased these. The box states “slow close seat” and the lids are not slow close. I sent a message on American Standards web site a week ago with no response so far. And I bought four toilets! Hopefully they will respond soon!',\n",
       " 'While the Lowe’s product description does NOT say slow-close seat, the package/box does. I would appreciate accurate packaging; it’s a show of integrity. Otherwise, the unit was in perfect condition and works perfectly with easy installation. A good unit for anyone and middle-of-the-road styling. For any newbie to toilets: install is the easy part; getting your old toilet out (seized bolts, degraded seals making the water stain anything it touches, old wax and/or caulk) and cleaning up the mes...',\n",
       " 'I bought this because my research showed that American Standard made the best toilet for the price. The install did not go well, and I hired a plumber to do the work! But, my real complaint is that there is black soot leeching from the toilet seats/covers. Every time I go in the bathroom, I see more black soot. What is that?? I wipe it off with a tissue and when I return the next time, it’s back again.',\n",
       " 'Since this toilet was brand new, it was slow to flush. We had to hold the handle down a couple seconds to get it to flush all the way. It’s supposed to be able to flush elephant turds but, nah, it’s just a regular toilet. Once we’d had it for maybe a year, it started to intermittently run. It got worse and worse, then eventually we received a letter from the city, saying we appeared to have a water leak… somewhere. Well, that’s where. So, before we drained the reservoir, we read a bunch of diagnostic stuff online and the consensus was to replace the flush valve. So we ordered one and replaced it. It doesn’t leak anymore… for now. But check this out. The silicone seal under the flapper cover was blown up like a balloon in a spot, making it impossible to have sealed. I’ll try to add a photo of the crazy flush valve and flapper seal. So, keep in mind if you buy this toilet, 169 bucks sounds like a good deal, especially if it can flush a bucket of golf balls. But In a year you might need a plumber to replace the bloated flush valve to the tune of $250, plus all the water it wasted before you reached critical mass!',\n",
       " \"It says it's a slow close lid right on the box. It's not.\",\n",
       " 'I decided to replace my round toilet with oblong one and it’s actually more comfortable and this one is a bit higher. I’m happy with it and I’m glad I made the change.',\n",
       " 'It was easy to order on-line, and easy to pick-up.',\n",
       " 'The chair is a bit high. The elongated seat could be more comfortable. The flush is kind of weak. And I wish the seat was wood instead of plastic. The toilet overall is just ok.',\n",
       " 'Install was easy....everything provided and fit.',\n",
       " \"needed for installation, just like it says on the box, except the wax ring, the floor bolts, the tank to bowl hardware. The box looked to be undisturbed, but many items were missing. I had no time for messing around so I just bought the stuff I needed and got on with it, but come on; where's the quality control?\",\n",
       " 'I self-installed two model 734AA.101.020 toilets in my home to replace poorly performing 1.6 gpf builder grade toilets from 2001. Most important to know is that the American Standard Mainstream toilet does the job in one flush, and an added surprise bonus, it does so quietly. The boxes from Lowes were sealed, with no evidence of rough handling. Upon box opening, the toilet had not been damaged, and nothing was missing. Each box clearly states that it is furnished with a slow-close seat. The American Standard website for this model says the same... It is NOT furnished with that seat. Called the A.S. Customer Service line at 855-815-0004 and got the correct slow-close seats a week later. Easy fix! I throughly read the instructions, which in my opinion were well written and clearly illustrated. Over the years, I have installed more than a few new toilets... So this was not my first time doing this and I did not expect the install to go perfectly. The first toilet install was the learning curve. The second had the same identical issues, but went quicker because I knew to look for them... Two issues arose during both installs, that in my humble opinion, should not have happened. I took the extra step of trial fitting the bottom toilet half over the flange (sans wax ring), to check rough-in clearance... To uncover that the base rocked front to back. Sigh. Turns out that the toilet has an arc shaped \\'feature\\' in front of the outlet port that protrudes ~1/8\" below the perimeter base, causing the rocking. In my case, I chose to modify my tile floor, by very carefully removing tile in the arc shaped area of interference. Repeated the dry fit process, until the rocking stoped. Success! The base was now rock solid. Onto carefully installing the tank... Which at first try, leaked under one of the rubber washer/tank bolt. After cleaning out/drying the tank, I discovered porcelain burrs and protruding sharp edges at both of the two tank bolt holes... The very spot where the rubber washer is supposed to seal. Sigh! At this point, I chose to see if I could carefully deburr and remove the sharp edges inside the tank at these two bolt holes... Long story short, it worked. Re-installed the tank without leaks. Hopefully, American Standard reads these reviews and ultimately fixes the quality of their products. Ultimately, I like these: The install issues were not that difficult to overcome. The toilets work way better than what they replaced. To boot, American Std Customer Service reps were easy to work with... Nice.',\n",
       " 'Not smooth white porcelain around the bowl. Flushes well though. Lowes only gave 10% off. Not Feasible to return an installed toilet. Unhappy customer. Won’t buy this brand or shop at Lowe’s anymore. Toilet works ok though, just bad QC all around. There’s a small gray mark in the bowl itself too.',\n",
       " \"First, I want to mention I had a *horrible* experience with Lowes Installation services, but my review is for the toilet only. As just mentioned, I paid for Lowes installation and the installer was fine once he showed up. The 'complete toilet in a box' was fine with everything included. I like the extra height (about 1 inch higher than standard) and it is (so far) functioning well after a month of daily use. No leaks or cracks. The plumber had no issues. He recommended a second wax seal which he provided for free stating that the one included was too thin and would not last that long. This toilet has a strong flush and I'm happy to see that the interior fill valve is quiet and has an 'old style' flapper not the piston design which American Standard has a class action lawsuit due to a leaking seal. Maybe they changed the design and I got lucky because I did not know this until after I researched AS toilets. If this lasts, it was a good purchase at the price and I will recommend it after a month of daily use. Also, no slow close seat was included. That's not a deal breaker for me, but it was stated on the box. I will not bother to contact AS for a replacement.\",\n",
       " 'The toilet itself is excellent. Great height, pretty quiet operation, and easy install. The only negative was that wax ring was packed in a way that it came damaged. I was planning on a temporary install and reinstalling with a new ring anyway, but the included ring would never last long.',\n",
       " 'Toilet itself works well enough, but it did NOT come with a slow-close lid. The box says it right on there. At this price point, having to pay $30-$40 more for the correct lid puts it in the range of much nicer toilets I could have purchased. This coupled with other reviews tells me that there are several QA issues at American Standard and I will not be purchasing this brand anymore.',\n",
       " \"Recently bought two of this style of American Standard toilets to install in my home. I was very unhappy to discover that the hardware necessary to attach the toilet to the base was incomplete. My handiman had to return to Lowe's to purchase the necessary bolts, washers, etc., which American Standard sells as an accessory to their toilets. That second trip to Lowe's doubled what I was charged to install the toilets. What a stupid design flaw. Buy Kohler.\",\n",
       " 'I like this toilet it is very sleek, saves on water and is taller than my old one which was too low. The bathroom seemed to have been designed for children. It is chair height which is great for older people like myself.',\n",
       " 'Hard to understand the negative reviews. Nowhere did it say a \"slow close lid.\" Many toilets don\\'t even come with a seat. If you want a wood seat, buy one. The flow is strong and efficient. I\\'ve bought/installed many toilets and for the money, this is one of the best.',\n",
       " 'Good height/elongated seat. More compact than a standard toilet. Flushes with much less water, which can be a good and a bad thing....',\n",
       " 'Toilet is okay, but did not come with the slow close lid',\n",
       " 'It’s hard shopping for a toilet. It takes so much effort and time before you realize if you’ve made a good or bad decision. And no matter what toilet you see online at any price range you’ll find that ONE person who claims its a piece of crap. (Pun intended) I can honestly say I have no complaints about this toilet. I hired a handyman to install 2 of them in my house and he said I should buy that extra thick wax seal, but he end up not needing it because the seal that comes with this toilet it really good. One of the toilets was missing some seals for the bolts, and after we installed both toilets, one of them had a tiny leak coming out from one of the two bolts that holds the tank to the bowl. Ended up being a small imperfection in the porcelain, a little burr right where the washer needs to press down to seal it. We just scraped it off with a screwdriver and then it worked fine. So all in all I’m not raving and saying this is some amazing quality toilet, but it does exactly what I need it to do . A solid four stars.',\n",
       " 'Good product that is better than your standard toilet.',\n",
       " \"Good toilet. unfortunately the seat isn't soft close as described on box.\",\n",
       " 'I love this toilet. I know it is only about two inches taller than the old one, but it makes a huge difference for me. It is well made and flushes like a dream. I am very pleased with this purchase.',\n",
       " 'I like the chair height because the dramatic difference when sitting and standing and the elongated bowl is great for the guys. The plastic seat is not of the same \"caliber\" of \"quality as the rest of the toilet prompting the buyer to come back to purchase another toilet seat of better quality. It would have been nice to have that option even at additional reasonable cost and most likely self-closing.',\n",
       " 'Works great - no trouble yet with any clogging issues but not expecting any as I have purchased American Standard in the past and have not had any problems. The only thing I would change if I could would be to have the seat a little wider for additional comfort, similar to Kohler. I would recommend and I would buy again. (have only had installed and used for a couple weeks at this point)',\n",
       " \"After the toilet was installed we noticed it is not a soft close seat as it says right on the box. The seat it has is rather uncomfortable and is not slow close at all. Don't spend money on this if you want a slow close seat because you will have to go buy a 40 to 50 dollar seat on top of this. Other then that it works fine as any normal toilet.\",\n",
       " 'Open package ready to install and was missing one rubber gasket One Flat washer after assembled. Tank was leaking on the two sides where the screws go through the tank no matter what I did I could not get it stopped leaking. I had to modify a rubber exhaust mount for a car to make it stop leaking. Instructions were hard to see which hardward goes where for tank.The height is average. Cheap & old toilets are low. I should of spent another $80 to get a better one better but the color matches my tub.',\n",
       " \"I purchased two of these toilets. One for my mothers home and one for my home. I was impressed that they came with a seat and a wax ring for installation. Usually I have had to purchase these items separately. My concern was the toilets wouldn't function as satisfactorily as I would want. I was pleasantly surprised that function extremely well. I was very happy about that. Because the price was so low I had my concerns about quality. The quality was very good.\",\n",
       " 'The toilet was easy to install after having issues removing the old one. I like the height compared to the old smaller toilet we had.',\n",
       " 'Good product that is better than your standard toilet.',\n",
       " 'It was easy to put together. It has a powerful flush and it’s very quiet.',\n",
       " \"We got a toilet at Lowes. I'm listing this because there are so many brands to choose from and my choice is made after research and reading reviews and by my past experience (I've changed my share in my life). People seem to hate some and love others, but I try to see what's available and seems to be the best deal. Some give you 1.6 gallons per flush but ours gives you 1.28. It's an American Standard Mainstream (elongated) for $159. For $149 you can get the same toilet but round. It works good (some competing toilets had pretty pathetic flushing). I timed it and from flush to full, it takes 20 seconds (that surprised me). We always replace the cheap plastic seats with white wood seats... If you tighten all nuts with another nut tightened against them, they never come loose (I do this with 3 or 4 nuts each time)... that is especially important when attaching the seat. Seats always like to come loose. Use 2 rubber washers per bolt to avoid cracking it (even with 2 rubber washers, I'm careful not to over-tighten). I always make sure that the rubber washers are directly against the china. On the 2 bolts that attach it to the floor, I stack 2 rubber washers. The middle of each rubber washer should be just big enough to fit around the bolt. The outside diameter of each rubber washer should be big enough to completely cover the hole, but not too big that it can't lay flat (some areas give you much less room to work with). I don't use ones that are bigger than needed. On the bolts that bolt it to the floor, I make sure that the washers are small enough to be hidden under the white screw on caps. I cut each bolt short enough so they can screw on clear down to the china. I only use stainless steel washers and bolts and nuts (the stainless steel washers go on top of the rubber washers). In the tank you can't use a washer... just the bolt head on a rubber washer. It's surprising how long the rubber washers last (I never have to change them). In some applications, rubber doesn't last very long at all.\",\n",
       " \"The lid doesn't work like it says it does, but I don't care. This toilet is awesome! It works really well, and I have given it some challenges for sure. It's great.\",\n",
       " 'No disappointments here. This well-made toilet comes with everything except the braided water feed hose. The installation was easy. No problems so far. The instruction manual could be more specific, but a call to the store manager, Mike in Ocala, FL, answered all related questions to make this a great purchase.',\n",
       " nan,\n",
       " 'This toilet works well, but when you sit the tank lid bangs. I added some bumper pads between the lid and the tank and this seems to help.',\n",
       " 'Good Enough, an inch too tall and the toilet seat is really cheap plastic. The toilet itself was an easy install and doesnt have any problems at all. Sturdy and doesnt clog easily. Cheap but you will probably want a different seat and if you are shorter than 6ft you probably wont like sitting on it because of the height.',\n",
       " 'Love it',\n",
       " 'This toilet seems just fine. The height is good and it flushes quickly and easily.',\n",
       " 'One of the screws that connect toilet bowl to back tank broke in two and flooded couple of rooms. When we tried to find another, we found out it was not a standard screw snd no one in Metairie area stocked them. We had to buy a stainless screw to “rig” it! Very disappointing.',\n",
       " 'I wanted to upgrade to an elongated toilet and American Standard came in second to Koehler. I purchased three of these and so far so good! The water efficiency is great. It flushes smoothly, the seat is sturdy, and the appearance looks good, not cheap.',\n",
       " 'Well built and easy to assemble. Installation was a breeze and adjusting the water level is simple.',\n",
       " 'This toilet was difficult to install from the time I pulled it out the box. The bolt for the base were much to short for my install so had to go purchase longer bolts. When I connected the base to the tank and turned the water on, water was leaking by the rubber washers. I installed the whole toilet per instructions. After removing the tank and inspected the surface area around the holes, the interior of the tank was extremely rough and uneven. I took a putty knife and removed what I could. I installed the tank again and it leaked again. I removed the tank and proceeded to sand the inside of the tank until the surface was smooth. I installed the tank again and was finally able to remedy the leak. I also Added teflon tape around the bolt to make the bolt and rubber washer have better contact. This was by far the most difficult toilet I have ever installed.',\n",
       " 'Flushing system not as good as previous model from two years earlier',\n",
       " nan,\n",
       " '(1) need to get this fixed its wasting LOT of water (2) Bought 2 others Toilets,that the BOX say (Slow Closing) NOT Those Two,False Advertence ?.',\n",
       " 'Looks good, heavy 103lbs. heavy for one person, no room for 2.',\n",
       " 'I always read the negative reviews first and for toilets they always seem to be the same leaks or cracks. Anyway, I bought this one as it was middle of the road on price and I wanted a high elongated to replace my short round one. Upon getting it home, I inspected it for cracks and found none. Installation was fairly easy until I put the tank on. The right side bolt was leaking. After draining it and removing the bolt, I saw a small \"glob\" of porcelain next to the hole. This apparently was causing the rubber washer to not sit flush and seal. I used a dental tool to scrape it down and all was good after that. I was also disappointed at how low the tank overflow sits. The tank barely fills half way and dos not let all of the water out unless you hold the handle down. However, it does seem to flush sufficiently, so perhaps the design is ok. Time will tell. They do make tube extensions to allow filling the tank more, but that will be a last resort. Overall, I am pleased with it. I dropped one star for the QC on the tank and for the short overflow tube. They could have made it longer and let the customer decide how much water to use.',\n",
       " 'Water saver, flush is strong but quiet. This is ADA compliant so the height is just right too.',\n",
       " \"Installed this item in my master bath. In my other bath, I have a higher end American Standard. The one that has a picture of a bucket of golf balls on the box. This lower end American standard doesn't compare to the higher end model. Had to return first one because when I got home....I noticed a chip in the bowl right before I installed it. Second had a few blemishes but none inside the bowl. Seems these are lower end toilets. I just installed so can't comment on the performance yet. I am sure it will work fine. No soft-close lid either compared to higher end models. Others comment that is states on the box about the slow close seat, but it didn't on my box, so I will deal with that. I am not hear to bash American Standard....just pay the extra money and get the Champion version (look for the golf balls on the box!)\",\n",
       " 'I hate this toilet. It\\'s a poor design VERY uncomfortable seating. When you flush it, you can\\'t even tell if the water went out properly, there is \"no sound\". it\\'s weird, uncomfortable, cheap plastic seat cover that will obviously with anyone over 120 lbs. Don\\'t waste your time.',\n",
       " 'The extra lenght and width keep me from sliding off.',\n",
       " 'Very nice. Easy installation. Everything was included.',\n",
       " 'Should have wing nuts on the tank bolts. Our toilet was missing the rubber washer for tank. Bolts at bottom are too long to attach the plastic bolt covers. We will have to cut. Bad design all around. Very disappointed.',\n",
       " 'Excellent installation, friendly tech, clean install.',\n",
       " 'The install was simple, however there are two glaring issues. First, the seat is NOT a soft close toilet seat. Second, the top portion does not lock into place with the bottom portion, leaving it unstable and prone to leaking. I just purchased this thing and will have to pay a professional to come out and manufacture a solution. I couldnt be more disappointed.',\n",
       " nan,\n",
       " \"Liked that it was 2 pieces, made it easy to move. I would have liked to have known before hand that using shims are common. When we put it on the wax ring, it wobbled a lot and we thought we screwed it up. After putting a few shims in, it's level and works great. Also, measure the distance of the tube you need. We winged it and ended up having to get back to the store like 3 times.\",\n",
       " 'Flushes quiet and like it because it’s taller. Had knee replacements so height helps',\n",
       " 'Toilet is quiet in filling the tank. Has that “gulp” sound at end of flush but is efficient. My toilet came with a “slammer” seat but advertised on box was to have a slow close seat. I contacted Customer Service after I registered it and within 24 hrs received replay that they would send a replacement. Got new seat a week later. All is just as it should be. Recommended purchase.',\n",
       " 'The toilet was easy to install for me. I gave it a four-star because someone put the wrong bolts in the box. For tank to bowl. So I had to go to the store and buy some bolts to finish installing the toilet. Everything else is great. It has a strong flush. I did not have to adjust the flapper. The toilet seat is a little flimsy. I use my toilet seat because I had already upgraded it.',\n",
       " \"We researched and knew the product. It's very reliable and fits the needs. No soft-close lid, though, as the box says.\",\n",
       " nan,\n",
       " nan,\n",
       " \"would have rated it a five but the advertised soft close seat was not included and i was fully expecting it to be in the box, but it wasan't . other wise i love it. will be contacting you later about this one and the one i bought a couple of weeks earlier.better get readybecause i want my 2 soft close seats as advertised on the boxes.!\",\n",
       " 'Looks great & works well - easy to install - perfect for our bathroom',\n",
       " 'Perfect for smaller bathrooms. Looks great and works great.',\n",
       " 'Easy to Install I love American Standard Products!!',\n",
       " nan,\n",
       " nan,\n",
       " nan,\n",
       " 'Just bought this unit, came home and installed it. The flush valve on this unit does not have adequate force to flush waste without having to flush several times thus defeating the water saving feature. The supplied seat is not self close. Very disappointed Will need to deinstall and take it back.',\n",
       " 'We purchased this toilet as the brand is a good brand and it was a water saver toilet but seeing as we have to flush it twice to get it to go down is not saving any water for us! I hate to see my water bill since installing this toilet! The only positive to this toilet is the height of it, that is it!',\n",
       " \"Installed this about 8 months ago. Zero issues until this weekend. Water is leaking out of the bottom each time it's flushed. I'm pretty sure it's the ring I used, but will update review after I swap that out. If that fixes the leaking, I have had zero issues with it and it's in the kid's bathroom.\",\n",
       " 'Nice affordable toilet. One box was broken so we had to get a new one. Easy to install. The seat is a bit cheap and is not a soft close so you may want to consider a more expensive toilet if that’s important to you. If you buy a new seat, the price is comparable to more expensive options.',\n",
       " nan,\n",
       " 'Looks okay but the seat is thin plastic and not comfy. I wish I had made a better choice. It is in the guest bathroom, so I suppose it is okay.',\n",
       " 'It is very small. When I replace it, I will come in and pick one out. Never buy on line!!',\n",
       " nan,\n",
       " 'Nice toilet. Chair height and oval bowl. Missing one of the rubber seals for the tank bolts. Really needs a flush mounted flange or thin flange. Maybe it would have been a better fit for new construction rather than a replacement.',\n",
       " nan,\n",
       " 'The flush valve seal was unbelievably missing, obviously a factory installation major mistake. If the seal had not been looked for prior to turning on the water source it could have caused major flooding.',\n",
       " \"Everything went 100% with installation. Couldn't believe how little water it uses. The only thing i expected was i was under the impression it came with a slow close seat and it only had a reg seat\",\n",
       " 'Thank you for building such a great toliet. We were having problems with our prior toliet. We brought this toliet and it work greats!!! No clogging, easy to instal as well!! Thank you again!!!!',\n",
       " nan,\n",
       " nan,\n",
       " 'Product is replacement during renovation. Fits well In new bath and looks good and wife pleased other than some parts had to be replaced as it did not have spring slow moving lid.',\n",
       " 'Ready to install. Just put the back on and onto the floor! Oval seat toilets are definitely different sizes so make sure it’s the actual seat size you were looking for.',\n",
       " 'The single flush works smoothly with little effort. My only issue so far is that the water splashes back on you. I will have to find out about making an adjustment.',\n",
       " 'Quality - easy to install product; came with all parts required. Nice ride height! Chose to use a rubber ring seal instead of the supplied wax ring.',\n",
       " nan,\n",
       " nan,\n",
       " 'Very nice replacement. I got one that is a little bit taller then the one we removed. That is a nice adjustment. Very to install myself.',\n",
       " 'This is the third American Standard toilet that we have installed and will continue to use as our \"go to\". Love the quality and value.',\n",
       " 'It was reasonably priced and seems good quality. Well worth the install price to not have to do it myself. Very pleased with it all.',\n",
       " \"if this is chair height then they must have measured a child's chair. replaced an old one wanting one higher, this one isn't.\",\n",
       " 'This brand has a good review. It’s perfect for my small bathroom. Great price. So far it’s been installed and working well .',\n",
       " 'I have aways had AD toilets there affordable you can always get parts and they have been around for a long time.',\n",
       " 'What I like is that its water efficient compared to our old one. Wax ring is thick, dont need to buy another.',\n",
       " 'connected the toilet only to find a defective flush valve. I had to get another one, very frustrating.',\n",
       " 'I love the toilet, definitely plan on replacing more in my home. Easy to flush and it’s a nice look.',\n",
       " 'Love this tolet as it looks good and super easy to install. Comes with everything you need.',\n",
       " \"It's a good toilet for a second bathroom, we had it replace the old one in our basement.\",\n",
       " 'Easy to install and all measures are as listed. Works and looks great and saves water.',\n",
       " 'We liked the style because it matches what we had begun remodeling in our bathrooms',\n",
       " 'Easy to assemble and install - works great and is efficient regarding wayer use.',\n",
       " 'Weak flush, all waste is not always removed. Sometimes requires two flushes.',\n",
       " 'Loving new sleek, tall, efficient toilet. Highly recommend this one.',\n",
       " 'Can’t beat American Standard products. Great height and width for men',\n",
       " 'Best standard ADA Toilet very good height and very good cost as well.',\n",
       " 'Says slow close seat and it definitely isn’t, should b corrected',\n",
       " 'Great height and flushing capability- never had a problem',\n",
       " 'Nice looking good price and all the parts were there.',\n",
       " 'Nice style, good height, great installation by Lowes',\n",
       " nan,\n",
       " nan,\n",
       " nan,\n",
       " nan,\n",
       " nan,\n",
       " nan,\n",
       " nan,\n",
       " nan,\n",
       " nan,\n",
       " nan,\n",
       " nan,\n",
       " nan,\n",
       " nan,\n",
       " nan,\n",
       " nan,\n",
       " nan,\n",
       " nan,\n",
       " nan,\n",
       " nan,\n",
       " nan,\n",
       " nan,\n",
       " nan,\n",
       " nan,\n",
       " nan,\n",
       " nan,\n",
       " nan,\n",
       " nan,\n",
       " nan,\n",
       " nan,\n",
       " nan,\n",
       " nan,\n",
       " nan,\n",
       " nan,\n",
       " nan,\n",
       " nan,\n",
       " nan,\n",
       " nan,\n",
       " nan,\n",
       " nan,\n",
       " nan,\n",
       " nan,\n",
       " nan,\n",
       " nan,\n",
       " nan,\n",
       " nan,\n",
       " nan,\n",
       " nan,\n",
       " nan,\n",
       " nan,\n",
       " nan,\n",
       " nan,\n",
       " nan,\n",
       " nan,\n",
       " nan,\n",
       " nan,\n",
       " nan,\n",
       " nan,\n",
       " nan,\n",
       " nan,\n",
       " nan,\n",
       " nan,\n",
       " nan,\n",
       " nan,\n",
       " nan,\n",
       " nan,\n",
       " nan,\n",
       " nan,\n",
       " nan,\n",
       " nan,\n",
       " nan,\n",
       " nan,\n",
       " nan,\n",
       " nan,\n",
       " nan,\n",
       " nan,\n",
       " nan,\n",
       " nan,\n",
       " nan,\n",
       " nan,\n",
       " nan,\n",
       " nan,\n",
       " nan,\n",
       " nan,\n",
       " nan,\n",
       " nan,\n",
       " nan,\n",
       " nan,\n",
       " nan,\n",
       " nan,\n",
       " nan,\n",
       " nan,\n",
       " nan,\n",
       " nan,\n",
       " nan,\n",
       " nan,\n",
       " nan,\n",
       " nan,\n",
       " nan,\n",
       " nan,\n",
       " nan,\n",
       " nan,\n",
       " nan,\n",
       " nan,\n",
       " nan,\n",
       " nan,\n",
       " nan,\n",
       " nan,\n",
       " nan,\n",
       " nan,\n",
       " nan,\n",
       " nan,\n",
       " nan,\n",
       " nan,\n",
       " nan,\n",
       " nan,\n",
       " nan,\n",
       " nan,\n",
       " nan,\n",
       " nan,\n",
       " nan,\n",
       " nan,\n",
       " nan,\n",
       " nan,\n",
       " nan,\n",
       " nan,\n",
       " nan,\n",
       " nan,\n",
       " nan,\n",
       " nan,\n",
       " nan,\n",
       " nan,\n",
       " nan,\n",
       " nan,\n",
       " nan,\n",
       " nan,\n",
       " nan,\n",
       " nan,\n",
       " nan,\n",
       " nan,\n",
       " nan,\n",
       " nan,\n",
       " nan,\n",
       " nan,\n",
       " nan,\n",
       " nan,\n",
       " nan,\n",
       " nan,\n",
       " nan,\n",
       " nan,\n",
       " nan,\n",
       " nan,\n",
       " nan,\n",
       " nan,\n",
       " nan,\n",
       " nan]"
      ]
     },
     "execution_count": 41,
     "metadata": {},
     "output_type": "execute_result"
    }
   ],
   "source": [
    "col_list = df1.Review.values.tolist()\n",
    "col_list"
   ]
  },
  {
   "cell_type": "code",
   "execution_count": 45,
   "id": "fdb81b10",
   "metadata": {
    "scrolled": true
   },
   "outputs": [
    {
     "name": "stdout",
     "output_type": "stream",
     "text": [
      "Resulting Bigrams : [('It', 'looks'), ('looks', 'like'), ('like', 'I'), ('I', 'got'), ('got', 'the'), ('the', 'same'), ('same', 'mislabeled'), ('mislabeled', 'box'), ('box', 'as'), ('as', 'others'), ('others', 'that'), ('that', 'purchased'), ('purchased', 'these.'), ('these.', 'The'), ('The', 'box'), ('box', 'states'), ('states', '“slow'), ('“slow', 'close'), ('close', 'seat”'), ('seat”', 'and'), ('and', 'the'), ('the', 'lids'), ('lids', 'are'), ('are', 'not'), ('not', 'slow'), ('slow', 'close.'), ('close.', 'I'), ('I', 'sent'), ('sent', 'a'), ('a', 'message'), ('message', 'on'), ('on', 'American'), ('American', 'Standards'), ('Standards', 'web'), ('web', 'site'), ('site', 'a'), ('a', 'week'), ('week', 'ago'), ('ago', 'with'), ('with', 'no'), ('no', 'response'), ('response', 'so'), ('so', 'far.'), ('far.', 'And'), ('And', 'I'), ('I', 'bought'), ('bought', 'four'), ('four', 'toilets!'), ('toilets!', 'Hopefully'), ('Hopefully', 'they'), ('they', 'will'), ('will', 'respond'), ('respond', 'soon!'), ('While', 'the'), ('the', 'Lowe’s'), ('Lowe’s', 'product'), ('product', 'description'), ('description', 'does'), ('does', 'NOT'), ('NOT', 'say'), ('say', 'slow-close'), ('slow-close', 'seat,'), ('seat,', 'the'), ('the', 'package/box'), ('package/box', 'does.'), ('does.', 'I'), ('I', 'would'), ('would', 'appreciate'), ('appreciate', 'accurate'), ('accurate', 'packaging;'), ('packaging;', 'it’s'), ('it’s', 'a'), ('a', 'show'), ('show', 'of'), ('of', 'integrity.'), ('integrity.', 'Otherwise,'), ('Otherwise,', 'the'), ('the', 'unit'), ('unit', 'was'), ('was', 'in'), ('in', 'perfect'), ('perfect', 'condition'), ('condition', 'and'), ('and', 'works'), ('works', 'perfectly'), ('perfectly', 'with'), ('with', 'easy'), ('easy', 'installation.'), ('installation.', 'A'), ('A', 'good'), ('good', 'unit'), ('unit', 'for'), ('for', 'anyone'), ('anyone', 'and'), ('and', 'middle-of-the-road'), ('middle-of-the-road', 'styling.'), ('styling.', 'For'), ('For', 'any'), ('any', 'newbie'), ('newbie', 'to'), ('to', 'toilets:'), ('toilets:', 'install'), ('install', 'is'), ('is', 'the'), ('the', 'easy'), ('easy', 'part;'), ('part;', 'getting'), ('getting', 'your'), ('your', 'old'), ('old', 'toilet'), ('toilet', 'out'), ('out', '(seized'), ('(seized', 'bolts,'), ('bolts,', 'degraded'), ('degraded', 'seals'), ('seals', 'making'), ('making', 'the'), ('the', 'water'), ('water', 'stain'), ('stain', 'anything'), ('anything', 'it'), ('it', 'touches,'), ('touches,', 'old'), ('old', 'wax'), ('wax', 'and/or'), ('and/or', 'caulk)'), ('caulk)', 'and'), ('and', 'cleaning'), ('cleaning', 'up'), ('up', 'the'), ('the', 'mes...'), ('I', 'bought'), ('bought', 'this'), ('this', 'because'), ('because', 'my'), ('my', 'research'), ('research', 'showed'), ('showed', 'that'), ('that', 'American'), ('American', 'Standard'), ('Standard', 'made'), ('made', 'the'), ('the', 'best'), ('best', 'toilet'), ('toilet', 'for'), ('for', 'the'), ('the', 'price.'), ('price.', 'The'), ('The', 'install'), ('install', 'did'), ('did', 'not'), ('not', 'go'), ('go', 'well,'), ('well,', 'and'), ('and', 'I'), ('I', 'hired'), ('hired', 'a'), ('a', 'plumber'), ('plumber', 'to'), ('to', 'do'), ('do', 'the'), ('the', 'work!'), ('work!', 'But,'), ('But,', 'my'), ('my', 'real'), ('real', 'complaint'), ('complaint', 'is'), ('is', 'that'), ('that', 'there'), ('there', 'is'), ('is', 'black'), ('black', 'soot'), ('soot', 'leeching'), ('leeching', 'from'), ('from', 'the'), ('the', 'toilet'), ('toilet', 'seats/covers.'), ('seats/covers.', 'Every'), ('Every', 'time'), ('time', 'I'), ('I', 'go'), ('go', 'in'), ('in', 'the'), ('the', 'bathroom,'), ('bathroom,', 'I'), ('I', 'see'), ('see', 'more'), ('more', 'black'), ('black', 'soot.'), ('soot.', 'What'), ('What', 'is'), ('is', 'that??'), ('that??', 'I'), ('I', 'wipe'), ('wipe', 'it'), ('it', 'off'), ('off', 'with'), ('with', 'a'), ('a', 'tissue'), ('tissue', 'and'), ('and', 'when'), ('when', 'I'), ('I', 'return'), ('return', 'the'), ('the', 'next'), ('next', 'time,'), ('time,', 'it’s'), ('it’s', 'back'), ('back', 'again.'), ('Since', 'this'), ('this', 'toilet'), ('toilet', 'was'), ('was', 'brand'), ('brand', 'new,'), ('new,', 'it'), ('it', 'was'), ('was', 'slow'), ('slow', 'to'), ('to', 'flush.'), ('flush.', 'We'), ('We', 'had'), ('had', 'to'), ('to', 'hold'), ('hold', 'the'), ('the', 'handle'), ('handle', 'down'), ('down', 'a'), ('a', 'couple'), ('couple', 'seconds'), ('seconds', 'to'), ('to', 'get'), ('get', 'it'), ('it', 'to'), ('to', 'flush'), ('flush', 'all'), ('all', 'the'), ('the', 'way.'), ('way.', 'It’s'), ('It’s', 'supposed'), ('supposed', 'to'), ('to', 'be'), ('be', 'able'), ('able', 'to'), ('to', 'flush'), ('flush', 'elephant'), ('elephant', 'turds'), ('turds', 'but,'), ('but,', 'nah,'), ('nah,', 'it’s'), ('it’s', 'just'), ('just', 'a'), ('a', 'regular'), ('regular', 'toilet.'), ('toilet.', 'Once'), ('Once', 'we’d'), ('we’d', 'had'), ('had', 'it'), ('it', 'for'), ('for', 'maybe'), ('maybe', 'a'), ('a', 'year,'), ('year,', 'it'), ('it', 'started'), ('started', 'to'), ('to', 'intermittently'), ('intermittently', 'run.'), ('run.', 'It'), ('It', 'got'), ('got', 'worse'), ('worse', 'and'), ('and', 'worse,'), ('worse,', 'then'), ('then', 'eventually'), ('eventually', 'we'), ('we', 'received'), ('received', 'a'), ('a', 'letter'), ('letter', 'from'), ('from', 'the'), ('the', 'city,'), ('city,', 'saying'), ('saying', 'we'), ('we', 'appeared'), ('appeared', 'to'), ('to', 'have'), ('have', 'a'), ('a', 'water'), ('water', 'leak…'), ('leak…', 'somewhere.'), ('somewhere.', 'Well,'), ('Well,', 'that’s'), ('that’s', 'where.'), ('where.', 'So,'), ('So,', 'before'), ('before', 'we'), ('we', 'drained'), ('drained', 'the'), ('the', 'reservoir,'), ('reservoir,', 'we'), ('we', 'read'), ('read', 'a'), ('a', 'bunch'), ('bunch', 'of'), ('of', 'diagnostic'), ('diagnostic', 'stuff'), ('stuff', 'online'), ('online', 'and'), ('and', 'the'), ('the', 'consensus'), ('consensus', 'was'), ('was', 'to'), ('to', 'replace'), ('replace', 'the'), ('the', 'flush'), ('flush', 'valve.'), ('valve.', 'So'), ('So', 'we'), ('we', 'ordered'), ('ordered', 'one'), ('one', 'and'), ('and', 'replaced'), ('replaced', 'it.'), ('it.', 'It'), ('It', 'doesn’t'), ('doesn’t', 'leak'), ('leak', 'anymore…'), ('anymore…', 'for'), ('for', 'now.'), ('now.', 'But'), ('But', 'check'), ('check', 'this'), ('this', 'out.'), ('out.', 'The'), ('The', 'silicone'), ('silicone', 'seal'), ('seal', 'under'), ('under', 'the'), ('the', 'flapper'), ('flapper', 'cover'), ('cover', 'was'), ('was', 'blown'), ('blown', 'up'), ('up', 'like'), ('like', 'a'), ('a', 'balloon'), ('balloon', 'in'), ('in', 'a'), ('a', 'spot,'), ('spot,', 'making'), ('making', 'it'), ('it', 'impossible'), ('impossible', 'to'), ('to', 'have'), ('have', 'sealed.'), ('sealed.', 'I’ll'), ('I’ll', 'try'), ('try', 'to'), ('to', 'add'), ('add', 'a'), ('a', 'photo'), ('photo', 'of'), ('of', 'the'), ('the', 'crazy'), ('crazy', 'flush'), ('flush', 'valve'), ('valve', 'and'), ('and', 'flapper'), ('flapper', 'seal.'), ('seal.', 'So,'), ('So,', 'keep'), ('keep', 'in'), ('in', 'mind'), ('mind', 'if'), ('if', 'you'), ('you', 'buy'), ('buy', 'this'), ('this', 'toilet,'), ('toilet,', '169'), ('169', 'bucks'), ('bucks', 'sounds'), ('sounds', 'like'), ('like', 'a'), ('a', 'good'), ('good', 'deal,'), ('deal,', 'especially'), ('especially', 'if'), ('if', 'it'), ('it', 'can'), ('can', 'flush'), ('flush', 'a'), ('a', 'bucket'), ('bucket', 'of'), ('of', 'golf'), ('golf', 'balls.'), ('balls.', 'But'), ('But', 'In'), ('In', 'a'), ('a', 'year'), ('year', 'you'), ('you', 'might'), ('might', 'need'), ('need', 'a'), ('a', 'plumber'), ('plumber', 'to'), ('to', 'replace'), ('replace', 'the'), ('the', 'bloated'), ('bloated', 'flush'), ('flush', 'valve'), ('valve', 'to'), ('to', 'the'), ('the', 'tune'), ('tune', 'of'), ('of', '$250,'), ('$250,', 'plus'), ('plus', 'all'), ('all', 'the'), ('the', 'water'), ('water', 'it'), ('it', 'wasted'), ('wasted', 'before'), ('before', 'you'), ('you', 'reached'), ('reached', 'critical'), ('critical', 'mass!'), ('It', 'says'), ('says', \"it's\"), (\"it's\", 'a'), ('a', 'slow'), ('slow', 'close'), ('close', 'lid'), ('lid', 'right'), ('right', 'on'), ('on', 'the'), ('the', 'box.'), ('box.', \"It's\"), (\"It's\", 'not.'), ('I', 'decided'), ('decided', 'to'), ('to', 'replace'), ('replace', 'my'), ('my', 'round'), ('round', 'toilet'), ('toilet', 'with'), ('with', 'oblong'), ('oblong', 'one'), ('one', 'and'), ('and', 'it’s'), ('it’s', 'actually'), ('actually', 'more'), ('more', 'comfortable'), ('comfortable', 'and'), ('and', 'this'), ('this', 'one'), ('one', 'is'), ('is', 'a'), ('a', 'bit'), ('bit', 'higher.'), ('higher.', 'I’m'), ('I’m', 'happy'), ('happy', 'with'), ('with', 'it'), ('it', 'and'), ('and', 'I’m'), ('I’m', 'glad'), ('glad', 'I'), ('I', 'made'), ('made', 'the'), ('the', 'change.'), ('It', 'was'), ('was', 'easy'), ('easy', 'to'), ('to', 'order'), ('order', 'on-line,'), ('on-line,', 'and'), ('and', 'easy'), ('easy', 'to'), ('to', 'pick-up.'), ('The', 'chair'), ('chair', 'is'), ('is', 'a'), ('a', 'bit'), ('bit', 'high.'), ('high.', 'The'), ('The', 'elongated'), ('elongated', 'seat'), ('seat', 'could'), ('could', 'be'), ('be', 'more'), ('more', 'comfortable.'), ('comfortable.', 'The'), ('The', 'flush'), ('flush', 'is'), ('is', 'kind'), ('kind', 'of'), ('of', 'weak.'), ('weak.', 'And'), ('And', 'I'), ('I', 'wish'), ('wish', 'the'), ('the', 'seat'), ('seat', 'was'), ('was', 'wood'), ('wood', 'instead'), ('instead', 'of'), ('of', 'plastic.'), ('plastic.', 'The'), ('The', 'toilet'), ('toilet', 'overall'), ('overall', 'is'), ('is', 'just'), ('just', 'ok.'), ('Install', 'was'), ('was', 'easy....everything'), ('easy....everything', 'provided'), ('provided', 'and'), ('and', 'fit.'), ('needed', 'for'), ('for', 'installation,'), ('installation,', 'just'), ('just', 'like'), ('like', 'it'), ('it', 'says'), ('says', 'on'), ('on', 'the'), ('the', 'box,'), ('box,', 'except'), ('except', 'the'), ('the', 'wax'), ('wax', 'ring,'), ('ring,', 'the'), ('the', 'floor'), ('floor', 'bolts,'), ('bolts,', 'the'), ('the', 'tank'), ('tank', 'to'), ('to', 'bowl'), ('bowl', 'hardware.'), ('hardware.', 'The'), ('The', 'box'), ('box', 'looked'), ('looked', 'to'), ('to', 'be'), ('be', 'undisturbed,'), ('undisturbed,', 'but'), ('but', 'many'), ('many', 'items'), ('items', 'were'), ('were', 'missing.'), ('missing.', 'I'), ('I', 'had'), ('had', 'no'), ('no', 'time'), ('time', 'for'), ('for', 'messing'), ('messing', 'around'), ('around', 'so'), ('so', 'I'), ('I', 'just'), ('just', 'bought'), ('bought', 'the'), ('the', 'stuff'), ('stuff', 'I'), ('I', 'needed'), ('needed', 'and'), ('and', 'got'), ('got', 'on'), ('on', 'with'), ('with', 'it,'), ('it,', 'but'), ('but', 'come'), ('come', 'on;'), ('on;', \"where's\"), (\"where's\", 'the'), ('the', 'quality'), ('quality', 'control?'), ('I', 'self-installed'), ('self-installed', 'two'), ('two', 'model'), ('model', '734AA.101.020'), ('734AA.101.020', 'toilets'), ('toilets', 'in'), ('in', 'my'), ('my', 'home'), ('home', 'to'), ('to', 'replace'), ('replace', 'poorly'), ('poorly', 'performing'), ('performing', '1.6'), ('1.6', 'gpf'), ('gpf', 'builder'), ('builder', 'grade'), ('grade', 'toilets'), ('toilets', 'from'), ('from', '2001.'), ('2001.', 'Most'), ('Most', 'important'), ('important', 'to'), ('to', 'know'), ('know', 'is'), ('is', 'that'), ('that', 'the'), ('the', 'American'), ('American', 'Standard'), ('Standard', 'Mainstream'), ('Mainstream', 'toilet'), ('toilet', 'does'), ('does', 'the'), ('the', 'job'), ('job', 'in'), ('in', 'one'), ('one', 'flush,'), ('flush,', 'and'), ('and', 'an'), ('an', 'added'), ('added', 'surprise'), ('surprise', 'bonus,'), ('bonus,', 'it'), ('it', 'does'), ('does', 'so'), ('so', 'quietly.'), ('quietly.', 'The'), ('The', 'boxes'), ('boxes', 'from'), ('from', 'Lowes'), ('Lowes', 'were'), ('were', 'sealed,'), ('sealed,', 'with'), ('with', 'no'), ('no', 'evidence'), ('evidence', 'of'), ('of', 'rough'), ('rough', 'handling.'), ('handling.', 'Upon'), ('Upon', 'box'), ('box', 'opening,'), ('opening,', 'the'), ('the', 'toilet'), ('toilet', 'had'), ('had', 'not'), ('not', 'been'), ('been', 'damaged,'), ('damaged,', 'and'), ('and', 'nothing'), ('nothing', 'was'), ('was', 'missing.'), ('missing.', 'Each'), ('Each', 'box'), ('box', 'clearly'), ('clearly', 'states'), ('states', 'that'), ('that', 'it'), ('it', 'is'), ('is', 'furnished'), ('furnished', 'with'), ('with', 'a'), ('a', 'slow-close'), ('slow-close', 'seat.'), ('seat.', 'The'), ('The', 'American'), ('American', 'Standard'), ('Standard', 'website'), ('website', 'for'), ('for', 'this'), ('this', 'model'), ('model', 'says'), ('says', 'the'), ('the', 'same...'), ('same...', 'It'), ('It', 'is'), ('is', 'NOT'), ('NOT', 'furnished'), ('furnished', 'with'), ('with', 'that'), ('that', 'seat.'), ('seat.', 'Called'), ('Called', 'the'), ('the', 'A.S.'), ('A.S.', 'Customer'), ('Customer', 'Service'), ('Service', 'line'), ('line', 'at'), ('at', '855-815-0004'), ('855-815-0004', 'and'), ('and', 'got'), ('got', 'the'), ('the', 'correct'), ('correct', 'slow-close'), ('slow-close', 'seats'), ('seats', 'a'), ('a', 'week'), ('week', 'later.'), ('later.', 'Easy'), ('Easy', 'fix!'), ('fix!', 'I'), ('I', 'throughly'), ('throughly', 'read'), ('read', 'the'), ('the', 'instructions,'), ('instructions,', 'which'), ('which', 'in'), ('in', 'my'), ('my', 'opinion'), ('opinion', 'were'), ('were', 'well'), ('well', 'written'), ('written', 'and'), ('and', 'clearly'), ('clearly', 'illustrated.'), ('illustrated.', 'Over'), ('Over', 'the'), ('the', 'years,'), ('years,', 'I'), ('I', 'have'), ('have', 'installed'), ('installed', 'more'), ('more', 'than'), ('than', 'a'), ('a', 'few'), ('few', 'new'), ('new', 'toilets...'), ('toilets...', 'So'), ('So', 'this'), ('this', 'was'), ('was', 'not'), ('not', 'my'), ('my', 'first'), ('first', 'time'), ('time', 'doing'), ('doing', 'this'), ('this', 'and'), ('and', 'I'), ('I', 'did'), ('did', 'not'), ('not', 'expect'), ('expect', 'the'), ('the', 'install'), ('install', 'to'), ('to', 'go'), ('go', 'perfectly.'), ('perfectly.', 'The'), ('The', 'first'), ('first', 'toilet'), ('toilet', 'install'), ('install', 'was'), ('was', 'the'), ('the', 'learning'), ('learning', 'curve.'), ('curve.', 'The'), ('The', 'second'), ('second', 'had'), ('had', 'the'), ('the', 'same'), ('same', 'identical'), ('identical', 'issues,'), ('issues,', 'but'), ('but', 'went'), ('went', 'quicker'), ('quicker', 'because'), ('because', 'I'), ('I', 'knew'), ('knew', 'to'), ('to', 'look'), ('look', 'for'), ('for', 'them...'), ('them...', 'Two'), ('Two', 'issues'), ('issues', 'arose'), ('arose', 'during'), ('during', 'both'), ('both', 'installs,'), ('installs,', 'that'), ('that', 'in'), ('in', 'my'), ('my', 'humble'), ('humble', 'opinion,'), ('opinion,', 'should'), ('should', 'not'), ('not', 'have'), ('have', 'happened.'), ('happened.', 'I'), ('I', 'took'), ('took', 'the'), ('the', 'extra'), ('extra', 'step'), ('step', 'of'), ('of', 'trial'), ('trial', 'fitting'), ('fitting', 'the'), ('the', 'bottom'), ('bottom', 'toilet'), ('toilet', 'half'), ('half', 'over'), ('over', 'the'), ('the', 'flange'), ('flange', '(sans'), ('(sans', 'wax'), ('wax', 'ring),'), ('ring),', 'to'), ('to', 'check'), ('check', 'rough-in'), ('rough-in', 'clearance...'), ('clearance...', 'To'), ('To', 'uncover'), ('uncover', 'that'), ('that', 'the'), ('the', 'base'), ('base', 'rocked'), ('rocked', 'front'), ('front', 'to'), ('to', 'back.'), ('back.', 'Sigh.'), ('Sigh.', 'Turns'), ('Turns', 'out'), ('out', 'that'), ('that', 'the'), ('the', 'toilet'), ('toilet', 'has'), ('has', 'an'), ('an', 'arc'), ('arc', 'shaped'), ('shaped', \"'feature'\"), (\"'feature'\", 'in'), ('in', 'front'), ('front', 'of'), ('of', 'the'), ('the', 'outlet'), ('outlet', 'port'), ('port', 'that'), ('that', 'protrudes'), ('protrudes', '~1/8\"'), ('~1/8\"', 'below'), ('below', 'the'), ('the', 'perimeter'), ('perimeter', 'base,'), ('base,', 'causing'), ('causing', 'the'), ('the', 'rocking.'), ('rocking.', 'In'), ('In', 'my'), ('my', 'case,'), ('case,', 'I'), ('I', 'chose'), ('chose', 'to'), ('to', 'modify'), ('modify', 'my'), ('my', 'tile'), ('tile', 'floor,'), ('floor,', 'by'), ('by', 'very'), ('very', 'carefully'), ('carefully', 'removing'), ('removing', 'tile'), ('tile', 'in'), ('in', 'the'), ('the', 'arc'), ('arc', 'shaped'), ('shaped', 'area'), ('area', 'of'), ('of', 'interference.'), ('interference.', 'Repeated'), ('Repeated', 'the'), ('the', 'dry'), ('dry', 'fit'), ('fit', 'process,'), ('process,', 'until'), ('until', 'the'), ('the', 'rocking'), ('rocking', 'stoped.'), ('stoped.', 'Success!'), ('Success!', 'The'), ('The', 'base'), ('base', 'was'), ('was', 'now'), ('now', 'rock'), ('rock', 'solid.'), ('solid.', 'Onto'), ('Onto', 'carefully'), ('carefully', 'installing'), ('installing', 'the'), ('the', 'tank...'), ('tank...', 'Which'), ('Which', 'at'), ('at', 'first'), ('first', 'try,'), ('try,', 'leaked'), ('leaked', 'under'), ('under', 'one'), ('one', 'of'), ('of', 'the'), ('the', 'rubber'), ('rubber', 'washer/tank'), ('washer/tank', 'bolt.'), ('bolt.', 'After'), ('After', 'cleaning'), ('cleaning', 'out/drying'), ('out/drying', 'the'), ('the', 'tank,'), ('tank,', 'I'), ('I', 'discovered'), ('discovered', 'porcelain'), ('porcelain', 'burrs'), ('burrs', 'and'), ('and', 'protruding'), ('protruding', 'sharp'), ('sharp', 'edges'), ('edges', 'at'), ('at', 'both'), ('both', 'of'), ('of', 'the'), ('the', 'two'), ('two', 'tank'), ('tank', 'bolt'), ('bolt', 'holes...'), ('holes...', 'The'), ('The', 'very'), ('very', 'spot'), ('spot', 'where'), ('where', 'the'), ('the', 'rubber'), ('rubber', 'washer'), ('washer', 'is'), ('is', 'supposed'), ('supposed', 'to'), ('to', 'seal.'), ('seal.', 'Sigh!'), ('Sigh!', 'At'), ('At', 'this'), ('this', 'point,'), ('point,', 'I'), ('I', 'chose'), ('chose', 'to'), ('to', 'see'), ('see', 'if'), ('if', 'I'), ('I', 'could'), ('could', 'carefully'), ('carefully', 'deburr'), ('deburr', 'and'), ('and', 'remove'), ('remove', 'the'), ('the', 'sharp'), ('sharp', 'edges'), ('edges', 'inside'), ('inside', 'the'), ('the', 'tank'), ('tank', 'at'), ('at', 'these'), ('these', 'two'), ('two', 'bolt'), ('bolt', 'holes...'), ('holes...', 'Long'), ('Long', 'story'), ('story', 'short,'), ('short,', 'it'), ('it', 'worked.'), ('worked.', 'Re-installed'), ('Re-installed', 'the'), ('the', 'tank'), ('tank', 'without'), ('without', 'leaks.'), ('leaks.', 'Hopefully,'), ('Hopefully,', 'American'), ('American', 'Standard'), ('Standard', 'reads'), ('reads', 'these'), ('these', 'reviews'), ('reviews', 'and'), ('and', 'ultimately'), ('ultimately', 'fixes'), ('fixes', 'the'), ('the', 'quality'), ('quality', 'of'), ('of', 'their'), ('their', 'products.'), ('products.', 'Ultimately,'), ('Ultimately,', 'I'), ('I', 'like'), ('like', 'these:'), ('these:', 'The'), ('The', 'install'), ('install', 'issues'), ('issues', 'were'), ('were', 'not'), ('not', 'that'), ('that', 'difficult'), ('difficult', 'to'), ('to', 'overcome.'), ('overcome.', 'The'), ('The', 'toilets'), ('toilets', 'work'), ('work', 'way'), ('way', 'better'), ('better', 'than'), ('than', 'what'), ('what', 'they'), ('they', 'replaced.'), ('replaced.', 'To'), ('To', 'boot,'), ('boot,', 'American'), ('American', 'Std'), ('Std', 'Customer'), ('Customer', 'Service'), ('Service', 'reps'), ('reps', 'were'), ('were', 'easy'), ('easy', 'to'), ('to', 'work'), ('work', 'with...'), ('with...', 'Nice.'), ('Not', 'smooth'), ('smooth', 'white'), ('white', 'porcelain'), ('porcelain', 'around'), ('around', 'the'), ('the', 'bowl.'), ('bowl.', 'Flushes'), ('Flushes', 'well'), ('well', 'though.'), ('though.', 'Lowes'), ('Lowes', 'only'), ('only', 'gave'), ('gave', '10%'), ('10%', 'off.'), ('off.', 'Not'), ('Not', 'Feasible'), ('Feasible', 'to'), ('to', 'return'), ('return', 'an'), ('an', 'installed'), ('installed', 'toilet.'), ('toilet.', 'Unhappy'), ('Unhappy', 'customer.'), ('customer.', 'Won’t'), ('Won’t', 'buy'), ('buy', 'this'), ('this', 'brand'), ('brand', 'or'), ('or', 'shop'), ('shop', 'at'), ('at', 'Lowe’s'), ('Lowe’s', 'anymore.'), ('anymore.', 'Toilet'), ('Toilet', 'works'), ('works', 'ok'), ('ok', 'though,'), ('though,', 'just'), ('just', 'bad'), ('bad', 'QC'), ('QC', 'all'), ('all', 'around.'), ('around.', 'There’s'), ('There’s', 'a'), ('a', 'small'), ('small', 'gray'), ('gray', 'mark'), ('mark', 'in'), ('in', 'the'), ('the', 'bowl'), ('bowl', 'itself'), ('itself', 'too.'), ('First,', 'I'), ('I', 'want'), ('want', 'to'), ('to', 'mention'), ('mention', 'I'), ('I', 'had'), ('had', 'a'), ('a', '*horrible*'), ('*horrible*', 'experience'), ('experience', 'with'), ('with', 'Lowes'), ('Lowes', 'Installation'), ('Installation', 'services,'), ('services,', 'but'), ('but', 'my'), ('my', 'review'), ('review', 'is'), ('is', 'for'), ('for', 'the'), ('the', 'toilet'), ('toilet', 'only.'), ('only.', 'As'), ('As', 'just'), ('just', 'mentioned,'), ('mentioned,', 'I'), ('I', 'paid'), ('paid', 'for'), ('for', 'Lowes'), ('Lowes', 'installation'), ('installation', 'and'), ('and', 'the'), ('the', 'installer'), ('installer', 'was'), ('was', 'fine'), ('fine', 'once'), ('once', 'he'), ('he', 'showed'), ('showed', 'up.'), ('up.', 'The'), ('The', \"'complete\"), (\"'complete\", 'toilet'), ('toilet', 'in'), ('in', 'a'), ('a', \"box'\"), (\"box'\", 'was'), ('was', 'fine'), ('fine', 'with'), ('with', 'everything'), ('everything', 'included.'), ('included.', 'I'), ('I', 'like'), ('like', 'the'), ('the', 'extra'), ('extra', 'height'), ('height', '(about'), ('(about', '1'), ('1', 'inch'), ('inch', 'higher'), ('higher', 'than'), ('than', 'standard)'), ('standard)', 'and'), ('and', 'it'), ('it', 'is'), ('is', '(so'), ('(so', 'far)'), ('far)', 'functioning'), ('functioning', 'well'), ('well', 'after'), ('after', 'a'), ('a', 'month'), ('month', 'of'), ('of', 'daily'), ('daily', 'use.'), ('use.', 'No'), ('No', 'leaks'), ('leaks', 'or'), ('or', 'cracks.'), ('cracks.', 'The'), ('The', 'plumber'), ('plumber', 'had'), ('had', 'no'), ('no', 'issues.'), ('issues.', 'He'), ('He', 'recommended'), ('recommended', 'a'), ('a', 'second'), ('second', 'wax'), ('wax', 'seal'), ('seal', 'which'), ('which', 'he'), ('he', 'provided'), ('provided', 'for'), ('for', 'free'), ('free', 'stating'), ('stating', 'that'), ('that', 'the'), ('the', 'one'), ('one', 'included'), ('included', 'was'), ('was', 'too'), ('too', 'thin'), ('thin', 'and'), ('and', 'would'), ('would', 'not'), ('not', 'last'), ('last', 'that'), ('that', 'long.'), ('long.', 'This'), ('This', 'toilet'), ('toilet', 'has'), ('has', 'a'), ('a', 'strong'), ('strong', 'flush'), ('flush', 'and'), ('and', \"I'm\"), (\"I'm\", 'happy'), ('happy', 'to'), ('to', 'see'), ('see', 'that'), ('that', 'the'), ('the', 'interior'), ('interior', 'fill'), ('fill', 'valve'), ('valve', 'is'), ('is', 'quiet'), ('quiet', 'and'), ('and', 'has'), ('has', 'an'), ('an', \"'old\"), (\"'old\", \"style'\"), (\"style'\", 'flapper'), ('flapper', 'not'), ('not', 'the'), ('the', 'piston'), ('piston', 'design'), ('design', 'which'), ('which', 'American'), ('American', 'Standard'), ('Standard', 'has'), ('has', 'a'), ('a', 'class'), ('class', 'action'), ('action', 'lawsuit'), ('lawsuit', 'due'), ('due', 'to'), ('to', 'a'), ('a', 'leaking'), ('leaking', 'seal.'), ('seal.', 'Maybe'), ('Maybe', 'they'), ('they', 'changed'), ('changed', 'the'), ('the', 'design'), ('design', 'and'), ('and', 'I'), ('I', 'got'), ('got', 'lucky'), ('lucky', 'because'), ('because', 'I'), ('I', 'did'), ('did', 'not'), ('not', 'know'), ('know', 'this'), ('this', 'until'), ('until', 'after'), ('after', 'I'), ('I', 'researched'), ('researched', 'AS'), ('AS', 'toilets.'), ('toilets.', 'If'), ('If', 'this'), ('this', 'lasts,'), ('lasts,', 'it'), ('it', 'was'), ('was', 'a'), ('a', 'good'), ('good', 'purchase'), ('purchase', 'at'), ('at', 'the'), ('the', 'price'), ('price', 'and'), ('and', 'I'), ('I', 'will'), ('will', 'recommend'), ('recommend', 'it'), ('it', 'after'), ('after', 'a'), ('a', 'month'), ('month', 'of'), ('of', 'daily'), ('daily', 'use.'), ('use.', 'Also,'), ('Also,', 'no'), ('no', 'slow'), ('slow', 'close'), ('close', 'seat'), ('seat', 'was'), ('was', 'included.'), ('included.', \"That's\"), (\"That's\", 'not'), ('not', 'a'), ('a', 'deal'), ('deal', 'breaker'), ('breaker', 'for'), ('for', 'me,'), ('me,', 'but'), ('but', 'it'), ('it', 'was'), ('was', 'stated'), ('stated', 'on'), ('on', 'the'), ('the', 'box.'), ('box.', 'I'), ('I', 'will'), ('will', 'not'), ('not', 'bother'), ('bother', 'to'), ('to', 'contact'), ('contact', 'AS'), ('AS', 'for'), ('for', 'a'), ('a', 'replacement.'), ('The', 'toilet'), ('toilet', 'itself'), ('itself', 'is'), ('is', 'excellent.'), ('excellent.', 'Great'), ('Great', 'height,'), ('height,', 'pretty'), ('pretty', 'quiet'), ('quiet', 'operation,'), ('operation,', 'and'), ('and', 'easy'), ('easy', 'install.'), ('install.', 'The'), ('The', 'only'), ('only', 'negative'), ('negative', 'was'), ('was', 'that'), ('that', 'wax'), ('wax', 'ring'), ('ring', 'was'), ('was', 'packed'), ('packed', 'in'), ('in', 'a'), ('a', 'way'), ('way', 'that'), ('that', 'it'), ('it', 'came'), ('came', 'damaged.'), ('damaged.', 'I'), ('I', 'was'), ('was', 'planning'), ('planning', 'on'), ('on', 'a'), ('a', 'temporary'), ('temporary', 'install'), ('install', 'and'), ('and', 'reinstalling'), ('reinstalling', 'with'), ('with', 'a'), ('a', 'new'), ('new', 'ring'), ('ring', 'anyway,'), ('anyway,', 'but'), ('but', 'the'), ('the', 'included'), ('included', 'ring'), ('ring', 'would'), ('would', 'never'), ('never', 'last'), ('last', 'long.'), ('Toilet', 'itself'), ('itself', 'works'), ('works', 'well'), ('well', 'enough,'), ('enough,', 'but'), ('but', 'it'), ('it', 'did'), ('did', 'NOT'), ('NOT', 'come'), ('come', 'with'), ('with', 'a'), ('a', 'slow-close'), ('slow-close', 'lid.'), ('lid.', 'The'), ('The', 'box'), ('box', 'says'), ('says', 'it'), ('it', 'right'), ('right', 'on'), ('on', 'there.'), ('there.', 'At'), ('At', 'this'), ('this', 'price'), ('price', 'point,'), ('point,', 'having'), ('having', 'to'), ('to', 'pay'), ('pay', '$30-$40'), ('$30-$40', 'more'), ('more', 'for'), ('for', 'the'), ('the', 'correct'), ('correct', 'lid'), ('lid', 'puts'), ('puts', 'it'), ('it', 'in'), ('in', 'the'), ('the', 'range'), ('range', 'of'), ('of', 'much'), ('much', 'nicer'), ('nicer', 'toilets'), ('toilets', 'I'), ('I', 'could'), ('could', 'have'), ('have', 'purchased.'), ('purchased.', 'This'), ('This', 'coupled'), ('coupled', 'with'), ('with', 'other'), ('other', 'reviews'), ('reviews', 'tells'), ('tells', 'me'), ('me', 'that'), ('that', 'there'), ('there', 'are'), ('are', 'several'), ('several', 'QA'), ('QA', 'issues'), ('issues', 'at'), ('at', 'American'), ('American', 'Standard'), ('Standard', 'and'), ('and', 'I'), ('I', 'will'), ('will', 'not'), ('not', 'be'), ('be', 'purchasing'), ('purchasing', 'this'), ('this', 'brand'), ('brand', 'anymore.'), ('Recently', 'bought'), ('bought', 'two'), ('two', 'of'), ('of', 'this'), ('this', 'style'), ('style', 'of'), ('of', 'American'), ('American', 'Standard'), ('Standard', 'toilets'), ('toilets', 'to'), ('to', 'install'), ('install', 'in'), ('in', 'my'), ('my', 'home.'), ('home.', 'I'), ('I', 'was'), ('was', 'very'), ('very', 'unhappy'), ('unhappy', 'to'), ('to', 'discover'), ('discover', 'that'), ('that', 'the'), ('the', 'hardware'), ('hardware', 'necessary'), ('necessary', 'to'), ('to', 'attach'), ('attach', 'the'), ('the', 'toilet'), ('toilet', 'to'), ('to', 'the'), ('the', 'base'), ('base', 'was'), ('was', 'incomplete.'), ('incomplete.', 'My'), ('My', 'handiman'), ('handiman', 'had'), ('had', 'to'), ('to', 'return'), ('return', 'to'), ('to', \"Lowe's\"), (\"Lowe's\", 'to'), ('to', 'purchase'), ('purchase', 'the'), ('the', 'necessary'), ('necessary', 'bolts,'), ('bolts,', 'washers,'), ('washers,', 'etc.,'), ('etc.,', 'which'), ('which', 'American'), ('American', 'Standard'), ('Standard', 'sells'), ('sells', 'as'), ('as', 'an'), ('an', 'accessory'), ('accessory', 'to'), ('to', 'their'), ('their', 'toilets.'), ('toilets.', 'That'), ('That', 'second'), ('second', 'trip'), ('trip', 'to'), ('to', \"Lowe's\"), (\"Lowe's\", 'doubled'), ('doubled', 'what'), ('what', 'I'), ('I', 'was'), ('was', 'charged'), ('charged', 'to'), ('to', 'install'), ('install', 'the'), ('the', 'toilets.'), ('toilets.', 'What'), ('What', 'a'), ('a', 'stupid'), ('stupid', 'design'), ('design', 'flaw.'), ('flaw.', 'Buy'), ('Buy', 'Kohler.'), ('I', 'like'), ('like', 'this'), ('this', 'toilet'), ('toilet', 'it'), ('it', 'is'), ('is', 'very'), ('very', 'sleek,'), ('sleek,', 'saves'), ('saves', 'on'), ('on', 'water'), ('water', 'and'), ('and', 'is'), ('is', 'taller'), ('taller', 'than'), ('than', 'my'), ('my', 'old'), ('old', 'one'), ('one', 'which'), ('which', 'was'), ('was', 'too'), ('too', 'low.'), ('low.', 'The'), ('The', 'bathroom'), ('bathroom', 'seemed'), ('seemed', 'to'), ('to', 'have'), ('have', 'been'), ('been', 'designed'), ('designed', 'for'), ('for', 'children.'), ('children.', 'It'), ('It', 'is'), ('is', 'chair'), ('chair', 'height'), ('height', 'which'), ('which', 'is'), ('is', 'great'), ('great', 'for'), ('for', 'older'), ('older', 'people'), ('people', 'like'), ('like', 'myself.'), ('Hard', 'to'), ('to', 'understand'), ('understand', 'the'), ('the', 'negative'), ('negative', 'reviews.'), ('reviews.', 'Nowhere'), ('Nowhere', 'did'), ('did', 'it'), ('it', 'say'), ('say', 'a'), ('a', '\"slow'), ('\"slow', 'close'), ('close', 'lid.\"'), ('lid.\"', 'Many'), ('Many', 'toilets'), ('toilets', \"don't\"), (\"don't\", 'even'), ('even', 'come'), ('come', 'with'), ('with', 'a'), ('a', 'seat.'), ('seat.', 'If'), ('If', 'you'), ('you', 'want'), ('want', 'a'), ('a', 'wood'), ('wood', 'seat,'), ('seat,', 'buy'), ('buy', 'one.'), ('one.', 'The'), ('The', 'flow'), ('flow', 'is'), ('is', 'strong'), ('strong', 'and'), ('and', 'efficient.'), ('efficient.', \"I've\"), (\"I've\", 'bought/installed'), ('bought/installed', 'many'), ('many', 'toilets'), ('toilets', 'and'), ('and', 'for'), ('for', 'the'), ('the', 'money,'), ('money,', 'this'), ('this', 'is'), ('is', 'one'), ('one', 'of'), ('of', 'the'), ('the', 'best.'), ('Good', 'height/elongated'), ('height/elongated', 'seat.'), ('seat.', 'More'), ('More', 'compact'), ('compact', 'than'), ('than', 'a'), ('a', 'standard'), ('standard', 'toilet.'), ('toilet.', 'Flushes'), ('Flushes', 'with'), ('with', 'much'), ('much', 'less'), ('less', 'water,'), ('water,', 'which'), ('which', 'can'), ('can', 'be'), ('be', 'a'), ('a', 'good'), ('good', 'and'), ('and', 'a'), ('a', 'bad'), ('bad', 'thing....'), ('Toilet', 'is'), ('is', 'okay,'), ('okay,', 'but'), ('but', 'did'), ('did', 'not'), ('not', 'come'), ('come', 'with'), ('with', 'the'), ('the', 'slow'), ('slow', 'close'), ('close', 'lid'), ('It’s', 'hard'), ('hard', 'shopping'), ('shopping', 'for'), ('for', 'a'), ('a', 'toilet.'), ('toilet.', 'It'), ('It', 'takes'), ('takes', 'so'), ('so', 'much'), ('much', 'effort'), ('effort', 'and'), ('and', 'time'), ('time', 'before'), ('before', 'you'), ('you', 'realize'), ('realize', 'if'), ('if', 'you’ve'), ('you’ve', 'made'), ('made', 'a'), ('a', 'good'), ('good', 'or'), ('or', 'bad'), ('bad', 'decision.'), ('decision.', 'And'), ('And', 'no'), ('no', 'matter'), ('matter', 'what'), ('what', 'toilet'), ('toilet', 'you'), ('you', 'see'), ('see', 'online'), ('online', 'at'), ('at', 'any'), ('any', 'price'), ('price', 'range'), ('range', 'you’ll'), ('you’ll', 'find'), ('find', 'that'), ('that', 'ONE'), ('ONE', 'person'), ('person', 'who'), ('who', 'claims'), ('claims', 'its'), ('its', 'a'), ('a', 'piece'), ('piece', 'of'), ('of', 'crap.'), ('crap.', '(Pun'), ('(Pun', 'intended)'), ('intended)', 'I'), ('I', 'can'), ('can', 'honestly'), ('honestly', 'say'), ('say', 'I'), ('I', 'have'), ('have', 'no'), ('no', 'complaints'), ('complaints', 'about'), ('about', 'this'), ('this', 'toilet.'), ('toilet.', 'I'), ('I', 'hired'), ('hired', 'a'), ('a', 'handyman'), ('handyman', 'to'), ('to', 'install'), ('install', '2'), ('2', 'of'), ('of', 'them'), ('them', 'in'), ('in', 'my'), ('my', 'house'), ('house', 'and'), ('and', 'he'), ('he', 'said'), ('said', 'I'), ('I', 'should'), ('should', 'buy'), ('buy', 'that'), ('that', 'extra'), ('extra', 'thick'), ('thick', 'wax'), ('wax', 'seal,'), ('seal,', 'but'), ('but', 'he'), ('he', 'end'), ('end', 'up'), ('up', 'not'), ('not', 'needing'), ('needing', 'it'), ('it', 'because'), ('because', 'the'), ('the', 'seal'), ('seal', 'that'), ('that', 'comes'), ('comes', 'with'), ('with', 'this'), ('this', 'toilet'), ('toilet', 'it'), ('it', 'really'), ('really', 'good.'), ('good.', 'One'), ('One', 'of'), ('of', 'the'), ('the', 'toilets'), ('toilets', 'was'), ('was', 'missing'), ('missing', 'some'), ('some', 'seals'), ('seals', 'for'), ('for', 'the'), ('the', 'bolts,'), ('bolts,', 'and'), ('and', 'after'), ('after', 'we'), ('we', 'installed'), ('installed', 'both'), ('both', 'toilets,'), ('toilets,', 'one'), ('one', 'of'), ('of', 'them'), ('them', 'had'), ('had', 'a'), ('a', 'tiny'), ('tiny', 'leak'), ('leak', 'coming'), ('coming', 'out'), ('out', 'from'), ('from', 'one'), ('one', 'of'), ('of', 'the'), ('the', 'two'), ('two', 'bolts'), ('bolts', 'that'), ('that', 'holds'), ('holds', 'the'), ('the', 'tank'), ('tank', 'to'), ('to', 'the'), ('the', 'bowl.'), ('bowl.', 'Ended'), ('Ended', 'up'), ('up', 'being'), ('being', 'a'), ('a', 'small'), ('small', 'imperfection'), ('imperfection', 'in'), ('in', 'the'), ('the', 'porcelain,'), ('porcelain,', 'a'), ('a', 'little'), ('little', 'burr'), ('burr', 'right'), ('right', 'where'), ('where', 'the'), ('the', 'washer'), ('washer', 'needs'), ('needs', 'to'), ('to', 'press'), ('press', 'down'), ('down', 'to'), ('to', 'seal'), ('seal', 'it.'), ('it.', 'We'), ('We', 'just'), ('just', 'scraped'), ('scraped', 'it'), ('it', 'off'), ('off', 'with'), ('with', 'a'), ('a', 'screwdriver'), ('screwdriver', 'and'), ('and', 'then'), ('then', 'it'), ('it', 'worked'), ('worked', 'fine.'), ('fine.', 'So'), ('So', 'all'), ('all', 'in'), ('in', 'all'), ('all', 'I’m'), ('I’m', 'not'), ('not', 'raving'), ('raving', 'and'), ('and', 'saying'), ('saying', 'this'), ('this', 'is'), ('is', 'some'), ('some', 'amazing'), ('amazing', 'quality'), ('quality', 'toilet,'), ('toilet,', 'but'), ('but', 'it'), ('it', 'does'), ('does', 'exactly'), ('exactly', 'what'), ('what', 'I'), ('I', 'need'), ('need', 'it'), ('it', 'to'), ('to', 'do'), ('do', '.'), ('.', 'A'), ('A', 'solid'), ('solid', 'four'), ('four', 'stars.'), ('Good', 'product'), ('product', 'that'), ('that', 'is'), ('is', 'better'), ('better', 'than'), ('than', 'your'), ('your', 'standard'), ('standard', 'toilet.'), ('Good', 'toilet.'), ('toilet.', 'unfortunately'), ('unfortunately', 'the'), ('the', 'seat'), ('seat', \"isn't\"), (\"isn't\", 'soft'), ('soft', 'close'), ('close', 'as'), ('as', 'described'), ('described', 'on'), ('on', 'box.'), ('I', 'love'), ('love', 'this'), ('this', 'toilet.'), ('toilet.', 'I'), ('I', 'know'), ('know', 'it'), ('it', 'is'), ('is', 'only'), ('only', 'about'), ('about', 'two'), ('two', 'inches'), ('inches', 'taller'), ('taller', 'than'), ('than', 'the'), ('the', 'old'), ('old', 'one,'), ('one,', 'but'), ('but', 'it'), ('it', 'makes'), ('makes', 'a'), ('a', 'huge'), ('huge', 'difference'), ('difference', 'for'), ('for', 'me.'), ('me.', 'It'), ('It', 'is'), ('is', 'well'), ('well', 'made'), ('made', 'and'), ('and', 'flushes'), ('flushes', 'like'), ('like', 'a'), ('a', 'dream.'), ('dream.', 'I'), ('I', 'am'), ('am', 'very'), ('very', 'pleased'), ('pleased', 'with'), ('with', 'this'), ('this', 'purchase.'), ('I', 'like'), ('like', 'the'), ('the', 'chair'), ('chair', 'height'), ('height', 'because'), ('because', 'the'), ('the', 'dramatic'), ('dramatic', 'difference'), ('difference', 'when'), ('when', 'sitting'), ('sitting', 'and'), ('and', 'standing'), ('standing', 'and'), ('and', 'the'), ('the', 'elongated'), ('elongated', 'bowl'), ('bowl', 'is'), ('is', 'great'), ('great', 'for'), ('for', 'the'), ('the', 'guys.'), ('guys.', 'The'), ('The', 'plastic'), ('plastic', 'seat'), ('seat', 'is'), ('is', 'not'), ('not', 'of'), ('of', 'the'), ('the', 'same'), ('same', '\"caliber\"'), ('\"caliber\"', 'of'), ('of', '\"quality'), ('\"quality', 'as'), ('as', 'the'), ('the', 'rest'), ('rest', 'of'), ('of', 'the'), ('the', 'toilet'), ('toilet', 'prompting'), ('prompting', 'the'), ('the', 'buyer'), ('buyer', 'to'), ('to', 'come'), ('come', 'back'), ('back', 'to'), ('to', 'purchase'), ('purchase', 'another'), ('another', 'toilet'), ('toilet', 'seat'), ('seat', 'of'), ('of', 'better'), ('better', 'quality.'), ('quality.', 'It'), ('It', 'would'), ('would', 'have'), ('have', 'been'), ('been', 'nice'), ('nice', 'to'), ('to', 'have'), ('have', 'that'), ('that', 'option'), ('option', 'even'), ('even', 'at'), ('at', 'additional'), ('additional', 'reasonable'), ('reasonable', 'cost'), ('cost', 'and'), ('and', 'most'), ('most', 'likely'), ('likely', 'self-closing.'), ('Works', 'great'), ('great', '-'), ('-', 'no'), ('no', 'trouble'), ('trouble', 'yet'), ('yet', 'with'), ('with', 'any'), ('any', 'clogging'), ('clogging', 'issues'), ('issues', 'but'), ('but', 'not'), ('not', 'expecting'), ('expecting', 'any'), ('any', 'as'), ('as', 'I'), ('I', 'have'), ('have', 'purchased'), ('purchased', 'American'), ('American', 'Standard'), ('Standard', 'in'), ('in', 'the'), ('the', 'past'), ('past', 'and'), ('and', 'have'), ('have', 'not'), ('not', 'had'), ('had', 'any'), ('any', 'problems.'), ('problems.', 'The'), ('The', 'only'), ('only', 'thing'), ('thing', 'I'), ('I', 'would'), ('would', 'change'), ('change', 'if'), ('if', 'I'), ('I', 'could'), ('could', 'would'), ('would', 'be'), ('be', 'to'), ('to', 'have'), ('have', 'the'), ('the', 'seat'), ('seat', 'a'), ('a', 'little'), ('little', 'wider'), ('wider', 'for'), ('for', 'additional'), ('additional', 'comfort,'), ('comfort,', 'similar'), ('similar', 'to'), ('to', 'Kohler.'), ('Kohler.', 'I'), ('I', 'would'), ('would', 'recommend'), ('recommend', 'and'), ('and', 'I'), ('I', 'would'), ('would', 'buy'), ('buy', 'again.'), ('again.', '(have'), ('(have', 'only'), ('only', 'had'), ('had', 'installed'), ('installed', 'and'), ('and', 'used'), ('used', 'for'), ('for', 'a'), ('a', 'couple'), ('couple', 'weeks'), ('weeks', 'at'), ('at', 'this'), ('this', 'point)'), ('After', 'the'), ('the', 'toilet'), ('toilet', 'was'), ('was', 'installed'), ('installed', 'we'), ('we', 'noticed'), ('noticed', 'it'), ('it', 'is'), ('is', 'not'), ('not', 'a'), ('a', 'soft'), ('soft', 'close'), ('close', 'seat'), ('seat', 'as'), ('as', 'it'), ('it', 'says'), ('says', 'right'), ('right', 'on'), ('on', 'the'), ('the', 'box.'), ('box.', 'The'), ('The', 'seat'), ('seat', 'it'), ('it', 'has'), ('has', 'is'), ('is', 'rather'), ('rather', 'uncomfortable'), ('uncomfortable', 'and'), ('and', 'is'), ('is', 'not'), ('not', 'slow'), ('slow', 'close'), ('close', 'at'), ('at', 'all.'), ('all.', \"Don't\"), (\"Don't\", 'spend'), ('spend', 'money'), ('money', 'on'), ('on', 'this'), ('this', 'if'), ('if', 'you'), ('you', 'want'), ('want', 'a'), ('a', 'slow'), ('slow', 'close'), ('close', 'seat'), ('seat', 'because'), ('because', 'you'), ('you', 'will'), ('will', 'have'), ('have', 'to'), ('to', 'go'), ('go', 'buy'), ('buy', 'a'), ('a', '40'), ('40', 'to'), ('to', '50'), ('50', 'dollar'), ('dollar', 'seat'), ('seat', 'on'), ('on', 'top'), ('top', 'of'), ('of', 'this.'), ('this.', 'Other'), ('Other', 'then'), ('then', 'that'), ('that', 'it'), ('it', 'works'), ('works', 'fine'), ('fine', 'as'), ('as', 'any'), ('any', 'normal'), ('normal', 'toilet.'), ('Open', 'package'), ('package', 'ready'), ('ready', 'to'), ('to', 'install'), ('install', 'and'), ('and', 'was'), ('was', 'missing'), ('missing', 'one'), ('one', 'rubber'), ('rubber', 'gasket'), ('gasket', 'One'), ('One', 'Flat'), ('Flat', 'washer'), ('washer', 'after'), ('after', 'assembled.'), ('assembled.', 'Tank'), ('Tank', 'was'), ('was', 'leaking'), ('leaking', 'on'), ('on', 'the'), ('the', 'two'), ('two', 'sides'), ('sides', 'where'), ('where', 'the'), ('the', 'screws'), ('screws', 'go'), ('go', 'through'), ('through', 'the'), ('the', 'tank'), ('tank', 'no'), ('no', 'matter'), ('matter', 'what'), ('what', 'I'), ('I', 'did'), ('did', 'I'), ('I', 'could'), ('could', 'not'), ('not', 'get'), ('get', 'it'), ('it', 'stopped'), ('stopped', 'leaking.'), ('leaking.', 'I'), ('I', 'had'), ('had', 'to'), ('to', 'modify'), ('modify', 'a'), ('a', 'rubber'), ('rubber', 'exhaust'), ('exhaust', 'mount'), ('mount', 'for'), ('for', 'a'), ('a', 'car'), ('car', 'to'), ('to', 'make'), ('make', 'it'), ('it', 'stop'), ('stop', 'leaking.'), ('leaking.', 'Instructions'), ('Instructions', 'were'), ('were', 'hard'), ('hard', 'to'), ('to', 'see'), ('see', 'which'), ('which', 'hardward'), ('hardward', 'goes'), ('goes', 'where'), ('where', 'for'), ('for', 'tank.The'), ('tank.The', 'height'), ('height', 'is'), ('is', 'average.'), ('average.', 'Cheap'), ('Cheap', '&'), ('&', 'old'), ('old', 'toilets'), ('toilets', 'are'), ('are', 'low.'), ('low.', 'I'), ('I', 'should'), ('should', 'of'), ('of', 'spent'), ('spent', 'another'), ('another', '$80'), ('$80', 'to'), ('to', 'get'), ('get', 'a'), ('a', 'better'), ('better', 'one'), ('one', 'better'), ('better', 'but'), ('but', 'the'), ('the', 'color'), ('color', 'matches'), ('matches', 'my'), ('my', 'tub.'), ('I', 'purchased'), ('purchased', 'two'), ('two', 'of'), ('of', 'these'), ('these', 'toilets.'), ('toilets.', 'One'), ('One', 'for'), ('for', 'my'), ('my', 'mothers'), ('mothers', 'home'), ('home', 'and'), ('and', 'one'), ('one', 'for'), ('for', 'my'), ('my', 'home.'), ('home.', 'I'), ('I', 'was'), ('was', 'impressed'), ('impressed', 'that'), ('that', 'they'), ('they', 'came'), ('came', 'with'), ('with', 'a'), ('a', 'seat'), ('seat', 'and'), ('and', 'a'), ('a', 'wax'), ('wax', 'ring'), ('ring', 'for'), ('for', 'installation.'), ('installation.', 'Usually'), ('Usually', 'I'), ('I', 'have'), ('have', 'had'), ('had', 'to'), ('to', 'purchase'), ('purchase', 'these'), ('these', 'items'), ('items', 'separately.'), ('separately.', 'My'), ('My', 'concern'), ('concern', 'was'), ('was', 'the'), ('the', 'toilets'), ('toilets', \"wouldn't\"), (\"wouldn't\", 'function'), ('function', 'as'), ('as', 'satisfactorily'), ('satisfactorily', 'as'), ('as', 'I'), ('I', 'would'), ('would', 'want.'), ('want.', 'I'), ('I', 'was'), ('was', 'pleasantly'), ('pleasantly', 'surprised'), ('surprised', 'that'), ('that', 'function'), ('function', 'extremely'), ('extremely', 'well.'), ('well.', 'I'), ('I', 'was'), ('was', 'very'), ('very', 'happy'), ('happy', 'about'), ('about', 'that.'), ('that.', 'Because'), ('Because', 'the'), ('the', 'price'), ('price', 'was'), ('was', 'so'), ('so', 'low'), ('low', 'I'), ('I', 'had'), ('had', 'my'), ('my', 'concerns'), ('concerns', 'about'), ('about', 'quality.'), ('quality.', 'The'), ('The', 'quality'), ('quality', 'was'), ('was', 'very'), ('very', 'good.'), ('The', 'toilet'), ('toilet', 'was'), ('was', 'easy'), ('easy', 'to'), ('to', 'install'), ('install', 'after'), ('after', 'having'), ('having', 'issues'), ('issues', 'removing'), ('removing', 'the'), ('the', 'old'), ('old', 'one.'), ('one.', 'I'), ('I', 'like'), ('like', 'the'), ('the', 'height'), ('height', 'compared'), ('compared', 'to'), ('to', 'the'), ('the', 'old'), ('old', 'smaller'), ('smaller', 'toilet'), ('toilet', 'we'), ('we', 'had.'), ('Good', 'product'), ('product', 'that'), ('that', 'is'), ('is', 'better'), ('better', 'than'), ('than', 'your'), ('your', 'standard'), ('standard', 'toilet.'), ('It', 'was'), ('was', 'easy'), ('easy', 'to'), ('to', 'put'), ('put', 'together.'), ('together.', 'It'), ('It', 'has'), ('has', 'a'), ('a', 'powerful'), ('powerful', 'flush'), ('flush', 'and'), ('and', 'it’s'), ('it’s', 'very'), ('very', 'quiet.'), ('We', 'got'), ('got', 'a'), ('a', 'toilet'), ('toilet', 'at'), ('at', 'Lowes.'), ('Lowes.', \"I'm\"), (\"I'm\", 'listing'), ('listing', 'this'), ('this', 'because'), ('because', 'there'), ('there', 'are'), ('are', 'so'), ('so', 'many'), ('many', 'brands'), ('brands', 'to'), ('to', 'choose'), ('choose', 'from'), ('from', 'and'), ('and', 'my'), ('my', 'choice'), ('choice', 'is'), ('is', 'made'), ('made', 'after'), ('after', 'research'), ('research', 'and'), ('and', 'reading'), ('reading', 'reviews'), ('reviews', 'and'), ('and', 'by'), ('by', 'my'), ('my', 'past'), ('past', 'experience'), ('experience', \"(I've\"), (\"(I've\", 'changed'), ('changed', 'my'), ('my', 'share'), ('share', 'in'), ('in', 'my'), ('my', 'life).'), ('life).', 'People'), ('People', 'seem'), ('seem', 'to'), ('to', 'hate'), ('hate', 'some'), ('some', 'and'), ('and', 'love'), ('love', 'others,'), ('others,', 'but'), ('but', 'I'), ('I', 'try'), ('try', 'to'), ('to', 'see'), ('see', \"what's\"), (\"what's\", 'available'), ('available', 'and'), ('and', 'seems'), ('seems', 'to'), ('to', 'be'), ('be', 'the'), ('the', 'best'), ('best', 'deal.'), ('deal.', 'Some'), ('Some', 'give'), ('give', 'you'), ('you', '1.6'), ('1.6', 'gallons'), ('gallons', 'per'), ('per', 'flush'), ('flush', 'but'), ('but', 'ours'), ('ours', 'gives'), ('gives', 'you'), ('you', '1.28.'), ('1.28.', \"It's\"), (\"It's\", 'an'), ('an', 'American'), ('American', 'Standard'), ('Standard', 'Mainstream'), ('Mainstream', '(elongated)'), ('(elongated)', 'for'), ('for', '$159.'), ('$159.', 'For'), ('For', '$149'), ('$149', 'you'), ('you', 'can'), ('can', 'get'), ('get', 'the'), ('the', 'same'), ('same', 'toilet'), ('toilet', 'but'), ('but', 'round.'), ('round.', 'It'), ('It', 'works'), ('works', 'good'), ('good', '(some'), ('(some', 'competing'), ('competing', 'toilets'), ('toilets', 'had'), ('had', 'pretty'), ('pretty', 'pathetic'), ('pathetic', 'flushing).'), ('flushing).', 'I'), ('I', 'timed'), ('timed', 'it'), ('it', 'and'), ('and', 'from'), ('from', 'flush'), ('flush', 'to'), ('to', 'full,'), ('full,', 'it'), ('it', 'takes'), ('takes', '20'), ('20', 'seconds'), ('seconds', '(that'), ('(that', 'surprised'), ('surprised', 'me).'), ('me).', 'We'), ('We', 'always'), ('always', 'replace'), ('replace', 'the'), ('the', 'cheap'), ('cheap', 'plastic'), ('plastic', 'seats'), ('seats', 'with'), ('with', 'white'), ('white', 'wood'), ('wood', 'seats...'), ('seats...', 'If'), ('If', 'you'), ('you', 'tighten'), ('tighten', 'all'), ('all', 'nuts'), ('nuts', 'with'), ('with', 'another'), ('another', 'nut'), ('nut', 'tightened'), ('tightened', 'against'), ('against', 'them,'), ('them,', 'they'), ('they', 'never'), ('never', 'come'), ('come', 'loose'), ('loose', '(I'), ('(I', 'do'), ('do', 'this'), ('this', 'with'), ('with', '3'), ('3', 'or'), ('or', '4'), ('4', 'nuts'), ('nuts', 'each'), ('each', 'time)...'), ('time)...', 'that'), ('that', 'is'), ('is', 'especially'), ('especially', 'important'), ('important', 'when'), ('when', 'attaching'), ('attaching', 'the'), ('the', 'seat.'), ('seat.', 'Seats'), ('Seats', 'always'), ('always', 'like'), ('like', 'to'), ('to', 'come'), ('come', 'loose.'), ('loose.', 'Use'), ('Use', '2'), ('2', 'rubber'), ('rubber', 'washers'), ('washers', 'per'), ('per', 'bolt'), ('bolt', 'to'), ('to', 'avoid'), ('avoid', 'cracking'), ('cracking', 'it'), ('it', '(even'), ('(even', 'with'), ('with', '2'), ('2', 'rubber'), ('rubber', 'washers,'), ('washers,', \"I'm\"), (\"I'm\", 'careful'), ('careful', 'not'), ('not', 'to'), ('to', 'over-tighten).'), ('over-tighten).', 'I'), ('I', 'always'), ('always', 'make'), ('make', 'sure'), ('sure', 'that'), ('that', 'the'), ('the', 'rubber'), ('rubber', 'washers'), ('washers', 'are'), ('are', 'directly'), ('directly', 'against'), ('against', 'the'), ('the', 'china.'), ('china.', 'On'), ('On', 'the'), ('the', '2'), ('2', 'bolts'), ('bolts', 'that'), ('that', 'attach'), ('attach', 'it'), ('it', 'to'), ('to', 'the'), ('the', 'floor,'), ('floor,', 'I'), ('I', 'stack'), ('stack', '2'), ('2', 'rubber'), ('rubber', 'washers.'), ('washers.', 'The'), ('The', 'middle'), ('middle', 'of'), ('of', 'each'), ('each', 'rubber'), ('rubber', 'washer'), ('washer', 'should'), ('should', 'be'), ('be', 'just'), ('just', 'big'), ('big', 'enough'), ('enough', 'to'), ('to', 'fit'), ('fit', 'around'), ('around', 'the'), ('the', 'bolt.'), ('bolt.', 'The'), ('The', 'outside'), ('outside', 'diameter'), ('diameter', 'of'), ('of', 'each'), ('each', 'rubber'), ('rubber', 'washer'), ('washer', 'should'), ('should', 'be'), ('be', 'big'), ('big', 'enough'), ('enough', 'to'), ('to', 'completely'), ('completely', 'cover'), ('cover', 'the'), ('the', 'hole,'), ('hole,', 'but'), ('but', 'not'), ('not', 'too'), ('too', 'big'), ('big', 'that'), ('that', 'it'), ('it', \"can't\"), (\"can't\", 'lay'), ('lay', 'flat'), ('flat', '(some'), ('(some', 'areas'), ('areas', 'give'), ('give', 'you'), ('you', 'much'), ('much', 'less'), ('less', 'room'), ('room', 'to'), ('to', 'work'), ('work', 'with).'), ('with).', 'I'), ('I', \"don't\"), (\"don't\", 'use'), ('use', 'ones'), ('ones', 'that'), ('that', 'are'), ('are', 'bigger'), ('bigger', 'than'), ('than', 'needed.'), ('needed.', 'On'), ('On', 'the'), ('the', 'bolts'), ('bolts', 'that'), ('that', 'bolt'), ('bolt', 'it'), ('it', 'to'), ('to', 'the'), ('the', 'floor,'), ('floor,', 'I'), ('I', 'make'), ('make', 'sure'), ('sure', 'that'), ('that', 'the'), ('the', 'washers'), ('washers', 'are'), ('are', 'small'), ('small', 'enough'), ('enough', 'to'), ('to', 'be'), ('be', 'hidden'), ('hidden', 'under'), ('under', 'the'), ('the', 'white'), ('white', 'screw'), ('screw', 'on'), ('on', 'caps.'), ('caps.', 'I'), ('I', 'cut'), ('cut', 'each'), ('each', 'bolt'), ('bolt', 'short'), ('short', 'enough'), ('enough', 'so'), ('so', 'they'), ('they', 'can'), ('can', 'screw'), ('screw', 'on'), ('on', 'clear'), ('clear', 'down'), ('down', 'to'), ('to', 'the'), ('the', 'china.'), ('china.', 'I'), ('I', 'only'), ('only', 'use'), ('use', 'stainless'), ('stainless', 'steel'), ('steel', 'washers'), ('washers', 'and'), ('and', 'bolts'), ('bolts', 'and'), ('and', 'nuts'), ('nuts', '(the'), ('(the', 'stainless'), ('stainless', 'steel'), ('steel', 'washers'), ('washers', 'go'), ('go', 'on'), ('on', 'top'), ('top', 'of'), ('of', 'the'), ('the', 'rubber'), ('rubber', 'washers).'), ('washers).', 'In'), ('In', 'the'), ('the', 'tank'), ('tank', 'you'), ('you', \"can't\"), (\"can't\", 'use'), ('use', 'a'), ('a', 'washer...'), ('washer...', 'just'), ('just', 'the'), ('the', 'bolt'), ('bolt', 'head'), ('head', 'on'), ('on', 'a'), ('a', 'rubber'), ('rubber', 'washer.'), ('washer.', \"It's\"), (\"It's\", 'surprising'), ('surprising', 'how'), ('how', 'long'), ('long', 'the'), ('the', 'rubber'), ('rubber', 'washers'), ('washers', 'last'), ('last', '(I'), ('(I', 'never'), ('never', 'have'), ('have', 'to'), ('to', 'change'), ('change', 'them).'), ('them).', 'In'), ('In', 'some'), ('some', 'applications,'), ('applications,', 'rubber'), ('rubber', \"doesn't\"), (\"doesn't\", 'last'), ('last', 'very'), ('very', 'long'), ('long', 'at'), ('at', 'all.'), ('The', 'lid'), ('lid', \"doesn't\"), (\"doesn't\", 'work'), ('work', 'like'), ('like', 'it'), ('it', 'says'), ('says', 'it'), ('it', 'does,'), ('does,', 'but'), ('but', 'I'), ('I', \"don't\"), (\"don't\", 'care.'), ('care.', 'This'), ('This', 'toilet'), ('toilet', 'is'), ('is', 'awesome!'), ('awesome!', 'It'), ('It', 'works'), ('works', 'really'), ('really', 'well,'), ('well,', 'and'), ('and', 'I'), ('I', 'have'), ('have', 'given'), ('given', 'it'), ('it', 'some'), ('some', 'challenges'), ('challenges', 'for'), ('for', 'sure.'), ('sure.', \"It's\"), (\"It's\", 'great.'), ('No', 'disappointments'), ('disappointments', 'here.'), ('here.', 'This'), ('This', 'well-made'), ('well-made', 'toilet'), ('toilet', 'comes'), ('comes', 'with'), ('with', 'everything'), ('everything', 'except'), ('except', 'the'), ('the', 'braided'), ('braided', 'water'), ('water', 'feed'), ('feed', 'hose.'), ('hose.', 'The'), ('The', 'installation'), ('installation', 'was'), ('was', 'easy.'), ('easy.', 'No'), ('No', 'problems'), ('problems', 'so'), ('so', 'far.'), ('far.', 'The'), ('The', 'instruction'), ('instruction', 'manual'), ('manual', 'could'), ('could', 'be'), ('be', 'more'), ('more', 'specific,'), ('specific,', 'but'), ('but', 'a'), ('a', 'call'), ('call', 'to'), ('to', 'the'), ('the', 'store'), ('store', 'manager,'), ('manager,', 'Mike'), ('Mike', 'in'), ('in', 'Ocala,'), ('Ocala,', 'FL,'), ('FL,', 'answered'), ('answered', 'all'), ('all', 'related'), ('related', 'questions'), ('questions', 'to'), ('to', 'make'), ('make', 'this'), ('this', 'a'), ('a', 'great'), ('great', 'purchase.'), ('This', 'toilet'), ('toilet', 'works'), ('works', 'well,'), ('well,', 'but'), ('but', 'when'), ('when', 'you'), ('you', 'sit'), ('sit', 'the'), ('the', 'tank'), ('tank', 'lid'), ('lid', 'bangs.'), ('bangs.', 'I'), ('I', 'added'), ('added', 'some'), ('some', 'bumper'), ('bumper', 'pads'), ('pads', 'between'), ('between', 'the'), ('the', 'lid'), ('lid', 'and'), ('and', 'the'), ('the', 'tank'), ('tank', 'and'), ('and', 'this'), ('this', 'seems'), ('seems', 'to'), ('to', 'help.'), ('Good', 'Enough,'), ('Enough,', 'an'), ('an', 'inch'), ('inch', 'too'), ('too', 'tall'), ('tall', 'and'), ('and', 'the'), ('the', 'toilet'), ('toilet', 'seat'), ('seat', 'is'), ('is', 'really'), ('really', 'cheap'), ('cheap', 'plastic.'), ('plastic.', 'The'), ('The', 'toilet'), ('toilet', 'itself'), ('itself', 'was'), ('was', 'an'), ('an', 'easy'), ('easy', 'install'), ('install', 'and'), ('and', 'doesnt'), ('doesnt', 'have'), ('have', 'any'), ('any', 'problems'), ('problems', 'at'), ('at', 'all.'), ('all.', 'Sturdy'), ('Sturdy', 'and'), ('and', 'doesnt'), ('doesnt', 'clog'), ('clog', 'easily.'), ('easily.', 'Cheap'), ('Cheap', 'but'), ('but', 'you'), ('you', 'will'), ('will', 'probably'), ('probably', 'want'), ('want', 'a'), ('a', 'different'), ('different', 'seat'), ('seat', 'and'), ('and', 'if'), ('if', 'you'), ('you', 'are'), ('are', 'shorter'), ('shorter', 'than'), ('than', '6ft'), ('6ft', 'you'), ('you', 'probably'), ('probably', 'wont'), ('wont', 'like'), ('like', 'sitting'), ('sitting', 'on'), ('on', 'it'), ('it', 'because'), ('because', 'of'), ('of', 'the'), ('the', 'height.'), ('Love', 'it'), ('This', 'toilet'), ('toilet', 'seems'), ('seems', 'just'), ('just', 'fine.'), ('fine.', 'The'), ('The', 'height'), ('height', 'is'), ('is', 'good'), ('good', 'and'), ('and', 'it'), ('it', 'flushes'), ('flushes', 'quickly'), ('quickly', 'and'), ('and', 'easily.'), ('One', 'of'), ('of', 'the'), ('the', 'screws'), ('screws', 'that'), ('that', 'connect'), ('connect', 'toilet'), ('toilet', 'bowl'), ('bowl', 'to'), ('to', 'back'), ('back', 'tank'), ('tank', 'broke'), ('broke', 'in'), ('in', 'two'), ('two', 'and'), ('and', 'flooded'), ('flooded', 'couple'), ('couple', 'of'), ('of', 'rooms.'), ('rooms.', 'When'), ('When', 'we'), ('we', 'tried'), ('tried', 'to'), ('to', 'find'), ('find', 'another,'), ('another,', 'we'), ('we', 'found'), ('found', 'out'), ('out', 'it'), ('it', 'was'), ('was', 'not'), ('not', 'a'), ('a', 'standard'), ('standard', 'screw'), ('screw', 'snd'), ('snd', 'no'), ('no', 'one'), ('one', 'in'), ('in', 'Metairie'), ('Metairie', 'area'), ('area', 'stocked'), ('stocked', 'them.'), ('them.', 'We'), ('We', 'had'), ('had', 'to'), ('to', 'buy'), ('buy', 'a'), ('a', 'stainless'), ('stainless', 'screw'), ('screw', 'to'), ('to', '“rig”'), ('“rig”', 'it!'), ('it!', 'Very'), ('Very', 'disappointing.'), ('I', 'wanted'), ('wanted', 'to'), ('to', 'upgrade'), ('upgrade', 'to'), ('to', 'an'), ('an', 'elongated'), ('elongated', 'toilet'), ('toilet', 'and'), ('and', 'American'), ('American', 'Standard'), ('Standard', 'came'), ('came', 'in'), ('in', 'second'), ('second', 'to'), ('to', 'Koehler.'), ('Koehler.', 'I'), ('I', 'purchased'), ('purchased', 'three'), ('three', 'of'), ('of', 'these'), ('these', 'and'), ('and', 'so'), ('so', 'far'), ('far', 'so'), ('so', 'good!'), ('good!', 'The'), ('The', 'water'), ('water', 'efficiency'), ('efficiency', 'is'), ('is', 'great.'), ('great.', 'It'), ('It', 'flushes'), ('flushes', 'smoothly,'), ('smoothly,', 'the'), ('the', 'seat'), ('seat', 'is'), ('is', 'sturdy,'), ('sturdy,', 'and'), ('and', 'the'), ('the', 'appearance'), ('appearance', 'looks'), ('looks', 'good,'), ('good,', 'not'), ('not', 'cheap.'), ('Well', 'built'), ('built', 'and'), ('and', 'easy'), ('easy', 'to'), ('to', 'assemble.'), ('assemble.', 'Installation'), ('Installation', 'was'), ('was', 'a'), ('a', 'breeze'), ('breeze', 'and'), ('and', 'adjusting'), ('adjusting', 'the'), ('the', 'water'), ('water', 'level'), ('level', 'is'), ('is', 'simple.'), ('This', 'toilet'), ('toilet', 'was'), ('was', 'difficult'), ('difficult', 'to'), ('to', 'install'), ('install', 'from'), ('from', 'the'), ('the', 'time'), ('time', 'I'), ('I', 'pulled'), ('pulled', 'it'), ('it', 'out'), ('out', 'the'), ('the', 'box.'), ('box.', 'The'), ('The', 'bolt'), ('bolt', 'for'), ('for', 'the'), ('the', 'base'), ('base', 'were'), ('were', 'much'), ('much', 'to'), ('to', 'short'), ('short', 'for'), ('for', 'my'), ('my', 'install'), ('install', 'so'), ('so', 'had'), ('had', 'to'), ('to', 'go'), ('go', 'purchase'), ('purchase', 'longer'), ('longer', 'bolts.'), ('bolts.', 'When'), ('When', 'I'), ('I', 'connected'), ('connected', 'the'), ('the', 'base'), ('base', 'to'), ('to', 'the'), ('the', 'tank'), ('tank', 'and'), ('and', 'turned'), ('turned', 'the'), ('the', 'water'), ('water', 'on,'), ('on,', 'water'), ('water', 'was'), ('was', 'leaking'), ('leaking', 'by'), ('by', 'the'), ('the', 'rubber'), ('rubber', 'washers.'), ('washers.', 'I'), ('I', 'installed'), ('installed', 'the'), ('the', 'whole'), ('whole', 'toilet'), ('toilet', 'per'), ('per', 'instructions.'), ('instructions.', 'After'), ('After', 'removing'), ('removing', 'the'), ('the', 'tank'), ('tank', 'and'), ('and', 'inspected'), ('inspected', 'the'), ('the', 'surface'), ('surface', 'area'), ('area', 'around'), ('around', 'the'), ('the', 'holes,'), ('holes,', 'the'), ('the', 'interior'), ('interior', 'of'), ('of', 'the'), ('the', 'tank'), ('tank', 'was'), ('was', 'extremely'), ('extremely', 'rough'), ('rough', 'and'), ('and', 'uneven.'), ('uneven.', 'I'), ('I', 'took'), ('took', 'a'), ('a', 'putty'), ('putty', 'knife'), ('knife', 'and'), ('and', 'removed'), ('removed', 'what'), ('what', 'I'), ('I', 'could.'), ('could.', 'I'), ('I', 'installed'), ('installed', 'the'), ('the', 'tank'), ('tank', 'again'), ('again', 'and'), ('and', 'it'), ('it', 'leaked'), ('leaked', 'again.'), ('again.', 'I'), ('I', 'removed'), ('removed', 'the'), ('the', 'tank'), ('tank', 'and'), ('and', 'proceeded'), ('proceeded', 'to'), ('to', 'sand'), ('sand', 'the'), ('the', 'inside'), ('inside', 'of'), ('of', 'the'), ('the', 'tank'), ('tank', 'until'), ('until', 'the'), ('the', 'surface'), ('surface', 'was'), ('was', 'smooth.'), ('smooth.', 'I'), ('I', 'installed'), ('installed', 'the'), ('the', 'tank'), ('tank', 'again'), ('again', 'and'), ('and', 'was'), ('was', 'finally'), ('finally', 'able'), ('able', 'to'), ('to', 'remedy'), ('remedy', 'the'), ('the', 'leak.'), ('leak.', 'I'), ('I', 'also'), ('also', 'Added'), ('Added', 'teflon'), ('teflon', 'tape'), ('tape', 'around'), ('around', 'the'), ('the', 'bolt'), ('bolt', 'to'), ('to', 'make'), ('make', 'the'), ('the', 'bolt'), ('bolt', 'and'), ('and', 'rubber'), ('rubber', 'washer'), ('washer', 'have'), ('have', 'better'), ('better', 'contact.'), ('contact.', 'This'), ('This', 'was'), ('was', 'by'), ('by', 'far'), ('far', 'the'), ('the', 'most'), ('most', 'difficult'), ('difficult', 'toilet'), ('toilet', 'I'), ('I', 'have'), ('have', 'ever'), ('ever', 'installed.'), ('Flushing', 'system'), ('system', 'not'), ('not', 'as'), ('as', 'good'), ('good', 'as'), ('as', 'previous'), ('previous', 'model'), ('model', 'from'), ('from', 'two'), ('two', 'years'), ('years', 'earlier'), ('(1)', 'need'), ('need', 'to'), ('to', 'get'), ('get', 'this'), ('this', 'fixed'), ('fixed', 'its'), ('its', 'wasting'), ('wasting', 'LOT'), ('LOT', 'of'), ('of', 'water'), ('water', '(2)'), ('(2)', 'Bought'), ('Bought', '2'), ('2', 'others'), ('others', 'Toilets,that'), ('Toilets,that', 'the'), ('the', 'BOX'), ('BOX', 'say'), ('say', '(Slow'), ('(Slow', 'Closing)'), ('Closing)', 'NOT'), ('NOT', 'Those'), ('Those', 'Two,False'), ('Two,False', 'Advertence'), ('Advertence', '?.'), ('Looks', 'good,'), ('good,', 'heavy'), ('heavy', '103lbs.'), ('103lbs.', 'heavy'), ('heavy', 'for'), ('for', 'one'), ('one', 'person,'), ('person,', 'no'), ('no', 'room'), ('room', 'for'), ('for', '2.'), ('I', 'always'), ('always', 'read'), ('read', 'the'), ('the', 'negative'), ('negative', 'reviews'), ('reviews', 'first'), ('first', 'and'), ('and', 'for'), ('for', 'toilets'), ('toilets', 'they'), ('they', 'always'), ('always', 'seem'), ('seem', 'to'), ('to', 'be'), ('be', 'the'), ('the', 'same'), ('same', 'leaks'), ('leaks', 'or'), ('or', 'cracks.'), ('cracks.', 'Anyway,'), ('Anyway,', 'I'), ('I', 'bought'), ('bought', 'this'), ('this', 'one'), ('one', 'as'), ('as', 'it'), ('it', 'was'), ('was', 'middle'), ('middle', 'of'), ('of', 'the'), ('the', 'road'), ('road', 'on'), ('on', 'price'), ('price', 'and'), ('and', 'I'), ('I', 'wanted'), ('wanted', 'a'), ('a', 'high'), ('high', 'elongated'), ('elongated', 'to'), ('to', 'replace'), ('replace', 'my'), ('my', 'short'), ('short', 'round'), ('round', 'one.'), ('one.', 'Upon'), ('Upon', 'getting'), ('getting', 'it'), ('it', 'home,'), ('home,', 'I'), ('I', 'inspected'), ('inspected', 'it'), ('it', 'for'), ('for', 'cracks'), ('cracks', 'and'), ('and', 'found'), ('found', 'none.'), ('none.', 'Installation'), ('Installation', 'was'), ('was', 'fairly'), ('fairly', 'easy'), ('easy', 'until'), ('until', 'I'), ('I', 'put'), ('put', 'the'), ('the', 'tank'), ('tank', 'on.'), ('on.', 'The'), ('The', 'right'), ('right', 'side'), ('side', 'bolt'), ('bolt', 'was'), ('was', 'leaking.'), ('leaking.', 'After'), ('After', 'draining'), ('draining', 'it'), ('it', 'and'), ('and', 'removing'), ('removing', 'the'), ('the', 'bolt,'), ('bolt,', 'I'), ('I', 'saw'), ('saw', 'a'), ('a', 'small'), ('small', '\"glob\"'), ('\"glob\"', 'of'), ('of', 'porcelain'), ('porcelain', 'next'), ('next', 'to'), ('to', 'the'), ('the', 'hole.'), ('hole.', 'This'), ('This', 'apparently'), ('apparently', 'was'), ('was', 'causing'), ('causing', 'the'), ('the', 'rubber'), ('rubber', 'washer'), ('washer', 'to'), ('to', 'not'), ('not', 'sit'), ('sit', 'flush'), ('flush', 'and'), ('and', 'seal.'), ('seal.', 'I'), ('I', 'used'), ('used', 'a'), ('a', 'dental'), ('dental', 'tool'), ('tool', 'to'), ('to', 'scrape'), ('scrape', 'it'), ('it', 'down'), ('down', 'and'), ('and', 'all'), ('all', 'was'), ('was', 'good'), ('good', 'after'), ('after', 'that.'), ('that.', 'I'), ('I', 'was'), ('was', 'also'), ('also', 'disappointed'), ('disappointed', 'at'), ('at', 'how'), ('how', 'low'), ('low', 'the'), ('the', 'tank'), ('tank', 'overflow'), ('overflow', 'sits.'), ('sits.', 'The'), ('The', 'tank'), ('tank', 'barely'), ('barely', 'fills'), ('fills', 'half'), ('half', 'way'), ('way', 'and'), ('and', 'dos'), ('dos', 'not'), ('not', 'let'), ('let', 'all'), ('all', 'of'), ('of', 'the'), ('the', 'water'), ('water', 'out'), ('out', 'unless'), ('unless', 'you'), ('you', 'hold'), ('hold', 'the'), ('the', 'handle'), ('handle', 'down.'), ('down.', 'However,'), ('However,', 'it'), ('it', 'does'), ('does', 'seem'), ('seem', 'to'), ('to', 'flush'), ('flush', 'sufficiently,'), ('sufficiently,', 'so'), ('so', 'perhaps'), ('perhaps', 'the'), ('the', 'design'), ('design', 'is'), ('is', 'ok.'), ('ok.', 'Time'), ('Time', 'will'), ('will', 'tell.'), ('tell.', 'They'), ('They', 'do'), ('do', 'make'), ('make', 'tube'), ('tube', 'extensions'), ('extensions', 'to'), ('to', 'allow'), ('allow', 'filling'), ('filling', 'the'), ('the', 'tank'), ('tank', 'more,'), ('more,', 'but'), ('but', 'that'), ('that', 'will'), ('will', 'be'), ('be', 'a'), ('a', 'last'), ('last', 'resort.'), ('resort.', 'Overall,'), ('Overall,', 'I'), ('I', 'am'), ('am', 'pleased'), ('pleased', 'with'), ('with', 'it.'), ('it.', 'I'), ('I', 'dropped'), ('dropped', 'one'), ('one', 'star'), ('star', 'for'), ('for', 'the'), ('the', 'QC'), ('QC', 'on'), ('on', 'the'), ('the', 'tank'), ('tank', 'and'), ('and', 'for'), ('for', 'the'), ('the', 'short'), ('short', 'overflow'), ('overflow', 'tube.'), ('tube.', 'They'), ('They', 'could'), ('could', 'have'), ('have', 'made'), ('made', 'it'), ('it', 'longer'), ('longer', 'and'), ('and', 'let'), ('let', 'the'), ('the', 'customer'), ('customer', 'decide'), ('decide', 'how'), ('how', 'much'), ('much', 'water'), ('water', 'to'), ('to', 'use.'), ('Water', 'saver,'), ('saver,', 'flush'), ('flush', 'is'), ('is', 'strong'), ('strong', 'but'), ('but', 'quiet.'), ('quiet.', 'This'), ('This', 'is'), ('is', 'ADA'), ('ADA', 'compliant'), ('compliant', 'so'), ('so', 'the'), ('the', 'height'), ('height', 'is'), ('is', 'just'), ('just', 'right'), ('right', 'too.'), ('Installed', 'this'), ('this', 'item'), ('item', 'in'), ('in', 'my'), ('my', 'master'), ('master', 'bath.'), ('bath.', 'In'), ('In', 'my'), ('my', 'other'), ('other', 'bath,'), ('bath,', 'I'), ('I', 'have'), ('have', 'a'), ('a', 'higher'), ('higher', 'end'), ('end', 'American'), ('American', 'Standard.'), ('Standard.', 'The'), ('The', 'one'), ('one', 'that'), ('that', 'has'), ('has', 'a'), ('a', 'picture'), ('picture', 'of'), ('of', 'a'), ('a', 'bucket'), ('bucket', 'of'), ('of', 'golf'), ('golf', 'balls'), ('balls', 'on'), ('on', 'the'), ('the', 'box.'), ('box.', 'This'), ('This', 'lower'), ('lower', 'end'), ('end', 'American'), ('American', 'standard'), ('standard', \"doesn't\"), (\"doesn't\", 'compare'), ('compare', 'to'), ('to', 'the'), ('the', 'higher'), ('higher', 'end'), ('end', 'model.'), ('model.', 'Had'), ('Had', 'to'), ('to', 'return'), ('return', 'first'), ('first', 'one'), ('one', 'because'), ('because', 'when'), ('when', 'I'), ('I', 'got'), ('got', 'home....I'), ('home....I', 'noticed'), ('noticed', 'a'), ('a', 'chip'), ('chip', 'in'), ('in', 'the'), ('the', 'bowl'), ('bowl', 'right'), ('right', 'before'), ('before', 'I'), ('I', 'installed'), ('installed', 'it.'), ('it.', 'Second'), ('Second', 'had'), ('had', 'a'), ('a', 'few'), ('few', 'blemishes'), ('blemishes', 'but'), ('but', 'none'), ('none', 'inside'), ('inside', 'the'), ('the', 'bowl.'), ('bowl.', 'Seems'), ('Seems', 'these'), ('these', 'are'), ('are', 'lower'), ('lower', 'end'), ('end', 'toilets.'), ('toilets.', 'I'), ('I', 'just'), ('just', 'installed'), ('installed', 'so'), ('so', \"can't\"), (\"can't\", 'comment'), ('comment', 'on'), ('on', 'the'), ('the', 'performance'), ('performance', 'yet.'), ('yet.', 'I'), ('I', 'am'), ('am', 'sure'), ('sure', 'it'), ('it', 'will'), ('will', 'work'), ('work', 'fine.'), ('fine.', 'No'), ('No', 'soft-close'), ('soft-close', 'lid'), ('lid', 'either'), ('either', 'compared'), ('compared', 'to'), ('to', 'higher'), ('higher', 'end'), ('end', 'models.'), ('models.', 'Others'), ('Others', 'comment'), ('comment', 'that'), ('that', 'is'), ('is', 'states'), ('states', 'on'), ('on', 'the'), ('the', 'box'), ('box', 'about'), ('about', 'the'), ('the', 'slow'), ('slow', 'close'), ('close', 'seat,'), ('seat,', 'but'), ('but', 'it'), ('it', \"didn't\"), (\"didn't\", 'on'), ('on', 'my'), ('my', 'box,'), ('box,', 'so'), ('so', 'I'), ('I', 'will'), ('will', 'deal'), ('deal', 'with'), ('with', 'that.'), ('that.', 'I'), ('I', 'am'), ('am', 'not'), ('not', 'hear'), ('hear', 'to'), ('to', 'bash'), ('bash', 'American'), ('American', 'Standard....just'), ('Standard....just', 'pay'), ('pay', 'the'), ('the', 'extra'), ('extra', 'money'), ('money', 'and'), ('and', 'get'), ('get', 'the'), ('the', 'Champion'), ('Champion', 'version'), ('version', '(look'), ('(look', 'for'), ('for', 'the'), ('the', 'golf'), ('golf', 'balls'), ('balls', 'on'), ('on', 'the'), ('the', 'box!)'), ('I', 'hate'), ('hate', 'this'), ('this', 'toilet.'), ('toilet.', \"It's\"), (\"It's\", 'a'), ('a', 'poor'), ('poor', 'design'), ('design', 'VERY'), ('VERY', 'uncomfortable'), ('uncomfortable', 'seating.'), ('seating.', 'When'), ('When', 'you'), ('you', 'flush'), ('flush', 'it,'), ('it,', 'you'), ('you', \"can't\"), (\"can't\", 'even'), ('even', 'tell'), ('tell', 'if'), ('if', 'the'), ('the', 'water'), ('water', 'went'), ('went', 'out'), ('out', 'properly,'), ('properly,', 'there'), ('there', 'is'), ('is', '\"no'), ('\"no', 'sound\".'), ('sound\".', \"it's\"), (\"it's\", 'weird,'), ('weird,', 'uncomfortable,'), ('uncomfortable,', 'cheap'), ('cheap', 'plastic'), ('plastic', 'seat'), ('seat', 'cover'), ('cover', 'that'), ('that', 'will'), ('will', 'obviously'), ('obviously', 'with'), ('with', 'anyone'), ('anyone', 'over'), ('over', '120'), ('120', 'lbs.'), ('lbs.', \"Don't\"), (\"Don't\", 'waste'), ('waste', 'your'), ('your', 'time.'), ('The', 'extra'), ('extra', 'lenght'), ('lenght', 'and'), ('and', 'width'), ('width', 'keep'), ('keep', 'me'), ('me', 'from'), ('from', 'sliding'), ('sliding', 'off.'), ('Very', 'nice.'), ('nice.', 'Easy'), ('Easy', 'installation.'), ('installation.', 'Everything'), ('Everything', 'was'), ('was', 'included.'), ('Should', 'have'), ('have', 'wing'), ('wing', 'nuts'), ('nuts', 'on'), ('on', 'the'), ('the', 'tank'), ('tank', 'bolts.'), ('bolts.', 'Our'), ('Our', 'toilet'), ('toilet', 'was'), ('was', 'missing'), ('missing', 'the'), ('the', 'rubber'), ('rubber', 'washer'), ('washer', 'for'), ('for', 'tank.'), ('tank.', 'Bolts'), ('Bolts', 'at'), ('at', 'bottom'), ('bottom', 'are'), ('are', 'too'), ('too', 'long'), ('long', 'to'), ('to', 'attach'), ('attach', 'the'), ('the', 'plastic'), ('plastic', 'bolt'), ('bolt', 'covers.'), ('covers.', 'We'), ('We', 'will'), ('will', 'have'), ('have', 'to'), ('to', 'cut.'), ('cut.', 'Bad'), ('Bad', 'design'), ('design', 'all'), ('all', 'around.'), ('around.', 'Very'), ('Very', 'disappointed.'), ('Excellent', 'installation,'), ('installation,', 'friendly'), ('friendly', 'tech,'), ('tech,', 'clean'), ('clean', 'install.'), ('The', 'install'), ('install', 'was'), ('was', 'simple,'), ('simple,', 'however'), ('however', 'there'), ('there', 'are'), ('are', 'two'), ('two', 'glaring'), ('glaring', 'issues.'), ('issues.', 'First,'), ('First,', 'the'), ('the', 'seat'), ('seat', 'is'), ('is', 'NOT'), ('NOT', 'a'), ('a', 'soft'), ('soft', 'close'), ('close', 'toilet'), ('toilet', 'seat.'), ('seat.', 'Second,'), ('Second,', 'the'), ('the', 'top'), ('top', 'portion'), ('portion', 'does'), ('does', 'not'), ('not', 'lock'), ('lock', 'into'), ('into', 'place'), ('place', 'with'), ('with', 'the'), ('the', 'bottom'), ('bottom', 'portion,'), ('portion,', 'leaving'), ('leaving', 'it'), ('it', 'unstable'), ('unstable', 'and'), ('and', 'prone'), ('prone', 'to'), ('to', 'leaking.'), ('leaking.', 'I'), ('I', 'just'), ('just', 'purchased'), ('purchased', 'this'), ('this', 'thing'), ('thing', 'and'), ('and', 'will'), ('will', 'have'), ('have', 'to'), ('to', 'pay'), ('pay', 'a'), ('a', 'professional'), ('professional', 'to'), ('to', 'come'), ('come', 'out'), ('out', 'and'), ('and', 'manufacture'), ('manufacture', 'a'), ('a', 'solution.'), ('solution.', 'I'), ('I', 'couldnt'), ('couldnt', 'be'), ('be', 'more'), ('more', 'disappointed.'), ('Liked', 'that'), ('that', 'it'), ('it', 'was'), ('was', '2'), ('2', 'pieces,'), ('pieces,', 'made'), ('made', 'it'), ('it', 'easy'), ('easy', 'to'), ('to', 'move.'), ('move.', 'I'), ('I', 'would'), ('would', 'have'), ('have', 'liked'), ('liked', 'to'), ('to', 'have'), ('have', 'known'), ('known', 'before'), ('before', 'hand'), ('hand', 'that'), ('that', 'using'), ('using', 'shims'), ('shims', 'are'), ('are', 'common.'), ('common.', 'When'), ('When', 'we'), ('we', 'put'), ('put', 'it'), ('it', 'on'), ('on', 'the'), ('the', 'wax'), ('wax', 'ring,'), ('ring,', 'it'), ('it', 'wobbled'), ('wobbled', 'a'), ('a', 'lot'), ('lot', 'and'), ('and', 'we'), ('we', 'thought'), ('thought', 'we'), ('we', 'screwed'), ('screwed', 'it'), ('it', 'up.'), ('up.', 'After'), ('After', 'putting'), ('putting', 'a'), ('a', 'few'), ('few', 'shims'), ('shims', 'in,'), ('in,', \"it's\"), (\"it's\", 'level'), ('level', 'and'), ('and', 'works'), ('works', 'great.'), ('great.', 'Also,'), ('Also,', 'measure'), ('measure', 'the'), ('the', 'distance'), ('distance', 'of'), ('of', 'the'), ('the', 'tube'), ('tube', 'you'), ('you', 'need.'), ('need.', 'We'), ('We', 'winged'), ('winged', 'it'), ('it', 'and'), ('and', 'ended'), ('ended', 'up'), ('up', 'having'), ('having', 'to'), ('to', 'get'), ('get', 'back'), ('back', 'to'), ('to', 'the'), ('the', 'store'), ('store', 'like'), ('like', '3'), ('3', 'times.'), ('Flushes', 'quiet'), ('quiet', 'and'), ('and', 'like'), ('like', 'it'), ('it', 'because'), ('because', 'it’s'), ('it’s', 'taller.'), ('taller.', 'Had'), ('Had', 'knee'), ('knee', 'replacements'), ('replacements', 'so'), ('so', 'height'), ('height', 'helps'), ('Toilet', 'is'), ('is', 'quiet'), ('quiet', 'in'), ('in', 'filling'), ('filling', 'the'), ('the', 'tank.'), ('tank.', 'Has'), ('Has', 'that'), ('that', '“gulp”'), ('“gulp”', 'sound'), ('sound', 'at'), ('at', 'end'), ('end', 'of'), ('of', 'flush'), ('flush', 'but'), ('but', 'is'), ('is', 'efficient.'), ('efficient.', 'My'), ('My', 'toilet'), ('toilet', 'came'), ('came', 'with'), ('with', 'a'), ('a', '“slammer”'), ('“slammer”', 'seat'), ('seat', 'but'), ('but', 'advertised'), ('advertised', 'on'), ('on', 'box'), ('box', 'was'), ('was', 'to'), ('to', 'have'), ('have', 'a'), ('a', 'slow'), ('slow', 'close'), ('close', 'seat.'), ('seat.', 'I'), ('I', 'contacted'), ('contacted', 'Customer'), ('Customer', 'Service'), ('Service', 'after'), ('after', 'I'), ('I', 'registered'), ('registered', 'it'), ('it', 'and'), ('and', 'within'), ('within', '24'), ('24', 'hrs'), ('hrs', 'received'), ('received', 'replay'), ('replay', 'that'), ('that', 'they'), ('they', 'would'), ('would', 'send'), ('send', 'a'), ('a', 'replacement.'), ('replacement.', 'Got'), ('Got', 'new'), ('new', 'seat'), ('seat', 'a'), ('a', 'week'), ('week', 'later.'), ('later.', 'All'), ('All', 'is'), ('is', 'just'), ('just', 'as'), ('as', 'it'), ('it', 'should'), ('should', 'be.'), ('be.', 'Recommended'), ('Recommended', 'purchase.'), ('The', 'toilet'), ('toilet', 'was'), ('was', 'easy'), ('easy', 'to'), ('to', 'install'), ('install', 'for'), ('for', 'me.'), ('me.', 'I'), ('I', 'gave'), ('gave', 'it'), ('it', 'a'), ('a', 'four-star'), ('four-star', 'because'), ('because', 'someone'), ('someone', 'put'), ('put', 'the'), ('the', 'wrong'), ('wrong', 'bolts'), ('bolts', 'in'), ('in', 'the'), ('the', 'box.'), ('box.', 'For'), ('For', 'tank'), ('tank', 'to'), ('to', 'bowl.'), ('bowl.', 'So'), ('So', 'I'), ('I', 'had'), ('had', 'to'), ('to', 'go'), ('go', 'to'), ('to', 'the'), ('the', 'store'), ('store', 'and'), ('and', 'buy'), ('buy', 'some'), ('some', 'bolts'), ('bolts', 'to'), ('to', 'finish'), ('finish', 'installing'), ('installing', 'the'), ('the', 'toilet.'), ('toilet.', 'Everything'), ('Everything', 'else'), ('else', 'is'), ('is', 'great.'), ('great.', 'It'), ('It', 'has'), ('has', 'a'), ('a', 'strong'), ('strong', 'flush.'), ('flush.', 'I'), ('I', 'did'), ('did', 'not'), ('not', 'have'), ('have', 'to'), ('to', 'adjust'), ('adjust', 'the'), ('the', 'flapper.'), ('flapper.', 'The'), ('The', 'toilet'), ('toilet', 'seat'), ('seat', 'is'), ('is', 'a'), ('a', 'little'), ('little', 'flimsy.'), ('flimsy.', 'I'), ('I', 'use'), ('use', 'my'), ('my', 'toilet'), ('toilet', 'seat'), ('seat', 'because'), ('because', 'I'), ('I', 'had'), ('had', 'already'), ('already', 'upgraded'), ('upgraded', 'it.'), ('We', 'researched'), ('researched', 'and'), ('and', 'knew'), ('knew', 'the'), ('the', 'product.'), ('product.', \"It's\"), (\"It's\", 'very'), ('very', 'reliable'), ('reliable', 'and'), ('and', 'fits'), ('fits', 'the'), ('the', 'needs.'), ('needs.', 'No'), ('No', 'soft-close'), ('soft-close', 'lid,'), ('lid,', 'though,'), ('though,', 'as'), ('as', 'the'), ('the', 'box'), ('box', 'says.'), ('would', 'have'), ('have', 'rated'), ('rated', 'it'), ('it', 'a'), ('a', 'five'), ('five', 'but'), ('but', 'the'), ('the', 'advertised'), ('advertised', 'soft'), ('soft', 'close'), ('close', 'seat'), ('seat', 'was'), ('was', 'not'), ('not', 'included'), ('included', 'and'), ('and', 'i'), ('i', 'was'), ('was', 'fully'), ('fully', 'expecting'), ('expecting', 'it'), ('it', 'to'), ('to', 'be'), ('be', 'in'), ('in', 'the'), ('the', 'box,'), ('box,', 'but'), ('but', 'it'), ('it', \"wasan't\"), (\"wasan't\", '.'), ('.', 'other'), ('other', 'wise'), ('wise', 'i'), ('i', 'love'), ('love', 'it.'), ('it.', 'will'), ('will', 'be'), ('be', 'contacting'), ('contacting', 'you'), ('you', 'later'), ('later', 'about'), ('about', 'this'), ('this', 'one'), ('one', 'and'), ('and', 'the'), ('the', 'one'), ('one', 'i'), ('i', 'bought'), ('bought', 'a'), ('a', 'couple'), ('couple', 'of'), ('of', 'weeks'), ('weeks', 'earlier.better'), ('earlier.better', 'get'), ('get', 'readybecause'), ('readybecause', 'i'), ('i', 'want'), ('want', 'my'), ('my', '2'), ('2', 'soft'), ('soft', 'close'), ('close', 'seats'), ('seats', 'as'), ('as', 'advertised'), ('advertised', 'on'), ('on', 'the'), ('the', 'boxes.!'), ('Looks', 'great'), ('great', '&'), ('&', 'works'), ('works', 'well'), ('well', '-'), ('-', 'easy'), ('easy', 'to'), ('to', 'install'), ('install', '-'), ('-', 'perfect'), ('perfect', 'for'), ('for', 'our'), ('our', 'bathroom'), ('Perfect', 'for'), ('for', 'smaller'), ('smaller', 'bathrooms.'), ('bathrooms.', 'Looks'), ('Looks', 'great'), ('great', 'and'), ('and', 'works'), ('works', 'great.'), ('Easy', 'to'), ('to', 'Install'), ('Install', 'I'), ('I', 'love'), ('love', 'American'), ('American', 'Standard'), ('Standard', 'Products!!'), ('Just', 'bought'), ('bought', 'this'), ('this', 'unit,'), ('unit,', 'came'), ('came', 'home'), ('home', 'and'), ('and', 'installed'), ('installed', 'it.'), ('it.', 'The'), ('The', 'flush'), ('flush', 'valve'), ('valve', 'on'), ('on', 'this'), ('this', 'unit'), ('unit', 'does'), ('does', 'not'), ('not', 'have'), ('have', 'adequate'), ('adequate', 'force'), ('force', 'to'), ('to', 'flush'), ('flush', 'waste'), ('waste', 'without'), ('without', 'having'), ('having', 'to'), ('to', 'flush'), ('flush', 'several'), ('several', 'times'), ('times', 'thus'), ('thus', 'defeating'), ('defeating', 'the'), ('the', 'water'), ('water', 'saving'), ('saving', 'feature.'), ('feature.', 'The'), ('The', 'supplied'), ('supplied', 'seat'), ('seat', 'is'), ('is', 'not'), ('not', 'self'), ('self', 'close.'), ('close.', 'Very'), ('Very', 'disappointed'), ('disappointed', 'Will'), ('Will', 'need'), ('need', 'to'), ('to', 'deinstall'), ('deinstall', 'and'), ('and', 'take'), ('take', 'it'), ('it', 'back.'), ('We', 'purchased'), ('purchased', 'this'), ('this', 'toilet'), ('toilet', 'as'), ('as', 'the'), ('the', 'brand'), ('brand', 'is'), ('is', 'a'), ('a', 'good'), ('good', 'brand'), ('brand', 'and'), ('and', 'it'), ('it', 'was'), ('was', 'a'), ('a', 'water'), ('water', 'saver'), ('saver', 'toilet'), ('toilet', 'but'), ('but', 'seeing'), ('seeing', 'as'), ('as', 'we'), ('we', 'have'), ('have', 'to'), ('to', 'flush'), ('flush', 'it'), ('it', 'twice'), ('twice', 'to'), ('to', 'get'), ('get', 'it'), ('it', 'to'), ('to', 'go'), ('go', 'down'), ('down', 'is'), ('is', 'not'), ('not', 'saving'), ('saving', 'any'), ('any', 'water'), ('water', 'for'), ('for', 'us!'), ('us!', 'I'), ('I', 'hate'), ('hate', 'to'), ('to', 'see'), ('see', 'my'), ('my', 'water'), ('water', 'bill'), ('bill', 'since'), ('since', 'installing'), ('installing', 'this'), ('this', 'toilet!'), ('toilet!', 'The'), ('The', 'only'), ('only', 'positive'), ('positive', 'to'), ('to', 'this'), ('this', 'toilet'), ('toilet', 'is'), ('is', 'the'), ('the', 'height'), ('height', 'of'), ('of', 'it,'), ('it,', 'that'), ('that', 'is'), ('is', 'it!'), ('Installed', 'this'), ('this', 'about'), ('about', '8'), ('8', 'months'), ('months', 'ago.'), ('ago.', 'Zero'), ('Zero', 'issues'), ('issues', 'until'), ('until', 'this'), ('this', 'weekend.'), ('weekend.', 'Water'), ('Water', 'is'), ('is', 'leaking'), ('leaking', 'out'), ('out', 'of'), ('of', 'the'), ('the', 'bottom'), ('bottom', 'each'), ('each', 'time'), ('time', \"it's\"), (\"it's\", 'flushed.'), ('flushed.', \"I'm\"), (\"I'm\", 'pretty'), ('pretty', 'sure'), ('sure', \"it's\"), (\"it's\", 'the'), ('the', 'ring'), ('ring', 'I'), ('I', 'used,'), ('used,', 'but'), ('but', 'will'), ('will', 'update'), ('update', 'review'), ('review', 'after'), ('after', 'I'), ('I', 'swap'), ('swap', 'that'), ('that', 'out.'), ('out.', 'If'), ('If', 'that'), ('that', 'fixes'), ('fixes', 'the'), ('the', 'leaking,'), ('leaking,', 'I'), ('I', 'have'), ('have', 'had'), ('had', 'zero'), ('zero', 'issues'), ('issues', 'with'), ('with', 'it'), ('it', 'and'), ('and', \"it's\"), (\"it's\", 'in'), ('in', 'the'), ('the', \"kid's\"), (\"kid's\", 'bathroom.'), ('Nice', 'affordable'), ('affordable', 'toilet.'), ('toilet.', 'One'), ('One', 'box'), ('box', 'was'), ('was', 'broken'), ('broken', 'so'), ('so', 'we'), ('we', 'had'), ('had', 'to'), ('to', 'get'), ('get', 'a'), ('a', 'new'), ('new', 'one.'), ('one.', 'Easy'), ('Easy', 'to'), ('to', 'install.'), ('install.', 'The'), ('The', 'seat'), ('seat', 'is'), ('is', 'a'), ('a', 'bit'), ('bit', 'cheap'), ('cheap', 'and'), ('and', 'is'), ('is', 'not'), ('not', 'a'), ('a', 'soft'), ('soft', 'close'), ('close', 'so'), ('so', 'you'), ('you', 'may'), ('may', 'want'), ('want', 'to'), ('to', 'consider'), ('consider', 'a'), ('a', 'more'), ('more', 'expensive'), ('expensive', 'toilet'), ('toilet', 'if'), ('if', 'that’s'), ('that’s', 'important'), ('important', 'to'), ('to', 'you.'), ('you.', 'If'), ('If', 'you'), ('you', 'buy'), ('buy', 'a'), ('a', 'new'), ('new', 'seat,'), ('seat,', 'the'), ('the', 'price'), ('price', 'is'), ('is', 'comparable'), ('comparable', 'to'), ('to', 'more'), ('more', 'expensive'), ('expensive', 'options.'), ('Looks', 'okay'), ('okay', 'but'), ('but', 'the'), ('the', 'seat'), ('seat', 'is'), ('is', 'thin'), ('thin', 'plastic'), ('plastic', 'and'), ('and', 'not'), ('not', 'comfy.'), ('comfy.', 'I'), ('I', 'wish'), ('wish', 'I'), ('I', 'had'), ('had', 'made'), ('made', 'a'), ('a', 'better'), ('better', 'choice.'), ('choice.', 'It'), ('It', 'is'), ('is', 'in'), ('in', 'the'), ('the', 'guest'), ('guest', 'bathroom,'), ('bathroom,', 'so'), ('so', 'I'), ('I', 'suppose'), ('suppose', 'it'), ('it', 'is'), ('is', 'okay.'), ('It', 'is'), ('is', 'very'), ('very', 'small.'), ('small.', 'When'), ('When', 'I'), ('I', 'replace'), ('replace', 'it,'), ('it,', 'I'), ('I', 'will'), ('will', 'come'), ('come', 'in'), ('in', 'and'), ('and', 'pick'), ('pick', 'one'), ('one', 'out.'), ('out.', 'Never'), ('Never', 'buy'), ('buy', 'on'), ('on', 'line!!'), ('Nice', 'toilet.'), ('toilet.', 'Chair'), ('Chair', 'height'), ('height', 'and'), ('and', 'oval'), ('oval', 'bowl.'), ('bowl.', 'Missing'), ('Missing', 'one'), ('one', 'of'), ('of', 'the'), ('the', 'rubber'), ('rubber', 'seals'), ('seals', 'for'), ('for', 'the'), ('the', 'tank'), ('tank', 'bolts.'), ('bolts.', 'Really'), ('Really', 'needs'), ('needs', 'a'), ('a', 'flush'), ('flush', 'mounted'), ('mounted', 'flange'), ('flange', 'or'), ('or', 'thin'), ('thin', 'flange.'), ('flange.', 'Maybe'), ('Maybe', 'it'), ('it', 'would'), ('would', 'have'), ('have', 'been'), ('been', 'a'), ('a', 'better'), ('better', 'fit'), ('fit', 'for'), ('for', 'new'), ('new', 'construction'), ('construction', 'rather'), ('rather', 'than'), ('than', 'a'), ('a', 'replacement.'), ('The', 'flush'), ('flush', 'valve'), ('valve', 'seal'), ('seal', 'was'), ('was', 'unbelievably'), ('unbelievably', 'missing,'), ('missing,', 'obviously'), ('obviously', 'a'), ('a', 'factory'), ('factory', 'installation'), ('installation', 'major'), ('major', 'mistake.'), ('mistake.', 'If'), ('If', 'the'), ('the', 'seal'), ('seal', 'had'), ('had', 'not'), ('not', 'been'), ('been', 'looked'), ('looked', 'for'), ('for', 'prior'), ('prior', 'to'), ('to', 'turning'), ('turning', 'on'), ('on', 'the'), ('the', 'water'), ('water', 'source'), ('source', 'it'), ('it', 'could'), ('could', 'have'), ('have', 'caused'), ('caused', 'major'), ('major', 'flooding.'), ('Everything', 'went'), ('went', '100%'), ('100%', 'with'), ('with', 'installation.'), ('installation.', \"Couldn't\"), (\"Couldn't\", 'believe'), ('believe', 'how'), ('how', 'little'), ('little', 'water'), ('water', 'it'), ('it', 'uses.'), ('uses.', 'The'), ('The', 'only'), ('only', 'thing'), ('thing', 'i'), ('i', 'expected'), ('expected', 'was'), ('was', 'i'), ('i', 'was'), ('was', 'under'), ('under', 'the'), ('the', 'impression'), ('impression', 'it'), ('it', 'came'), ('came', 'with'), ('with', 'a'), ('a', 'slow'), ('slow', 'close'), ('close', 'seat'), ('seat', 'and'), ('and', 'it'), ('it', 'only'), ('only', 'had'), ('had', 'a'), ('a', 'reg'), ('reg', 'seat'), ('Thank', 'you'), ('you', 'for'), ('for', 'building'), ('building', 'such'), ('such', 'a'), ('a', 'great'), ('great', 'toliet.'), ('toliet.', 'We'), ('We', 'were'), ('were', 'having'), ('having', 'problems'), ('problems', 'with'), ('with', 'our'), ('our', 'prior'), ('prior', 'toliet.'), ('toliet.', 'We'), ('We', 'brought'), ('brought', 'this'), ('this', 'toliet'), ('toliet', 'and'), ('and', 'it'), ('it', 'work'), ('work', 'greats!!!'), ('greats!!!', 'No'), ('No', 'clogging,'), ('clogging,', 'easy'), ('easy', 'to'), ('to', 'instal'), ('instal', 'as'), ('as', 'well!!'), ('well!!', 'Thank'), ('Thank', 'you'), ('you', 'again!!!!'), ('Product', 'is'), ('is', 'replacement'), ('replacement', 'during'), ('during', 'renovation.'), ('renovation.', 'Fits'), ('Fits', 'well'), ('well', 'In'), ('In', 'new'), ('new', 'bath'), ('bath', 'and'), ('and', 'looks'), ('looks', 'good'), ('good', 'and'), ('and', 'wife'), ('wife', 'pleased'), ('pleased', 'other'), ('other', 'than'), ('than', 'some'), ('some', 'parts'), ('parts', 'had'), ('had', 'to'), ('to', 'be'), ('be', 'replaced'), ('replaced', 'as'), ('as', 'it'), ('it', 'did'), ('did', 'not'), ('not', 'have'), ('have', 'spring'), ('spring', 'slow'), ('slow', 'moving'), ('moving', 'lid.'), ('Ready', 'to'), ('to', 'install.'), ('install.', 'Just'), ('Just', 'put'), ('put', 'the'), ('the', 'back'), ('back', 'on'), ('on', 'and'), ('and', 'onto'), ('onto', 'the'), ('the', 'floor!'), ('floor!', 'Oval'), ('Oval', 'seat'), ('seat', 'toilets'), ('toilets', 'are'), ('are', 'definitely'), ('definitely', 'different'), ('different', 'sizes'), ('sizes', 'so'), ('so', 'make'), ('make', 'sure'), ('sure', 'it’s'), ('it’s', 'the'), ('the', 'actual'), ('actual', 'seat'), ('seat', 'size'), ('size', 'you'), ('you', 'were'), ('were', 'looking'), ('looking', 'for.'), ('The', 'single'), ('single', 'flush'), ('flush', 'works'), ('works', 'smoothly'), ('smoothly', 'with'), ('with', 'little'), ('little', 'effort.'), ('effort.', 'My'), ('My', 'only'), ('only', 'issue'), ('issue', 'so'), ('so', 'far'), ('far', 'is'), ('is', 'that'), ('that', 'the'), ('the', 'water'), ('water', 'splashes'), ('splashes', 'back'), ('back', 'on'), ('on', 'you.'), ('you.', 'I'), ('I', 'will'), ('will', 'have'), ('have', 'to'), ('to', 'find'), ('find', 'out'), ('out', 'about'), ('about', 'making'), ('making', 'an'), ('an', 'adjustment.'), ('Quality', '-'), ('-', 'easy'), ('easy', 'to'), ('to', 'install'), ('install', 'product;'), ('product;', 'came'), ('came', 'with'), ('with', 'all'), ('all', 'parts'), ('parts', 'required.'), ('required.', 'Nice'), ('Nice', 'ride'), ('ride', 'height!'), ('height!', 'Chose'), ('Chose', 'to'), ('to', 'use'), ('use', 'a'), ('a', 'rubber'), ('rubber', 'ring'), ('ring', 'seal'), ('seal', 'instead'), ('instead', 'of'), ('of', 'the'), ('the', 'supplied'), ('supplied', 'wax'), ('wax', 'ring.'), ('Very', 'nice'), ('nice', 'replacement.'), ('replacement.', 'I'), ('I', 'got'), ('got', 'one'), ('one', 'that'), ('that', 'is'), ('is', 'a'), ('a', 'little'), ('little', 'bit'), ('bit', 'taller'), ('taller', 'then'), ('then', 'the'), ('the', 'one'), ('one', 'we'), ('we', 'removed.'), ('removed.', 'That'), ('That', 'is'), ('is', 'a'), ('a', 'nice'), ('nice', 'adjustment.'), ('adjustment.', 'Very'), ('Very', 'to'), ('to', 'install'), ('install', 'myself.'), ('This', 'is'), ('is', 'the'), ('the', 'third'), ('third', 'American'), ('American', 'Standard'), ('Standard', 'toilet'), ('toilet', 'that'), ('that', 'we'), ('we', 'have'), ('have', 'installed'), ('installed', 'and'), ('and', 'will'), ('will', 'continue'), ('continue', 'to'), ('to', 'use'), ('use', 'as'), ('as', 'our'), ('our', '\"go'), ('\"go', 'to\".'), ('to\".', 'Love'), ('Love', 'the'), ('the', 'quality'), ('quality', 'and'), ('and', 'value.'), ('It', 'was'), ('was', 'reasonably'), ('reasonably', 'priced'), ('priced', 'and'), ('and', 'seems'), ('seems', 'good'), ('good', 'quality.'), ('quality.', 'Well'), ('Well', 'worth'), ('worth', 'the'), ('the', 'install'), ('install', 'price'), ('price', 'to'), ('to', 'not'), ('not', 'have'), ('have', 'to'), ('to', 'do'), ('do', 'it'), ('it', 'myself.'), ('myself.', 'Very'), ('Very', 'pleased'), ('pleased', 'with'), ('with', 'it'), ('it', 'all.'), ('if', 'this'), ('this', 'is'), ('is', 'chair'), ('chair', 'height'), ('height', 'then'), ('then', 'they'), ('they', 'must'), ('must', 'have'), ('have', 'measured'), ('measured', 'a'), ('a', \"child's\"), (\"child's\", 'chair.'), ('chair.', 'replaced'), ('replaced', 'an'), ('an', 'old'), ('old', 'one'), ('one', 'wanting'), ('wanting', 'one'), ('one', 'higher,'), ('higher,', 'this'), ('this', 'one'), ('one', \"isn't.\"), ('This', 'brand'), ('brand', 'has'), ('has', 'a'), ('a', 'good'), ('good', 'review.'), ('review.', 'It’s'), ('It’s', 'perfect'), ('perfect', 'for'), ('for', 'my'), ('my', 'small'), ('small', 'bathroom.'), ('bathroom.', 'Great'), ('Great', 'price.'), ('price.', 'So'), ('So', 'far'), ('far', 'it’s'), ('it’s', 'been'), ('been', 'installed'), ('installed', 'and'), ('and', 'working'), ('working', 'well'), ('well', '.'), ('I', 'have'), ('have', 'aways'), ('aways', 'had'), ('had', 'AD'), ('AD', 'toilets'), ('toilets', 'there'), ('there', 'affordable'), ('affordable', 'you'), ('you', 'can'), ('can', 'always'), ('always', 'get'), ('get', 'parts'), ('parts', 'and'), ('and', 'they'), ('they', 'have'), ('have', 'been'), ('been', 'around'), ('around', 'for'), ('for', 'a'), ('a', 'long'), ('long', 'time.'), ('What', 'I'), ('I', 'like'), ('like', 'is'), ('is', 'that'), ('that', 'its'), ('its', 'water'), ('water', 'efficient'), ('efficient', 'compared'), ('compared', 'to'), ('to', 'our'), ('our', 'old'), ('old', 'one.'), ('one.', 'Wax'), ('Wax', 'ring'), ('ring', 'is'), ('is', 'thick,'), ('thick,', 'dont'), ('dont', 'need'), ('need', 'to'), ('to', 'buy'), ('buy', 'another.'), ('connected', 'the'), ('the', 'toilet'), ('toilet', 'only'), ('only', 'to'), ('to', 'find'), ('find', 'a'), ('a', 'defective'), ('defective', 'flush'), ('flush', 'valve.'), ('valve.', 'I'), ('I', 'had'), ('had', 'to'), ('to', 'get'), ('get', 'another'), ('another', 'one,'), ('one,', 'very'), ('very', 'frustrating.'), ('I', 'love'), ('love', 'the'), ('the', 'toilet,'), ('toilet,', 'definitely'), ('definitely', 'plan'), ('plan', 'on'), ('on', 'replacing'), ('replacing', 'more'), ('more', 'in'), ('in', 'my'), ('my', 'home.'), ('home.', 'Easy'), ('Easy', 'to'), ('to', 'flush'), ('flush', 'and'), ('and', 'it’s'), ('it’s', 'a'), ('a', 'nice'), ('nice', 'look.'), ('Love', 'this'), ('this', 'tolet'), ('tolet', 'as'), ('as', 'it'), ('it', 'looks'), ('looks', 'good'), ('good', 'and'), ('and', 'super'), ('super', 'easy'), ('easy', 'to'), ('to', 'install.'), ('install.', 'Comes'), ('Comes', 'with'), ('with', 'everything'), ('everything', 'you'), ('you', 'need.'), (\"It's\", 'a'), ('a', 'good'), ('good', 'toilet'), ('toilet', 'for'), ('for', 'a'), ('a', 'second'), ('second', 'bathroom,'), ('bathroom,', 'we'), ('we', 'had'), ('had', 'it'), ('it', 'replace'), ('replace', 'the'), ('the', 'old'), ('old', 'one'), ('one', 'in'), ('in', 'our'), ('our', 'basement.'), ('Easy', 'to'), ('to', 'install'), ('install', 'and'), ('and', 'all'), ('all', 'measures'), ('measures', 'are'), ('are', 'as'), ('as', 'listed.'), ('listed.', 'Works'), ('Works', 'and'), ('and', 'looks'), ('looks', 'great'), ('great', 'and'), ('and', 'saves'), ('saves', 'water.'), ('We', 'liked'), ('liked', 'the'), ('the', 'style'), ('style', 'because'), ('because', 'it'), ('it', 'matches'), ('matches', 'what'), ('what', 'we'), ('we', 'had'), ('had', 'begun'), ('begun', 'remodeling'), ('remodeling', 'in'), ('in', 'our'), ('our', 'bathrooms'), ('Easy', 'to'), ('to', 'assemble'), ('assemble', 'and'), ('and', 'install'), ('install', '-'), ('-', 'works'), ('works', 'great'), ('great', 'and'), ('and', 'is'), ('is', 'efficient'), ('efficient', 'regarding'), ('regarding', 'wayer'), ('wayer', 'use.'), ('Weak', 'flush,'), ('flush,', 'all'), ('all', 'waste'), ('waste', 'is'), ('is', 'not'), ('not', 'always'), ('always', 'removed.'), ('removed.', 'Sometimes'), ('Sometimes', 'requires'), ('requires', 'two'), ('two', 'flushes.'), ('Loving', 'new'), ('new', 'sleek,'), ('sleek,', 'tall,'), ('tall,', 'efficient'), ('efficient', 'toilet.'), ('toilet.', 'Highly'), ('Highly', 'recommend'), ('recommend', 'this'), ('this', 'one.'), ('Can’t', 'beat'), ('beat', 'American'), ('American', 'Standard'), ('Standard', 'products.'), ('products.', 'Great'), ('Great', 'height'), ('height', 'and'), ('and', 'width'), ('width', 'for'), ('for', 'men'), ('Best', 'standard'), ('standard', 'ADA'), ('ADA', 'Toilet'), ('Toilet', 'very'), ('very', 'good'), ('good', 'height'), ('height', 'and'), ('and', 'very'), ('very', 'good'), ('good', 'cost'), ('cost', 'as'), ('as', 'well.'), ('Says', 'slow'), ('slow', 'close'), ('close', 'seat'), ('seat', 'and'), ('and', 'it'), ('it', 'definitely'), ('definitely', 'isn’t,'), ('isn’t,', 'should'), ('should', 'b'), ('b', 'corrected'), ('Great', 'height'), ('height', 'and'), ('and', 'flushing'), ('flushing', 'capability-'), ('capability-', 'never'), ('never', 'had'), ('had', 'a'), ('a', 'problem'), ('Nice', 'looking'), ('looking', 'good'), ('good', 'price'), ('price', 'and'), ('and', 'all'), ('all', 'the'), ('the', 'parts'), ('parts', 'were'), ('were', 'there.'), ('Nice', 'style,'), ('style,', 'good'), ('good', 'height,'), ('height,', 'great'), ('great', 'installation'), ('installation', 'by'), ('by', 'Lowes')]\n"
     ]
    }
   ],
   "source": [
    "result = [i for j in col_list \n",
    "       for i in zip(str(j).split(\" \")[:-1], str(j).split(\" \")[1:])]\n",
    "print (\"Resulting Bigrams : \" + str(result))"
   ]
  },
  {
   "cell_type": "code",
   "execution_count": 58,
   "id": "90f40562",
   "metadata": {},
   "outputs": [],
   "source": [
    "df_bigram = pd.DataFrame(result)\n",
    "df_bigram.to_excel('bigram.xlsx')"
   ]
  },
  {
   "cell_type": "code",
   "execution_count": null,
   "id": "ebf7f210",
   "metadata": {},
   "outputs": [],
   "source": []
  },
  {
   "cell_type": "code",
   "execution_count": null,
   "id": "a56e69a1",
   "metadata": {},
   "outputs": [],
   "source": []
  },
  {
   "cell_type": "code",
   "execution_count": null,
   "id": "e6402dd0",
   "metadata": {},
   "outputs": [],
   "source": []
  },
  {
   "cell_type": "code",
   "execution_count": null,
   "id": "10644ea5",
   "metadata": {},
   "outputs": [],
   "source": []
  }
 ],
 "metadata": {
  "kernelspec": {
   "display_name": "Python 3 (ipykernel)",
   "language": "python",
   "name": "python3"
  },
  "language_info": {
   "codemirror_mode": {
    "name": "ipython",
    "version": 3
   },
   "file_extension": ".py",
   "mimetype": "text/x-python",
   "name": "python",
   "nbconvert_exporter": "python",
   "pygments_lexer": "ipython3",
   "version": "3.9.12"
  }
 },
 "nbformat": 4,
 "nbformat_minor": 5
}
