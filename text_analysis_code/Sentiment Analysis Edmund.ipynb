{
 "cells": [
  {
   "cell_type": "markdown",
   "id": "033288f0",
   "metadata": {},
   "source": [
    "# Import Library"
   ]
  },
  {
   "cell_type": "code",
   "execution_count": 1,
   "id": "d89f4dcd",
   "metadata": {},
   "outputs": [
    {
     "name": "stdout",
     "output_type": "stream",
     "text": [
      "Done\n"
     ]
    }
   ],
   "source": [
    "import os\n",
    "import pandas as pd\n",
    "import numpy as np\n",
    "import matplotlib.pyplot as plt\n",
    "import seaborn as sns\n",
    "\n",
    "plt.style.use('ggplot')\n",
    "\n",
    "import nltk\n",
    "print(\"Done\")"
   ]
  },
  {
   "cell_type": "markdown",
   "id": "ef60c945",
   "metadata": {},
   "source": [
    "# Preparation "
   ]
  },
  {
   "cell_type": "code",
   "execution_count": 2,
   "id": "be4e969b",
   "metadata": {},
   "outputs": [
    {
     "data": {
      "text/html": [
       "<div>\n",
       "<style scoped>\n",
       "    .dataframe tbody tr th:only-of-type {\n",
       "        vertical-align: middle;\n",
       "    }\n",
       "\n",
       "    .dataframe tbody tr th {\n",
       "        vertical-align: top;\n",
       "    }\n",
       "\n",
       "    .dataframe thead th {\n",
       "        text-align: right;\n",
       "    }\n",
       "</style>\n",
       "<table border=\"1\" class=\"dataframe\">\n",
       "  <thead>\n",
       "    <tr style=\"text-align: right;\">\n",
       "      <th></th>\n",
       "      <th>Market_place</th>\n",
       "      <th>URL</th>\n",
       "      <th>Product_name</th>\n",
       "      <th>SKU</th>\n",
       "      <th>Price</th>\n",
       "      <th>Currency</th>\n",
       "      <th>Subject</th>\n",
       "      <th>Author</th>\n",
       "      <th>Date</th>\n",
       "      <th>Review</th>\n",
       "      <th>Stars</th>\n",
       "    </tr>\n",
       "  </thead>\n",
       "  <tbody>\n",
       "    <tr>\n",
       "      <th>0</th>\n",
       "      <td>homedepot.com</td>\n",
       "      <td>https://www.homedepot.com/p/Glacier-Bay-2-Piec...</td>\n",
       "      <td>2-Piece 1.28 GPF High Efficiency Single Flush ...</td>\n",
       "      <td>686826</td>\n",
       "      <td>119.0</td>\n",
       "      <td>USD</td>\n",
       "      <td>Tiny pool of water in the bowl.</td>\n",
       "      <td>GreatAim</td>\n",
       "      <td>Nov 22, 2022</td>\n",
       "      <td>I purchased 4 of these toilets for my new hous...</td>\n",
       "      <td>1</td>\n",
       "    </tr>\n",
       "    <tr>\n",
       "      <th>1</th>\n",
       "      <td>homedepot.com</td>\n",
       "      <td>https://www.homedepot.com/p/Glacier-Bay-2-Piec...</td>\n",
       "      <td>2-Piece 1.28 GPF High Efficiency Single Flush ...</td>\n",
       "      <td>686826</td>\n",
       "      <td>119.0</td>\n",
       "      <td>USD</td>\n",
       "      <td>Cheap seat and lid</td>\n",
       "      <td>Dee2</td>\n",
       "      <td>Sep 26, 2022</td>\n",
       "      <td>I recently bought the chair height, elongated ...</td>\n",
       "      <td>2</td>\n",
       "    </tr>\n",
       "    <tr>\n",
       "      <th>2</th>\n",
       "      <td>homedepot.com</td>\n",
       "      <td>https://www.homedepot.com/p/Glacier-Bay-2-Piec...</td>\n",
       "      <td>2-Piece 1.28 GPF High Efficiency Single Flush ...</td>\n",
       "      <td>686826</td>\n",
       "      <td>119.0</td>\n",
       "      <td>USD</td>\n",
       "      <td>Nice color and sits at a great height for gett...</td>\n",
       "      <td>HomeDepotCustomer</td>\n",
       "      <td>Jun 15, 2022</td>\n",
       "      <td>Nice color and sits at a great height for gett...</td>\n",
       "      <td>4</td>\n",
       "    </tr>\n",
       "    <tr>\n",
       "      <th>3</th>\n",
       "      <td>homedepot.com</td>\n",
       "      <td>https://www.homedepot.com/p/Glacier-Bay-2-Piec...</td>\n",
       "      <td>2-Piece 1.28 GPF High Efficiency Single Flush ...</td>\n",
       "      <td>686826</td>\n",
       "      <td>119.0</td>\n",
       "      <td>USD</td>\n",
       "      <td>Great Value / Nice Product</td>\n",
       "      <td>DENISE</td>\n",
       "      <td>Feb 8, 2022</td>\n",
       "      <td>This toilet is a great value and looks and per...</td>\n",
       "      <td>5</td>\n",
       "    </tr>\n",
       "    <tr>\n",
       "      <th>4</th>\n",
       "      <td>homedepot.com</td>\n",
       "      <td>https://www.homedepot.com/p/Glacier-Bay-2-Piec...</td>\n",
       "      <td>2-Piece 1.28 GPF High Efficiency Single Flush ...</td>\n",
       "      <td>686826</td>\n",
       "      <td>119.0</td>\n",
       "      <td>USD</td>\n",
       "      <td>Good value toilet</td>\n",
       "      <td>Tom_P</td>\n",
       "      <td>Dec 25, 2021</td>\n",
       "      <td>Looks good - Easy install with no issues. The ...</td>\n",
       "      <td>4</td>\n",
       "    </tr>\n",
       "  </tbody>\n",
       "</table>\n",
       "</div>"
      ],
      "text/plain": [
       "    Market_place                                                URL  \\\n",
       "0  homedepot.com  https://www.homedepot.com/p/Glacier-Bay-2-Piec...   \n",
       "1  homedepot.com  https://www.homedepot.com/p/Glacier-Bay-2-Piec...   \n",
       "2  homedepot.com  https://www.homedepot.com/p/Glacier-Bay-2-Piec...   \n",
       "3  homedepot.com  https://www.homedepot.com/p/Glacier-Bay-2-Piec...   \n",
       "4  homedepot.com  https://www.homedepot.com/p/Glacier-Bay-2-Piec...   \n",
       "\n",
       "                                        Product_name     SKU  Price Currency  \\\n",
       "0  2-Piece 1.28 GPF High Efficiency Single Flush ...  686826  119.0      USD   \n",
       "1  2-Piece 1.28 GPF High Efficiency Single Flush ...  686826  119.0      USD   \n",
       "2  2-Piece 1.28 GPF High Efficiency Single Flush ...  686826  119.0      USD   \n",
       "3  2-Piece 1.28 GPF High Efficiency Single Flush ...  686826  119.0      USD   \n",
       "4  2-Piece 1.28 GPF High Efficiency Single Flush ...  686826  119.0      USD   \n",
       "\n",
       "                                             Subject             Author  \\\n",
       "0                    Tiny pool of water in the bowl.           GreatAim   \n",
       "1                                 Cheap seat and lid               Dee2   \n",
       "2  Nice color and sits at a great height for gett...  HomeDepotCustomer   \n",
       "3                         Great Value / Nice Product             DENISE   \n",
       "4                                  Good value toilet              Tom_P   \n",
       "\n",
       "           Date                                             Review  Stars  \n",
       "0  Nov 22, 2022  I purchased 4 of these toilets for my new hous...      1  \n",
       "1  Sep 26, 2022  I recently bought the chair height, elongated ...      2  \n",
       "2  Jun 15, 2022  Nice color and sits at a great height for gett...      4  \n",
       "3   Feb 8, 2022  This toilet is a great value and looks and per...      5  \n",
       "4  Dec 25, 2021  Looks good - Easy install with no issues. The ...      4  "
      ]
     },
     "execution_count": 2,
     "metadata": {},
     "output_type": "execute_result"
    }
   ],
   "source": [
    "data_list = [\"homedepot.com_204074796.csv\", \"homedepot.com_319247071.csv\", \"lowes.com_3286026.csv\",\n",
    "             \"lowes.com_3380314.csv\", \"lowes.com_50280511.csv\", \"lowes.com_1003066162.csv\", \"lowes.com_5000026209.csv\",\n",
    "            \"lowes.com_5001899855.csv\"]\n",
    "\n",
    "# read in data\n",
    "df = pd.read_csv(data_list[0])\n",
    "df.head()"
   ]
  },
  {
   "cell_type": "markdown",
   "id": "feb49e5d",
   "metadata": {},
   "source": [
    "Stars Counts"
   ]
  },
  {
   "cell_type": "code",
   "execution_count": 3,
   "id": "87c7d7f5",
   "metadata": {},
   "outputs": [
    {
     "data": {
      "text/plain": [
       "Text(0.5, 0, 'Review Stars')"
      ]
     },
     "execution_count": 3,
     "metadata": {},
     "output_type": "execute_result"
    },
    {
     "data": {
      "image/png": "[encoded data removed]",
      "text/plain": [
       "<Figure size 1000x500 with 1 Axes>"
      ]
     },
     "metadata": {},
     "output_type": "display_data"
    }
   ],
   "source": [
    "ax = df['Stars'].value_counts().sort_index()\\\n",
    "    .plot(kind= 'bar',\n",
    "          title = 'Count of Reviews by star',\n",
    "         figsize = (10,5))\n",
    "ax.set_xlabel('Review Stars')"
   ]
  },
  {
   "cell_type": "markdown",
   "id": "5b8fe898",
   "metadata": {},
   "source": [
    "# Data"
   ]
  },
  {
   "cell_type": "code",
   "execution_count": 4,
   "id": "e96e57bd",
   "metadata": {},
   "outputs": [],
   "source": [
    "good = df[df[\"Stars\"] >= 4]\n",
    "\n",
    "bad = df[df[\"Stars\"] <= 3]"
   ]
  },
  {
   "cell_type": "code",
   "execution_count": 5,
   "id": "905cc243",
   "metadata": {},
   "outputs": [
    {
     "data": {
      "text/html": [
       "<div>\n",
       "<style scoped>\n",
       "    .dataframe tbody tr th:only-of-type {\n",
       "        vertical-align: middle;\n",
       "    }\n",
       "\n",
       "    .dataframe tbody tr th {\n",
       "        vertical-align: top;\n",
       "    }\n",
       "\n",
       "    .dataframe thead th {\n",
       "        text-align: right;\n",
       "    }\n",
       "</style>\n",
       "<table border=\"1\" class=\"dataframe\">\n",
       "  <thead>\n",
       "    <tr style=\"text-align: right;\">\n",
       "      <th></th>\n",
       "      <th>Review</th>\n",
       "      <th>Subject</th>\n",
       "      <th>Stars</th>\n",
       "      <th>ID</th>\n",
       "    </tr>\n",
       "  </thead>\n",
       "  <tbody>\n",
       "    <tr>\n",
       "      <th>0</th>\n",
       "      <td>Nice color and sits at a great height for gett...</td>\n",
       "      <td>Nice color and sits at a great height for gett...</td>\n",
       "      <td>4</td>\n",
       "      <td>1</td>\n",
       "    </tr>\n",
       "    <tr>\n",
       "      <th>1</th>\n",
       "      <td>This toilet is a great value and looks and per...</td>\n",
       "      <td>Great Value / Nice Product</td>\n",
       "      <td>5</td>\n",
       "      <td>2</td>\n",
       "    </tr>\n",
       "    <tr>\n",
       "      <th>2</th>\n",
       "      <td>Looks good - Easy install with no issues. The ...</td>\n",
       "      <td>Good value toilet</td>\n",
       "      <td>4</td>\n",
       "      <td>3</td>\n",
       "    </tr>\n",
       "    <tr>\n",
       "      <th>3</th>\n",
       "      <td>Rating provided by a verified purchaser</td>\n",
       "      <td>Rating provided by a verified purchaser...</td>\n",
       "      <td>4</td>\n",
       "      <td>4</td>\n",
       "    </tr>\n",
       "    <tr>\n",
       "      <th>4</th>\n",
       "      <td>Very elegant in appearance and it is very comf...</td>\n",
       "      <td>Very elegant in appearance and it is very comf...</td>\n",
       "      <td>4</td>\n",
       "      <td>5</td>\n",
       "    </tr>\n",
       "    <tr>\n",
       "      <th>...</th>\n",
       "      <td>...</td>\n",
       "      <td>...</td>\n",
       "      <td>...</td>\n",
       "      <td>...</td>\n",
       "    </tr>\n",
       "    <tr>\n",
       "      <th>240</th>\n",
       "      <td>Easy to install, and leak free. Once in use, t...</td>\n",
       "      <td>Easy to install, and leak free. Once in use,...</td>\n",
       "      <td>4</td>\n",
       "      <td>241</td>\n",
       "    </tr>\n",
       "    <tr>\n",
       "      <th>241</th>\n",
       "      <td>It was easy to install. Works great. Thanks.</td>\n",
       "      <td>It was easy to install. Works great. Thanks....</td>\n",
       "      <td>5</td>\n",
       "      <td>242</td>\n",
       "    </tr>\n",
       "    <tr>\n",
       "      <th>242</th>\n",
       "      <td>Comes with almost everything. Missing the fres...</td>\n",
       "      <td>Get what you pay</td>\n",
       "      <td>4</td>\n",
       "      <td>243</td>\n",
       "    </tr>\n",
       "    <tr>\n",
       "      <th>243</th>\n",
       "      <td>Fit perfectly. Includes wax ring and bolts</td>\n",
       "      <td>Fit perfectly. Includes wax ring and bolts...</td>\n",
       "      <td>5</td>\n",
       "      <td>244</td>\n",
       "    </tr>\n",
       "    <tr>\n",
       "      <th>244</th>\n",
       "      <td>Good inexpensive toiled, Installed easily and ...</td>\n",
       "      <td>Good inexpensive toiled, Installed easily and ...</td>\n",
       "      <td>4</td>\n",
       "      <td>245</td>\n",
       "    </tr>\n",
       "  </tbody>\n",
       "</table>\n",
       "<p>245 rows × 4 columns</p>\n",
       "</div>"
      ],
      "text/plain": [
       "                                                Review  \\\n",
       "0    Nice color and sits at a great height for gett...   \n",
       "1    This toilet is a great value and looks and per...   \n",
       "2    Looks good - Easy install with no issues. The ...   \n",
       "3              Rating provided by a verified purchaser   \n",
       "4    Very elegant in appearance and it is very comf...   \n",
       "..                                                 ...   \n",
       "240  Easy to install, and leak free. Once in use, t...   \n",
       "241       It was easy to install. Works great. Thanks.   \n",
       "242  Comes with almost everything. Missing the fres...   \n",
       "243         Fit perfectly. Includes wax ring and bolts   \n",
       "244  Good inexpensive toiled, Installed easily and ...   \n",
       "\n",
       "                                               Subject  Stars   ID  \n",
       "0    Nice color and sits at a great height for gett...      4    1  \n",
       "1                           Great Value / Nice Product      5    2  \n",
       "2                                    Good value toilet      4    3  \n",
       "3           Rating provided by a verified purchaser...      4    4  \n",
       "4    Very elegant in appearance and it is very comf...      4    5  \n",
       "..                                                 ...    ...  ...  \n",
       "240    Easy to install, and leak free. Once in use,...      4  241  \n",
       "241    It was easy to install. Works great. Thanks....      5  242  \n",
       "242                                   Get what you pay      4  243  \n",
       "243      Fit perfectly. Includes wax ring and bolts...      5  244  \n",
       "244  Good inexpensive toiled, Installed easily and ...      4  245  \n",
       "\n",
       "[245 rows x 4 columns]"
      ]
     },
     "execution_count": 5,
     "metadata": {},
     "output_type": "execute_result"
    }
   ],
   "source": [
    "good_reviews = good['Review']\n",
    "good_reviews = pd.DataFrame(good_reviews)\n",
    "good_reviews['Subject'] = good['Subject']\n",
    "good_reviews['Stars'] = good['Stars']\n",
    "good_reviews.dropna(inplace= True)\n",
    "good_reviews.index = np.arange(0,len(good_reviews))\n",
    "good_reviews['ID'] = np.arange(1,len(good_reviews)+1)\n",
    "good_reviews"
   ]
  },
  {
   "cell_type": "code",
   "execution_count": 6,
   "id": "54814689",
   "metadata": {
    "scrolled": false
   },
   "outputs": [
    {
     "data": {
      "text/html": [
       "<div>\n",
       "<style scoped>\n",
       "    .dataframe tbody tr th:only-of-type {\n",
       "        vertical-align: middle;\n",
       "    }\n",
       "\n",
       "    .dataframe tbody tr th {\n",
       "        vertical-align: top;\n",
       "    }\n",
       "\n",
       "    .dataframe thead th {\n",
       "        text-align: right;\n",
       "    }\n",
       "</style>\n",
       "<table border=\"1\" class=\"dataframe\">\n",
       "  <thead>\n",
       "    <tr style=\"text-align: right;\">\n",
       "      <th></th>\n",
       "      <th>Review</th>\n",
       "      <th>Subject</th>\n",
       "      <th>Stars</th>\n",
       "      <th>ID</th>\n",
       "    </tr>\n",
       "  </thead>\n",
       "  <tbody>\n",
       "    <tr>\n",
       "      <th>0</th>\n",
       "      <td>I purchased 4 of these toilets for my new hous...</td>\n",
       "      <td>Tiny pool of water in the bowl.</td>\n",
       "      <td>1</td>\n",
       "      <td>1</td>\n",
       "    </tr>\n",
       "    <tr>\n",
       "      <th>1</th>\n",
       "      <td>I recently bought the chair height, elongated ...</td>\n",
       "      <td>Cheap seat and lid</td>\n",
       "      <td>2</td>\n",
       "      <td>2</td>\n",
       "    </tr>\n",
       "    <tr>\n",
       "      <th>2</th>\n",
       "      <td>Terrible product. Bowl won't stay full and the...</td>\n",
       "      <td>The only thing efficient is the malfunctioning.</td>\n",
       "      <td>1</td>\n",
       "      <td>3</td>\n",
       "    </tr>\n",
       "    <tr>\n",
       "      <th>3</th>\n",
       "      <td>This toilet is way to high. The actual measure...</td>\n",
       "      <td>Terrible</td>\n",
       "      <td>1</td>\n",
       "      <td>4</td>\n",
       "    </tr>\n",
       "    <tr>\n",
       "      <th>4</th>\n",
       "      <td>The first thing I noticed were several holes i...</td>\n",
       "      <td>Holes in Bowl, Seat wont stay up</td>\n",
       "      <td>1</td>\n",
       "      <td>5</td>\n",
       "    </tr>\n",
       "    <tr>\n",
       "      <th>...</th>\n",
       "      <td>...</td>\n",
       "      <td>...</td>\n",
       "      <td>...</td>\n",
       "      <td>...</td>\n",
       "    </tr>\n",
       "    <tr>\n",
       "      <th>74</th>\n",
       "      <td>water will not stay in the bowl you have to fl...</td>\n",
       "      <td>water will not stay in the bowl you have to...</td>\n",
       "      <td>1</td>\n",
       "      <td>75</td>\n",
       "    </tr>\n",
       "    <tr>\n",
       "      <th>75</th>\n",
       "      <td>After a bowel movement , the bowl will not tak...</td>\n",
       "      <td>After a bowel movement , the bowl will not tak...</td>\n",
       "      <td>2</td>\n",
       "      <td>76</td>\n",
       "    </tr>\n",
       "    <tr>\n",
       "      <th>76</th>\n",
       "      <td>I had American Standard toilet in my house for...</td>\n",
       "      <td>Worst toilet ever</td>\n",
       "      <td>1</td>\n",
       "      <td>77</td>\n",
       "    </tr>\n",
       "    <tr>\n",
       "      <th>77</th>\n",
       "      <td>No power to the flush very low water sorry I g...</td>\n",
       "      <td>No power to the flush very low water sorry I...</td>\n",
       "      <td>2</td>\n",
       "      <td>78</td>\n",
       "    </tr>\n",
       "    <tr>\n",
       "      <th>78</th>\n",
       "      <td>Bottom lid for the guys will not remain up</td>\n",
       "      <td>Lid doesn't work correctly</td>\n",
       "      <td>3</td>\n",
       "      <td>79</td>\n",
       "    </tr>\n",
       "  </tbody>\n",
       "</table>\n",
       "<p>79 rows × 4 columns</p>\n",
       "</div>"
      ],
      "text/plain": [
       "                                               Review  \\\n",
       "0   I purchased 4 of these toilets for my new hous...   \n",
       "1   I recently bought the chair height, elongated ...   \n",
       "2   Terrible product. Bowl won't stay full and the...   \n",
       "3   This toilet is way to high. The actual measure...   \n",
       "4   The first thing I noticed were several holes i...   \n",
       "..                                                ...   \n",
       "74  water will not stay in the bowl you have to fl...   \n",
       "75  After a bowel movement , the bowl will not tak...   \n",
       "76  I had American Standard toilet in my house for...   \n",
       "77  No power to the flush very low water sorry I g...   \n",
       "78         Bottom lid for the guys will not remain up   \n",
       "\n",
       "                                              Subject  Stars  ID  \n",
       "0                     Tiny pool of water in the bowl.      1   1  \n",
       "1                                  Cheap seat and lid      2   2  \n",
       "2     The only thing efficient is the malfunctioning.      1   3  \n",
       "3                                            Terrible      1   4  \n",
       "4                    Holes in Bowl, Seat wont stay up      1   5  \n",
       "..                                                ...    ...  ..  \n",
       "74     water will not stay in the bowl you have to...      1  75  \n",
       "75  After a bowel movement , the bowl will not tak...      2  76  \n",
       "76                                  Worst toilet ever      1  77  \n",
       "77    No power to the flush very low water sorry I...      2  78  \n",
       "78                         Lid doesn't work correctly      3  79  \n",
       "\n",
       "[79 rows x 4 columns]"
      ]
     },
     "execution_count": 6,
     "metadata": {},
     "output_type": "execute_result"
    }
   ],
   "source": [
    "bad_reviews = bad['Review']\n",
    "bad_reviews = pd.DataFrame(bad_reviews)\n",
    "bad_reviews['Subject'] = bad['Subject']\n",
    "bad_reviews['Stars'] = bad['Stars']\n",
    "bad_reviews.dropna(inplace= True)\n",
    "bad_reviews.index = np.arange(0,len(bad_reviews))\n",
    "bad_reviews['ID'] = np.arange(1,len(bad_reviews)+1)\n",
    "bad_reviews"
   ]
  },
  {
   "cell_type": "markdown",
   "id": "9ee12765",
   "metadata": {},
   "source": [
    "# VADER Seniment Scoring"
   ]
  },
  {
   "cell_type": "code",
   "execution_count": 7,
   "id": "ad447b2f",
   "metadata": {},
   "outputs": [],
   "source": [
    "from nltk.sentiment import SentimentIntensityAnalyzer\n",
    "from tqdm.notebook import tqdm\n",
    "\n",
    "sia = SentimentIntensityAnalyzer()"
   ]
  },
  {
   "cell_type": "code",
   "execution_count": 8,
   "id": "f2dc8afb",
   "metadata": {},
   "outputs": [
    {
     "data": {
      "application/vnd.jupyter.widget-view+json": {
       "model_id": "c0f72ff314ae44da8b247bed61a67a57",
       "version_major": 2,
       "version_minor": 0
      },
      "text/plain": [
       "  0%|          | 0/245 [00:00<?, ?it/s]"
      ]
     },
     "metadata": {},
     "output_type": "display_data"
    }
   ],
   "source": [
    "res = {}\n",
    "for i, row in tqdm(good_reviews.iterrows(), total = len(good_reviews)):\n",
    "    review = row['Review']\n",
    "    myid = row['ID']\n",
    "    res[myid] = sia.polarity_scores(review)\n",
    "    \n"
   ]
  },
  {
   "cell_type": "code",
   "execution_count": 9,
   "id": "5b711ea7",
   "metadata": {},
   "outputs": [
    {
     "data": {
      "text/html": [
       "<div>\n",
       "<style scoped>\n",
       "    .dataframe tbody tr th:only-of-type {\n",
       "        vertical-align: middle;\n",
       "    }\n",
       "\n",
       "    .dataframe tbody tr th {\n",
       "        vertical-align: top;\n",
       "    }\n",
       "\n",
       "    .dataframe thead th {\n",
       "        text-align: right;\n",
       "    }\n",
       "</style>\n",
       "<table border=\"1\" class=\"dataframe\">\n",
       "  <thead>\n",
       "    <tr style=\"text-align: right;\">\n",
       "      <th></th>\n",
       "      <th>ID</th>\n",
       "      <th>neg</th>\n",
       "      <th>neu</th>\n",
       "      <th>pos</th>\n",
       "      <th>compound</th>\n",
       "      <th>Review</th>\n",
       "      <th>Subject</th>\n",
       "      <th>Stars</th>\n",
       "    </tr>\n",
       "  </thead>\n",
       "  <tbody>\n",
       "    <tr>\n",
       "      <th>0</th>\n",
       "      <td>1</td>\n",
       "      <td>0.090</td>\n",
       "      <td>0.705</td>\n",
       "      <td>0.205</td>\n",
       "      <td>0.7584</td>\n",
       "      <td>Nice color and sits at a great height for gett...</td>\n",
       "      <td>Nice color and sits at a great height for gett...</td>\n",
       "      <td>4</td>\n",
       "    </tr>\n",
       "    <tr>\n",
       "      <th>1</th>\n",
       "      <td>2</td>\n",
       "      <td>0.000</td>\n",
       "      <td>0.427</td>\n",
       "      <td>0.573</td>\n",
       "      <td>0.9442</td>\n",
       "      <td>This toilet is a great value and looks and per...</td>\n",
       "      <td>Great Value / Nice Product</td>\n",
       "      <td>5</td>\n",
       "    </tr>\n",
       "    <tr>\n",
       "      <th>2</th>\n",
       "      <td>3</td>\n",
       "      <td>0.070</td>\n",
       "      <td>0.811</td>\n",
       "      <td>0.119</td>\n",
       "      <td>0.3071</td>\n",
       "      <td>Looks good - Easy install with no issues. The ...</td>\n",
       "      <td>Good value toilet</td>\n",
       "      <td>4</td>\n",
       "    </tr>\n",
       "    <tr>\n",
       "      <th>3</th>\n",
       "      <td>4</td>\n",
       "      <td>0.000</td>\n",
       "      <td>1.000</td>\n",
       "      <td>0.000</td>\n",
       "      <td>0.0000</td>\n",
       "      <td>Rating provided by a verified purchaser</td>\n",
       "      <td>Rating provided by a verified purchaser...</td>\n",
       "      <td>4</td>\n",
       "    </tr>\n",
       "    <tr>\n",
       "      <th>4</th>\n",
       "      <td>5</td>\n",
       "      <td>0.084</td>\n",
       "      <td>0.763</td>\n",
       "      <td>0.152</td>\n",
       "      <td>0.8656</td>\n",
       "      <td>Very elegant in appearance and it is very comf...</td>\n",
       "      <td>Very elegant in appearance and it is very comf...</td>\n",
       "      <td>4</td>\n",
       "    </tr>\n",
       "  </tbody>\n",
       "</table>\n",
       "</div>"
      ],
      "text/plain": [
       "   ID    neg    neu    pos  compound  \\\n",
       "0   1  0.090  0.705  0.205    0.7584   \n",
       "1   2  0.000  0.427  0.573    0.9442   \n",
       "2   3  0.070  0.811  0.119    0.3071   \n",
       "3   4  0.000  1.000  0.000    0.0000   \n",
       "4   5  0.084  0.763  0.152    0.8656   \n",
       "\n",
       "                                              Review  \\\n",
       "0  Nice color and sits at a great height for gett...   \n",
       "1  This toilet is a great value and looks and per...   \n",
       "2  Looks good - Easy install with no issues. The ...   \n",
       "3            Rating provided by a verified purchaser   \n",
       "4  Very elegant in appearance and it is very comf...   \n",
       "\n",
       "                                             Subject  Stars  \n",
       "0  Nice color and sits at a great height for gett...      4  \n",
       "1                         Great Value / Nice Product      5  \n",
       "2                                  Good value toilet      4  \n",
       "3         Rating provided by a verified purchaser...      4  \n",
       "4  Very elegant in appearance and it is very comf...      4  "
      ]
     },
     "execution_count": 9,
     "metadata": {},
     "output_type": "execute_result"
    }
   ],
   "source": [
    "vaders = pd.DataFrame(res).T\n",
    "vaders = vaders.reset_index().rename(columns={'index':'ID'})\n",
    "vaders = vaders.merge(good_reviews, how= 'left')\n",
    "vaders.head()"
   ]
  },
  {
   "cell_type": "code",
   "execution_count": 10,
   "id": "a53b4de4",
   "metadata": {},
   "outputs": [
    {
     "data": {
      "image/png": "[encoded data removed]",
      "text/plain": [
       "<Figure size 640x480 with 1 Axes>"
      ]
     },
     "metadata": {},
     "output_type": "display_data"
    }
   ],
   "source": [
    "ax = sns.barplot(data= vaders, x = 'Stars', y= 'compound')\n",
    "ax.set_title('Compound Score by Review Star')\n",
    "plt.show()"
   ]
  },
  {
   "cell_type": "code",
   "execution_count": 11,
   "id": "e425c9c3",
   "metadata": {},
   "outputs": [
    {
     "data": {
      "image/png": "[encoded data removed]",
      "text/plain": [
       "<Figure size 1200x300 with 4 Axes>"
      ]
     },
     "metadata": {},
     "output_type": "display_data"
    }
   ],
   "source": [
    "fig, axs = plt.subplots(1,4, figsize = (12,3))\n",
    "sns.barplot(data= vaders, x= 'Stars', y= 'pos', ax = axs[0])\n",
    "sns.barplot(data= vaders, x= 'Stars', y= 'neu', ax = axs[1])\n",
    "sns.barplot(data= vaders, x= 'Stars', y= 'neg', ax = axs[2])\n",
    "sns.barplot(data= vaders, x = 'Stars', y= 'compound', ax = axs[3])\n",
    "axs[0].set_title('Positive')\n",
    "axs[1].set_title('Neutral')\n",
    "axs[2].set_title('Negative')\n",
    "axs[3].set_title('Compound')\n",
    "plt.tight_layout()\n",
    "plt.show()"
   ]
  },
  {
   "cell_type": "markdown",
   "id": "33c36d28",
   "metadata": {},
   "source": [
    "# Roberta Pretrained Model (Working on)"
   ]
  },
  {
   "cell_type": "code",
   "execution_count": 13,
   "id": "6a56af35",
   "metadata": {},
   "outputs": [
    {
     "name": "stderr",
     "output_type": "stream",
     "text": [
      "/opt/anaconda3/lib/python3.9/site-packages/requests/__init__.py:102: RequestsDependencyWarning: urllib3 (1.26.14) or chardet (5.1.0)/charset_normalizer (2.0.4) doesn't match a supported version!\n",
      "  warnings.warn(\"urllib3 ({}) or chardet ({})/charset_normalizer ({}) doesn't match a supported \"\n",
      "2023-02-15 09:48:31.004575: I tensorflow/core/platform/cpu_feature_guard.cc:193] This TensorFlow binary is optimized with oneAPI Deep Neural Network Library (oneDNN) to use the following CPU instructions in performance-critical operations:  SSE4.1 SSE4.2 AVX AVX2 FMA\n",
      "To enable them in other operations, rebuild TensorFlow with the appropriate compiler flags.\n"
     ]
    }
   ],
   "source": [
    "from transformers import AutoTokenizer\n",
    "from transformers import TFAutoModelForSequenceClassification\n",
    "from scipy.special import softmax\n",
    "#import pytorch"
   ]
  },
  {
   "cell_type": "code",
   "execution_count": 14,
   "id": "01c6c28d",
   "metadata": {
    "scrolled": true
   },
   "outputs": [
    {
     "name": "stderr",
     "output_type": "stream",
     "text": [
      "2023-02-15 09:48:40.881398: I tensorflow/core/platform/cpu_feature_guard.cc:193] This TensorFlow binary is optimized with oneAPI Deep Neural Network Library (oneDNN) to use the following CPU instructions in performance-critical operations:  SSE4.1 SSE4.2 AVX AVX2 FMA\n",
      "To enable them in other operations, rebuild TensorFlow with the appropriate compiler flags.\n",
      "All model checkpoint layers were used when initializing TFRobertaForSequenceClassification.\n",
      "\n",
      "All the layers of TFRobertaForSequenceClassification were initialized from the model checkpoint at cardiffnlp/twitter-roberta-base-sentiment.\n",
      "If your task is similar to the task the model of the checkpoint was trained on, you can already use TFRobertaForSequenceClassification for predictions without further training.\n"
     ]
    }
   ],
   "source": [
    "MODEL = f\"cardiffnlp/twitter-roberta-base-sentiment\"\n",
    "tokenizer = AutoTokenizer.from_pretrained(MODEL)\n",
    "model = TFAutoModelForSequenceClassification.from_pretrained(MODEL)\n"
   ]
  }
 ],
 "metadata": {
  "kernelspec": {
   "display_name": "Python 3 (ipykernel)",
   "language": "python",
   "name": "python3"
  },
  "language_info": {
   "codemirror_mode": {
    "name": "ipython",
    "version": 3
   },
   "file_extension": ".py",
   "mimetype": "text/x-python",
   "name": "python",
   "nbconvert_exporter": "python",
   "pygments_lexer": "ipython3",
   "version": "3.9.16"
  }
 },
 "nbformat": 4,
 "nbformat_minor": 5
}
