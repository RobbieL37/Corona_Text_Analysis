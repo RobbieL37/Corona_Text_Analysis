{
 "cells": [
  {
   "cell_type": "code",
   "execution_count": 1,
   "id": "5cdb620e",
   "metadata": {},
   "outputs": [],
   "source": [
    "import pandas as pd\n",
    "import numpy as np\n",
    "import matplotlib.pyplot as plt\n",
    "import sklearn as sk\n",
    "import nltk\n",
    "from nltk.tokenize import word_tokenize\n",
    "from nltk.probability import FreqDist\n",
    "from nltk.corpus import stopwords\n",
    "from wordcloud import WordCloud\n",
    "from nltk.tokenize import RegexpTokenizer\n",
    "from nltk.stem import PorterStemmer\n",
    "from nltk.stem.wordnet import WordNetLemmatizer\n",
    "from nltk import pos_tag\n",
    "from nltk.util import ngrams\n",
    "import plotly.express as px\n",
    "import scipy.stats\n",
    "import math\n",
    "import statistics\n",
    "import string \n",
    "import re\n",
    "from collections import defaultdict\n",
    "from gensim import corpora, models\n",
    "from nltk.text import Text"
   ]
  },
  {
   "cell_type": "markdown",
   "id": "baaf03e0",
   "metadata": {},
   "source": [
    "8 data (x) \n",
    "ranking negative(1-3) positive(4,5) (x) \n",
    "single words + Bi-grame + Tri-gram"
   ]
  },
  {
   "cell_type": "markdown",
   "id": "98423e75",
   "metadata": {},
   "source": [
    "### Import all the data "
   ]
  },
  {
   "cell_type": "code",
   "execution_count": 2,
   "id": "c095322f",
   "metadata": {},
   "outputs": [],
   "source": [
    "# data importing \n",
    "lowes_6026 = pd.read_csv('C:\\\\Users\\\\lxf12\\\\Desktop\\\\Folder of folders\\\\Corona New project\\\\Lowes_Homedepot_Reviews\\\\lowes.com_3286026.csv')\n",
    "lowes_0314 = pd.read_csv('C:\\\\Users\\\\lxf12\\\\Desktop\\\\Folder of folders\\\\Corona New project\\\\Lowes_Homedepot_Reviews\\\\lowes.com_3380314.csv')\n",
    "lowes_0511 = pd.read_csv('C:\\\\Users\\\\lxf12\\\\Desktop\\\\Folder of folders\\\\Corona New project\\\\Lowes_Homedepot_Reviews\\\\lowes.com_50280511.csv') \n",
    "lowes_6162 = pd.read_csv('C:\\\\Users\\\\lxf12\\\\Desktop\\\\Folder of folders\\\\Corona New project\\\\Lowes_Homedepot_Reviews\\\\lowes.com_1003066162.csv')\n",
    "lowes_6209 = pd.read_csv('C:\\\\Users\\\\lxf12\\\\Desktop\\\\Folder of folders\\\\Corona New project\\\\Lowes_Homedepot_Reviews\\\\lowes.com_5000026209.csv')\n",
    "lowes_9855 = pd.read_csv('C:\\\\Users\\\\lxf12\\\\Desktop\\\\Folder of folders\\\\Corona New project\\\\Lowes_Homedepot_Reviews\\\\lowes.com_5001899855.csv')"
   ]
  },
  {
   "cell_type": "code",
   "execution_count": 3,
   "id": "4acbbcc5",
   "metadata": {},
   "outputs": [],
   "source": [
    "# data importing \n",
    "homedepot_4796 = pd.read_csv('C:\\\\Users\\\\lxf12\\\\Desktop\\\\Folder of folders\\\\Corona New project\\\\Lowes_Homedepot_Reviews\\\\homedepot.com_204074796.csv')\n",
    "homedepot_7071 = pd.read_csv('C:\\\\Users\\\\lxf12\\\\Desktop\\\\Folder of folders\\\\Corona New project\\\\Lowes_Homedepot_Reviews\\\\homedepot.com_319247071.csv')"
   ]
  },
  {
   "cell_type": "code",
   "execution_count": 4,
   "id": "0698ea5b",
   "metadata": {},
   "outputs": [
    {
     "name": "stderr",
     "output_type": "stream",
     "text": [
      "C:\\Users\\lxf12\\AppData\\Local\\Temp\\ipykernel_20740\\779606820.py:2: FutureWarning: Passing a negative integer is deprecated in version 1.0 and will not be supported in future version. Instead, use None to not limit the column width.\n",
      "  pd.set_option('display.max_colwidth', -1)\n"
     ]
    }
   ],
   "source": [
    "# set display option to max to see all information in review column\n",
    "pd.set_option('display.max_colwidth', -1)"
   ]
  },
  {
   "cell_type": "code",
   "execution_count": 5,
   "id": "870c0b23",
   "metadata": {
    "scrolled": true
   },
   "outputs": [
    {
     "data": {
      "text/html": [
       "<div>\n",
       "<style scoped>\n",
       "    .dataframe tbody tr th:only-of-type {\n",
       "        vertical-align: middle;\n",
       "    }\n",
       "\n",
       "    .dataframe tbody tr th {\n",
       "        vertical-align: top;\n",
       "    }\n",
       "\n",
       "    .dataframe thead th {\n",
       "        text-align: right;\n",
       "    }\n",
       "</style>\n",
       "<table border=\"1\" class=\"dataframe\">\n",
       "  <thead>\n",
       "    <tr style=\"text-align: right;\">\n",
       "      <th></th>\n",
       "      <th>Market_place</th>\n",
       "      <th>URL</th>\n",
       "      <th>Product_name</th>\n",
       "      <th>SKU</th>\n",
       "      <th>Price</th>\n",
       "      <th>Currency</th>\n",
       "      <th>Subject</th>\n",
       "      <th>Author</th>\n",
       "      <th>Date</th>\n",
       "      <th>Review</th>\n",
       "      <th>Stars</th>\n",
       "      <th>like</th>\n",
       "      <th>dislike</th>\n",
       "    </tr>\n",
       "  </thead>\n",
       "  <tbody>\n",
       "    <tr>\n",
       "      <th>0</th>\n",
       "      <td>lowes.com</td>\n",
       "      <td>https://www.lowes.com/pd/American-Standard-Saver-White-WaterSense-Labeled-Elongated-Chair-Height-2-piece-Toilet-12-in-Rough-In-Size/3380314</td>\n",
       "      <td>American Standard  Saver White Elongated Chair Height 2-piece WaterSense Toilet 12-in Rough-In Size (Ada Compliant)</td>\n",
       "      <td>Model #710FA.101.020</td>\n",
       "      <td>179.0</td>\n",
       "      <td>USD</td>\n",
       "      <td>Need Quality Control</td>\n",
       "      <td>USAF157</td>\n",
       "      <td>December 7, 2020</td>\n",
       "      <td>Nice design with poor quality control. Tank leaked during install. Had to replace fill valve and remove excess porcelain cement from fill valve opening to make it smooth and round.</td>\n",
       "      <td>1</td>\n",
       "      <td>0</td>\n",
       "      <td>0</td>\n",
       "    </tr>\n",
       "    <tr>\n",
       "      <th>1</th>\n",
       "      <td>lowes.com</td>\n",
       "      <td>https://www.lowes.com/pd/American-Standard-Saver-White-WaterSense-Labeled-Elongated-Chair-Height-2-piece-Toilet-12-in-Rough-In-Size/3380314</td>\n",
       "      <td>American Standard  Saver White Elongated Chair Height 2-piece WaterSense Toilet 12-in Rough-In Size (Ada Compliant)</td>\n",
       "      <td>Model #710FA.101.020</td>\n",
       "      <td>179.0</td>\n",
       "      <td>USD</td>\n",
       "      <td>Good Flush</td>\n",
       "      <td>EddieD</td>\n",
       "      <td>April 12, 2013</td>\n",
       "      <td>I have bought other toilets for a rental. Sometimes there isn't much water in the bowl. Without enough water in bowl, you may need to clean the bowl much more often than usual, if you know what I mean. This toilet does hold a good amount of water in bowl. As far as people saying they need to flush 2 or 3 times....all you need to do is hold down the flushing handle for an extra 1-2 seconds and you get more water flushing from the tank through the bowl. (Quick flush for # 1 and Hold down lever longer for a long flush for #2). It does have a cheap seat, but I used the seat I had instead. The Wax Ring is good. It is deep for a good seal and it has the flange on it. Don't forget to get a very long water supply line. If not sure how long, just get the longest one they have. If too long, you can just twist it into a circle. You'll never see it behind the toilet. This is a high toilet (17 1/2 inches to top of seat). My wife is 5' 4\" . She said \" any higher she would need a step stool\" but she likes the height. We have been using this for over a month now with no complaints or concerns.</td>\n",
       "      <td>5</td>\n",
       "      <td>21</td>\n",
       "      <td>1</td>\n",
       "    </tr>\n",
       "  </tbody>\n",
       "</table>\n",
       "</div>"
      ],
      "text/plain": [
       "  Market_place  \\\n",
       "0  lowes.com     \n",
       "1  lowes.com     \n",
       "\n",
       "                                                                                                                                           URL  \\\n",
       "0  https://www.lowes.com/pd/American-Standard-Saver-White-WaterSense-Labeled-Elongated-Chair-Height-2-piece-Toilet-12-in-Rough-In-Size/3380314   \n",
       "1  https://www.lowes.com/pd/American-Standard-Saver-White-WaterSense-Labeled-Elongated-Chair-Height-2-piece-Toilet-12-in-Rough-In-Size/3380314   \n",
       "\n",
       "                                                                                                          Product_name  \\\n",
       "0  American Standard  Saver White Elongated Chair Height 2-piece WaterSense Toilet 12-in Rough-In Size (Ada Compliant)   \n",
       "1  American Standard  Saver White Elongated Chair Height 2-piece WaterSense Toilet 12-in Rough-In Size (Ada Compliant)   \n",
       "\n",
       "                    SKU  Price Currency               Subject   Author  \\\n",
       "0  Model #710FA.101.020  179.0  USD      Need Quality Control  USAF157   \n",
       "1  Model #710FA.101.020  179.0  USD      Good Flush            EddieD    \n",
       "\n",
       "               Date  \\\n",
       "0  December 7, 2020   \n",
       "1  April 12, 2013     \n",
       "\n",
       "                                                                                                                                                                                                                                                                                                                                                                                                                                                                                                                                                                                                                                                                                                                                                                                                                                                                                                                                                                                                                                                                                                                                   Review  \\\n",
       "0  Nice design with poor quality control. Tank leaked during install. Had to replace fill valve and remove excess porcelain cement from fill valve opening to make it smooth and round.                                                                                                                                                                                                                                                                                                                                                                                                                                                                                                                                                                                                                                                                                                                                                                                                                                                                                                                                                     \n",
       "1  I have bought other toilets for a rental. Sometimes there isn't much water in the bowl. Without enough water in bowl, you may need to clean the bowl much more often than usual, if you know what I mean. This toilet does hold a good amount of water in bowl. As far as people saying they need to flush 2 or 3 times....all you need to do is hold down the flushing handle for an extra 1-2 seconds and you get more water flushing from the tank through the bowl. (Quick flush for # 1 and Hold down lever longer for a long flush for #2). It does have a cheap seat, but I used the seat I had instead. The Wax Ring is good. It is deep for a good seal and it has the flange on it. Don't forget to get a very long water supply line. If not sure how long, just get the longest one they have. If too long, you can just twist it into a circle. You'll never see it behind the toilet. This is a high toilet (17 1/2 inches to top of seat). My wife is 5' 4\" . She said \" any higher she would need a step stool\" but she likes the height. We have been using this for over a month now with no complaints or concerns.   \n",
       "\n",
       "   Stars  like  dislike  \n",
       "0  1      0     0        \n",
       "1  5      21    1        "
      ]
     },
     "execution_count": 5,
     "metadata": {},
     "output_type": "execute_result"
    }
   ],
   "source": [
    "lowes_0314.head(2)"
   ]
  },
  {
   "cell_type": "code",
   "execution_count": 6,
   "id": "ce8ec600",
   "metadata": {
    "tags": []
   },
   "outputs": [
    {
     "name": "stdout",
     "output_type": "stream",
     "text": [
      "lowes_6026 has null rows amount: 30\n",
      "after cleaning, lowes_6026 has null rows amount: 0\n",
      "lowes_0314 has null rows amount: 10\n",
      "after cleaning, lowes_0314 has null rows amount: 0\n",
      "lowes_0511 has null rows amount: 15\n",
      "after cleaning, lowes_0511 has null rows amount: 0\n",
      "lowes_6162 has null rows amount: 297\n",
      "after cleaning, lowes_6162 has null rows amount: 0\n",
      "lowes_6209 has null rows amount: 76\n",
      "after cleaning, lowes_6209 has null rows amount: 0\n",
      "lowes_9855 has null rows amount: 170\n",
      "after cleaning, lowes_9855 has null rows amount: 0\n",
      "homedepot_4796 has null rows amount: 186\n",
      "after cleaning, homedepot_4796 has null rows amount: 0\n",
      "homedepot_7071 has null rows amount: 9\n",
      "after cleaning, homedepot_7071 has null rows amount: 0\n"
     ]
    }
   ],
   "source": [
    "# drop null value\n",
    "datalist = [lowes_6026, lowes_0314, lowes_0511, lowes_6162,\n",
    "                    lowes_6209, lowes_9855, \n",
    "                     homedepot_4796, homedepot_7071]\n",
    "namelist = ['lowes_6026', 'lowes_0314', 'lowes_0511', 'lowes_6162',\n",
    "                    'lowes_6209', 'lowes_9855', \n",
    "                     'homedepot_4796', 'homedepot_7071']\n",
    "n = 0 \n",
    "\n",
    "for i in datalist: \n",
    "    # drop rows with Not a Number (NaN) and None values\n",
    "    name = namelist[n]\n",
    "    n += 1\n",
    "    print(name + ' has null rows amount: '+ str(i['Review'].isna().sum()))\n",
    "    i.dropna(subset=['Review'], inplace=True)\n",
    "    print('after cleaning, ' + name + ' has null rows amount: ' \n",
    "          + str(i['Review'].isna().sum()))\n",
    "    "
   ]
  },
  {
   "cell_type": "code",
   "execution_count": 7,
   "id": "d8f8204e",
   "metadata": {},
   "outputs": [
    {
     "name": "stdout",
     "output_type": "stream",
     "text": [
      "<class 'pandas.core.frame.DataFrame'>\n",
      "Int64Index: 100 entries, 0 to 114\n",
      "Data columns (total 13 columns):\n",
      " #   Column        Non-Null Count  Dtype  \n",
      "---  ------        --------------  -----  \n",
      " 0   Market_place  100 non-null    object \n",
      " 1   URL           100 non-null    object \n",
      " 2   Product_name  100 non-null    object \n",
      " 3   SKU           100 non-null    object \n",
      " 4   Price         100 non-null    float64\n",
      " 5   Currency      100 non-null    object \n",
      " 6   Subject       100 non-null    object \n",
      " 7   Author        95 non-null     object \n",
      " 8   Date          100 non-null    object \n",
      " 9   Review        100 non-null    object \n",
      " 10  Stars         100 non-null    int64  \n",
      " 11  like          100 non-null    int64  \n",
      " 12  dislike       100 non-null    int64  \n",
      "dtypes: float64(1), int64(3), object(9)\n",
      "memory usage: 10.9+ KB\n"
     ]
    }
   ],
   "source": [
    "lowes_9855.info()"
   ]
  },
  {
   "cell_type": "code",
   "execution_count": 8,
   "id": "c1f47119",
   "metadata": {},
   "outputs": [
    {
     "data": {
      "text/plain": [
       "Market_place    0 \n",
       "URL             0 \n",
       "Product_name    0 \n",
       "SKU             0 \n",
       "Price           0 \n",
       "Currency        0 \n",
       "Subject         48\n",
       "Author          11\n",
       "Date            0 \n",
       "Review          0 \n",
       "Stars           0 \n",
       "like            0 \n",
       "dislike         0 \n",
       "dtype: int64"
      ]
     },
     "execution_count": 8,
     "metadata": {},
     "output_type": "execute_result"
    }
   ],
   "source": [
    "datalist[0].isna().sum()"
   ]
  },
  {
   "cell_type": "code",
   "execution_count": null,
   "id": "5a2ea1a8",
   "metadata": {},
   "outputs": [],
   "source": []
  },
  {
   "cell_type": "markdown",
   "id": "76f2874b",
   "metadata": {},
   "source": [
    "### Separate Negative and Positive Ranking"
   ]
  },
  {
   "cell_type": "code",
   "execution_count": 9,
   "id": "846166b3",
   "metadata": {},
   "outputs": [
    {
     "name": "stdout",
     "output_type": "stream",
     "text": [
      "Please select negative(0) or positive ranking(1): 0\n"
     ]
    }
   ],
   "source": [
    "# 8 data x 2 categories \n",
    "try:\n",
    "    user_select = int(input(\"Please select negative(0) or positive ranking(1): \"))\n",
    "except: \n",
    "    print(\"Your input is not correct. Please input again according the tips.\")\n",
    "\n",
    "if user_select == 0:\n",
    "    # get reviews that have given 1, 2, and 3 stars (negative)\n",
    "    lowes_6026 = lowes_6026.loc[lowes_6026['Stars'] <= 3]\n",
    "    lowes_0314 = lowes_0314.loc[lowes_0314['Stars'] <= 3]\n",
    "    lowes_0511 = lowes_0511.loc[lowes_0511['Stars'] <= 3]\n",
    "    lowes_6162 = lowes_6162.loc[lowes_6162['Stars'] <= 3]\n",
    "    lowes_6209 = lowes_6209.loc[lowes_6209['Stars'] <= 3]\n",
    "    lowes_9855 = lowes_9855.loc[lowes_9855['Stars'] <= 3]\n",
    "    # get reviews that have given 1, 2, and 3 stars (negative)\n",
    "    homedepot_4796 = homedepot_4796.loc[homedepot_4796['Stars'] <= 3]\n",
    "    homedepot_7071 = homedepot_7071.loc[homedepot_7071['Stars'] <= 3]\n",
    "elif user_select == 1:\n",
    "    # get reviews that have given 4 and 5 stars (positive)\n",
    "    lowes_6026 = lowes_6026.loc[lowes_6026['Stars'] > 3]\n",
    "    lowes_0314 = lowes_0314.loc[lowes_0314['Stars'] > 3]\n",
    "    lowes_0511 = lowes_0511.loc[lowes_0511['Stars'] > 3]\n",
    "    lowes_6162 = lowes_6162.loc[lowes_6162['Stars'] > 3]\n",
    "    lowes_6209 = lowes_6209.loc[lowes_6209['Stars'] > 3]\n",
    "    lowes_9855 = lowes_9855.loc[lowes_9855['Stars'] > 3]\n",
    "    # get reviews that have given 4 and 5 stars (positive)\n",
    "    homedepot_4796 = homedepot_4796.loc[homedepot_4796['Stars'] > 3]\n",
    "    homedepot_7071 = homedepot_7071.loc[homedepot_7071['Stars'] > 3]\n",
    "else: \n",
    "    print(\"Your input is not correct. Please input again according the tips.\")"
   ]
  },
  {
   "cell_type": "code",
   "execution_count": 10,
   "id": "3593942a",
   "metadata": {},
   "outputs": [],
   "source": [
    "datalist = [lowes_6026, lowes_0314, lowes_0511, lowes_6162,\n",
    "                    lowes_6209, lowes_9855, \n",
    "                     homedepot_4796, homedepot_7071]"
   ]
  },
  {
   "cell_type": "code",
   "execution_count": 11,
   "id": "ec1d7292",
   "metadata": {
    "scrolled": true
   },
   "outputs": [
    {
     "name": "stdout",
     "output_type": "stream",
     "text": [
      "<class 'pandas.core.frame.DataFrame'>\n",
      "Int64Index: 46 entries, 0 to 391\n",
      "Data columns (total 13 columns):\n",
      " #   Column        Non-Null Count  Dtype  \n",
      "---  ------        --------------  -----  \n",
      " 0   Market_place  46 non-null     object \n",
      " 1   URL           46 non-null     object \n",
      " 2   Product_name  46 non-null     object \n",
      " 3   SKU           46 non-null     object \n",
      " 4   Price         46 non-null     float64\n",
      " 5   Currency      46 non-null     object \n",
      " 6   Subject       46 non-null     object \n",
      " 7   Author        45 non-null     object \n",
      " 8   Date          46 non-null     object \n",
      " 9   Review        46 non-null     object \n",
      " 10  Stars         46 non-null     int64  \n",
      " 11  like          46 non-null     int64  \n",
      " 12  dislike       46 non-null     int64  \n",
      "dtypes: float64(1), int64(3), object(9)\n",
      "memory usage: 5.0+ KB\n"
     ]
    }
   ],
   "source": [
    "lowes_0314.info()"
   ]
  },
  {
   "cell_type": "markdown",
   "id": "ebac48f2",
   "metadata": {},
   "source": [
    "### Lower case for all words & Remove punctuation"
   ]
  },
  {
   "cell_type": "code",
   "execution_count": 12,
   "id": "3c535bc3",
   "metadata": {},
   "outputs": [],
   "source": [
    "# download package punkt for word_tokenize\n",
    "# nltk.download('punkt')\n",
    "# download package for stopwords\n",
    "# nltk.download('stopwords')\n",
    "# nltk.download('averaged_perceptron_tagger')\n",
    "# nltk.download('wordnet')\n",
    "# nltk.download('omw-1.4')"
   ]
  },
  {
   "cell_type": "markdown",
   "id": "c1f6b0a1-9e6a-4704-a4d1-eb2acdea72fd",
   "metadata": {},
   "source": [
    "### Store them to text list"
   ]
  },
  {
   "cell_type": "code",
   "execution_count": 13,
   "id": "121d75f5",
   "metadata": {},
   "outputs": [],
   "source": [
    "# before the cleaning \n",
    "text_01 = lowes_6026['Review'].to_string(index=False)\n",
    "# text_01"
   ]
  },
  {
   "cell_type": "code",
   "execution_count": 14,
   "id": "ee2eebbd",
   "metadata": {},
   "outputs": [],
   "source": [
    "# Create a translation table with all punctuation characters mapped to None\n",
    "translator = str.maketrans('', '', string.punctuation)\n",
    "\n",
    "text = [0] * 8\n",
    "n = 0 \n",
    "\n",
    "for i in datalist:\n",
    "    # convert pandas series data to string\n",
    "    text[n] = i['Review'].to_string(index=False)\n",
    "    # convert all characters to lowercase\n",
    "    text[n] = text[n].lower()\n",
    "    # remove punctuations using RegexpTokenizer\n",
    "    text[n] = text[n].translate(translator)\n",
    "    # Use regex to remove all numbers\n",
    "    text[n] = re.sub(r'\\d+', '', text[n])\n",
    "    n += 1"
   ]
  },
  {
   "cell_type": "code",
   "execution_count": 15,
   "id": "6edb3aae",
   "metadata": {},
   "outputs": [],
   "source": [
    "# the result has been single words \n",
    "# text[0]"
   ]
  },
  {
   "cell_type": "code",
   "execution_count": 16,
   "id": "0351e2bb",
   "metadata": {},
   "outputs": [
    {
     "data": {
      "text/plain": [
       "str"
      ]
     },
     "execution_count": 16,
     "metadata": {},
     "output_type": "execute_result"
    }
   ],
   "source": [
    "type(text[0])"
   ]
  },
  {
   "cell_type": "code",
   "execution_count": 17,
   "id": "b4a7e790",
   "metadata": {},
   "outputs": [],
   "source": [
    "datalist = [lowes_6026, lowes_0314, lowes_0511, lowes_6162,\n",
    "                    lowes_6209, lowes_9855, \n",
    "                     homedepot_4796, homedepot_7071]"
   ]
  },
  {
   "cell_type": "code",
   "execution_count": null,
   "id": "f1260f66",
   "metadata": {},
   "outputs": [],
   "source": []
  },
  {
   "cell_type": "markdown",
   "id": "f5683fe8",
   "metadata": {},
   "source": [
    "### Stop words"
   ]
  },
  {
   "cell_type": "code",
   "execution_count": 18,
   "id": "ee2b5f54",
   "metadata": {},
   "outputs": [
    {
     "name": "stderr",
     "output_type": "stream",
     "text": [
      "[nltk_data] Downloading package stopwords to\n",
      "[nltk_data]     C:\\Users\\lxf12\\AppData\\Roaming\\nltk_data...\n",
      "[nltk_data]   Package stopwords is already up-to-date!\n"
     ]
    }
   ],
   "source": [
    "import nltk\n",
    "from nltk.corpus import stopwords\n",
    "nltk.download('stopwords')\n",
    "\n",
    "def remove_stopwords(text):\n",
    "    stop_words = set(stopwords.words('english'))\n",
    "    # customize stop_words by including a custom list of words\n",
    "    custom_stop_words = ['toilet']\n",
    "#     custom_stop_words = ['new','toilet', 'factory', 'flush', 'sku', 'photos', 'stay', \n",
    "#                                      'lid', 'good', 'great', 'handle', 'top', 'high', 'urine']\n",
    "    stop_words.update(custom_stop_words)\n",
    "    words = text.split()\n",
    "    filtered_words = [word for word in words if word.lower() not in stop_words]\n",
    "    return ' '.join(filtered_words)"
   ]
  },
  {
   "cell_type": "code",
   "execution_count": 19,
   "id": "4212bdaf",
   "metadata": {},
   "outputs": [],
   "source": [
    "for i in range(8):\n",
    "    text[i] = remove_stopwords(text[i])"
   ]
  },
  {
   "cell_type": "code",
   "execution_count": 20,
   "id": "af6afe21",
   "metadata": {},
   "outputs": [],
   "source": [
    "datalist = [lowes_6026, lowes_0314, lowes_0511, lowes_6162,\n",
    "                    lowes_6209, lowes_9855, \n",
    "                     homedepot_4796, homedepot_7071]"
   ]
  },
  {
   "cell_type": "code",
   "execution_count": null,
   "id": "add4995b",
   "metadata": {},
   "outputs": [],
   "source": []
  },
  {
   "cell_type": "markdown",
   "id": "70c58a46-ca67-4646-9f10-e7294cfcb11b",
   "metadata": {},
   "source": [
    "### Text Tokenization"
   ]
  },
  {
   "cell_type": "code",
   "execution_count": 21,
   "id": "d359be9d-8bf8-4e58-9943-7610f3964cb9",
   "metadata": {},
   "outputs": [],
   "source": [
    "# remove punctuations using RegexpTokenizer\n",
    "tokenizer = RegexpTokenizer(r'\\w+')\n",
    "tokens = [0] * 8\n",
    "for i in range(8):\n",
    "    tokens[i] = tokenizer.tokenize(text[i])"
   ]
  },
  {
   "cell_type": "code",
   "execution_count": 22,
   "id": "19e46dbc-4f87-4923-8acf-fb5b099372ba",
   "metadata": {},
   "outputs": [],
   "source": [
    "# tokens[0]"
   ]
  },
  {
   "cell_type": "code",
   "execution_count": null,
   "id": "da5d8c66-7b03-46c4-ab8b-c88cb0fbe2e8",
   "metadata": {},
   "outputs": [],
   "source": []
  },
  {
   "cell_type": "markdown",
   "id": "29079591",
   "metadata": {},
   "source": [
    "### Bi-gram and Tri-gram"
   ]
  },
  {
   "cell_type": "code",
   "execution_count": 23,
   "id": "6eb6a7c5",
   "metadata": {},
   "outputs": [
    {
     "name": "stdout",
     "output_type": "stream",
     "text": [
      "How many words do you want to aggregate? (1-8)4\n"
     ]
    }
   ],
   "source": [
    "# N-gram generation\n",
    "N = int(input('How many words do you want to aggregate? (1-8)'))\n",
    "\n",
    "trigrams = [0] * 8\n",
    "for i in range(8):\n",
    "    trigrams[i] = list(ngrams(tokens[i], N))"
   ]
  },
  {
   "cell_type": "code",
   "execution_count": 24,
   "id": "36ebc172",
   "metadata": {},
   "outputs": [],
   "source": [
    "# trigrams[6]"
   ]
  },
  {
   "cell_type": "code",
   "execution_count": 25,
   "id": "3e854e27",
   "metadata": {},
   "outputs": [],
   "source": [
    "# ## Count the trigrams with the same set of words\n",
    "# trigram_count = defaultdict(set)\n",
    "\n",
    "# for word in trigrams[6]:\n",
    "#     key = frozenset(word)\n",
    "#     trigram_count[key].add(word)\n",
    "\n",
    "# # Print the trigram counts\n",
    "# for key, amount in trigram_count.items():\n",
    "#     count = len(amount)\n",
    "#     print(f\"{key}: {count}\")"
   ]
  },
  {
   "cell_type": "code",
   "execution_count": 26,
   "id": "adb3983d",
   "metadata": {},
   "outputs": [],
   "source": [
    "# connect the three words together \n",
    "words = [0] * 8\n",
    "for i in range(8):\n",
    "    words[i] = [' '.join(tr) for tr in trigrams[i]]"
   ]
  },
  {
   "cell_type": "code",
   "execution_count": null,
   "id": "5f70bccd",
   "metadata": {},
   "outputs": [],
   "source": []
  },
  {
   "cell_type": "markdown",
   "id": "6fcadce1",
   "metadata": {},
   "source": [
    "### Frequency Analysis"
   ]
  },
  {
   "cell_type": "code",
   "execution_count": 27,
   "id": "7570342c",
   "metadata": {
    "scrolled": true
   },
   "outputs": [
    {
     "name": "stdout",
     "output_type": "stream",
     "text": [
      "Which one do you want to look at? (1-8)1\n"
     ]
    },
    {
     "data": {
      "text/plain": [
       "[(('american', 'standard', 'customer', 'service'), 3),\n",
       " (('needs', 'cleaned', 'every', 'day'), 2),\n",
       " (('american', 'standard', 'mainstream', 'model'), 2),\n",
       " (('one', 'market', 'flow', 'master'), 2),\n",
       " (('small', 'amount', 'water', 'enters'), 2),\n",
       " (('amount', 'water', 'enters', 'bowl'), 2),\n",
       " (('water', 'enters', 'bowl', 'enough'), 2),\n",
       " (('like', 'facts', 'uses', 'little'), 1),\n",
       " (('facts', 'uses', 'little', 'water'), 1),\n",
       " (('uses', 'little', 'water', 'chair'), 1)]"
      ]
     },
     "execution_count": 27,
     "metadata": {},
     "output_type": "execute_result"
    }
   ],
   "source": [
    "# select the data \n",
    "n = int(input('Which one do you want to look at? (1-8)'))\n",
    "\n",
    "word_frequency = FreqDist(trigrams[n-1])\n",
    "\n",
    "# Identify co-occurring trigrams\n",
    "cooccurring_trigrams = []\n",
    "for trigram in word_frequency:\n",
    "    if word_frequency[trigram] > 1:\n",
    "        cooccurring_trigrams.append(trigram)\n",
    "\n",
    "word_frequency.most_common(10)\n",
    "\n",
    "# word_frequency.plot(30,cumulative=False)\n",
    "# plt.show()"
   ]
  },
  {
   "cell_type": "code",
   "execution_count": null,
   "id": "03fa8d42",
   "metadata": {},
   "outputs": [],
   "source": []
  },
  {
   "cell_type": "markdown",
   "id": "bfdfaa26",
   "metadata": {},
   "source": [
    "### Topic Modeling\n",
    "#### Latent Dirichlet Allocation (LDA), which is a popular unsupervised learning algorithm used for topic modeling."
   ]
  },
  {
   "cell_type": "code",
   "execution_count": 28,
   "id": "55791e79",
   "metadata": {},
   "outputs": [],
   "source": [
    "from gensim import corpora, models"
   ]
  },
  {
   "cell_type": "code",
   "execution_count": 29,
   "id": "11cc6301",
   "metadata": {
    "scrolled": true
   },
   "outputs": [
    {
     "name": "stdout",
     "output_type": "stream",
     "text": [
      "Which one do you want to look at? (1-8)1\n",
      "Topic 0: 0.000*\"could return would one\" + 0.000*\"measure current seat height\" + 0.000*\"install charged delivery fee\" + 0.000*\"nd faulty lowes ive\"\n",
      "Topic 1: 0.001*\"company get parts lowes\" + 0.001*\"noticed hair line crack\" + 0.001*\"hair line crack water\" + 0.001*\"time theres tissues forget\"\n",
      "Topic 2: 0.001*\"garbage purchased two one\" + 0.001*\"water wont flush big\" + 0.000*\"american standard customer service\" + 0.000*\"small amount water enters\"\n"
     ]
    }
   ],
   "source": [
    "# Step 1: select the data \n",
    "n = int(input('Which one do you want to look at? (1-8)'))\n",
    "\n",
    "# Step 2: Create a dictionary of words and convert the text into a bag-of-words format\n",
    "dictionary = corpora.Dictionary([words[n-1]])\n",
    "corpus = [dictionary.doc2bow([word]) for word in words[n-1]]\n",
    "\n",
    "# Step 3: Apply LDA to the corpus to identify topics in the text\n",
    "lda_model = models.LdaModel(corpus, num_topics=3, id2word=dictionary, passes=10)\n",
    "\n",
    "# Step 4: Print the topics and the top words associated with each topic\n",
    "for i, topic in lda_model.show_topics(formatted=True, num_topics=3, num_words=4):\n",
    "    print(\"Topic {}: {}\".format(i, topic))"
   ]
  },
  {
   "cell_type": "code",
   "execution_count": null,
   "id": "6c0ce9fc",
   "metadata": {},
   "outputs": [],
   "source": []
  },
  {
   "cell_type": "markdown",
   "id": "51c3d2db",
   "metadata": {},
   "source": [
    "### Text Summarization\n",
    "#### In summary, while topic modeling aims to uncover the underlying themes and topics in a large corpus of text, text summarization aims to provide a condensed version of a longer text, capturing the essential information and key points.\n",
    "#### Two different approaches are used for Text Summarization\n",
    "1. Extractive Summarization: In Extractive Summarization, we identify essential phrases or sentences from the original text and extract only these phrases from the text. These extracted sentences would be the summary.\n",
    "2. Abstractive Summarization: We work on generating new sentences from the original text in the Abstractive Summarization approach. The abstractive method contrasts the approach described above, and the sentences generated through this approach might not even be present in the original text."
   ]
  },
  {
   "cell_type": "code",
   "execution_count": 30,
   "id": "2260ef21",
   "metadata": {},
   "outputs": [],
   "source": [
    "import nltk\n",
    "from nltk.corpus import stopwords\n",
    "from nltk.tokenize import word_tokenize, sent_tokenize"
   ]
  },
  {
   "cell_type": "code",
   "execution_count": 31,
   "id": "0c95e207-0da1-4354-a09e-8232fd1c05e8",
   "metadata": {},
   "outputs": [
    {
     "name": "stdout",
     "output_type": "stream",
     "text": [
      "Which one do you want to look at? (1-8)1\n"
     ]
    }
   ],
   "source": [
    "# select the data \n",
    "n = int(input('Which one do you want to look at? (1-8)'))\n",
    "result_text_1 = datalist[n-1]['Review'].to_string(index=False)"
   ]
  },
  {
   "cell_type": "code",
   "execution_count": 32,
   "id": "5915b3f8",
   "metadata": {},
   "outputs": [],
   "source": [
    "stopWords = set(stopwords.words(\"english\"))\n",
    "words = word_tokenize(result_text_1)\n",
    "freqTable = dict()\n",
    "for word in words:\n",
    "    word = word.lower()\n",
    "    if word in stopWords:\n",
    "        continue\n",
    "    if word in freqTable:\n",
    "        freqTable[word] += 1\n",
    "    else:\n",
    "        freqTable[word] = 1"
   ]
  },
  {
   "cell_type": "code",
   "execution_count": 33,
   "id": "bc830825",
   "metadata": {
    "scrolled": true
   },
   "outputs": [],
   "source": [
    "sentences = sent_tokenize(result_text_1)\n",
    "sentenceValue = dict()\n",
    "for sentence in sentences:\n",
    "    for word, freq in freqTable.items():\n",
    "        if word in sentence.lower():\n",
    "            if sentence in sentenceValue:\n",
    "                sentenceValue[sentence] += freq\n",
    "            else:\n",
    "                sentenceValue[sentence] = freq"
   ]
  },
  {
   "cell_type": "code",
   "execution_count": 34,
   "id": "50d62ede",
   "metadata": {},
   "outputs": [],
   "source": [
    "sumValues = 0\n",
    "for sentence in sentenceValue:\n",
    "    sumValues += sentenceValue[sentence]"
   ]
  },
  {
   "cell_type": "code",
   "execution_count": 35,
   "id": "9f676513",
   "metadata": {},
   "outputs": [],
   "source": [
    "average = int(sumValues / len(sentenceValue))"
   ]
  },
  {
   "cell_type": "code",
   "execution_count": 36,
   "id": "0e24c42e",
   "metadata": {},
   "outputs": [],
   "source": [
    "# Storing sentences into our summary.\n",
    "summary = ''\n",
    "for sentence in sentences:\n",
    "    if (sentence in sentenceValue) and (sentenceValue[sentence] > (2.0 * average)):\n",
    "        summary += \" \" + sentence"
   ]
  },
  {
   "cell_type": "code",
   "execution_count": 37,
   "id": "ade3440b",
   "metadata": {
    "scrolled": true
   },
   "outputs": [
    {
     "name": "stdout",
     "output_type": "stream",
     "text": [
      "\n"
     ]
    }
   ],
   "source": [
    "print(summary)"
   ]
  },
  {
   "cell_type": "code",
   "execution_count": null,
   "id": "d002f2a3",
   "metadata": {},
   "outputs": [],
   "source": []
  },
  {
   "cell_type": "code",
   "execution_count": 38,
   "id": "3af3621e",
   "metadata": {},
   "outputs": [],
   "source": [
    "import spacy\n",
    "from spacy.lang.en.stop_words import STOP_WORDS\n",
    "from string import punctuation\n",
    "from heapq import nlargest\n",
    "from spacy.lang.en.examples import sentences "
   ]
  },
  {
   "cell_type": "code",
   "execution_count": 39,
   "id": "a3898267",
   "metadata": {},
   "outputs": [],
   "source": [
    "def summarize(text, per):\n",
    "    nlp = spacy.load('en_core_web_sm')\n",
    "    doc= nlp(text)\n",
    "    tokens=[token.text for token in doc]\n",
    "    word_frequencies={}\n",
    "    for word in doc:\n",
    "        if word.text.lower() not in list(STOP_WORDS):\n",
    "            if word.text.lower() not in punctuation:\n",
    "                if word.text not in word_frequencies.keys():\n",
    "                    word_frequencies[word.text] = 1\n",
    "                else:\n",
    "                    word_frequencies[word.text] += 1\n",
    "    max_frequency=max(word_frequencies.values())\n",
    "    for word in word_frequencies.keys():\n",
    "        word_frequencies[word]=word_frequencies[word]/max_frequency\n",
    "    sentence_tokens= [sent for sent in doc.sents]\n",
    "    sentence_scores = {}\n",
    "    for sent in sentence_tokens:\n",
    "        for word in sent:\n",
    "            if word.text.lower() in word_frequencies.keys():\n",
    "                if sent not in sentence_scores.keys():                            \n",
    "                    sentence_scores[sent]=word_frequencies[word.text.lower()]\n",
    "                else:\n",
    "                    sentence_scores[sent]+=word_frequencies[word.text.lower()]\n",
    "    select_length=int(len(sentence_tokens)*per)\n",
    "    summary=nlargest(select_length, sentence_scores,key=sentence_scores.get)\n",
    "    final_summary=[word.text for word in summary]\n",
    "    summary=''.join(final_summary)\n",
    "    return summary"
   ]
  },
  {
   "cell_type": "code",
   "execution_count": 40,
   "id": "c7d3fa29",
   "metadata": {},
   "outputs": [],
   "source": [
    "# datalist = [lowes_6026, lowes_0314, lowes_0511, lowes_6162,\n",
    "#                     lowes_6209, lowes_9855, \n",
    "#                      homedepot_4796, homedepot_7071]"
   ]
  },
  {
   "cell_type": "code",
   "execution_count": 41,
   "id": "cef9e8f0",
   "metadata": {},
   "outputs": [],
   "source": [
    "# text_6026 = lowes_6026['Review'].to_string(index=False)"
   ]
  },
  {
   "cell_type": "code",
   "execution_count": 42,
   "id": "9c659586",
   "metadata": {},
   "outputs": [
    {
     "name": "stdout",
     "output_type": "stream",
     "text": [
      "THe absoulte most horrible toilet i have ever used... do not waste your money or time on this one...spend the extra money cuz this toilet not only will not flush a leaf but extremly Uncomfortable seat ive ever used in home or in public... complete trash                                                                                                                                                                                                                                                                                                                                                                                                                                                                                                                                                                                                                                                                                                                                                                                                                                                                                                                                                                                                                                                                                                                                                                                                                                                                                                                                                                                                                                                                                                                                                                                                            \n",
      "Overall the Mainstream Toilet is a good toilet.This would be the perfect bathroom toilet if enough water was left in the actual toilet bowl after each flush you normally have to flush two times which is really not a water saver!                                                                                                                                                                                                                                                                                                                                                                                                                                                                                                                                                                                                                                                                                                                                                                                                                                                                                                                                                                                                                                                                                                                                                                                                                                                                                                                                                                                                                                                                                                                                                                                                                                                                                    \n",
      "the worst toilet I have ever had it flush itself tried to fix it with new parts, still flush and I am not talking about leaking.it completely empties the tank                                                                                                                                                                                                                                                                                                                                                                                                                                                                                                                                                                                                                                                                                                                                                                                                                                                                                                                                                                                                                                                                                                                                                                                                                                                                                                                                                                                                                                                                                                                                                                                                                                                                                                           \n",
      "If you have it spend the money on the better toilet 3 days after install had to buy new insides because would not stop running and sweating.                                                                                                                                                                                                                                                                                                                                                                                                                                                                                                                                                                                                                                                                                                                                                                                                                                                                                                                                                                                                                                                                                                                                                                                                                                                                                                                                                                                                                                                                                                                                                                                                                                                                                                                             \n",
      "After removing the old toilet and setting the base and tank I opened the new box only to find the tank lid cracked, this is poorly put together and hard to get it swallow anything                                                                                                                                                                                                                                                                                                                                                                                                                                                                                                                                                                                                                                                                                                                                                                                                                                                                                                                                                                                                                                                                                                                                                                                                                                                                                                                                                                                                                                                                                                                                                                                                                                                                                      \n",
      "If you have bought this toilet you realize you must flush multiple times when going number 2This toilet is supposed to be a water saver, the only problem is that you have to flush the toilet as many as six or eight times to flush a bowel movement.Flush cut at six inches, three inches, below the water line in the toilet, Had to extend the over flow, 4 inches, to get enough water to get a good flush.The toilet doesn't give\" great performance \"nor is it \"permanent EverClean \" as stated in there information provided with the toilet, I does not remove paper, or waste from the FRONT of the toilet bold when flushed!So I put the toilet over the bathtub and I get a bucket I fill up with water then I put in the toilet same thing the water drain slow.Replaced two in my home and all I can say is you get what you pay for, called American Standard to tell the the fill valve keeps filling no matter what your water level is and she told me to adjust the water level, with that said I was a plumber up north for 33 years and should know how to adjust the water level, ordered a new seal and replaced it works fine now.                                                                                                                                                                                                                                                                                                                                                                                                                                                                                                                                                                                                                                                                                                                                                                                                                                                                                                                                                                                                                                                                                                                                                                                                                                                                                                                                                                                                                                                                                            \n",
      "Purchase and installed and all went well but within 3 weeks toilet developed cracks and not around tank on on base but on rim and then moved into bowl and the toilet does not get used much.Give me back my old toilet that used an extra gallon of water per flush, but got the job fine with just one flush, 99 percent of the time.                                                                                                                                                                                                                                                                                                                                                                                                                                                                                                                                                                                                                                                                                                                                                                                                                                                                \n",
      "Toilet is fine but after installing water would not shut off so - either I pull the entire toilet for an exchange or replace the guts on my own which I did.If we're going to spend money on a new toilet, I would just assume pay a little more $$$ for a toilet that already comes with a quality wax ring and seat.                                                                                                                                                                                                                                                                                                                                                                                                                                                                                                                                                                                                                                                                                                                                                                                                                                                                                                                                                                                                                                                                                                                                                                                                                                                                                                                                                                                           \n",
      "Although the part numbers were the same, the second toilet had a completely different instruction manual, toilet filler, flap, seat mounting hardware, and bowl mounting hardware.The toilet I bought had defective threads on the fill valve assembly, which resulted in leaks until I replaced the assembly on my brand new toilet.I had to call a plumber the 2nd month I owned it; the valve that regulates the water (and stops the water running) was defective -- Lowes of course referred me to Delta, and I didn't want to deal with all of that,so the toilet ended up being considerably more than what I paid at Lowes.                                                                                                                                                                                                                                                                                                                                                                                                                                                                                                                                                                                                                                                                                                                                                                                                                                                                                                                                                                                                                                                                                                                                                                                                                                                                                                                                                                                                                                                                                                              \n",
      "I replaced 3 Eljar toilets to save water, with a required brushing after the first flush and a second flush to remove the brush remnants, I have defeated the water savings.Not worth the money to me to buy this toilet and still have to put up with a cheap and sliding toilet seat.                                                                                                                                                                                                                                                                                                                                                                                                                                                                                                                                                                                                                                                                                                                                                                  \n",
      "I’m happy with the toilet that I purchased even though the toilet seat isn’t isn’t the best quality but it will work for now                                                                                                                                                                                                                                                                                                                                                                                                                                                                                                                                                                                                                                                                                                                                                                                                                                                                                                                                                                                                                                                                                                                                                                                                                                                                                                                                                                                                                                                                                                                                                                                                                                                                                                                                             \n",
      "Could get nothing out of the toilet and it continues to flush poorly, sometimes filling up with the tank water instead of flushing.When the installer that they Lowe’s recommended to install the toilet that I purchased he had trouble flushing a thin piece of toilet paper.Fast forward, Sept this yr, since we were unsure what exactly had happened to the other toilet (wax ring was intact) we purchased this toilet again due to the good sale price.Very disappointed with the American Standard Mainstream toilet system and Customer support, but Lowe’s stepped up and provided me the Fluidmaster Fill Valve and Over Flow Flush Valve replacement kit, which resolve the poor flushing issue.                                                                                                                                                                                                                                                                                                                                                                                                                                                                                                                                                                  \n",
      "Had toilet all installed and was sawing off the extra ends on t bolt and the bolt snapped right off, so now I will have to take totally out, get new wax and start all over                                                                                                                                                                                                                                                                                                                                                                                                                                                                                                                                                                                                                                                                                                                                                                                                                                                                                                                                                                                                                                                                                                                                                                                                                                                                                                                                                                                                                                                                                                                                                                                                                                                                                              \n",
      "It’s been in for a week and the water keeps running at random times.She told me that even though the toilet is only 5 months old, I can not return the toilet.Just a basic toilet that I do recommend to those looking for an inexpensive toilet from American Standard, which trusting in their reputation, is the reason I purchased this commode.                                                                                                                                                                                                                                                                                                                                                                                                                                                                                                                                                                                                                                                                                                                                                                                                                                                                                                                                                                                                                                                                                                                                                                                                                                                                                                                                                                                                                                                                                                                                                                                                                    \n",
      "This toilet is used by one person who is small and I have asked the store associate in plumbing about the toilet cleaning.The first year it would not flush right, went and got a new flush valve and handle, you have to hold the handle down for it to make it flush.I have to clean the toilet almost every time the toilet is used!So, if you buy the AS model and have to replace the lid anyway, you might as well buy the Kohler that already comes with a decent lid                                                                                                                                                                                                                                                                                                                                                                                                                                                                                                                                                                                                                                                                                                                                                                                                                                                               \n",
      "After having this toilet installed, I immediately noticed it running every 3 minutes.Among the other issues with this toilet, of which there are many, I am constantly finding this toilet with the flap stuck open, allowing it to run non stop.\n"
     ]
    }
   ],
   "source": [
    "print(summarize(result_text_1, 0.03))\n",
    "# per is the percentage (0 to 1) of sentences you want to extract"
   ]
  },
  {
   "cell_type": "code",
   "execution_count": null,
   "id": "8473b2e7",
   "metadata": {},
   "outputs": [],
   "source": []
  },
  {
   "cell_type": "markdown",
   "id": "5b82d5a8",
   "metadata": {},
   "source": [
    "### Context Analysis\n",
    "#### Check out the context of words having highest frequency"
   ]
  },
  {
   "cell_type": "code",
   "execution_count": 43,
   "id": "7366a06a",
   "metadata": {},
   "outputs": [
    {
     "name": "stdout",
     "output_type": "stream",
     "text": [
      "Which one do you want to look at? (1-8)1\n"
     ]
    }
   ],
   "source": [
    "# select the data \n",
    "n = int(input('Which one do you want to look at? (1-8)'))\n",
    "result_text_1 = text[n-1]"
   ]
  },
  {
   "cell_type": "code",
   "execution_count": 51,
   "id": "9e20dea6",
   "metadata": {},
   "outputs": [
    {
     "name": "stdout",
     "output_type": "stream",
     "text": [
      "Total number of ADJ: 1409\n",
      "\n"
     ]
    }
   ],
   "source": [
    "# pos and lemmatizer\n",
    "\n",
    "lemmatizer = WordNetLemmatizer()\n",
    "lemm = lemmatizer.lemmatize(result_text_1)\n",
    "pos_tag_1 = pos_tag(word_tokenize(lemm))\n",
    "# pos_tag_1\n",
    "\n",
    "### select Adjective or Noun \n",
    "result_adj_1 = []\n",
    "for token, tag in pos_tag_1:\n",
    "    if tag[0:1].lower() == \"j\":   ### j represents Adj. n represents noun\n",
    "        result_adj_1.append(token)\n",
    "print(f\"Total number of ADJ: {len(result_adj_1)}\\n\")\n",
    "# print(result_adj_1)"
   ]
  },
  {
   "cell_type": "code",
   "execution_count": 52,
   "id": "87ce7736",
   "metadata": {},
   "outputs": [
    {
     "name": "stdout",
     "output_type": "stream",
     "text": [
      "The top 10 most common Adjective. word appear in review is: [('flush', 70), ('american', 36), ('new', 33), ('good', 32), ('old', 23), ('small', 19), ('great', 18), ('little', 17), ('much', 15), ('bad', 15)]\n"
     ]
    }
   ],
   "source": [
    "# see each Adjective frequence\n",
    "ADJ_f_1 = FreqDist(result_adj_1)\n",
    "# ADJ_f_1\n",
    "print(f\"The top 10 most common Adjective. word appear in review is: {ADJ_f_1.most_common(10)}\")"
   ]
  },
  {
   "cell_type": "markdown",
   "id": "6ce7284b",
   "metadata": {},
   "source": [
    "#### concordance function: to locate the key word and get the context\n",
    "https://www.nltk.org/howto/concordance.html"
   ]
  },
  {
   "cell_type": "code",
   "execution_count": 54,
   "id": "e3e7eed2",
   "metadata": {},
   "outputs": [
    {
     "name": "stdout",
     "output_type": "stream",
     "text": [
      "Displaying 3 of 3 matches:\n",
      "like facts uses little water chair height dont like fact needs cleaned every day flushes water doesnt swirl like toilets stead swirling bubbles looks pretty darn gross solid waste b\n",
      "told adjust water level said plumber north years know adjust water level ordered new seal replaced works fine saved money replace old toilets ones chair height however horrible everything sticks sides need frequent cleaning choos one power wash feature must missing mine wasted savings flush doesnt \n",
      "ng would good fit small space tight budget good fit trying match bright white fixtures bathroom american standard mainstream white gpf round piece chair height embossed tank made mexico worse amerstandard ever made paid plus installation charge worth dime wont take solids till flushes taken market \n"
     ]
    }
   ],
   "source": [
    "# find word in the text\n",
    "# select the data \n",
    "# n = int(input('Which one do you want to look at? (1-8)'))\n",
    "textList_1 = Text(tokens[n-1])\n",
    "textList_1.concordance(\"chair\", lines=10, width=300)\n",
    "# textList_1.concordance(['american', 'standard'], lines=10, width=300)"
   ]
  },
  {
   "cell_type": "code",
   "execution_count": 47,
   "id": "15457a91",
   "metadata": {
    "scrolled": true
   },
   "outputs": [],
   "source": [
    "# tokens = nltk.word_tokenize(text[n-1])\n",
    "# concordance = nltk.ConcordanceIndex(tokens)\n",
    "\n",
    "# search_term = \"tank\"\n",
    "# context_width = 300\n",
    "\n",
    "# concordance.print_concordance(search_term, lines=10, width=context_width)"
   ]
  },
  {
   "cell_type": "code",
   "execution_count": 48,
   "id": "ccaa5e1b",
   "metadata": {
    "scrolled": true
   },
   "outputs": [],
   "source": [
    "# # combine with text summarization\n",
    "\n",
    "# # concordance_lines = concordance.find_concordance(search_term, width=context_width)\n",
    "# # concordance_string = '.'.join(line.line for line in concordance_lines)\n",
    "\n",
    "# con_list = textList_1.concordance_list(\"tank\", width=300)\n",
    "# concordance_string = ' '.join(line.line for line in con_list)\n",
    "# # context = str(concordance)\n",
    "# print(summarize(concordance_string, 0.1))\n",
    "# # per is the percentage (0 to 1) of sentences you want to extract"
   ]
  },
  {
   "cell_type": "code",
   "execution_count": 49,
   "id": "c67d1a21",
   "metadata": {
    "scrolled": true
   },
   "outputs": [],
   "source": [
    "# concordance_string"
   ]
  },
  {
   "cell_type": "code",
   "execution_count": null,
   "id": "904ab340",
   "metadata": {},
   "outputs": [],
   "source": []
  }
 ],
 "metadata": {
  "kernelspec": {
   "display_name": "Python 3 (ipykernel)",
   "language": "python",
   "name": "python3"
  },
  "language_info": {
   "codemirror_mode": {
    "name": "ipython",
    "version": 3
   },
   "file_extension": ".py",
   "mimetype": "text/x-python",
   "name": "python",
   "nbconvert_exporter": "python",
   "pygments_lexer": "ipython3",
   "version": "3.9.13"
  }
 },
 "nbformat": 4,
 "nbformat_minor": 5
}
