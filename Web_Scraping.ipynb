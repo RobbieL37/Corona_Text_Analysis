{
 "cells": [
  {
   "cell_type": "code",
   "execution_count": 1,
   "metadata": {},
   "outputs": [],
   "source": [
    "import pandas as pd\n",
    "import numpy as np\n",
    "from selenium import webdriver\n",
    "from selenium.webdriver.chrome.options import Options\n",
    "from selenium.webdriver.common.by import By\n",
    "from selenium.webdriver.common.keys import Keys\n",
    "from webdriver_manager.chrome import ChromeDriverManager\n",
    "import warnings\n",
    "warnings.filterwarnings(\"ignore\", category=DeprecationWarning) \n",
    "import time\n",
    "import random\n",
    "from tqdm import tqdm"
   ]
  },
  {
   "cell_type": "code",
   "execution_count": 2,
   "metadata": {},
   "outputs": [],
   "source": [
    "# random time function\n",
    "\n",
    "def sec(): \n",
    "    time = random.randrange(1, 10)\n",
    "    return time"
   ]
  },
  {
   "cell_type": "code",
   "execution_count": 3,
   "metadata": {},
   "outputs": [],
   "source": [
    "options = Options()\n",
    "options.add_argument(\"--window-size = 1280*1240\")"
   ]
  },
  {
   "cell_type": "code",
   "execution_count": 4,
   "metadata": {},
   "outputs": [],
   "source": [
    "driver = webdriver.Chrome(chrome_options=options)\n",
    "driver.get(\"https://www.lowes.com/pd/Project-Source-Project-Source-Pro-Flush-2-Piece-Single-Flush-Elongated-Chair-Height-White-1-28-GPF/1003066162\")"
   ]
  },
  {
   "cell_type": "code",
   "execution_count": 5,
   "metadata": {},
   "outputs": [
    {
     "name": "stdout",
     "output_type": "stream",
     "text": [
      "URL: https://www.lowes.com/pd/Project-Source-Project-Source-Pro-Flush-2-Piece-Single-Flush-Elongated-Chair-Height-White-1-28-GPF/1003066162\n"
     ]
    }
   ],
   "source": [
    "print(f\"URL: {driver.current_url}\")"
   ]
  },
  {
   "cell_type": "code",
   "execution_count": 6,
   "metadata": {},
   "outputs": [
    {
     "name": "stdout",
     "output_type": "stream",
     "text": [
      "Product name: Project Source  Pro-Flush White Elongated Chair Height 2-piece WaterSense Toilet 12-in Rough-In Size (Ada Compliant)\n"
     ]
    }
   ],
   "source": [
    "product_name = driver.find_element(By.TAG_NAME, 'h1').text\n",
    "\n",
    "print(f\"Product name: {product_name}\")\n"
   ]
  },
  {
   "cell_type": "code",
   "execution_count": 7,
   "metadata": {},
   "outputs": [
    {
     "name": "stdout",
     "output_type": "stream",
     "text": [
      "item number: Item #2691714\n",
      "Model Numbering: Model #MT-802PRO\n"
     ]
    }
   ],
   "source": [
    "item_num = driver.find_element(By.CLASS_NAME, \"styles__ParagraphRegular-sc-1ljw3tp-0.eCVRrO.typography.variant--body_small.align--left.small\").text\n",
    "model_num = driver.find_element(By.XPATH, '//*[@id=\"pdp-lpd\"]/div/div[2]/p[2]').text\n",
    "\n",
    "print(f\"item number: {item_num}\")\n",
    "print(f\"Model Numbering: {model_num}\")"
   ]
  },
  {
   "cell_type": "code",
   "execution_count": 8,
   "metadata": {},
   "outputs": [
    {
     "name": "stdout",
     "output_type": "stream",
     "text": [
      "Product price is: $119.00\n",
      "$119.00\n",
      "Bulk Savings\n",
      "$107.10 / Bundle (10% off) when you buy 4+\n",
      "$113.05 when you choose 5% savings on eligible purchases every day. Learn how\n"
     ]
    }
   ],
   "source": [
    "# sometime the price will show up can use this code to collect it \n",
    "\n",
    "price = driver.find_element(By.CLASS_NAME, \"style__ProductTitleWrapper-PDP__sc-1a0l1ro-8.jUMFoP\").text\n",
    "print(f\"Product price is: {price}\")\n"
   ]
  },
  {
   "cell_type": "code",
   "execution_count": 10,
   "metadata": {},
   "outputs": [],
   "source": [
    "# if price doesn't show up can use this code to ask users to input their zip code\n",
    "\n",
    "search = driver.find_element(By.ID, 'pd-zip-search-input')\n",
    "search.clear()\n",
    "search.send_keys(input(\"Your zipcode: \"))\n",
    "search.send_keys(Keys.RETURN)\n",
    "go_button = driver.find_element(By.CLASS_NAME, \"ButtonBase-sc-1ngvxvr-0.KKPWw.backyard.button.size--large.variant--primary.color--interactive.shape--rounded.IconButtonBase-y8g6tj-0.dIpRSl.icon-button\")\n",
    "go_button.click()"
   ]
  },
  {
   "cell_type": "code",
   "execution_count": 12,
   "metadata": {},
   "outputs": [],
   "source": [
    "# input zip code but it always show need to find other store, this code is to close the check other store window\n",
    "close_check_other_store = driver.find_element(By.CLASS_NAME, \"ButtonBase-vmvhcc-0.kwpFji.backyard.button.size--medium.variant--ghost.color--subtle.shape--rounded.IconButtonBase-sc-1hg3gmr-0.jUVEL.icon-button.modal-close\")\n",
    "close_check_other_store.click()"
   ]
  },
  {
   "cell_type": "code",
   "execution_count": 13,
   "metadata": {},
   "outputs": [],
   "source": [
    "time.sleep(sec())\n",
    "review_more = driver.find_element(By.XPATH, '//*[@id=\"preview-reviews\"]/div[2]/div/button')\n",
    "review_more.click()"
   ]
  },
  {
   "cell_type": "code",
   "execution_count": 14,
   "metadata": {},
   "outputs": [
    {
     "name": "stdout",
     "output_type": "stream",
     "text": [
      "620 Customer Reviews\n"
     ]
    }
   ],
   "source": [
    "# Total customer reviews number\n",
    "\n",
    "review_num = driver.find_element(By.XPATH, '//*[@id=\"rrApp\"]/div/div[2]/div/div/div[2]/div[3]').text\n",
    "print(review_num)"
   ]
  },
  {
   "cell_type": "code",
   "execution_count": 15,
   "metadata": {},
   "outputs": [
    {
     "name": "stdout",
     "output_type": "stream",
     "text": [
      "Total stars from all reviewers is 4.5 out of 5\n"
     ]
    }
   ],
   "source": [
    "# Total stars from all reviews\n",
    "\n",
    "review_stars = driver.find_element(By.XPATH, '//*[@id=\"rrApp\"]/div/div[2]/div/div/div[1]/div[1]/span[2]/b').text\n",
    "print(f\"Total stars from all reviewers is {review_stars} out of 5\")"
   ]
  },
  {
   "cell_type": "code",
   "execution_count": 16,
   "metadata": {},
   "outputs": [
    {
     "name": "stderr",
     "output_type": "stream",
     "text": [
      "100%|██████████| 10/10 [01:01<00:00,  6.15s/it]\n"
     ]
    }
   ],
   "source": [
    "Subject = []\n",
    "Review = []\n",
    "Author = []\n",
    "Date = []\n",
    "Like = []\n",
    "Dislike = []\n",
    "Stars = []\n",
    "\n",
    "for i in tqdm(range(5,15)):\n",
    "    try:\n",
    "        time.sleep(sec())\n",
    "        more_button = driver.find_element(By.XPATH, '//*[@id=\"rrApp\"]/div/div[2]/div/div/div[2]/div['+ str(i)+']/div[1]/div/div[1]/div/button')\n",
    "        more_button.click()\n",
    "    except:\n",
    "        pass\n",
    "    \n",
    "    # Subject\n",
    "    title = driver.find_element(By.XPATH, '//*[@id=\"rrApp\"]/div/div[2]/div/div/div[2]/div['+ str(i)+']/div[1]/div/div[1]/div/p[1]').text\n",
    "    Subject.append(title)\n",
    "\n",
    "    # Author\n",
    "    reviewer = driver.find_element(By.XPATH, '//*[@id=\"rrApp\"]/div/div[2]/div/div/div[2]/div['+ str(i)+']/div[1]/div/div[2]/div/span[1]').text\n",
    "    Author.append(reviewer)\n",
    "\n",
    "    # Date\n",
    "    date = driver.find_element(By.XPATH, '//*[@id=\"rrApp\"]/div/div[2]/div/div/div[2]/div['+ str(i)+']/div[1]/div/div[2]/div/span[2]').text\n",
    "    Date.append(date)\n",
    "\n",
    "    # Review content\n",
    "    content = driver.find_element(By.XPATH, '//*[@id=\"rrApp\"]/div/div[2]/div/div/div[2]/div['+ str(i)+']/div[1]/div/div[1]/div/p[2]').text\n",
    "    Review.append(content)\n",
    "\n",
    "    # Like & Dislike\n",
    "    like_dislike = driver.find_element(By.XPATH, '//*[@id=\"rrApp\"]/div/div[2]/div/div/div[2]/div['+ str(i)+']/div[3]').text.replace(\"(\", \"\").replace(\")\", \"\")\n",
    "    like = int(like_dislike.split(\"\\n\")[0])\n",
    "    dislike = int(like_dislike.split(\"\\n\")[1])\n",
    "    Like.append(like)\n",
    "    Dislike.append(dislike)\n",
    "\n",
    "    # Stars\n",
    "    star = int(driver.find_element(By.XPATH, '//*[@id=\"rrApp\"]/div/div[2]/div/div/div[2]/div['+ str(i)+']/div[1]/div/div[1]/div/span').get_attribute('innerHTML').split(\"><\")[0].split(\"content=\")[-1].replace('\"', ''))\n",
    "    Stars.append(star)"
   ]
  },
  {
   "cell_type": "code",
   "execution_count": 17,
   "metadata": {},
   "outputs": [
    {
     "data": {
      "text/html": [
       "<div>\n",
       "<style scoped>\n",
       "    .dataframe tbody tr th:only-of-type {\n",
       "        vertical-align: middle;\n",
       "    }\n",
       "\n",
       "    .dataframe tbody tr th {\n",
       "        vertical-align: top;\n",
       "    }\n",
       "\n",
       "    .dataframe thead th {\n",
       "        text-align: right;\n",
       "    }\n",
       "</style>\n",
       "<table border=\"1\" class=\"dataframe\">\n",
       "  <thead>\n",
       "    <tr style=\"text-align: right;\">\n",
       "      <th></th>\n",
       "      <th>Subject</th>\n",
       "      <th>Author</th>\n",
       "      <th>Date</th>\n",
       "      <th>Review</th>\n",
       "      <th>Like</th>\n",
       "      <th>Dislike</th>\n",
       "      <th>Stars</th>\n",
       "    </tr>\n",
       "  </thead>\n",
       "  <tbody>\n",
       "    <tr>\n",
       "      <th>0</th>\n",
       "      <td>For good flush, needs slight modification</td>\n",
       "      <td>James</td>\n",
       "      <td>January 16, 2022</td>\n",
       "      <td>For the price and look I would give this a 5 star however, trying to make it a \"watersense\" the flush is so quick that the side walls do not properly clean. you might want to buy another flush valve and replace the installed one. As noted in my pictures, the flush valve is 3.5 inches above the base which leaves little available water to flush and, my tenant required two flushes (and a scrub brush to clean the side) so, if you want a full flush, that is long enough to \"do the job,\" buy another flush valve, like the one I purchased, and the toilet will function as one expects.</td>\n",
       "      <td>32</td>\n",
       "      <td>9</td>\n",
       "      <td>4</td>\n",
       "    </tr>\n",
       "    <tr>\n",
       "      <th>1</th>\n",
       "      <td></td>\n",
       "      <td>Roxy</td>\n",
       "      <td>April 15, 2022</td>\n",
       "      <td>Besides the lid being too small. It's a pretty good toilet. It's only 100bucks so really you can't ask for perfection. But it works how it should and pretty happy with it. Though I would like a fitted lid so the males can get off my back about it.</td>\n",
       "      <td>8</td>\n",
       "      <td>9</td>\n",
       "      <td>3</td>\n",
       "    </tr>\n",
       "    <tr>\n",
       "      <th>2</th>\n",
       "      <td>really a good buy</td>\n",
       "      <td>Texan</td>\n",
       "      <td>November 8, 2022</td>\n",
       "      <td>I've had this for about a month. I have mostly bought total Drakes in the past which are the top rated by most plumbers. that is what I'm comparing this to and also American Standard Cadet 3 which is also a very fine toilet. I paid $100 for this toilet and had someone else install it but I normally install them myself. I had the Fluidmaster waxless seal which work great. this toilet has quality features usually seen in toilets twice to three times the price. first of all it has a 3 inch flush valve and a fully glazed 2 in trapway. the fill valve is a Fluidmaster which is the top of the line. the flapper appears to be just a standard 3 inch flapper. when comes to replacing it I'm going to use a Fluidmaster which has a silicone seat on it and a hard plastic frame. I measured the water spot which is slightly smaller than the American Standard get three I measured 8 in or slightly above front to back. my complaints about the total Drake is that it has more skid marks and not as good a wash down as some of the ever brands. I think American Standard has a little better wash down. both Americans standard and Toto have special treatments on the glazing inside the bowl. I have found that the project Source toilet flushes in my opinion as strongly as a total Drake and possibly stronger than the Cadet 3. I think it's washed down it's about similar to both of those or possibly better than the total Drake. the total Drake and the American Standard are advertisers having special extra smooth glaze within the bowl. that was not an advertised specialty of this toilet but I did not notice much difference. Some things I point out as negative. 1) the siphon trap has a kink in it compared to the American Standard check my picture out. 2)the tank to bowl bolts appear to be brass plated Steel. when buying it I would buy some solid brass or stainless steel tank to bowl bolts. 3)the water spot is slightly smaller than the American Standard Cadet 3 but I felt that the wash down is just as good or better than the Cadet 3 and definitely better than the total drake. overall a great value. I highly recommend it. see my photos. #1. water spot size 8 in. #2 trapway has a kink in it not straight like the American Standard possibly a source of Clogs. #3 picture of the fill valve and flush valve inside the tank appears to be Fluidmaster fill valve and a very nice 3 in flush valve.</td>\n",
       "      <td>6</td>\n",
       "      <td>0</td>\n",
       "      <td>5</td>\n",
       "    </tr>\n",
       "    <tr>\n",
       "      <th>3</th>\n",
       "      <td>Toilet lid cheaply made</td>\n",
       "      <td>Tammy</td>\n",
       "      <td>March 20, 2021</td>\n",
       "      <td>Toilet easy install. Good overall except lid does not sit down snuggly &amp; or cover all of unpainted sections of toilet lid. Material still shows thru so makes toilet look so cheap. Very disappointed but did not uncover tank lid until toilet had been completely installed.</td>\n",
       "      <td>25</td>\n",
       "      <td>18</td>\n",
       "      <td>3</td>\n",
       "    </tr>\n",
       "    <tr>\n",
       "      <th>4</th>\n",
       "      <td>grest toilet for a great price!</td>\n",
       "      <td>TexanStrong</td>\n",
       "      <td>February 27, 2021</td>\n",
       "      <td>Like most Texans, Valetines day was just a disaster. Pipes busted and toilets were damaged. As soon as stores were open, there were long lines and shelves were empty. Fast forward a week, I had to replace two toilets and luckily I found this gem and it came with everything. When I say everythinng, I mean everything. Wax, bowl internals all came with the toilet and it was so easy to install. Directions were easy to read and it took more time hauling the old one out. Definitely a great buy! Also if your toilet wobbles becausebits not flat on the floor, you have to use wedges because your floor isn’t leveled. Use pennies, thats what I was told.</td>\n",
       "      <td>54</td>\n",
       "      <td>9</td>\n",
       "      <td>5</td>\n",
       "    </tr>\n",
       "    <tr>\n",
       "      <th>5</th>\n",
       "      <td>Poor quality control.</td>\n",
       "      <td>Paul</td>\n",
       "      <td>June 13, 2021</td>\n",
       "      <td>I bought the chair height versin of this product this morning. Started installation in our guest bathroom and discovered the plastic nuts and covers for the floor bolts were missing. Back to Lowe’s for free replacements. Rest of the install was uneventful. Everything worked fine. Then my wife discovers a crack in the porcelain on the lip of the bowl. No, I didn’t drop it or do snything that would have caused a hairline crack. So now I’ll have to uninstall it and hope Lowe’s will take it back as Ive broken down the packaging. Totally awful quality control, or product handling or both. So much for saving money. I’ll replace it with a Koehler. You really do get what you pay for.</td>\n",
       "      <td>25</td>\n",
       "      <td>22</td>\n",
       "      <td>1</td>\n",
       "    </tr>\n",
       "    <tr>\n",
       "      <th>6</th>\n",
       "      <td>best buy toilet period!!!</td>\n",
       "      <td>Craig</td>\n",
       "      <td>June 11, 2021</td>\n",
       "      <td>This toilet is the best buy out there!it's replacing the aquasource henshaw model which consumer reports rated the best buy toilet!3 inch flush valve not 2 inch makes it super powerful!!!Definetly the best toilet out there and I been doing this a long time</td>\n",
       "      <td>39</td>\n",
       "      <td>3</td>\n",
       "      <td>5</td>\n",
       "    </tr>\n",
       "    <tr>\n",
       "      <th>7</th>\n",
       "      <td>A great value, strong flush, and assembled tank!</td>\n",
       "      <td>Jasper</td>\n",
       "      <td>August 21, 2021</td>\n",
       "      <td>Overall I thought this was a really good value for a replacement toilet and the flush power is drastically higher than in previous 2” toilets I’ve had. The kit comes with everything you need to install it including a wax ring although I ended up using a jumbo ring for a more durable seal. I also really liked how the tank was completely assembled including the studs in the bottom. I didn’t have to rig up the flush system or anything, really making this a nearly tool-less installation. I did end up upgrading the handle with a black Korky kit from Lowe’s to match my other toilet, as well as a soft close American Standard seat, but even with those it was about $150 all in. I like that it looks close enough to a Toto Drake in my master bathroom to pass on casual inspection, and the flush power of the 3” valve makes it reliable for even the most “demanding” guests.</td>\n",
       "      <td>24</td>\n",
       "      <td>4</td>\n",
       "      <td>5</td>\n",
       "    </tr>\n",
       "    <tr>\n",
       "      <th>8</th>\n",
       "      <td>Great toilet</td>\n",
       "      <td>camshaft</td>\n",
       "      <td>June 22, 2022</td>\n",
       "      <td>Toilet works great, easy installation, everything needed was in the box. Replaced all 3 toilets in the house, primarily to get the higher chair height. We did not intend to use the included toilet seats so the fact that 2 out of 3 toilet seats were broken was not a problem. If you were relying on using the included seats, this would have been a problem. See picture. Expect the toilet seat got broken when it was dumped into the package. Would have been 5 stars if the seats all arrived intact.</td>\n",
       "      <td>5</td>\n",
       "      <td>0</td>\n",
       "      <td>4</td>\n",
       "    </tr>\n",
       "    <tr>\n",
       "      <th>9</th>\n",
       "      <td>Awesome setup</td>\n",
       "      <td>meridian</td>\n",
       "      <td>October 22, 2021</td>\n",
       "      <td>I had this toilet for over a month waiting for work to be done. Once I unpacked it, I was extremely impressed in the packaging. The insides of the toilet were already installed so all I had to do was attach the wax ring (included), bolt the toilet to the floor (bolts are included), and then bolt the tank to the toilet (also already included). Then attach the water line (not included). The tank already had the flapper and the water installed along with the tank bolts fastened so there was nothing to do but turn the water on and check for leaks. No leaks, which was amazing to me... no slow leaks into the bowl, no leaks around the tank. It's been a long time since I've purchased a toilet so having all this prefab work done already took a 2 hour job down to 30 minutes.</td>\n",
       "      <td>32</td>\n",
       "      <td>1</td>\n",
       "      <td>5</td>\n",
       "    </tr>\n",
       "  </tbody>\n",
       "</table>\n",
       "</div>"
      ],
      "text/plain": [
       "                                            Subject       Author  \\\n",
       "0         For good flush, needs slight modification        James   \n",
       "1                                                           Roxy   \n",
       "2                                 really a good buy        Texan   \n",
       "3                           Toilet lid cheaply made        Tammy   \n",
       "4                   grest toilet for a great price!  TexanStrong   \n",
       "5                             Poor quality control.         Paul   \n",
       "6                         best buy toilet period!!!        Craig   \n",
       "7  A great value, strong flush, and assembled tank!       Jasper   \n",
       "8                                      Great toilet     camshaft   \n",
       "9                                     Awesome setup     meridian   \n",
       "\n",
       "                Date  \\\n",
       "0   January 16, 2022   \n",
       "1     April 15, 2022   \n",
       "2   November 8, 2022   \n",
       "3     March 20, 2021   \n",
       "4  February 27, 2021   \n",
       "5      June 13, 2021   \n",
       "6      June 11, 2021   \n",
       "7    August 21, 2021   \n",
       "8      June 22, 2022   \n",
       "9   October 22, 2021   \n",
       "\n",
       "                                                                                                                                                                                                                                                                                                                                                                                                                                                                                                                                                                                                                                                                                                                                                                                                                                                                                                                                                                                                                                                                                                                                                                                                                                                                                                                                                                                                                                                                                                                                                                                                                                                                                                                                                                                                                                                                                                                                                                                                                                                                                                                                                                                                                                                                                                                                                                                                                                                                                  Review  \\\n",
       "0                                                                                                                                                                                                                                                                                                                                                                                                                                                                                                                                                                                                                                                                                                                                                                                                                                                                                                                                                                                                                                                                                                                                                                                                                                                                                                                                                                                                                                                                                                                                                                                                                                                                                                                                                                                                                                                                                  For the price and look I would give this a 5 star however, trying to make it a \"watersense\" the flush is so quick that the side walls do not properly clean. you might want to buy another flush valve and replace the installed one. As noted in my pictures, the flush valve is 3.5 inches above the base which leaves little available water to flush and, my tenant required two flushes (and a scrub brush to clean the side) so, if you want a full flush, that is long enough to \"do the job,\" buy another flush valve, like the one I purchased, and the toilet will function as one expects.   \n",
       "1                                                                                                                                                                                                                                                                                                                                                                                                                                                                                                                                                                                                                                                                                                                                                                                                                                                                                                                                                                                                                                                                                                                                                                                                                                                                                                                                                                                                                                                                                                                                                                                                                                                                                                                                                                                                                                                                                                                                                                                                                                                                                                                                                                                                                                Besides the lid being too small. It's a pretty good toilet. It's only 100bucks so really you can't ask for perfection. But it works how it should and pretty happy with it. Though I would like a fitted lid so the males can get off my back about it.   \n",
       "2  I've had this for about a month. I have mostly bought total Drakes in the past which are the top rated by most plumbers. that is what I'm comparing this to and also American Standard Cadet 3 which is also a very fine toilet. I paid $100 for this toilet and had someone else install it but I normally install them myself. I had the Fluidmaster waxless seal which work great. this toilet has quality features usually seen in toilets twice to three times the price. first of all it has a 3 inch flush valve and a fully glazed 2 in trapway. the fill valve is a Fluidmaster which is the top of the line. the flapper appears to be just a standard 3 inch flapper. when comes to replacing it I'm going to use a Fluidmaster which has a silicone seat on it and a hard plastic frame. I measured the water spot which is slightly smaller than the American Standard get three I measured 8 in or slightly above front to back. my complaints about the total Drake is that it has more skid marks and not as good a wash down as some of the ever brands. I think American Standard has a little better wash down. both Americans standard and Toto have special treatments on the glazing inside the bowl. I have found that the project Source toilet flushes in my opinion as strongly as a total Drake and possibly stronger than the Cadet 3. I think it's washed down it's about similar to both of those or possibly better than the total Drake. the total Drake and the American Standard are advertisers having special extra smooth glaze within the bowl. that was not an advertised specialty of this toilet but I did not notice much difference. Some things I point out as negative. 1) the siphon trap has a kink in it compared to the American Standard check my picture out. 2)the tank to bowl bolts appear to be brass plated Steel. when buying it I would buy some solid brass or stainless steel tank to bowl bolts. 3)the water spot is slightly smaller than the American Standard Cadet 3 but I felt that the wash down is just as good or better than the Cadet 3 and definitely better than the total drake. overall a great value. I highly recommend it. see my photos. #1. water spot size 8 in. #2 trapway has a kink in it not straight like the American Standard possibly a source of Clogs. #3 picture of the fill valve and flush valve inside the tank appears to be Fluidmaster fill valve and a very nice 3 in flush valve.   \n",
       "3                                                                                                                                                                                                                                                                                                                                                                                                                                                                                                                                                                                                                                                                                                                                                                                                                                                                                                                                                                                                                                                                                                                                                                                                                                                                                                                                                                                                                                                                                                                                                                                                                                                                                                                                                                                                                                                                                                                                                                                                                                                                                                                                                                                                         Toilet easy install. Good overall except lid does not sit down snuggly & or cover all of unpainted sections of toilet lid. Material still shows thru so makes toilet look so cheap. Very disappointed but did not uncover tank lid until toilet had been completely installed.   \n",
       "4                                                                                                                                                                                                                                                                                                                                                                                                                                                                                                                                                                                                                                                                                                                                                                                                                                                                                                                                                                                                                                                                                                                                                                                                                                                                                                                                                                                                                                                                                                                                                                                                                                                                                                                                                                                                              Like most Texans, Valetines day was just a disaster. Pipes busted and toilets were damaged. As soon as stores were open, there were long lines and shelves were empty. Fast forward a week, I had to replace two toilets and luckily I found this gem and it came with everything. When I say everythinng, I mean everything. Wax, bowl internals all came with the toilet and it was so easy to install. Directions were easy to read and it took more time hauling the old one out. Definitely a great buy! Also if your toilet wobbles becausebits not flat on the floor, you have to use wedges because your floor isn’t leveled. Use pennies, thats what I was told.   \n",
       "5                                                                                                                                                                                                                                                                                                                                                                                                                                                                                                                                                                                                                                                                                                                                                                                                                                                                                                                                                                                                                                                                                                                                                                                                                                                                                                                                                                                                                                                                                                                                                                                                                                                                                                                                                                           I bought the chair height versin of this product this morning. Started installation in our guest bathroom and discovered the plastic nuts and covers for the floor bolts were missing. Back to Lowe’s for free replacements. Rest of the install was uneventful. Everything worked fine. Then my wife discovers a crack in the porcelain on the lip of the bowl. No, I didn’t drop it or do snything that would have caused a hairline crack. So now I’ll have to uninstall it and hope Lowe’s will take it back as Ive broken down the packaging. Totally awful quality control, or product handling or both. So much for saving money. I’ll replace it with a Koehler. You really do get what you pay for.   \n",
       "6                                                                                                                                                                                                                                                                                                                                                                                                                                                                                                                                                                                                                                                                                                                                                                                                                                                                                                                                                                                                                                                                                                                                                                                                                                                                                                                                                                                                                                                                                                                                                                                                                                                                                                                                                                                                                                                                                                                                                                                                                                                                                                                                                                                                                       This toilet is the best buy out there!it's replacing the aquasource henshaw model which consumer reports rated the best buy toilet!3 inch flush valve not 2 inch makes it super powerful!!!Definetly the best toilet out there and I been doing this a long time   \n",
       "7                                                                                                                                                                                                                                                                                                                                                                                                                                                                                                                                                                                                                                                                                                                                                                                                                                                                                                                                                                                                                                                                                                                                                                                                                                                                                                                                                                                                                                                                                                                                                                                Overall I thought this was a really good value for a replacement toilet and the flush power is drastically higher than in previous 2” toilets I’ve had. The kit comes with everything you need to install it including a wax ring although I ended up using a jumbo ring for a more durable seal. I also really liked how the tank was completely assembled including the studs in the bottom. I didn’t have to rig up the flush system or anything, really making this a nearly tool-less installation. I did end up upgrading the handle with a black Korky kit from Lowe’s to match my other toilet, as well as a soft close American Standard seat, but even with those it was about $150 all in. I like that it looks close enough to a Toto Drake in my master bathroom to pass on casual inspection, and the flush power of the 3” valve makes it reliable for even the most “demanding” guests.   \n",
       "8                                                                                                                                                                                                                                                                                                                                                                                                                                                                                                                                                                                                                                                                                                                                                                                                                                                                                                                                                                                                                                                                                                                                                                                                                                                                                                                                                                                                                                                                                                                                                                                                                                                                                                                                                                                                                                                                                                                                                                       Toilet works great, easy installation, everything needed was in the box. Replaced all 3 toilets in the house, primarily to get the higher chair height. We did not intend to use the included toilet seats so the fact that 2 out of 3 toilet seats were broken was not a problem. If you were relying on using the included seats, this would have been a problem. See picture. Expect the toilet seat got broken when it was dumped into the package. Would have been 5 stars if the seats all arrived intact.   \n",
       "9                                                                                                                                                                                                                                                                                                                                                                                                                                                                                                                                                                                                                                                                                                                                                                                                                                                                                                                                                                                                                                                                                                                                                                                                                                                                                                                                                                                                                                                                                                                                                                                                                                                                                I had this toilet for over a month waiting for work to be done. Once I unpacked it, I was extremely impressed in the packaging. The insides of the toilet were already installed so all I had to do was attach the wax ring (included), bolt the toilet to the floor (bolts are included), and then bolt the tank to the toilet (also already included). Then attach the water line (not included). The tank already had the flapper and the water installed along with the tank bolts fastened so there was nothing to do but turn the water on and check for leaks. No leaks, which was amazing to me... no slow leaks into the bowl, no leaks around the tank. It's been a long time since I've purchased a toilet so having all this prefab work done already took a 2 hour job down to 30 minutes.   \n",
       "\n",
       "   Like  Dislike  Stars  \n",
       "0    32        9      4  \n",
       "1     8        9      3  \n",
       "2     6        0      5  \n",
       "3    25       18      3  \n",
       "4    54        9      5  \n",
       "5    25       22      1  \n",
       "6    39        3      5  \n",
       "7    24        4      5  \n",
       "8     5        0      4  \n",
       "9    32        1      5  "
      ]
     },
     "execution_count": 17,
     "metadata": {},
     "output_type": "execute_result"
    }
   ],
   "source": [
    "pd.set_option(\"display.max_colwidth\", None)\n",
    "df = pd.DataFrame({\"Subject\":Subject, \"Author\":Author, \"Date\": Date, \"Review\":Review, \"Like\": Like, \"Dislike\":Dislike, \"Stars\":Stars})\n",
    "df"
   ]
  },
  {
   "cell_type": "code",
   "execution_count": 18,
   "metadata": {},
   "outputs": [],
   "source": [
    "driver.close()"
   ]
  }
 ],
 "metadata": {
  "colab": {
   "provenance": []
  },
  "kernelspec": {
   "display_name": "Python 3 (ipykernel)",
   "language": "python",
   "name": "python3"
  },
  "language_info": {
   "codemirror_mode": {
    "name": "ipython",
    "version": 3
   },
   "file_extension": ".py",
   "mimetype": "text/x-python",
   "name": "python",
   "nbconvert_exporter": "python",
   "pygments_lexer": "ipython3",
   "version": "3.11.0"
  },
  "vscode": {
   "interpreter": {
    "hash": "fa1504357d39a1bb68630d38baac17cdb0d4a41adec66cd58da0a754a7a27ed5"
   }
  }
 },
 "nbformat": 4,
 "nbformat_minor": 1
}
