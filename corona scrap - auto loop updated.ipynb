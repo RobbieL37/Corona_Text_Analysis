{
 "cells": [
  {
   "cell_type": "code",
   "execution_count": null,
   "metadata": {},
   "outputs": [],
   "source": [
    "#pip install selenium"
   ]
  },
  {
   "cell_type": "code",
   "execution_count": 1,
   "metadata": {},
   "outputs": [
    {
     "name": "stderr",
     "output_type": "stream",
     "text": [
      "/Users/admin/opt/anaconda3/lib/python3.7/site-packages/ipykernel_launcher.py:13: DeprecationWarning: executable_path has been deprecated, please pass in a Service object\n",
      "  del sys.path[0]\n"
     ]
    }
   ],
   "source": [
    "from selenium import webdriver\n",
    "from selenium.webdriver.chrome.options import Options\n",
    "from selenium.webdriver.common.by import By\n",
    "import time\n",
    "import pandas as pd\n",
    "import numpy as np\n",
    "\n",
    "options = Options()\n",
    "options.headless = False\n",
    "options.add_argument(\"--window-size=1920,1200\")\n",
    "\n",
    "DRIVER_PATH = '/path/to/chromedriver'\n",
    "driver = webdriver.Chrome(options=options, executable_path=DRIVER_PATH)\n",
    "driver.get('https://www.lowes.com/pd/Project-Source-Project-Source-Pro-Flush-2-Piece-Single-Flush-Elongated-Chair-Height-White-1-28-GPF/1003066162')\n"
   ]
  },
  {
   "cell_type": "code",
   "execution_count": null,
   "metadata": {},
   "outputs": [],
   "source": [
    "url = driver.current_url\n",
    "print(url)\n"
   ]
  },
  {
   "cell_type": "code",
   "execution_count": null,
   "metadata": {},
   "outputs": [],
   "source": [
    "product_name = driver.find_element(By.XPATH, './/*[@id=\"pdp-lpd\"]/div/div[1]/h1').text\n",
    "print(product_name)\n"
   ]
  },
  {
   "cell_type": "code",
   "execution_count": null,
   "metadata": {},
   "outputs": [],
   "source": [
    "sku = driver.find_element(By.XPATH, './/*[@id=\"pdp-lpd\"]/div/div[2]/p[2]').text\n",
    "print(sku)\n"
   ]
  },
  {
   "cell_type": "code",
   "execution_count": null,
   "metadata": {},
   "outputs": [],
   "source": [
    "price = driver.find_element(By.XPATH, './/*[@id=\"main\"]/div/div[4]/div[3]/div[2]/div[1]').text\n",
    "print(price)\n",
    "#fail "
   ]
  },
  {
   "cell_type": "code",
   "execution_count": null,
   "metadata": {},
   "outputs": [],
   "source": [
    "#Click Show more review \n",
    "showmore = driver.find_element(By.XPATH, './/*[@id=\"preview-reviews\"]/div[2]/div/button')\n",
    "showmore.click()\n"
   ]
  },
  {
   "cell_type": "code",
   "execution_count": null,
   "metadata": {
    "scrolled": true
   },
   "outputs": [],
   "source": [
    "fbs = driver.find_elements(By.CLASS_NAME, 'review-row')\n"
   ]
  },
  {
   "cell_type": "code",
   "execution_count": null,
   "metadata": {},
   "outputs": [],
   "source": [
    "feedback_list = []\n",
    "\n",
    "for fb in fbs:\n",
    "    \n",
    "    readmore = fb.find_elements(By.CLASS_NAME, 'cgcreadmorebtn')\n",
    "    if len(readmore) > 0: readmore[0].click\n",
    "    \n",
    "    subject = fb.find_element(By.CLASS_NAME, 'h1').text\n",
    "    #rating\n",
    "    comment = fb.find_element(By.XPATH, './/*[contains(@itemprop,\"reviewBody\")]').text\n",
    "    author = fb.find_element(By.CLASS_NAME, 'cgcnickname').text\n",
    "    date = fb.find_element(By.CLASS_NAME, 'cgcreviewsubmitdate').text\n",
    "    like = fb.find_element(By.XPATH, './/*[contains(@id,\"positive\")]').text\n",
    "    dislike = fb.find_element(By.XPATH, './/*[contains(@id,\"negative\")]').text\n",
    "    \n",
    "    feedback = {\n",
    "        'subject': subject,\n",
    "        'comment': comment,\n",
    "        'author': author,\n",
    "        'date': date,\n",
    "        'like': like,\n",
    "        'dislike': dislike\n",
    "    }\n",
    "    \n",
    "    feedback_list.append(feedback)"
   ]
  },
  {
   "cell_type": "code",
   "execution_count": null,
   "metadata": {},
   "outputs": [],
   "source": [
    "fb_df = pd.DataFrame(feedback_list)"
   ]
  },
  {
   "cell_type": "code",
   "execution_count": null,
   "metadata": {},
   "outputs": [],
   "source": [
    "fb_df"
   ]
  },
  {
   "cell_type": "code",
   "execution_count": null,
   "metadata": {},
   "outputs": [],
   "source": [
    "# close the whole window of browser \n",
    "driver.quit()\n"
   ]
  },
  {
   "cell_type": "code",
   "execution_count": null,
   "metadata": {},
   "outputs": [],
   "source": []
  }
 ],
 "metadata": {
  "kernelspec": {
   "display_name": "Python 3",
   "language": "python",
   "name": "python3"
  },
  "language_info": {
   "codemirror_mode": {
    "name": "ipython",
    "version": 3
   },
   "file_extension": ".py",
   "mimetype": "text/x-python",
   "name": "python",
   "nbconvert_exporter": "python",
   "pygments_lexer": "ipython3",
   "version": "3.7.4"
  }
 },
 "nbformat": 4,
 "nbformat_minor": 2
}
