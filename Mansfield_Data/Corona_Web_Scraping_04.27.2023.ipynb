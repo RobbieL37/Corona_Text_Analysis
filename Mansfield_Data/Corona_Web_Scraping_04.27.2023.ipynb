{
 "cells": [
  {
   "cell_type": "code",
   "execution_count": 1,
   "id": "878df72d",
   "metadata": {},
   "outputs": [],
   "source": [
    "# Libraries import\n",
    "# ---------------------------------------------------------------------------------------------------------------\n",
    "# Importing libraries and packages\n",
    "\n",
    "import pandas as pd\n",
    "import numpy as np\n",
    "from selenium import webdriver\n",
    "from selenium.webdriver.chrome.options import Options\n",
    "from selenium.webdriver.common.by import By\n",
    "from selenium.webdriver.support.ui import WebDriverWait \n",
    "from selenium.webdriver.support import expected_conditions as EC\n",
    "\n",
    "import warnings\n",
    "warnings.filterwarnings(\"ignore\", category=DeprecationWarning) \n",
    "import time\n",
    "import random\n",
    "\n",
    "import warnings\n",
    "warnings.filterwarnings(\"ignore\", category=DeprecationWarning)\n",
    "\n",
    "from tqdm import tqdm"
   ]
  },
  {
   "cell_type": "code",
   "execution_count": 2,
   "id": "432a5fff",
   "metadata": {},
   "outputs": [],
   "source": [
    "#https://www.lowes.com/pd/Mansfield-Summit-White-WaterSense-Elongated-Comfort-Height-2-Piece-Vitreous-China-Toilet-12-in-Rough-In-Size-with-Slow-Close-ADA-Compliant/1002969002\n",
    "    "
   ]
  },
  {
   "cell_type": "code",
   "execution_count": 3,
   "id": "d60f90b9",
   "metadata": {},
   "outputs": [],
   "source": [
    "# random time function\n",
    "\n",
    "def sec(): \n",
    "    time = random.randrange(3, 6)\n",
    "    return time"
   ]
  },
  {
   "cell_type": "code",
   "execution_count": 4,
   "id": "63654688",
   "metadata": {},
   "outputs": [],
   "source": [
    "def get_data_xpath(xpath):\n",
    "    # Function to capture the text on a xpath root\n",
    "    try:\n",
    "        text = driver.find_element(By.XPATH, xpath).text\n",
    "    except:\n",
    "        text = ''\n",
    "        pass\n",
    "\n",
    "    return text"
   ]
  },
  {
   "cell_type": "code",
   "execution_count": 5,
   "id": "65329105",
   "metadata": {},
   "outputs": [],
   "source": [
    "# options.headless - to run the chrome application in the background\n",
    "\n",
    "options = Options()\n",
    "options.headless = False\n",
    "options.add_argument(\"--window-size=1920,1200\")\n",
    "#options.add_argument(\"user-agent=Mozilla/5.0 (Macintosh; Intel Mac OS X 10_15_7) AppleWebKit/537.36 (KHTML, like Gecko) Chrome/107.0.0.0 Safari/537.36\")\n",
    "\n",
    "# 3 lines from Juan\n",
    "\n",
    "options.add_argument('--ignore-certificate-errors')\n",
    "options.add_argument('--incognito')\n",
    "options.add_argument(\"--disable-blink-features=AutomationControlled\")"
   ]
  },
  {
   "cell_type": "code",
   "execution_count": 6,
   "id": "cc9e51d9",
   "metadata": {},
   "outputs": [],
   "source": [
    "# Path for loading the URL sites\n",
    "# url_path_toilet = 'https://www.lowes.com/pd/Project-Source-Project-Source-Pro-Flush-2-Piece-Single-Flush-' \\\n",
    "#                   'Elongated-Chair-Height-White-1-28-GPF/1003066162'\n",
    "\n",
    "# url_path_toilet = 'https://www.lowes.com/pd/Project-Source-Project-Source-Danville-Single-Flush-12in-Rough-' \\\n",
    "#                   'In-2-Piece-Chair-Height-Elongated-Bowl-1-28-GPF-White/5000026209'\n",
    "# url_path_toilet = 'https://www.lowes.com/pd/American-Standard-Mainstream-White-WaterSense-Elongated-Chair-Height-' \\\n",
    "#                   '2-Piece-Toilet-12-in-Rough-In-Size-ADA-Compliant/5001899855'\n",
    "# url_path_toilet = 'https://www.lowes.com/pd/American-Standard-Saver-White-WaterSense-Labeled-Elongated-Chair-Height-' \\\n",
    "#                   '2-piece-Toilet-12-in-Rough-In-Size/3380314'\n",
    "# url_path_toilet = 'https://www.lowes.com/pd/American-Standard-Colony-White-Elongated-Standard-Height-2-Piece-Toilet-' \\\n",
    "#                   '12-in-Rough-In-Size/50280511'\n",
    "# url_path_toilet = 'https://www.lowes.com/pd/American-Standard-Mainstream-White-WaterSense-Round-Chair-Height-2-Piece-' \\\n",
    "#                   'Toilet-12-in-Rough-In-Size/3286026'\n",
    "\n",
    "url_path_toilet = 'https://www.lowes.com/pd/Mansfield-Summit-White-WaterSense-Elongated-Comfort-Height-2-Piece-Vitreous-China-Toilet-12-in-Rough-In-Size-with-Slow-Close-ADA-Compliant/1002969002'"
   ]
  },
  {
   "cell_type": "code",
   "execution_count": 7,
   "id": "3b02ba7e",
   "metadata": {},
   "outputs": [],
   "source": [
    "# all product url list:\n",
    "# 1. https://www.lowes.com/pd/Mansfield-Pro-Fit-White-WaterSense-Round-Standard-Height-2-Piece-Toilet-12-in-Rough-In-Size/5001993533\n",
    "# 2. https://www.lowes.com/pd/Mansfield-Summit-White-WaterSense-Elongated-Comfort-Height-2-Piece-Vitreous-China-Toilet-12-in-Rough-In-Size-with-Slow-Close-ADA-Compliant/1002969002\n",
    "# 3. https://www.lowes.com/pd/Mansfield-Summit-White-WaterSense-Elongated-Comfort-Height-2-Piece-Toilet-10-in-Rough-In-Size-ADA-Compliant/5001993545\n",
    "# 4. https://www.lowes.com/pd/Mansfield-Denali-White-WaterSense-Elongated-Comfort-Height-2-Piece-Vitreous-China-Toilet-12-in-Rough-In-Size-with-Slow-Close-ADA-Compliant/1002969006\n",
    "# 5. https://www.lowes.com/pd/Mansfield/5003328827\n"
   ]
  },
  {
   "cell_type": "code",
   "execution_count": 8,
   "id": "1fef65a4",
   "metadata": {},
   "outputs": [],
   "source": [
    "# order = ['Anuar', 'Edmund', 'Robbie', 'Renayy', 'Wendy']\n",
    "# draw = [4, 5, 3, 2, 1]\n",
    "# random.randrange(1, 3)"
   ]
  },
  {
   "cell_type": "code",
   "execution_count": 9,
   "id": "54701cc1",
   "metadata": {
    "scrolled": true
   },
   "outputs": [],
   "source": [
    "# waking Webdriver for Chrome\n",
    "# C:\\Users\\lxf12\\Desktop\\Folder of folders\\Corona New project\n",
    "# C:/Users/lxf12/web_scraping/\n",
    "driver = webdriver.Chrome('C:\\\\Users\\\\lxf12\\\\Desktop\\\\Folder of folders\\\\Corona New project\\\\chromedriver', chrome_options=options)\n",
    "driver.get(url_path_toilet)"
   ]
  },
  {
   "cell_type": "code",
   "execution_count": 10,
   "id": "712eff41",
   "metadata": {},
   "outputs": [],
   "source": [
    "# scrolling the website to the bottom\n",
    "\n",
    "driver.execute_script(\"window.scrollTo(0, document.body.scrollHeight);\")"
   ]
  },
  {
   "cell_type": "code",
   "execution_count": 11,
   "id": "faf1108b",
   "metadata": {
    "scrolled": true
   },
   "outputs": [],
   "source": [
    "# simulate the mouse to the location\n",
    "element=driver.find_element(By.XPATH,'/html/body/div[2]/section/div/div[5]/div[4]/div[2]/button')\n",
    "driver.execute_script(\"arguments[0].scrollIntoView();\",element)\n",
    "\n",
    "# Click the show more button to load reviews\n",
    "time.sleep(sec())\n",
    "# //*[@id=\"main\"]/div/div[5]/div[7]/div[2]/div/div/button/h3/div\n",
    "# //*[@id=\"main\"]/div/div[5]/div[7]/div[2]/div/div/button/h3/div\n",
    "# /html/body/div[2]/section/div/div[5]/div[7]/div[2]/div/div/button/h3/div\n",
    "# showmore = driver.find_element(By.XPATH, './/*[@id=\"preview-reviews\"]/div[2]/div/button')\n",
    "# //*[@id=\"main\"]/div/div[5]/div[7]/div[2]/div/div/button/h3/div\n",
    "showmore = driver.find_element(By.XPATH, './/*[@id=\"main\"]/div/div[5]/div[7]/div[2]/div/div/button')\n",
    "showmore.click()"
   ]
  },
  {
   "cell_type": "code",
   "execution_count": 12,
   "id": "d884cf89",
   "metadata": {
    "scrolled": true
   },
   "outputs": [
    {
     "name": "stdout",
     "output_type": "stream",
     "text": [
      "226 Customer Reviews\n"
     ]
    }
   ],
   "source": [
    "# Total customer reviews number\n",
    "\n",
    "# review_num = driver.find_element(By.XPATH, '//*[@id=\"rrApp\"]/div/div[2]/div/div/div[2]/div[3]').text\n",
    "review_num = driver.find_element(By.XPATH, './/*[@id=\"main\"]/div/div[5]/div[7]/div[2]/div/div/span/div/div[2]/div/div/div[2]/div[3]').text\n",
    "print(review_num)"
   ]
  },
  {
   "cell_type": "code",
   "execution_count": 13,
   "id": "8d85a964",
   "metadata": {
    "scrolled": true
   },
   "outputs": [
    {
     "name": "stderr",
     "output_type": "stream",
     "text": [
      "100%|███████████████████████████████████████████| 22/22 [01:32<00:00,  4.20s/it]\n"
     ]
    }
   ],
   "source": [
    "# For loop for loading 10 more reviews\n",
    "\n",
    "# //*[@id=\"main\"]/div/div[5]/div[7]/div[2]/div/div/span/div/div[2]/div/div/div[2]/div[16]/button/span\n",
    "# //*[@id=\"main\"]/div/div[5]/div[7]/div[2]/div/div/span/div/div[2]/div/div/div[2]/div[26]/button/span\n",
    "\n",
    "for i in tqdm(range(1, 23)):\n",
    "#     print(f'Click #{i}')\n",
    "#     readmore = driver.find_element(By.XPATH, '//*[@id=\"rrApp\"]/div/div[2]/div/div/div[2]/div[' + str(6 + (i*10))\n",
    "#                                    + ']/button')\n",
    "    readmore = driver.find_element(By.XPATH, '//*[@id=\"main\"]/div/div[5]/div[7]/div[2]/div/div/span/div/div[2]/div/div/div[2]/div[' + str(6 + (i*10))\n",
    "                                   + ']/button')\n",
    "    readmore.click()\n",
    "    time.sleep(sec())  # Random Wait between request"
   ]
  },
  {
   "cell_type": "code",
   "execution_count": 14,
   "id": "6de58cfe",
   "metadata": {},
   "outputs": [
    {
     "name": "stdout",
     "output_type": "stream",
     "text": [
      "market_place:  lowes.com\n"
     ]
    }
   ],
   "source": [
    "# Market place\n",
    "market_place = 'lowes.com'\n",
    "print(\"market_place: \", market_place)"
   ]
  },
  {
   "cell_type": "code",
   "execution_count": 15,
   "id": "ce617616",
   "metadata": {},
   "outputs": [
    {
     "name": "stdout",
     "output_type": "stream",
     "text": [
      "Product Name: Mansfield Summit White Elongated Chair Height 2-piece WaterSense Toilet 12-in Rough-In (ADA Compliant)\n",
      "SKU: Model #5384CTK\n"
     ]
    }
   ],
   "source": [
    "# Product Information\n",
    "# ----------------------------------------------------------------------------------------------------------------------\n",
    "product_name = driver.find_element(By.XPATH, './/*[@id=\"pdp-lpd\"]/div/div[1]/h1').text\n",
    "sku = driver.find_element(By.XPATH, './/*[@id=\"pdp-lpd\"]/div/div[2]/p[2]').text\n",
    "\n",
    "print(\"Product Name:\", product_name)\n",
    "print(\"SKU:\", sku)\n",
    "# print('\\n')"
   ]
  },
  {
   "cell_type": "code",
   "execution_count": 16,
   "id": "1680fcfa",
   "metadata": {},
   "outputs": [
    {
     "name": "stdout",
     "output_type": "stream",
     "text": [
      "currency:  USD\n",
      "price:  209.0\n"
     ]
    }
   ],
   "source": [
    "# Price information\n",
    "currency = 'USD'\n",
    "price = 209.0\n",
    "print(\"currency: \", currency)\n",
    "print(\"price: \", price)"
   ]
  },
  {
   "cell_type": "code",
   "execution_count": 17,
   "id": "5d0df733",
   "metadata": {},
   "outputs": [
    {
     "name": "stdout",
     "output_type": "stream",
     "text": [
      "Total stars from all reviewers is 4 out of 5\n"
     ]
    }
   ],
   "source": [
    "# Total stars from all reviews\n",
    "# //*[@id=\"main\"]/div/div[5]/div[7]/div[2]/div/div/span/div/div[2]/div/div/div[1]/div[1]/span[2]/b\n",
    "\n",
    "# Total_stars_ranking = driver.find_element(By.XPATH, '//*[@id=\"rrApp\"]/div/div[2]/div/div/div[1]/div[1]/span[2]/b').text\n",
    "Total_stars_ranking = driver.find_element(By.XPATH, '//*[@id=\"main\"]/div/div[5]/div[7]/div[2]/div/div/span/div/div[2]/div/div/div[1]/div[1]/span[2]/b').text\n",
    "print(f\"Total stars from all reviewers is {Total_stars_ranking} out of 5\")"
   ]
  },
  {
   "cell_type": "code",
   "execution_count": 18,
   "id": "fbae9459",
   "metadata": {},
   "outputs": [],
   "source": [
    "# Click on the first read full review button\n",
    "\n",
    "# //*[@id=\"main\"]/div/div[5]/div[7]/div[2]/div/div/span/div/div[2]/div/div/div[2]/div[7]/div[1]/div/div[1]/div/button/span\n",
    "# //*[@id=\"main\"]/div/div[5]/div[7]/div[2]/div/div/span/div/div[2]/div/div/div[2]/div[8]/div[1]/div/div[1]/div/button/span\n",
    "# //*[@id=\"main\"]/div/div[5]/div[7]/div[2]/div/div/span/div/div[2]/div/div/div[2]/div[18]/div[1]/div/div[1]/div/button/span\n",
    "\n",
    "\n",
    "try:\n",
    "#     readmore = driver.find_element(By.XPATH, '//*[@id=\"rrApp\"]/div/div[2]/div/div/div[2]/div[6]/div[1]/div/div[1]/div/button')\n",
    "    readmore = driver.find_element(By.XPATH, '//*[@id=\"main\"]/div/div[5]/div[7]/div[2]/div/div/span/div/div[2]/div/div/div[2]/div[7]/div[1]/div/div[1]/div/button/span')\n",
    "    readmore.click()\n",
    "except:\n",
    "    pass"
   ]
  },
  {
   "cell_type": "code",
   "execution_count": 19,
   "id": "56e126ee",
   "metadata": {
    "scrolled": true
   },
   "outputs": [
    {
     "name": "stderr",
     "output_type": "stream",
     "text": [
      "100%|█████████████████████████████████████████| 224/224 [16:09<00:00,  4.33s/it]\n"
     ]
    }
   ],
   "source": [
    "# Create a for loop to collect all the reviews\n",
    "review_list = []\n",
    "for i in tqdm(range(6, 230)): \n",
    "    # Print to keep a track of the advance\n",
    "#     print(f'Scraping review #{i-5}')\n",
    "\n",
    "    # Check and click the load more button\n",
    "    try:\n",
    "        time.sleep(sec())\n",
    "#         readmore = driver.find_element(By.XPATH, '//*[@id=\"rrApp\"]/div/div[2]/div/div/div[2]/div[' + str(\n",
    "#             i) + ']/div[1]/div/div[1]/div/button')\n",
    "        readmore = driver.find_element(By.XPATH, '//*[@id=\"main\"]/div/div[5]/div[7]/div[2]/div/div/span/div/div[2]/div/div/div[2]/div[' + str(\n",
    "            i) + ']/div[1]/div/div[1]/div/button/span')        \n",
    "        readmore.click()\n",
    "    except:\n",
    "        pass\n",
    "\n",
    "    # Collect the items with XPATH\n",
    "#     subject = get_data_xpath(xpath='//*[@id=\"rrApp\"]/div/div[2]/div/div/div[2]/div[' + str(i) +\n",
    "#                                    ']/div[1]/div/div[1]/div/p[1]')\n",
    "#     author = get_data_xpath(xpath='//*[@id=\"rrApp\"]/div/div[2]/div/div/div[2]/div[' + str(i) +\n",
    "#                                   ']/div[1]/div/div[2]/div/span[1]')\n",
    "#     date = get_data_xpath(xpath='//*[@id=\"rrApp\"]/div/div[2]/div/div/div[2]/div[' + str(i) +\n",
    "#                                 ']/div[1]/div/div[2]/div/span[2]')\n",
    "#     review = get_data_xpath(xpath='//*[@id=\"rrApp\"]/div/div[2]/div/div/div[2]/div[' + str(i) +\n",
    "#                                   ']/div[1]/div/div[1]/div/p[2]')\n",
    "# //*[@id=\"main\"]/div/div[5]/div[7]/div[2]/div/div/span/div/div[2]/div/div/div[2]/div[6]/div[1]/div/div[1]/div/p[1]\n",
    "# //*[@id=\"main\"]/div/div[5]/div[7]/div[2]/div/div/span/div/div[2]/div/div/div[2]/div[7]/div[1]/div/div[1]/div/p[1]\n",
    "# //*[@id=\"main\"]/div/div[5]/div[7]/div[2]/div/div/span/div/div[2]/div/div/div[2]/div[6]/div[1]/div/div[2]/div/span[1]\n",
    "# //*[@id=\"main\"]/div/div[5]/div[7]/div[2]/div/div/span/div/div[2]/div/div/div[2]/div[6]/div[1]/div/div[2]/div/span[2]\n",
    "# //*[@id=\"main\"]/div/div[5]/div[7]/div[2]/div/div/span/div/div[2]/div/div/div[2]/div[6]/div[1]/div/div[1]/div/p[2]\n",
    "\n",
    "    subject = get_data_xpath(xpath='//*[@id=\"main\"]/div/div[5]/div[7]/div[2]/div/div/span/div/div[2]/div/div/div[2]/div[' + str(i) +\n",
    "                                   ']/div[1]/div/div[1]/div/p[1]')\n",
    "    author = get_data_xpath(xpath='//*[@id=\"main\"]/div/div[5]/div[7]/div[2]/div/div/span/div/div[2]/div/div/div[2]/div[' + str(i) +\n",
    "                                  ']/div[1]/div/div[2]/div/span[1]')\n",
    "    date = get_data_xpath(xpath='//*[@id=\"main\"]/div/div[5]/div[7]/div[2]/div/div/span/div/div[2]/div/div/div[2]/div[' + str(i) +\n",
    "                                  ']/div[1]/div/div[2]/div/span[2]')\n",
    "    review = get_data_xpath(xpath='//*[@id=\"main\"]/div/div[5]/div[7]/div[2]/div/div/span/div/div[2]/div/div/div[2]/div[' + str(i) +\n",
    "                                  ']/div[1]/div/div[1]/div/p[2]')\n",
    "    \n",
    "#     stars = driver.find_element(By.XPATH, '//*[@id=\"rrApp\"]/div/div[2]/div/div/div[2]/div[' + str(i) +\n",
    "#                                     ']/div[1]/div/div[1]/div/span/meta').get_attribute(\"content\")\n",
    "# //*[@id=\"main\"]/div/div[5]/div[7]/div[2]/div/div/span/div/div[2]/div/div/div[2]/div[6]/div[1]/div/div[1]/div/span/meta\n",
    "    \n",
    "#     stars = driver.find_element(By.XPATH, '//*[@id=\"main\"]/div/div[5]/div[7]/div[2]/div/div/span/div/div[2]/div/div/div[2]/div['+ str(i)+\n",
    "#                                    ']/div[1]/div/div[1]/div/span/meta').get_attribute('innerHTML').split(\"><\")[0].split(\"content=\")[-1].replace('\"', '')\n",
    "    stars = driver.find_element(By.XPATH, '//*[@id=\"main\"]/div/div[5]/div[7]/div[2]/div/div/span/div/div[2]/div/div/div[2]/div['+ str(i)+\n",
    "                                   ']/div[1]/div/div[1]/div/span/meta').get_attribute(\"content\")\n",
    "# //*[@id=\"positive213768215\"]/span/span    \n",
    "    # Like & Dislike\n",
    "#     like_dislike = driver.find_element(By.XPATH, '//*[@id=\"rrApp\"]/div/div[2]/div/div/div[2]/div['+ str(i)+']/div[3]').text.replace(\"(\", \"\").replace(\")\", \"\")\n",
    "#     like = like_dislike.split(\"\\n\")[0]\n",
    "#     dislike = like_dislike.split(\"\\n\")[1]\n",
    "# /html/body/div[2]/section/div/div[5]/div[7]/div[2]/div/div/span/div/div[2]/div/div/div[2]/div[6]/div[3]/div/div/button[2]/span/span\n",
    "    like = get_data_xpath(xpath='/html/body/div[2]/section/div/div[5]/div[7]/div[2]/div/div/span/div/div[2]/div/div/div[2]/div[' + str(i) +\n",
    "                          ']/div[3]/div/div/button[1]/span/span').replace(\"(\", \"\").replace(\")\", \"\")\n",
    "    dislike = get_data_xpath(xpath='/html/body/div[2]/section/div/div[5]/div[7]/div[2]/div/div/span/div/div[2]/div/div/div[2]/div[' + str(i) +\n",
    "                             ']/div[3]/div/div/button[2]/span/span').replace(\"(\", \"\").replace(\")\", \"\")\n",
    "\n",
    "    # Save collected data on a list\n",
    "    items = [market_place, url_path_toilet, product_name, sku, price, currency, Total_stars_ranking, subject, author, date, review, stars, like, dislike]\n",
    "    review_list.append(items)"
   ]
  },
  {
   "cell_type": "code",
   "execution_count": 20,
   "id": "059b3397",
   "metadata": {
    "scrolled": true
   },
   "outputs": [],
   "source": [
    "# Export to dataframe\n",
    "# ----------------------------------------------------------------------------------------------------------------------\n",
    "# Put the lists into dataframe\n",
    "columns_name = ['Market_place', 'URL', 'Product_name', 'SKU', 'Price', 'Currency', 'Total_stars_ranking', 'Subject', 'Author', 'Date',\n",
    "                'Review', 'Stars', 'like', 'dislike']\n",
    "review_df = pd.DataFrame(data=review_list, columns=columns_name)\n",
    "# like_df = pd.DataFrame(data=like_list, columns=['like', 'dislike'])\n",
    "\n",
    "# Mergin both data set\n",
    "# review_df = review_df.merge(like_df, left_index=True, right_index=True, how='left')"
   ]
  },
  {
   "cell_type": "code",
   "execution_count": 21,
   "id": "14b1d1b1",
   "metadata": {
    "scrolled": true
   },
   "outputs": [
    {
     "name": "stderr",
     "output_type": "stream",
     "text": [
      "/var/folders/h_/j7jfxsn929n19yn9z525bp9h0000gn/T/ipykernel_7012/2271936106.py:2: FutureWarning: Passing a negative integer is deprecated in version 1.0 and will not be supported in future version. Instead, use None to not limit the column width.\n",
      "  pd.set_option('display.max_colwidth', -1)\n"
     ]
    },
    {
     "data": {
      "text/plain": [
       "224"
      ]
     },
     "execution_count": 21,
     "metadata": {},
     "output_type": "execute_result"
    }
   ],
   "source": [
    "# set display option to max to see all information in review column\n",
    "pd.set_option('display.max_colwidth', -1)\n",
    "review_df.head(20)\n",
    "len(review_df)"
   ]
  },
  {
   "cell_type": "code",
   "execution_count": 22,
   "id": "d4702b6e",
   "metadata": {},
   "outputs": [],
   "source": [
    "# Export to .csv file\n",
    "# ----------------------------------------------------------------------------------------------------------------------\n",
    "# review_df.to_csv('./XX_Reviews/' + market_place + '_' + url_path_toilet.split('/')[-1] + '.csv', index=False)\n",
    "review_df.to_csv('review_df_' + market_place + '_' + url_path_toilet.split('/')[-1] + '.csv', index=False)\n",
    "# print(review_df)"
   ]
  },
  {
   "cell_type": "code",
   "execution_count": 23,
   "id": "453b27f3",
   "metadata": {},
   "outputs": [],
   "source": [
    "# close the whole window of browser \n",
    "\n",
    "driver.quit()"
   ]
  },
  {
   "cell_type": "code",
   "execution_count": null,
   "id": "81aea90a",
   "metadata": {},
   "outputs": [],
   "source": []
  },
  {
   "cell_type": "code",
   "execution_count": null,
   "id": "3ebfa41d",
   "metadata": {},
   "outputs": [],
   "source": []
  },
  {
   "cell_type": "code",
   "execution_count": null,
   "id": "6983fc65",
   "metadata": {},
   "outputs": [],
   "source": []
  },
  {
   "cell_type": "code",
   "execution_count": null,
   "id": "ff5fc910",
   "metadata": {},
   "outputs": [],
   "source": []
  },
  {
   "cell_type": "code",
   "execution_count": null,
   "id": "2d5d3aea",
   "metadata": {},
   "outputs": [],
   "source": []
  },
  {
   "cell_type": "code",
   "execution_count": null,
   "id": "77803f05",
   "metadata": {},
   "outputs": [],
   "source": []
  }
 ],
 "metadata": {
  "kernelspec": {
   "display_name": "Python 3 (ipykernel)",
   "language": "python",
   "name": "python3"
  },
  "language_info": {
   "codemirror_mode": {
    "name": "ipython",
    "version": 3
   },
   "file_extension": ".py",
   "mimetype": "text/x-python",
   "name": "python",
   "nbconvert_exporter": "python",
   "pygments_lexer": "ipython3",
   "version": "3.9.12"
  }
 },
 "nbformat": 4,
 "nbformat_minor": 5
}
