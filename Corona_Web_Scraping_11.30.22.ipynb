{
 "cells": [
  {
   "cell_type": "code",
   "execution_count": 1,
   "metadata": {
    "colab": {
     "base_uri": "https://localhost:8080/",
     "height": 373
    },
    "id": "H0cLOhotuGBJ",
    "outputId": "60818a79-f662-41cf-cb08-1d67963816f4"
   },
   "outputs": [],
   "source": [
    "# Importing libraries and packages\n",
    "\n",
    "import pandas as pd\n",
    "import numpy as np\n",
    "from selenium import webdriver\n",
    "from selenium.webdriver.chrome.options import Options\n",
    "from selenium.webdriver.common.by import By\n",
    "import warnings\n",
    "warnings.filterwarnings(\"ignore\", category=DeprecationWarning) \n",
    "import time\n",
    "import random"
   ]
  },
  {
   "cell_type": "code",
   "execution_count": 2,
   "metadata": {},
   "outputs": [],
   "source": [
    "# random time function\n",
    "\n",
    "def sec(): \n",
    "    time = random.randrange(1, 10)\n",
    "    return time"
   ]
  },
  {
   "cell_type": "code",
   "execution_count": 3,
   "metadata": {
    "id": "QwMI6Nh7uIAE"
   },
   "outputs": [],
   "source": [
    "# options.headless - to run the chrome application in the background\n",
    "\n",
    "options = Options()\n",
    "options.headless = False\n",
    "options.add_argument(\"--window-size=1920,1200\")\n",
    "#options.add_argument(\"user-agent=Mozilla/5.0 (Macintosh; Intel Mac OS X 10_15_7) AppleWebKit/537.36 (KHTML, like Gecko) Chrome/107.0.0.0 Safari/537.36\")"
   ]
  },
  {
   "cell_type": "code",
   "execution_count": 4,
   "metadata": {
    "id": "6vducf_0uIH4"
   },
   "outputs": [],
   "source": [
    "# Installing Webdriver for Chrome\n",
    "\n",
    "driver = webdriver.Chrome('C:/Users/lxf12/web_scraping/chromedriver', chrome_options=options)\n",
    "driver.get('https://www.lowes.com/pd/Project-Source-Project-Source-Pro-Flush-2-Piece-Single-Flush-Elongated-Chair-Height-White-1-28-GPF/1003066162')"
   ]
  },
  {
   "cell_type": "code",
   "execution_count": 5,
   "metadata": {
    "id": "i9Bc0Dr-uIKX"
   },
   "outputs": [
    {
     "name": "stdout",
     "output_type": "stream",
     "text": [
      "URL: https://www.lowes.com/pd/Project-Source-Project-Source-Pro-Flush-2-Piece-Single-Flush-Elongated-Chair-Height-White-1-28-GPF/1003066162\n"
     ]
    }
   ],
   "source": [
    "# Saving 'Lowes' website in url\n",
    "\n",
    "url = driver.current_url\n",
    "print(\"URL:\", url)"
   ]
  },
  {
   "cell_type": "code",
   "execution_count": 6,
   "metadata": {
    "id": "qomyKO2huIMt"
   },
   "outputs": [
    {
     "name": "stdout",
     "output_type": "stream",
     "text": [
      "Product Name: Project Source  Pro-Flush White Elongated Chair Height 2-piece WaterSense Toilet 12-in Rough-In Size (Ada Compliant)\n"
     ]
    }
   ],
   "source": [
    "# Scraping Product Name using XPATH\n",
    "\n",
    "product_name = driver.find_element(By.XPATH, './/*[@id=\"pdp-lpd\"]/div/div[1]/h1').text\n",
    "print(\"Product Name:\", product_name)"
   ]
  },
  {
   "cell_type": "code",
   "execution_count": 7,
   "metadata": {
    "id": "iz3x8NPnuIPD"
   },
   "outputs": [
    {
     "name": "stdout",
     "output_type": "stream",
     "text": [
      "SKU: Model #MT-802PRO\n"
     ]
    }
   ],
   "source": [
    "# Scraping each item's SKU (or unique ID)\n",
    "\n",
    "sku = driver.find_element(By.XPATH, './/*[@id=\"pdp-lpd\"]/div/div[2]/p[2]').text\n",
    "print(\"SKU:\", sku)"
   ]
  },
  {
   "cell_type": "code",
   "execution_count": 8,
   "metadata": {
    "id": "aybDJ0TQuRU-"
   },
   "outputs": [],
   "source": [
    "# Click the show more button to load reviews\n",
    "\n",
    "time.sleep(sec())\n",
    "load_review = driver.find_element(By.XPATH, '//*[@id=\"preview-reviews\"]/div[2]/div/button')\n",
    "load_review.click()"
   ]
  },
  {
   "cell_type": "code",
   "execution_count": 9,
   "metadata": {},
   "outputs": [],
   "source": [
    "# Create a empty dataframe to collect informations\n",
    "\n",
    "df = pd.DataFrame(columns = ['subject', 'author', 'date', 'like', 'dislike', 'review'])"
   ]
  },
  {
   "cell_type": "code",
   "execution_count": 15,
   "metadata": {},
   "outputs": [],
   "source": [
    "# Create a for loop to collect all the reviews\n",
    "\n",
    "review_list = []\n",
    "for i in range(5, 15):\n",
    "    #print(i)\n",
    "    try: \n",
    "        time.sleep(sec()) \n",
    "        readmore = driver.find_element(By.XPATH, '//*[@id=\"rrApp\"]/div/div[2]/div/div/div[2]/div['+ str(i) + ']/div[1]/div/div[1]/div/button')\n",
    "        readmore.click()\n",
    "    except: \n",
    "        pass \n",
    "    subject = driver.find_element(By.XPATH, '//*[@id=\"rrApp\"]/div/div[2]/div/div/div[2]/div['+ str(i) + ']/div[1]/div/div[1]/div/p[1]').text\n",
    "    author = driver.find_element(By.XPATH, '//*[@id=\"rrApp\"]/div/div[2]/div/div/div[2]/div['+ str(i) + ']/div[1]/div/div[2]/div/span[1]').text\n",
    "    date = driver.find_element(By.XPATH, '//*[@id=\"rrApp\"]/div/div[2]/div/div/div[2]/div['+ str(i) + ']/div[1]/div/div[2]/div/span[2]').text\n",
    "    \n",
    "    #like = driver.find_element(By.XPATH, '//*[@id=\"positive214101389\"]/span/span').text\n",
    "    #dislike = driver.find_element(By.XPATH, '//*[@id=\"negative214101389\"]/span/span').text\n",
    "    \n",
    "    review = driver.find_element(By.XPATH, '//*[@id=\"rrApp\"]/div/div[2]/div/div/div[2]/div['+ str(i) + ']/div[1]/div/div[1]/div/p[2]').text\n",
    "    \n",
    "    items = {\n",
    "        'subject': subject,\n",
    "        'author': author,\n",
    "        'date': date,\n",
    "        'review': review\n",
    "    }\n",
    "    review_list.append(items)\n",
    "    \n",
    "    i += 1\n",
    "\n",
    "    \n",
    "like_list = []\n",
    "fbs = driver.find_elements(By.CLASS_NAME, 'review-row')\n",
    "for fb in fbs:\n",
    "    string = fb.find_element(By.CLASS_NAME, 'cgcfbbtncol').text\n",
    "    like = string[(string.find('(', 0) + 1) : (string.find(')', 0))] # need to improve\n",
    "    dislike = string[(string.find('(', 4) + 1) : (string.find(')', 4))] # need to improve\n",
    "    \n",
    "    like = {\n",
    "        'like': like,\n",
    "        'dislike': dislike\n",
    "    }\n",
    "    \n",
    "    like_list.append(like)\n",
    "    "
   ]
  },
  {
   "cell_type": "code",
   "execution_count": 16,
   "metadata": {},
   "outputs": [
    {
     "data": {
      "text/html": [
       "<div>\n",
       "<style scoped>\n",
       "    .dataframe tbody tr th:only-of-type {\n",
       "        vertical-align: middle;\n",
       "    }\n",
       "\n",
       "    .dataframe tbody tr th {\n",
       "        vertical-align: top;\n",
       "    }\n",
       "\n",
       "    .dataframe thead th {\n",
       "        text-align: right;\n",
       "    }\n",
       "</style>\n",
       "<table border=\"1\" class=\"dataframe\">\n",
       "  <thead>\n",
       "    <tr style=\"text-align: right;\">\n",
       "      <th></th>\n",
       "      <th>subject</th>\n",
       "      <th>author</th>\n",
       "      <th>date</th>\n",
       "      <th>review</th>\n",
       "      <th>like</th>\n",
       "      <th>dislike</th>\n",
       "    </tr>\n",
       "  </thead>\n",
       "  <tbody>\n",
       "    <tr>\n",
       "      <th>0</th>\n",
       "      <td>For good flush, needs slight modification</td>\n",
       "      <td>James</td>\n",
       "      <td>January 16, 2022</td>\n",
       "      <td>For the price and look I would give this a 5 s...</td>\n",
       "      <td>32</td>\n",
       "      <td>9</td>\n",
       "    </tr>\n",
       "    <tr>\n",
       "      <th>1</th>\n",
       "      <td></td>\n",
       "      <td>Roxy</td>\n",
       "      <td>April 15, 2022</td>\n",
       "      <td>Besides the lid being too small. It's a pretty...</td>\n",
       "      <td>8</td>\n",
       "      <td>9</td>\n",
       "    </tr>\n",
       "    <tr>\n",
       "      <th>2</th>\n",
       "      <td>Toilet lid cheaply made</td>\n",
       "      <td>Tammy</td>\n",
       "      <td>March 20, 2021</td>\n",
       "      <td>Toilet easy install. Good overall except lid d...</td>\n",
       "      <td>25</td>\n",
       "      <td>18</td>\n",
       "    </tr>\n",
       "    <tr>\n",
       "      <th>3</th>\n",
       "      <td>really a good buy</td>\n",
       "      <td>Texan</td>\n",
       "      <td>November 8, 2022</td>\n",
       "      <td>I've had this for about a month. I have mostly...</td>\n",
       "      <td>5</td>\n",
       "      <td>0</td>\n",
       "    </tr>\n",
       "    <tr>\n",
       "      <th>4</th>\n",
       "      <td>grest toilet for a great price!</td>\n",
       "      <td>TexanStrong</td>\n",
       "      <td>February 27, 2021</td>\n",
       "      <td>Like most Texans, Valetines day was just a dis...</td>\n",
       "      <td>54</td>\n",
       "      <td>9</td>\n",
       "    </tr>\n",
       "    <tr>\n",
       "      <th>5</th>\n",
       "      <td>Poor quality control.</td>\n",
       "      <td>Paul</td>\n",
       "      <td>June 13, 2021</td>\n",
       "      <td>I bought the chair height versin of this produ...</td>\n",
       "      <td>25</td>\n",
       "      <td>22</td>\n",
       "    </tr>\n",
       "    <tr>\n",
       "      <th>6</th>\n",
       "      <td>best buy toilet period!!!</td>\n",
       "      <td>Craig</td>\n",
       "      <td>June 11, 2021</td>\n",
       "      <td>This toilet is the best buy out there!it's rep...</td>\n",
       "      <td>39</td>\n",
       "      <td>3</td>\n",
       "    </tr>\n",
       "    <tr>\n",
       "      <th>7</th>\n",
       "      <td>A great value, strong flush, and assembled tank!</td>\n",
       "      <td>Jasper</td>\n",
       "      <td>August 21, 2021</td>\n",
       "      <td>Overall I thought this was a really good value...</td>\n",
       "      <td>24</td>\n",
       "      <td>4</td>\n",
       "    </tr>\n",
       "    <tr>\n",
       "      <th>8</th>\n",
       "      <td>Great toilet</td>\n",
       "      <td>camshaft</td>\n",
       "      <td>June 22, 2022</td>\n",
       "      <td>Toilet works great, easy installation, everyth...</td>\n",
       "      <td>5</td>\n",
       "      <td>0</td>\n",
       "    </tr>\n",
       "    <tr>\n",
       "      <th>9</th>\n",
       "      <td>Awesome setup</td>\n",
       "      <td>meridian</td>\n",
       "      <td>October 22, 2021</td>\n",
       "      <td>I had this toilet for over a month waiting for...</td>\n",
       "      <td>32</td>\n",
       "      <td>1</td>\n",
       "    </tr>\n",
       "  </tbody>\n",
       "</table>\n",
       "</div>"
      ],
      "text/plain": [
       "                                            subject       author  \\\n",
       "0         For good flush, needs slight modification        James   \n",
       "1                                                           Roxy   \n",
       "2                           Toilet lid cheaply made        Tammy   \n",
       "3                                 really a good buy        Texan   \n",
       "4                   grest toilet for a great price!  TexanStrong   \n",
       "5                             Poor quality control.         Paul   \n",
       "6                         best buy toilet period!!!        Craig   \n",
       "7  A great value, strong flush, and assembled tank!       Jasper   \n",
       "8                                      Great toilet     camshaft   \n",
       "9                                     Awesome setup     meridian   \n",
       "\n",
       "                date                                             review like  \\\n",
       "0   January 16, 2022  For the price and look I would give this a 5 s...   32   \n",
       "1     April 15, 2022  Besides the lid being too small. It's a pretty...    8   \n",
       "2     March 20, 2021  Toilet easy install. Good overall except lid d...   25   \n",
       "3   November 8, 2022  I've had this for about a month. I have mostly...    5   \n",
       "4  February 27, 2021  Like most Texans, Valetines day was just a dis...   54   \n",
       "5      June 13, 2021  I bought the chair height versin of this produ...   25   \n",
       "6      June 11, 2021  This toilet is the best buy out there!it's rep...   39   \n",
       "7    August 21, 2021  Overall I thought this was a really good value...   24   \n",
       "8      June 22, 2022  Toilet works great, easy installation, everyth...    5   \n",
       "9   October 22, 2021  I had this toilet for over a month waiting for...   32   \n",
       "\n",
       "  dislike  \n",
       "0       9  \n",
       "1       9  \n",
       "2      18  \n",
       "3       0  \n",
       "4       9  \n",
       "5      22  \n",
       "6       3  \n",
       "7       4  \n",
       "8       0  \n",
       "9       1  "
      ]
     },
     "execution_count": 16,
     "metadata": {},
     "output_type": "execute_result"
    }
   ],
   "source": [
    "# Put the lists into dataframe\n",
    "\n",
    "review_df = pd.DataFrame(review_list)\n",
    "like_df = pd.DataFrame(like_list)\n",
    "review_df = review_df.merge(like_df, left_index=True, right_index=True, how='left')\n",
    "review_df"
   ]
  },
  {
   "cell_type": "code",
   "execution_count": 17,
   "metadata": {
    "id": "zfC76X-suetU"
   },
   "outputs": [
    {
     "name": "stdout",
     "output_type": "stream",
     "text": [
      "Likes: (32)\n"
     ]
    }
   ],
   "source": [
    "# Scraping Likes on a product review (how helpful a review was?)\n",
    "\n",
    "like = driver.find_element(By.XPATH, '//*[@id=\"positive214101389\"]/span/span').text\n",
    "print(\"Likes:\", like)"
   ]
  },
  {
   "cell_type": "code",
   "execution_count": 18,
   "metadata": {
    "id": "LZgf6654uevz"
   },
   "outputs": [
    {
     "name": "stdout",
     "output_type": "stream",
     "text": [
      "Dislikes: (9)\n"
     ]
    }
   ],
   "source": [
    "# Scraping Dislikes on a product review (If a review was not helpful, or not true completely)\n",
    "\n",
    "dislike = driver.find_element(By.XPATH, '//*[@id=\"negative214101389\"]/span/span').text\n",
    "print(\"Dislikes:\", dislike)"
   ]
  },
  {
   "cell_type": "code",
   "execution_count": 19,
   "metadata": {},
   "outputs": [],
   "source": [
    "# Click the button to load 10 more reviews \n",
    "# the problem is it keep loading with no results\n",
    "\n",
    "time.sleep(sec()) \n",
    "readmore = driver.find_element(By.XPATH, '//*[@id=\"rrApp\"]/div/div[2]/div/div/div[2]/div[15]/button')\n",
    "readmore.click()"
   ]
  },
  {
   "cell_type": "code",
   "execution_count": 20,
   "metadata": {
    "id": "GTssB-cLuqpz"
   },
   "outputs": [],
   "source": [
    "# close the whole window of browser \n",
    "\n",
    "driver.quit()"
   ]
  },
  {
   "cell_type": "code",
   "execution_count": null,
   "metadata": {},
   "outputs": [],
   "source": []
  }
 ],
 "metadata": {
  "colab": {
   "provenance": []
  },
  "kernelspec": {
   "display_name": "Python 3 (ipykernel)",
   "language": "python",
   "name": "python3"
  },
  "language_info": {
   "codemirror_mode": {
    "name": "ipython",
    "version": 3
   },
   "file_extension": ".py",
   "mimetype": "text/x-python",
   "name": "python",
   "nbconvert_exporter": "python",
   "pygments_lexer": "ipython3",
   "version": "3.9.13"
  }
 },
 "nbformat": 4,
 "nbformat_minor": 1
}
